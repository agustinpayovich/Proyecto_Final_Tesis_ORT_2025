{
 "cells": [
  {
   "cell_type": "markdown",
   "metadata": {},
   "source": [
    "<tr>\n",
    "\n",
    "    <td><img src=https://encrypted-tbn0.gstatic.com/images?q=tbn:ANd9GcTZcU0_2fgIIcOXf6T0U0AQq1Ld4wMw9s1at5scGVpT5VEmPPTq6-CRSGJhQkrSSrSfi7o&usqp=CAU alt=\"Drawing\" style=\"width: 70px;\"/></td>\n",
    "\n",
    "    <td><td style=\"font-size:3vw\"><font color='OrangeRed'><b>Trabajo Final Master en Big Data</b></font></td>\n",
    "\n",
    "</tr>"
   ]
  },
  {
   "cell_type": "markdown",
   "metadata": {},
   "source": [
    "<tr>\n",
    "\n",
    "    <td><img src=https://encrypted-tbn0.gstatic.com/images?q=tbn:ANd9GcTZcU0_2fgIIcOXf6T0U0AQq1Ld4wMw9s1at5scGVpT5VEmPPTq6-CRSGJhQkrSSrSfi7o&usqp=CAU alt=\"Drawing\" style=\"width: 70px;\"/></td>\n",
    "\n",
    "    <td><td style=\"font-size:3vw\"><font color='OrangeRed'><b>Trabajo Final Master en Big Data</b></font></td>\n",
    "\n",
    "</tr>"
   ]
  },
  {
   "cell_type": "markdown",
   "metadata": {},
   "source": [
    "# Trabajo Final - Máster en Big Data - Fernández, García y Payovich"
   ]
  },
  {
   "cell_type": "markdown",
   "metadata": {},
   "source": [
    "## Modelos con base PCA:"
   ]
  },
  {
   "cell_type": "markdown",
   "metadata": {},
   "source": [
    "### Importación de Librerías"
   ]
  },
  {
   "cell_type": "code",
   "execution_count": 6,
   "metadata": {},
   "outputs": [],
   "source": [
    "import pandas as pd\n",
    "import numpy as np\n",
    "import os\n",
    "import seaborn as sns\n",
    "import matplotlib.pyplot as plt\n",
    "from sklearn.model_selection import train_test_split # División del dataset\n",
    "import matplotlib.pyplot as plt # Plotear\n",
    "from sklearn.linear_model import LinearRegression # Modelo de ML\n",
    "from sklearn.preprocessing import OneHotEncoder, StandardScaler\n",
    "from sklearn.compose import make_column_transformer\n",
    "from sklearn import metrics\n",
    "from sklearn.metrics import precision_score, recall_score, f1_score, accuracy_score, confusion_matrix, classification_report # Métricas\n",
    "pd.options.display.max_columns= None\n",
    "import warnings\n",
    "import mlflow\n",
    "import mlflow.sklearn"
   ]
  },
  {
   "cell_type": "code",
   "execution_count": 7,
   "metadata": {},
   "outputs": [],
   "source": [
    "warnings.filterwarnings('ignore')"
   ]
  },
  {
   "cell_type": "markdown",
   "metadata": {},
   "source": [
    "### Importación y Transformación de las Bases"
   ]
  },
  {
   "cell_type": "code",
   "execution_count": 9,
   "metadata": {},
   "outputs": [],
   "source": [
    "dfpca = pd.read_csv('base_final_PCA.csv', delimiter= ';')"
   ]
  },
  {
   "cell_type": "code",
   "execution_count": 10,
   "metadata": {},
   "outputs": [],
   "source": [
    "x_pca = dfpca.drop(['detractor'], axis=1)"
   ]
  },
  {
   "cell_type": "code",
   "execution_count": 11,
   "metadata": {},
   "outputs": [],
   "source": [
    "y_pca = dfpca['detractor']"
   ]
  },
  {
   "cell_type": "markdown",
   "metadata": {},
   "source": [
    "### Random Forest con Undersampling"
   ]
  },
  {
   "cell_type": "code",
   "execution_count": 13,
   "metadata": {},
   "outputs": [],
   "source": [
    "x_train_uspca, x_test_uspca, y_train_uspca, y_test_uspca = train_test_split(x_pca, y_pca,\n",
    "                                   random_state=104, \n",
    "                                   test_size=0.20, \n",
    "                                   shuffle=True)"
   ]
  },
  {
   "cell_type": "code",
   "execution_count": 14,
   "metadata": {},
   "outputs": [],
   "source": [
    "#Undersampling\n",
    "from imblearn.under_sampling import RandomUnderSampler\n",
    "rus = RandomUnderSampler(random_state = 42)\n",
    "x_train_uspca, y_train_uspca = rus.fit_resample(x_train_uspca, y_train_uspca)"
   ]
  },
  {
   "cell_type": "code",
   "execution_count": 15,
   "metadata": {},
   "outputs": [],
   "source": [
    "from sklearn.preprocessing import StandardScaler\n",
    "sc = StandardScaler()\n",
    "#Escalo Datos de Entrenamiento:\n",
    "x_train_uspca = sc.fit_transform(x_train_uspca)\n",
    "#Escalo Datos de Testeo:\n",
    "x_test_uspca = sc.fit_transform(x_test_uspca)"
   ]
  },
  {
   "cell_type": "code",
   "execution_count": 16,
   "metadata": {},
   "outputs": [
    {
     "name": "stderr",
     "output_type": "stream",
     "text": [
      "2025/04/20 20:29:40 WARNING mlflow.utils.git_utils: Failed to import Git (the Git executable is probably not on your PATH), so Git SHA is not available. Error: Failed to initialize: Bad git executable.\n",
      "The git executable must be specified in one of the following ways:\n",
      "    - be included in your $PATH\n",
      "    - be set via $GIT_PYTHON_GIT_EXECUTABLE\n",
      "    - explicitly set via git.refresh(<full-path-to-git-executable>)\n",
      "\n",
      "All git commands will error until this is rectified.\n",
      "\n",
      "This initial message can be silenced or aggravated in the future by setting the\n",
      "$GIT_PYTHON_REFRESH environment variable. Use one of the following values:\n",
      "    - quiet|q|silence|s|silent|none|n|0: for no message or exception\n",
      "    - warn|w|warning|log|l|1: for a warning message (logging level CRITICAL, displayed by default)\n",
      "    - error|e|exception|raise|r|2: for a raised exception\n",
      "\n",
      "Example:\n",
      "    export GIT_PYTHON_REFRESH=quiet\n",
      "\n",
      "2025/04/20 20:30:02 WARNING mlflow.models.model: Model logged without a signature and input example. Please set `input_example` parameter when logging the model to auto infer the model signature.\n"
     ]
    }
   ],
   "source": [
    "from sklearn.ensemble import RandomForestClassifier\n",
    "mlflow.set_experiment(\"random_forest_pca\")\n",
    "with mlflow.start_run():\n",
    "    rf_uspca = RandomForestClassifier(random_state = 50, n_estimators = 500)\n",
    "    rf_uspca.fit(x_train_uspca, y_train_uspca)\n",
    "    y_pred_uspca = rf_uspca.predict(x_test_uspca).round()\n",
    "    mlflow.sklearn.log_model(rf_uspca, \"random_forest_pca\")\n",
    "mlflow.end_run() "
   ]
  },
  {
   "cell_type": "code",
   "execution_count": 17,
   "metadata": {},
   "outputs": [
    {
     "name": "stdout",
     "output_type": "stream",
     "text": [
      "Accuracy del Random Forest con Undersampling: 0.565\n"
     ]
    }
   ],
   "source": [
    "accuracy_uspca = accuracy_score(y_test_uspca, y_pred_uspca)\n",
    "print('Accuracy del Random Forest con Undersampling: %.3f' % accuracy_uspca)"
   ]
  },
  {
   "cell_type": "code",
   "execution_count": 18,
   "metadata": {},
   "outputs": [
    {
     "name": "stdout",
     "output_type": "stream",
     "text": [
      "Precision del modelo Random Forest con Undersampling 0.196\n"
     ]
    }
   ],
   "source": [
    "precision_uspca = precision_score(y_test_uspca, y_pred_uspca)\n",
    "print('Precision del modelo Random Forest con Undersampling %.3f' % precision_uspca)"
   ]
  },
  {
   "cell_type": "code",
   "execution_count": 19,
   "metadata": {},
   "outputs": [
    {
     "name": "stdout",
     "output_type": "stream",
     "text": [
      "Recall del Modelo Random Forest con Undersampling: 0.517\n"
     ]
    }
   ],
   "source": [
    "recall_uspca = recall_score(y_test_uspca, y_pred_uspca)\n",
    "print('Recall del Modelo Random Forest con Undersampling: %.3f' % recall_uspca)"
   ]
  },
  {
   "cell_type": "code",
   "execution_count": 20,
   "metadata": {},
   "outputs": [],
   "source": [
    "mlflow.log_metric(\"accuracy\", accuracy_uspca)\n",
    "mlflow.log_metric(\"precision\", precision_uspca)\n",
    "mlflow.log_metric(\"recall\", recall_uspca)\n",
    "mlflow.end_run() "
   ]
  },
  {
   "cell_type": "markdown",
   "metadata": {},
   "source": [
    "### Random Forest Balanceado"
   ]
  },
  {
   "cell_type": "code",
   "execution_count": 22,
   "metadata": {},
   "outputs": [],
   "source": [
    "x_train_rfb, x_test_rfb, y_train_rfb, y_test_rfb = train_test_split(x_pca, y_pca,\n",
    "                                   random_state=104, \n",
    "                                   test_size=0.20, \n",
    "                                   shuffle=True)"
   ]
  },
  {
   "cell_type": "code",
   "execution_count": 23,
   "metadata": {},
   "outputs": [],
   "source": [
    "sc = StandardScaler()\n",
    "#Escalo Datos de Entrenamiento:\n",
    "x_train_rfb = sc.fit_transform(x_train_rfb)\n",
    "#Escalo Datos de Testeo:\n",
    "x_test_rfb = sc.fit_transform(x_test_rfb)"
   ]
  },
  {
   "cell_type": "code",
   "execution_count": 24,
   "metadata": {},
   "outputs": [
    {
     "name": "stderr",
     "output_type": "stream",
     "text": [
      "2025/04/20 20:30:45 WARNING mlflow.models.model: Model logged without a signature and input example. Please set `input_example` parameter when logging the model to auto infer the model signature.\n"
     ]
    }
   ],
   "source": [
    "mlflow.set_experiment(\"random_forest_balanceado_pca\")\n",
    "with mlflow.start_run():\n",
    "    rfb = RandomForestClassifier(random_state = 50, n_estimators = 500, class_weight='balanced')\n",
    "    rfb.fit(x_train_rfb, y_train_rfb)\n",
    "    y_pred_rfb = rfb.predict(x_test_rfb).round()\n",
    "    mlflow.sklearn.log_model(rfb, \"random_forest_balanceado_pca\")\n",
    "mlflow.end_run() "
   ]
  },
  {
   "cell_type": "code",
   "execution_count": 25,
   "metadata": {},
   "outputs": [
    {
     "name": "stdout",
     "output_type": "stream",
     "text": [
      "Accuracy del Random Forest con Balanceo: 0.831\n"
     ]
    }
   ],
   "source": [
    "accuracy_rfb = accuracy_score(y_test_rfb, y_pred_rfb)\n",
    "print('Accuracy del Random Forest con Balanceo: %.3f' % accuracy_rfb)"
   ]
  },
  {
   "cell_type": "code",
   "execution_count": 26,
   "metadata": {},
   "outputs": [
    {
     "name": "stdout",
     "output_type": "stream",
     "text": [
      "Precision del modelo Random Forest con Balanceo 0.125\n"
     ]
    }
   ],
   "source": [
    "precision_rfb = precision_score(y_test_rfb, y_pred_rfb)\n",
    "print('Precision del modelo Random Forest con Balanceo %.3f' % precision_rfb)"
   ]
  },
  {
   "cell_type": "code",
   "execution_count": 27,
   "metadata": {},
   "outputs": [
    {
     "name": "stdout",
     "output_type": "stream",
     "text": [
      "Recall del Modelo Random Forest con Balanceo: 0.003\n"
     ]
    }
   ],
   "source": [
    "recall_rfb = recall_score(y_test_rfb, y_pred_rfb)\n",
    "print('Recall del Modelo Random Forest con Balanceo: %.3f' % recall_rfb)"
   ]
  },
  {
   "cell_type": "code",
   "execution_count": 28,
   "metadata": {},
   "outputs": [],
   "source": [
    "mlflow.log_metric(\"accuracy\", accuracy_rfb)\n",
    "mlflow.log_metric(\"precision\", precision_rfb)\n",
    "mlflow.log_metric(\"recall\", recall_rfb)\n",
    "mlflow.end_run() "
   ]
  },
  {
   "cell_type": "markdown",
   "metadata": {},
   "source": [
    "### Regresión Logística con Undersampling"
   ]
  },
  {
   "cell_type": "code",
   "execution_count": 30,
   "metadata": {},
   "outputs": [],
   "source": [
    "x_train_rlus, x_test_rlus, y_train_rlus, y_test_rlus = train_test_split(x_pca, y_pca,\n",
    "                                   random_state=104, \n",
    "                                   test_size=0.20, \n",
    "                                   shuffle=True)"
   ]
  },
  {
   "cell_type": "code",
   "execution_count": 31,
   "metadata": {},
   "outputs": [],
   "source": [
    "rus = RandomUnderSampler(random_state = 42)\n",
    "x_train_rlus, y_train_rlus = rus.fit_resample(x_train_rlus, y_train_rlus)"
   ]
  },
  {
   "cell_type": "code",
   "execution_count": 32,
   "metadata": {},
   "outputs": [],
   "source": [
    "sc = StandardScaler()\n",
    "x_train_rlus = sc.fit_transform(x_train_rlus)\n",
    "x_test_rlus = sc.fit_transform(x_test_rlus )"
   ]
  },
  {
   "cell_type": "code",
   "execution_count": 33,
   "metadata": {},
   "outputs": [
    {
     "name": "stderr",
     "output_type": "stream",
     "text": [
      "2025/04/20 20:30:55 WARNING mlflow.models.model: Model logged without a signature and input example. Please set `input_example` parameter when logging the model to auto infer the model signature.\n"
     ]
    }
   ],
   "source": [
    "from sklearn.linear_model import LogisticRegression\n",
    "mlflow.set_experiment(\"regresion_lineal_pca\")\n",
    "with mlflow.start_run():\n",
    "    rluspca = LogisticRegression(max_iter=1000)\n",
    "    rluspca.fit(x_train_rlus, y_train_rlus)\n",
    "    y_pred_rlus = rluspca.predict(x_test_rlus)\n",
    "    mlflow.sklearn.log_model(rluspca, \"random_forest_balanceado_pca\")\n",
    "mlflow.end_run() "
   ]
  },
  {
   "cell_type": "code",
   "execution_count": 34,
   "metadata": {},
   "outputs": [
    {
     "name": "stdout",
     "output_type": "stream",
     "text": [
      "Accuracy del Modelo de Regresión Logística con US: 0.503\n"
     ]
    }
   ],
   "source": [
    "accuracy_rluspca = accuracy_score(y_test_rlus, y_pred_rlus)\n",
    "print('Accuracy del Modelo de Regresión Logística con US: %.3f' % accuracy_rluspca)"
   ]
  },
  {
   "cell_type": "code",
   "execution_count": 35,
   "metadata": {},
   "outputs": [
    {
     "name": "stdout",
     "output_type": "stream",
     "text": [
      "Precision del Modelo de Regresión Logística con Undersampling 0.197\n"
     ]
    }
   ],
   "source": [
    "precision_rluspca = precision_score(y_test_rlus, y_pred_rlus)\n",
    "print('Precision del Modelo de Regresión Logística con Undersampling %.3f' % precision_rluspca)"
   ]
  },
  {
   "cell_type": "code",
   "execution_count": 36,
   "metadata": {},
   "outputs": [
    {
     "name": "stdout",
     "output_type": "stream",
     "text": [
      "Recall del Modelo de Regresión Logística con Undersampling: 0.643\n"
     ]
    }
   ],
   "source": [
    "recall_rluspca = recall_score(y_test_rlus, y_pred_rlus)\n",
    "print('Recall del Modelo de Regresión Logística con Undersampling: %.3f' % recall_rluspca)"
   ]
  }
 ],
 "metadata": {
  "kernelspec": {
   "display_name": "Python [conda env:base] *",
   "language": "python",
   "name": "conda-base-py"
  },
  "language_info": {
   "codemirror_mode": {
    "name": "ipython",
    "version": 3
   },
   "file_extension": ".py",
   "mimetype": "text/x-python",
   "name": "python",
   "nbconvert_exporter": "python",
   "pygments_lexer": "ipython3",
   "version": "3.12.7"
  }
 },
 "nbformat": 4,
 "nbformat_minor": 4
}
