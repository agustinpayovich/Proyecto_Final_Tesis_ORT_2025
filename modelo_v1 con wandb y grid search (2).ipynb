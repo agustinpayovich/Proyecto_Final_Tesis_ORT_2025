{
 "cells": [
  {
   "cell_type": "code",
   "execution_count": 101,
   "metadata": {},
   "outputs": [],
   "source": [
    "import pandas as pd\n",
    "import numpy as np\n",
    "import os\n",
    "import seaborn as sns\n",
    "import matplotlib.pyplot as plt\n",
    "from sklearn.model_selection import train_test_split # División del dataset\n",
    "import matplotlib.pyplot as plt # Plotear\n",
    "from sklearn.linear_model import LinearRegression # Modelo de ML\n",
    "from sklearn.preprocessing import OneHotEncoder, StandardScaler\n",
    "from sklearn.compose import make_column_transformer\n",
    "from sklearn import metrics\n",
    "from sklearn.metrics import precision_score, recall_score, f1_score, accuracy_score, confusion_matrix # Métricas\n",
    "pd.options.display.max_columns= None"
   ]
  },
  {
   "cell_type": "code",
   "execution_count": 102,
   "metadata": {},
   "outputs": [],
   "source": [
    "df = pd.read_csv('base_final_EDA.csv', delimiter= ',')"
   ]
  },
  {
   "cell_type": "code",
   "execution_count": 103,
   "metadata": {},
   "outputs": [
    {
     "data": {
      "text/html": [
       "<div>\n",
       "<style scoped>\n",
       "    .dataframe tbody tr th:only-of-type {\n",
       "        vertical-align: middle;\n",
       "    }\n",
       "\n",
       "    .dataframe tbody tr th {\n",
       "        vertical-align: top;\n",
       "    }\n",
       "\n",
       "    .dataframe thead th {\n",
       "        text-align: right;\n",
       "    }\n",
       "</style>\n",
       "<table border=\"1\" class=\"dataframe\">\n",
       "  <thead>\n",
       "    <tr style=\"text-align: right;\">\n",
       "      <th></th>\n",
       "      <th>MS</th>\n",
       "      <th>PBB</th>\n",
       "      <th>Q_activas</th>\n",
       "      <th>MontoTotalCompras_USD</th>\n",
       "      <th>CantidadTotalCompras_USD</th>\n",
       "      <th>MontoTotalComprasPromocion_USD</th>\n",
       "      <th>CantidadTotalComprasPromocion_USD</th>\n",
       "      <th>cant_adicionales</th>\n",
       "      <th>Antiguedad Meses</th>\n",
       "      <th>Edad maxima</th>\n",
       "      <th>Residente</th>\n",
       "      <th>Q_login_IL</th>\n",
       "      <th>Q_login_SA</th>\n",
       "      <th>Q_login_PG</th>\n",
       "      <th>Q_login_WA</th>\n",
       "      <th>Q_login_TV</th>\n",
       "      <th>afinidad_LAN</th>\n",
       "      <th>afinidad_OTROS</th>\n",
       "      <th>afinidad_PB</th>\n",
       "      <th>afinidad_VOLAR</th>\n",
       "      <th>Limite_unificado</th>\n",
       "      <th>l_posicion</th>\n",
       "      <th>Cuentas_Si</th>\n",
       "      <th>IBC_Si</th>\n",
       "      <th>TdeC_No</th>\n",
       "      <th>TdeC_Si</th>\n",
       "      <th>CACC_No</th>\n",
       "      <th>CACC_Si</th>\n",
       "      <th>Prestamos_Si</th>\n",
       "      <th>Inversiones_No</th>\n",
       "      <th>Inversiones_Si</th>\n",
       "      <th>Clasificacion cliente_Full</th>\n",
       "      <th>Clasificacion cliente_IF</th>\n",
       "      <th>Clasificacion cliente_Pas</th>\n",
       "      <th>Clasificacion cliente_Pocket</th>\n",
       "      <th>Clasificacion cliente_Sin IBC</th>\n",
       "      <th>Clasificacion cliente_U25</th>\n",
       "      <th>detractor</th>\n",
       "    </tr>\n",
       "  </thead>\n",
       "  <tbody>\n",
       "    <tr>\n",
       "      <th>0</th>\n",
       "      <td>0.371610</td>\n",
       "      <td>0.229376</td>\n",
       "      <td>0.0</td>\n",
       "      <td>131</td>\n",
       "      <td>10</td>\n",
       "      <td>0</td>\n",
       "      <td>100</td>\n",
       "      <td>1</td>\n",
       "      <td>47.0</td>\n",
       "      <td>47.0</td>\n",
       "      <td>1.0</td>\n",
       "      <td>-0.3</td>\n",
       "      <td>-0.238095</td>\n",
       "      <td>6.0</td>\n",
       "      <td>0.0</td>\n",
       "      <td>0.0</td>\n",
       "      <td>True</td>\n",
       "      <td>False</td>\n",
       "      <td>False</td>\n",
       "      <td>False</td>\n",
       "      <td>1559.725</td>\n",
       "      <td>16.248680</td>\n",
       "      <td>True</td>\n",
       "      <td>True</td>\n",
       "      <td>False</td>\n",
       "      <td>True</td>\n",
       "      <td>True</td>\n",
       "      <td>False</td>\n",
       "      <td>False</td>\n",
       "      <td>True</td>\n",
       "      <td>False</td>\n",
       "      <td>False</td>\n",
       "      <td>False</td>\n",
       "      <td>True</td>\n",
       "      <td>False</td>\n",
       "      <td>False</td>\n",
       "      <td>False</td>\n",
       "      <td>False</td>\n",
       "    </tr>\n",
       "    <tr>\n",
       "      <th>1</th>\n",
       "      <td>-0.091556</td>\n",
       "      <td>-0.173902</td>\n",
       "      <td>0.0</td>\n",
       "      <td>0</td>\n",
       "      <td>0</td>\n",
       "      <td>0</td>\n",
       "      <td>100</td>\n",
       "      <td>4</td>\n",
       "      <td>47.0</td>\n",
       "      <td>47.0</td>\n",
       "      <td>1.0</td>\n",
       "      <td>0.0</td>\n",
       "      <td>0.000000</td>\n",
       "      <td>0.0</td>\n",
       "      <td>0.0</td>\n",
       "      <td>0.0</td>\n",
       "      <td>False</td>\n",
       "      <td>False</td>\n",
       "      <td>False</td>\n",
       "      <td>True</td>\n",
       "      <td>2200.000</td>\n",
       "      <td>6.658211</td>\n",
       "      <td>True</td>\n",
       "      <td>True</td>\n",
       "      <td>False</td>\n",
       "      <td>True</td>\n",
       "      <td>True</td>\n",
       "      <td>False</td>\n",
       "      <td>False</td>\n",
       "      <td>True</td>\n",
       "      <td>False</td>\n",
       "      <td>False</td>\n",
       "      <td>False</td>\n",
       "      <td>True</td>\n",
       "      <td>False</td>\n",
       "      <td>False</td>\n",
       "      <td>False</td>\n",
       "      <td>False</td>\n",
       "    </tr>\n",
       "  </tbody>\n",
       "</table>\n",
       "</div>"
      ],
      "text/plain": [
       "         MS       PBB  Q_activas  MontoTotalCompras_USD  \\\n",
       "0  0.371610  0.229376        0.0                    131   \n",
       "1 -0.091556 -0.173902        0.0                      0   \n",
       "\n",
       "   CantidadTotalCompras_USD  MontoTotalComprasPromocion_USD  \\\n",
       "0                        10                               0   \n",
       "1                         0                               0   \n",
       "\n",
       "   CantidadTotalComprasPromocion_USD  cant_adicionales  Antiguedad Meses  \\\n",
       "0                                100                 1              47.0   \n",
       "1                                100                 4              47.0   \n",
       "\n",
       "   Edad maxima  Residente  Q_login_IL  Q_login_SA  Q_login_PG  Q_login_WA  \\\n",
       "0         47.0        1.0        -0.3   -0.238095         6.0         0.0   \n",
       "1         47.0        1.0         0.0    0.000000         0.0         0.0   \n",
       "\n",
       "   Q_login_TV  afinidad_LAN  afinidad_OTROS  afinidad_PB  afinidad_VOLAR  \\\n",
       "0         0.0          True           False        False           False   \n",
       "1         0.0         False           False        False            True   \n",
       "\n",
       "   Limite_unificado  l_posicion  Cuentas_Si  IBC_Si  TdeC_No  TdeC_Si  \\\n",
       "0          1559.725   16.248680        True    True    False     True   \n",
       "1          2200.000    6.658211        True    True    False     True   \n",
       "\n",
       "   CACC_No  CACC_Si  Prestamos_Si  Inversiones_No  Inversiones_Si  \\\n",
       "0     True    False         False            True           False   \n",
       "1     True    False         False            True           False   \n",
       "\n",
       "   Clasificacion cliente_Full  Clasificacion cliente_IF  \\\n",
       "0                       False                     False   \n",
       "1                       False                     False   \n",
       "\n",
       "   Clasificacion cliente_Pas  Clasificacion cliente_Pocket  \\\n",
       "0                       True                         False   \n",
       "1                       True                         False   \n",
       "\n",
       "   Clasificacion cliente_Sin IBC  Clasificacion cliente_U25  detractor  \n",
       "0                          False                      False      False  \n",
       "1                          False                      False      False  "
      ]
     },
     "execution_count": 103,
     "metadata": {},
     "output_type": "execute_result"
    }
   ],
   "source": [
    "df.head(2)"
   ]
  },
  {
   "cell_type": "code",
   "execution_count": 3,
   "metadata": {},
   "outputs": [],
   "source": [
    "dfpca = pd.read_csv('base_final_PCA.csv', delimiter= ';')"
   ]
  },
  {
   "cell_type": "code",
   "execution_count": 4,
   "metadata": {},
   "outputs": [],
   "source": [
    "dfr = df.astype(int)"
   ]
  },
  {
   "cell_type": "code",
   "execution_count": 5,
   "metadata": {},
   "outputs": [],
   "source": [
    "x = df.drop(['detractor'], axis=1)"
   ]
  },
  {
   "cell_type": "code",
   "execution_count": 6,
   "metadata": {},
   "outputs": [],
   "source": [
    "x_pca = dfpca.drop(['detractor'], axis=1)"
   ]
  },
  {
   "cell_type": "code",
   "execution_count": 7,
   "metadata": {},
   "outputs": [],
   "source": [
    "x_r = dfr.drop(['detractor'], axis=1)"
   ]
  },
  {
   "cell_type": "code",
   "execution_count": 8,
   "metadata": {},
   "outputs": [
    {
     "data": {
      "text/plain": [
       "37"
      ]
     },
     "execution_count": 8,
     "metadata": {},
     "output_type": "execute_result"
    }
   ],
   "source": [
    "len(x.columns)"
   ]
  },
  {
   "cell_type": "code",
   "execution_count": 9,
   "metadata": {},
   "outputs": [],
   "source": [
    "y = df['detractor']"
   ]
  },
  {
   "cell_type": "code",
   "execution_count": 10,
   "metadata": {},
   "outputs": [],
   "source": [
    "y_pca = dfpca['detractor']"
   ]
  },
  {
   "cell_type": "code",
   "execution_count": 11,
   "metadata": {},
   "outputs": [],
   "source": [
    "y_r = dfr['detractor']"
   ]
  },
  {
   "cell_type": "markdown",
   "metadata": {},
   "source": [
    "### Sampleo y Escalado de Datos:"
   ]
  },
  {
   "cell_type": "code",
   "execution_count": 13,
   "metadata": {},
   "outputs": [],
   "source": [
    "#OverSampling:\n",
    "from imblearn.over_sampling import SMOTE\n",
    "sm = SMOTE(random_state = 42)\n",
    "x_sm, y_sm = sm.fit_resample(x, y)"
   ]
  },
  {
   "cell_type": "code",
   "execution_count": 14,
   "metadata": {},
   "outputs": [],
   "source": [
    "#OverSampling:\n",
    "from imblearn.over_sampling import SMOTE\n",
    "sm = SMOTE(random_state = 42)\n",
    "x_sm_pca, y_sm_pca = sm.fit_resample(x_pca, y_pca)"
   ]
  },
  {
   "cell_type": "code",
   "execution_count": 15,
   "metadata": {},
   "outputs": [],
   "source": [
    "#Undersampling\n",
    "from imblearn.under_sampling import RandomUnderSampler\n",
    "\n",
    "rus = RandomUnderSampler(random_state = 42)\n",
    "x_us, y_us = rus.fit_resample(x, y)"
   ]
  },
  {
   "cell_type": "code",
   "execution_count": 16,
   "metadata": {},
   "outputs": [],
   "source": [
    "x_train_rf, x_test, y_train, y_test = train_test_split(x, y,\n",
    "                                   random_state=104, \n",
    "                                   test_size=0.20, \n",
    "                                   shuffle=True)"
   ]
  },
  {
   "cell_type": "code",
   "execution_count": 17,
   "metadata": {},
   "outputs": [],
   "source": [
    "x_train_r, x_test_r, y_train_r, y_test_r = train_test_split(x_r, y_r,\n",
    "                                   random_state=104, \n",
    "                                   test_size=0.20, \n",
    "                                   shuffle=True)"
   ]
  },
  {
   "cell_type": "markdown",
   "metadata": {},
   "source": [
    "### Random Forest:"
   ]
  },
  {
   "cell_type": "code",
   "execution_count": 18,
   "metadata": {},
   "outputs": [],
   "source": [
    "x_train_rf, x_test_rf, y_train_rf, y_test_rf = train_test_split(x, y,\n",
    "                                   random_state=130, \n",
    "                                   test_size=0.20, \n",
    "                                   shuffle=True)"
   ]
  },
  {
   "cell_type": "code",
   "execution_count": 19,
   "metadata": {},
   "outputs": [],
   "source": [
    "from sklearn.preprocessing import StandardScaler\n",
    "sc = StandardScaler()\n",
    "#Escalo Datos de Entrenamiento:\n",
    "x_train_rf = sc.fit_transform(x_train_rf)\n",
    "#Escalo Datos de Testeo:\n",
    "x_test_rf = sc.fit_transform(x_test_rf)"
   ]
  },
  {
   "cell_type": "code",
   "execution_count": 20,
   "metadata": {},
   "outputs": [],
   "source": [
    "from sklearn.ensemble import RandomForestClassifier\n",
    "rf = RandomForestClassifier(random_state = 50, n_estimators = 500)\n",
    "rf.fit(x_train_rf, y_train_rf)\n",
    "y_pred_rf = rf.predict(x_test_rf).round()"
   ]
  },
  {
   "cell_type": "code",
   "execution_count": 21,
   "metadata": {},
   "outputs": [
    {
     "name": "stdout",
     "output_type": "stream",
     "text": [
      "Accuracy del modelo Random Forest: 0.829\n"
     ]
    }
   ],
   "source": [
    "accuracy_rf = accuracy_score(y_test_rf, y_pred_rf)\n",
    "print('Accuracy del modelo Random Forest: %.3f' % accuracy_rf)"
   ]
  },
  {
   "cell_type": "code",
   "execution_count": 22,
   "metadata": {},
   "outputs": [
    {
     "name": "stdout",
     "output_type": "stream",
     "text": [
      "Precision del modelo Random Forest: 0.000\n"
     ]
    },
    {
     "name": "stderr",
     "output_type": "stream",
     "text": [
      "/opt/conda/lib/python3.7/site-packages/sklearn/metrics/_classification.py:1318: UndefinedMetricWarning: Precision is ill-defined and being set to 0.0 due to no predicted samples. Use `zero_division` parameter to control this behavior.\n",
      "  _warn_prf(average, modifier, msg_start, len(result))\n"
     ]
    }
   ],
   "source": [
    "precision_rf = precision_score(y_test_rf, y_pred_rf)\n",
    "print('Precision del modelo Random Forest: %.3f' % precision_rf)"
   ]
  },
  {
   "cell_type": "code",
   "execution_count": 23,
   "metadata": {},
   "outputs": [
    {
     "name": "stdout",
     "output_type": "stream",
     "text": [
      "Recall del Modelo Random Forest: 0.000\n"
     ]
    }
   ],
   "source": [
    "recall_rf = recall_score(y_test_rf, y_pred_rf)\n",
    "print('Recall del Modelo Random Forest: %.3f' % recall_rf)"
   ]
  },
  {
   "cell_type": "code",
   "execution_count": 24,
   "metadata": {},
   "outputs": [
    {
     "name": "stdout",
     "output_type": "stream",
     "text": [
      "Matriz de Confusión:\n",
      "[[1935    0]\n",
      " [ 398    0]]\n"
     ]
    }
   ],
   "source": [
    "matriz_rf = confusion_matrix(y_test_rf, y_pred_rf)\n",
    "print('Matriz de Confusión:')\n",
    "print(matriz_rf)"
   ]
  },
  {
   "cell_type": "markdown",
   "metadata": {},
   "source": [
    "### Random Forest con Oversampling:"
   ]
  },
  {
   "cell_type": "code",
   "execution_count": 25,
   "metadata": {},
   "outputs": [],
   "source": [
    "x_train_sm, x_test_sm, y_train_sm, y_test_sm = train_test_split(x_sm, y_sm,\n",
    "                                   random_state=104, \n",
    "                                   test_size=0.20, \n",
    "                                   shuffle=True)"
   ]
  },
  {
   "cell_type": "code",
   "execution_count": 26,
   "metadata": {},
   "outputs": [],
   "source": [
    "from sklearn.preprocessing import StandardScaler\n",
    "sc = StandardScaler()\n",
    "#Escalo Datos de Entrenamiento:\n",
    "x_train_sm = sc.fit_transform(x_train_sm)\n",
    "#Escalo Datos de Testeo:\n",
    "x_test_sm = sc.fit_transform(x_test_sm)"
   ]
  },
  {
   "cell_type": "code",
   "execution_count": 27,
   "metadata": {},
   "outputs": [],
   "source": [
    "from sklearn.ensemble import RandomForestClassifier\n",
    "rf_sm = RandomForestClassifier(random_state = 50, n_estimators = 500)\n",
    "rf_sm.fit(x_train_sm, y_train_sm)\n",
    "y_pred_sm = rf_sm.predict(x_test_sm).round()"
   ]
  },
  {
   "cell_type": "code",
   "execution_count": 28,
   "metadata": {},
   "outputs": [
    {
     "name": "stdout",
     "output_type": "stream",
     "text": [
      "Accuracy del Random Forest con Oversampling: 0.696\n"
     ]
    }
   ],
   "source": [
    "accuracy_rf_sm = accuracy_score(y_test_sm, y_pred_sm)\n",
    "print('Accuracy del Random Forest con Oversampling: %.3f' % accuracy_rf_sm)"
   ]
  },
  {
   "cell_type": "code",
   "execution_count": 29,
   "metadata": {},
   "outputs": [
    {
     "name": "stdout",
     "output_type": "stream",
     "text": [
      "Precision del modelo Random Forest con Oversampling: 0.634\n"
     ]
    }
   ],
   "source": [
    "precision_sm = precision_score(y_test_sm, y_pred_sm)\n",
    "print('Precision del modelo Random Forest con Oversampling: %.3f' % precision_sm)"
   ]
  },
  {
   "cell_type": "code",
   "execution_count": 30,
   "metadata": {},
   "outputs": [
    {
     "name": "stdout",
     "output_type": "stream",
     "text": [
      "Recall del Modelo Random Forest con Oversampling: 0.935\n"
     ]
    }
   ],
   "source": [
    "recall_sm = recall_score(y_test_sm, y_pred_sm)\n",
    "print('Recall del Modelo Random Forest con Oversampling: %.3f' % recall_sm)"
   ]
  },
  {
   "cell_type": "code",
   "execution_count": 31,
   "metadata": {},
   "outputs": [
    {
     "ename": "SyntaxError",
     "evalue": "invalid syntax (3749139684.py, line 1)",
     "output_type": "error",
     "traceback": [
      "\u001b[0;36m  File \u001b[0;32m\"/tmp/ipykernel_32007/3749139684.py\"\u001b[0;36m, line \u001b[0;32m1\u001b[0m\n\u001b[0;31m    matriz_sm = confusion!pip install wandb_matrix(y_test_sm, y_pred_sm)\u001b[0m\n\u001b[0m                         ^\u001b[0m\n\u001b[0;31mSyntaxError\u001b[0m\u001b[0;31m:\u001b[0m invalid syntax\n"
     ]
    }
   ],
   "source": [
    "matriz_sm = confusion!pip install wandb_matrix(y_test_sm, y_pred_sm)\n",
    "print('Matriz de Confusión:')\n",
    "print(matriz_sm)"
   ]
  },
  {
   "cell_type": "markdown",
   "metadata": {},
   "source": [
    "### Random Forest con Oversampling - PCA:"
   ]
  },
  {
   "cell_type": "code",
   "execution_count": 33,
   "metadata": {},
   "outputs": [],
   "source": [
    "x_train_sm_pca, x_test_sm_pca, y_train_sm_pca, y_test_sm_pca = train_test_split(x_sm_pca, y_sm_pca,\n",
    "                                   random_state=104, \n",
    "                                   test_size=0.20, \n",
    "                                   shuffle=True)"
   ]
  },
  {
   "cell_type": "code",
   "execution_count": 34,
   "metadata": {},
   "outputs": [],
   "source": [
    "from sklearn.preprocessing import StandardScaler\n",
    "sc = StandardScaler()\n",
    "#Escalo Datos de Entrenamiento:\n",
    "x_train_sm_pca = sc.fit_transform(x_train_sm_pca)\n",
    "#Escalo Datos de Testeo:\n",
    "x_test_sm_pca = sc.fit_transform(x_test_sm_pca)"
   ]
  },
  {
   "cell_type": "code",
   "execution_count": 35,
   "metadata": {},
   "outputs": [],
   "source": [
    "rf_sm_pca = RandomForestClassifier(random_state = 50, n_estimators = 500)\n",
    "rf_sm_pca.fit(x_train_sm_pca, y_train_sm_pca)\n",
    "y_pred_sm_pca = rf_sm_pca.predict(x_test_sm_pca).round()"
   ]
  },
  {
   "cell_type": "code",
   "execution_count": 36,
   "metadata": {},
   "outputs": [
    {
     "name": "stdout",
     "output_type": "stream",
     "text": [
      "Accuracy del Random Forest con Oversampling y PCA: 0.850\n"
     ]
    }
   ],
   "source": [
    "accuracy_rf_sm_pca = accuracy_score(y_test_sm_pca, y_pred_sm_pca)\n",
    "print('Accuracy del Random Forest con Oversampling y PCA: %.3f' % accuracy_rf_sm_pca)"
   ]
  },
  {
   "cell_type": "code",
   "execution_count": 37,
   "metadata": {},
   "outputs": [
    {
     "name": "stdout",
     "output_type": "stream",
     "text": [
      "Precision del modelo Random Forest con Oversampling y PCA: 0.847\n"
     ]
    }
   ],
   "source": [
    "precision_sm_pca = precision_score(y_test_sm_pca, y_pred_sm_pca)\n",
    "print('Precision del modelo Random Forest con Oversampling y PCA: %.3f' % precision_sm_pca)"
   ]
  },
  {
   "cell_type": "code",
   "execution_count": 38,
   "metadata": {},
   "outputs": [
    {
     "name": "stdout",
     "output_type": "stream",
     "text": [
      "Recall del Modelo Random Forest con Oversampling y PCA: 0.858\n"
     ]
    }
   ],
   "source": [
    "recall_sm_pca = recall_score(y_test_sm_pca, y_pred_sm_pca)\n",
    "print('Recall del Modelo Random Forest con Oversampling y PCA: %.3f' % recall_sm_pca)"
   ]
  },
  {
   "cell_type": "code",
   "execution_count": 39,
   "metadata": {},
   "outputs": [
    {
     "name": "stdout",
     "output_type": "stream",
     "text": [
      "Matriz de Confusión:\n",
      "[[1646  306]\n",
      " [ 281 1692]]\n"
     ]
    }
   ],
   "source": [
    "matriz_sm_pca = confusion_matrix(y_test_sm_pca, y_pred_sm_pca)\n",
    "print('Matriz de Confusión:')\n",
    "print(matriz_sm_pca)"
   ]
  },
  {
   "cell_type": "markdown",
   "metadata": {},
   "source": [
    "### Random Forest con Undersampling"
   ]
  },
  {
   "cell_type": "code",
   "execution_count": 40,
   "metadata": {},
   "outputs": [],
   "source": [
    "x_train_us, x_test_us, y_train_us, y_test_us = train_test_split(x_us, y_us,\n",
    "                                   random_state=104, \n",
    "                                   test_size=0.20, \n",
    "                                   shuffle=True)"
   ]
  },
  {
   "cell_type": "code",
   "execution_count": 41,
   "metadata": {},
   "outputs": [],
   "source": [
    "from sklearn.preprocessing import StandardScaler\n",
    "sc = StandardScaler()\n",
    "#Escalo Datos de Entrenamiento:\n",
    "x_train_us = sc.fit_transform(x_train_us)\n",
    "#Escalo Datos de Testeo:\n",
    "x_test_us = sc.fit_transform(x_test_us)"
   ]
  },
  {
   "cell_type": "code",
   "execution_count": 42,
   "metadata": {},
   "outputs": [],
   "source": [
    "from sklearn.ensemble import RandomForestClassifier\n",
    "rf_us = RandomForestClassifier(random_state = 50, n_estimators = 500)\n",
    "rf_us.fit(x_train_us, y_train_us)\n",
    "y_pred_us = rf_us.predict(x_test_us).round()"
   ]
  },
  {
   "cell_type": "code",
   "execution_count": 43,
   "metadata": {},
   "outputs": [
    {
     "name": "stdout",
     "output_type": "stream",
     "text": [
      "Accuracy del Random Forest con Undersampling: 0.589\n"
     ]
    }
   ],
   "source": [
    "accuracy_rf_us = accuracy_score(y_test_us, y_pred_us)\n",
    "print('Accuracy del Random Forest con Undersampling: %.3f' % accuracy_rf_us)"
   ]
  },
  {
   "cell_type": "code",
   "execution_count": 44,
   "metadata": {},
   "outputs": [
    {
     "name": "stdout",
     "output_type": "stream",
     "text": [
      "Precision del modelo Random Forest con Undersampling 0.576\n"
     ]
    }
   ],
   "source": [
    "precision_us = precision_score(y_test_us, y_pred_us)\n",
    "print('Precision del modelo Random Forest con Undersampling %.3f' % precision_us)"
   ]
  },
  {
   "cell_type": "code",
   "execution_count": 45,
   "metadata": {},
   "outputs": [
    {
     "name": "stdout",
     "output_type": "stream",
     "text": [
      "Recall del Modelo Random Forest con Undersampling: 0.560\n"
     ]
    }
   ],
   "source": [
    "recall_us = recall_score(y_test_us, y_pred_us)\n",
    "print('Recall del Modelo Random Forest con Undersampling: %.3f' % recall_us)"
   ]
  },
  {
   "cell_type": "code",
   "execution_count": 46,
   "metadata": {},
   "outputs": [
    {
     "name": "stdout",
     "output_type": "stream",
     "text": [
      "Matriz de Confusión:\n",
      "[[236 147]\n",
      " [157 200]]\n"
     ]
    }
   ],
   "source": [
    "matriz_us = confusion_matrix(y_test_us, y_pred_us)\n",
    "print('Matriz de Confusión:')\n",
    "print(matriz_us)"
   ]
  },
  {
   "cell_type": "markdown",
   "metadata": {},
   "source": [
    "### Bagging"
   ]
  },
  {
   "cell_type": "code",
   "execution_count": 47,
   "metadata": {},
   "outputs": [],
   "source": [
    "x_train_bg, x_test_bg, y_train_bg, y_test_bg = train_test_split(x, y,\n",
    "                                   random_state=130, \n",
    "                                   test_size=0.20, \n",
    "                                   shuffle=True)"
   ]
  },
  {
   "cell_type": "code",
   "execution_count": 48,
   "metadata": {},
   "outputs": [],
   "source": [
    "from sklearn.preprocessing import StandardScaler\n",
    "sc = StandardScaler()\n",
    "#Escalo Datos de Entrenamiento:\n",
    "x_train_bg = sc.fit_transform(x_train_bg)\n",
    "#Escalo Datos de Testeo:\n",
    "x_test_bg = sc.fit_transform(x_test_bg)"
   ]
  },
  {
   "cell_type": "code",
   "execution_count": 49,
   "metadata": {},
   "outputs": [
    {
     "data": {
      "text/plain": [
       "BaggingClassifier(n_jobs=-1, random_state=55)"
      ]
     },
     "execution_count": 49,
     "metadata": {},
     "output_type": "execute_result"
    }
   ],
   "source": [
    "from sklearn.ensemble import BaggingClassifier\n",
    "bagging = BaggingClassifier(n_estimators = 10,\n",
    "                            random_state = 55, n_jobs = -1)\n",
    "\n",
    "bagging.fit(x_train_bg, y_train_bg)"
   ]
  },
  {
   "cell_type": "code",
   "execution_count": 50,
   "metadata": {},
   "outputs": [],
   "source": [
    "y_pred_bg = bagging.predict(x_test_bg)"
   ]
  },
  {
   "cell_type": "code",
   "execution_count": 51,
   "metadata": {},
   "outputs": [
    {
     "name": "stdout",
     "output_type": "stream",
     "text": [
      "Accuracy del Modelo de Bagging: 0.814\n"
     ]
    }
   ],
   "source": [
    "accuracy_bg = accuracy_score(y_test_bg, y_pred_bg)\n",
    "print('Accuracy del Modelo de Bagging: %.3f' % accuracy_bg)"
   ]
  },
  {
   "cell_type": "code",
   "execution_count": 52,
   "metadata": {},
   "outputs": [
    {
     "name": "stdout",
     "output_type": "stream",
     "text": [
      "Precision del Modelo de Bagging: 0.235\n"
     ]
    }
   ],
   "source": [
    "precision_bg = precision_score(y_test_bg, y_pred_bg)\n",
    "print('Precision del Modelo de Bagging: %.3f' % precision_bg)"
   ]
  },
  {
   "cell_type": "code",
   "execution_count": 53,
   "metadata": {},
   "outputs": [
    {
     "name": "stdout",
     "output_type": "stream",
     "text": [
      "Recall del Modelo de Bagging: 0.040\n"
     ]
    }
   ],
   "source": [
    "recall_bg = recall_score(y_test_bg, y_pred_bg)\n",
    "print('Recall del Modelo de Bagging: %.3f' % recall_bg)"
   ]
  },
  {
   "cell_type": "code",
   "execution_count": 54,
   "metadata": {},
   "outputs": [
    {
     "name": "stdout",
     "output_type": "stream",
     "text": [
      "Matriz de Confusión:\n",
      "[[1883   52]\n",
      " [ 382   16]]\n"
     ]
    }
   ],
   "source": [
    "matriz_bg = confusion_matrix(y_test_bg, y_pred_bg)\n",
    "print('Matriz de Confusión:')\n",
    "print(matriz_bg)"
   ]
  },
  {
   "cell_type": "markdown",
   "metadata": {},
   "source": [
    "### Boosting"
   ]
  },
  {
   "cell_type": "code",
   "execution_count": 55,
   "metadata": {},
   "outputs": [],
   "source": [
    "x_train_boo, x_test_boo, y_train_boo, y_test_boo = train_test_split(x, y,\n",
    "                                   random_state=42, \n",
    "                                   test_size=0.20, \n",
    "                                   shuffle=True)"
   ]
  },
  {
   "cell_type": "code",
   "execution_count": 56,
   "metadata": {},
   "outputs": [],
   "source": [
    "from sklearn.preprocessing import StandardScaler\n",
    "sc = StandardScaler()\n",
    "#Escalo Datos de Entrenamiento:\n",
    "x_train_boo = sc.fit_transform(x_train_boo)\n",
    "#Escalo Datos de Testeo:\n",
    "x_test_boo = sc.fit_transform(x_test_boo)"
   ]
  },
  {
   "cell_type": "code",
   "execution_count": 57,
   "metadata": {},
   "outputs": [],
   "source": [
    "#import xgboost as xgb\n",
    "\n",
    "#boosting = xgb.XGBClassifier(\n",
    " #   objective='binary:logistic',\n",
    "  #  n_estimators=100,\n",
    "   # learning_rate=0.1,\n",
    "   # max_depth=3,\n",
    "   # eval_metric='logloss'\n",
    "#)\n",
    "#boosting.fit(x_train_boo, y_train_boo)"
   ]
  },
  {
   "cell_type": "code",
   "execution_count": 58,
   "metadata": {},
   "outputs": [],
   "source": [
    "#y_pred_boo = boosting.predict(x_test_boo)\n",
    "#accuracy_boo = accuracy_score(y_test_boo, y_pred_boo)\n",
    "#print('Accuracy del Modelo de Boosting: %.3f' % accuracy_boo)"
   ]
  },
  {
   "cell_type": "code",
   "execution_count": 59,
   "metadata": {},
   "outputs": [],
   "source": [
    "#precision_boo = precision_score(y_test_boo, y_pred_boo)\n",
    "#print('Precision del Modelo de Boosting: %.3f' % precision_boo)"
   ]
  },
  {
   "cell_type": "code",
   "execution_count": 60,
   "metadata": {},
   "outputs": [],
   "source": [
    "#recall_boo = recall_score(y_test_boo, y_pred_boo)\n",
    "#print('Recall del Modelo de Boosting: %.3f' % recall_boo)"
   ]
  },
  {
   "cell_type": "code",
   "execution_count": 61,
   "metadata": {},
   "outputs": [],
   "source": [
    "#matriz_boo = confusion_matrix(y_test_boo, y_pred_boo)\n",
    "#print('Matriz de Confusión:')\n",
    "#print(matriz_boo)"
   ]
  },
  {
   "cell_type": "markdown",
   "metadata": {},
   "source": [
    "### Stacking"
   ]
  },
  {
   "cell_type": "code",
   "execution_count": 62,
   "metadata": {},
   "outputs": [],
   "source": [
    "from sklearn.ensemble import StackingClassifier\n",
    "from sklearn.linear_model import LogisticRegression"
   ]
  },
  {
   "cell_type": "code",
   "execution_count": 63,
   "metadata": {},
   "outputs": [],
   "source": [
    "x_train_st, x_test_st, y_train_st, y_test_st = train_test_split(x, y,\n",
    "                                   random_state=42, \n",
    "                                   test_size=0.20, \n",
    "                                   shuffle=True)"
   ]
  },
  {
   "cell_type": "code",
   "execution_count": 64,
   "metadata": {},
   "outputs": [],
   "source": [
    "from sklearn.preprocessing import StandardScaler\n",
    "sc = StandardScaler()\n",
    "#Escalo Datos de Entrenamiento:\n",
    "x_train_st = sc.fit_transform(x_train_st)\n",
    "#Escalo Datos de Testeo:\n",
    "x_test_st = sc.fit_transform(x_test_st)"
   ]
  },
  {
   "cell_type": "code",
   "execution_count": 65,
   "metadata": {},
   "outputs": [
    {
     "data": {
      "text/plain": [
       "StackingClassifier(estimators=[('rf', RandomForestClassifier(random_state=42)),\n",
       "                               ('gb',\n",
       "                                BaggingClassifier(n_estimators=100,\n",
       "                                                  random_state=42))],\n",
       "                   final_estimator=LogisticRegression())"
      ]
     },
     "execution_count": 65,
     "metadata": {},
     "output_type": "execute_result"
    }
   ],
   "source": [
    "modelos_stacking = [\n",
    "    ('rf', RandomForestClassifier(n_estimators=100, random_state=42)),\n",
    "    ('gb', BaggingClassifier(n_estimators=100, random_state=42)),\n",
    "]\n",
    "\n",
    "meta_modelo = LogisticRegression()\n",
    "\n",
    "stacking = StackingClassifier(estimators=modelos_stacking, final_estimator=meta_modelo)\n",
    "\n",
    "stacking.fit(x_train_st, y_train_st)"
   ]
  },
  {
   "cell_type": "code",
   "execution_count": 66,
   "metadata": {},
   "outputs": [
    {
     "name": "stdout",
     "output_type": "stream",
     "text": [
      "Accuracy del Modelo de Stacking: 0.840977\n"
     ]
    }
   ],
   "source": [
    "y_pred_st = stacking.predict(x_test_st)\n",
    "accuracy_st = accuracy_score(y_test_st, y_pred_st)\n",
    "print(f'Accuracy del Modelo de Stacking: {accuracy_st:4f}')"
   ]
  },
  {
   "cell_type": "code",
   "execution_count": 67,
   "metadata": {},
   "outputs": [
    {
     "name": "stdout",
     "output_type": "stream",
     "text": [
      "Precision del Modelo de Stacking: 0.000\n"
     ]
    },
    {
     "name": "stderr",
     "output_type": "stream",
     "text": [
      "/opt/conda/lib/python3.7/site-packages/sklearn/metrics/_classification.py:1318: UndefinedMetricWarning: Precision is ill-defined and being set to 0.0 due to no predicted samples. Use `zero_division` parameter to control this behavior.\n",
      "  _warn_prf(average, modifier, msg_start, len(result))\n"
     ]
    }
   ],
   "source": [
    "precision_st = precision_score(y_test_st, y_pred_st)\n",
    "print('Precision del Modelo de Stacking: %.3f' % precision_st)"
   ]
  },
  {
   "cell_type": "code",
   "execution_count": 68,
   "metadata": {},
   "outputs": [
    {
     "name": "stdout",
     "output_type": "stream",
     "text": [
      "Recall del Modelo de Boosting: 0.000\n"
     ]
    }
   ],
   "source": [
    "recall_st = recall_score(y_test_st, y_pred_st)\n",
    "print('Recall del Modelo de Boosting: %.3f' % recall_st)"
   ]
  },
  {
   "cell_type": "code",
   "execution_count": 69,
   "metadata": {},
   "outputs": [
    {
     "name": "stdout",
     "output_type": "stream",
     "text": [
      "Matriz de Confusión:\n",
      "[[1962    0]\n",
      " [ 371    0]]\n"
     ]
    }
   ],
   "source": [
    "matriz_st = confusion_matrix(y_test_st, y_pred_st)\n",
    "print('Matriz de Confusión:')\n",
    "print(matriz_st)"
   ]
  },
  {
   "cell_type": "markdown",
   "metadata": {},
   "source": [
    "### Stacking con Oversampling"
   ]
  },
  {
   "cell_type": "code",
   "execution_count": 70,
   "metadata": {},
   "outputs": [],
   "source": [
    "x_train_smst, x_test_smst, y_train_smst, y_test_smst = train_test_split(x_sm, y_sm,\n",
    "                                   random_state=104, \n",
    "                                   test_size=0.20, \n",
    "                                   shuffle=True)"
   ]
  },
  {
   "cell_type": "code",
   "execution_count": 71,
   "metadata": {},
   "outputs": [],
   "source": [
    "from sklearn.preprocessing import StandardScaler\n",
    "sc = StandardScaler()\n",
    "#Escalo Datos de Entrenamiento:\n",
    "x_train_smst = sc.fit_transform(x_train_smst)\n",
    "#Escalo Datos de Testeo:\n",
    "x_test_smst = sc.fit_transform(x_test_smst)"
   ]
  },
  {
   "cell_type": "code",
   "execution_count": 72,
   "metadata": {},
   "outputs": [],
   "source": [
    "#modelos_stacking = [\n",
    "   # ('rf', RandomForestClassifier(n_estimators=100, random_state=42)),\n",
    "    #('xg', xgb.XGBClassifier(n_estimators=100, random_state=42)),\n",
    "#]\n",
    "\n",
    "#meta_modelo = LogisticRegression()\n",
    "\n",
    "#stacking = StackingClassifier(estimators=modelos_stacking, final_estimator=meta_modelo)\n",
    "\n",
    "#stacking.fit(x_train_smst, y_train_smst)"
   ]
  },
  {
   "cell_type": "code",
   "execution_count": 73,
   "metadata": {},
   "outputs": [],
   "source": [
    "#y_pred_smst = stacking.predict(x_test_smst)\n",
    "#accuracy_smst = accuracy_score(y_test_smst, y_pred_smst)\n",
    "#print(f'Accuracy del Modelo de Stacking con Oversampling: {accuracy_smst:4f}')"
   ]
  },
  {
   "cell_type": "code",
   "execution_count": 74,
   "metadata": {},
   "outputs": [],
   "source": [
    "#precision_smst = precision_score(y_test_smst, y_pred_smst)\n",
    "#print('Precision del Modelo de Stacking con Oversampling: %.3f' % precision_smst)"
   ]
  },
  {
   "cell_type": "code",
   "execution_count": 75,
   "metadata": {},
   "outputs": [],
   "source": [
    "#recall_smst = recall_score(y_test_smst, y_pred_smst)\n",
    "#print('Recall del Modelo de Stacking con Oversampling: %.3f' % recall_smst)"
   ]
  },
  {
   "cell_type": "code",
   "execution_count": 76,
   "metadata": {},
   "outputs": [],
   "source": [
    "#matriz_smst = confusion_matrix(y_test_smst, y_pred_smst)\n",
    "#print('Matriz de Confusión:')\n",
    "#print(matriz_smst)"
   ]
  },
  {
   "cell_type": "markdown",
   "metadata": {},
   "source": [
    "### Red Neuronal:"
   ]
  },
  {
   "cell_type": "code",
   "execution_count": 77,
   "metadata": {},
   "outputs": [],
   "source": [
    "from sklearn.preprocessing import StandardScaler\n",
    "sc = StandardScaler()\n",
    "#Escalo Datos de Entrenamiento:\n",
    "x_train_r = sc.fit_transform(x_train_r)\n",
    "#Escalo Datos de Testeo:\n",
    "x_test_r = sc.fit_transform(x_test_r)"
   ]
  },
  {
   "cell_type": "code",
   "execution_count": 78,
   "metadata": {},
   "outputs": [],
   "source": [
    "x_train_r, x_test_r, y_train_r, y_test_r = train_test_split(x_r, y_r,\n",
    "                                   random_state=42, \n",
    "                                   test_size=0.20, \n",
    "                                   shuffle=True)"
   ]
  },
  {
   "cell_type": "code",
   "execution_count": 79,
   "metadata": {},
   "outputs": [],
   "source": [
    "x_train_pca, x_test_pca, y_train_pca, y_test_pca = train_test_split(x_pca, y_pca,\n",
    "                                   random_state=42, \n",
    "                                   test_size=0.20, \n",
    "                                   shuffle=True)"
   ]
  },
  {
   "cell_type": "code",
   "execution_count": 80,
   "metadata": {},
   "outputs": [
    {
     "name": "stderr",
     "output_type": "stream",
     "text": [
      "2025-04-05 14:48:21.161393: W tensorflow/stream_executor/platform/default/dso_loader.cc:55] Could not load dynamic library 'libcuda.so.1'; dlerror: /usr/lib/x86_64-linux-gnu/libcuda.so.1: file too short; LD_LIBRARY_PATH: /usr/local/cuda/extras/CUPTI/lib64:/usr/local/cuda/lib64:/usr/local/nvidia/lib:/usr/local/nvidia/lib64\n",
      "2025-04-05 14:48:21.161429: E tensorflow/stream_executor/cuda/cuda_driver.cc:313] failed call to cuInit: UNKNOWN ERROR (303)\n",
      "2025-04-05 14:48:21.161455: I tensorflow/stream_executor/cuda/cuda_diagnostics.cc:163] no NVIDIA GPU device is present: /dev/nvidia0 does not exist\n",
      "2025-04-05 14:48:21.161607: I tensorflow/core/platform/cpu_feature_guard.cc:143] Your CPU supports instructions that this TensorFlow binary was not compiled to use: AVX2 AVX512F FMA\n",
      "2025-04-05 14:48:21.186289: I tensorflow/core/platform/profile_utils/cpu_utils.cc:102] CPU Frequency: 2300000000 Hz\n",
      "2025-04-05 14:48:21.188581: I tensorflow/compiler/xla/service/service.cc:168] XLA service 0x7f8e98000b20 initialized for platform Host (this does not guarantee that XLA will be used). Devices:\n",
      "2025-04-05 14:48:21.188613: I tensorflow/compiler/xla/service/service.cc:176]   StreamExecutor device (0): Host, Default Version\n"
     ]
    },
    {
     "name": "stdout",
     "output_type": "stream",
     "text": [
      "Epoch 1/50\n",
      "1167/1167 [==============================] - 2s 2ms/step - loss: 5.4060 - recall: 0.1535\n",
      "Epoch 2/50\n",
      "1167/1167 [==============================] - 2s 2ms/step - loss: 2.5120 - recall: 0.1481\n",
      "Epoch 3/50\n",
      "1167/1167 [==============================] - 2s 2ms/step - loss: 2.4541 - recall: 0.1325\n",
      "Epoch 4/50\n",
      "1167/1167 [==============================] - 2s 2ms/step - loss: 2.3780 - recall: 0.1602\n",
      "Epoch 5/50\n",
      "1167/1167 [==============================] - 2s 2ms/step - loss: 2.6979 - recall: 0.1433\n",
      "Epoch 6/50\n",
      "1167/1167 [==============================] - 2s 2ms/step - loss: 1.9816 - recall: 0.1521\n",
      "Epoch 7/50\n",
      "1167/1167 [==============================] - 2s 2ms/step - loss: 2.5599 - recall: 0.1535\n",
      "Epoch 8/50\n",
      "1167/1167 [==============================] - 2s 2ms/step - loss: 2.0207 - recall: 0.1602\n",
      "Epoch 9/50\n",
      "1167/1167 [==============================] - 2s 2ms/step - loss: 1.9802 - recall: 0.1690\n",
      "Epoch 10/50\n",
      "1167/1167 [==============================] - 2s 2ms/step - loss: 2.1204 - recall: 0.1717\n",
      "Epoch 11/50\n",
      "1167/1167 [==============================] - 2s 2ms/step - loss: 1.8364 - recall: 0.1704\n",
      "Epoch 12/50\n",
      "1167/1167 [==============================] - 2s 2ms/step - loss: 1.9105 - recall: 0.1663\n",
      "Epoch 13/50\n",
      "1167/1167 [==============================] - 2s 2ms/step - loss: 1.8535 - recall: 0.1393\n",
      "Epoch 14/50\n",
      "1167/1167 [==============================] - 2s 2ms/step - loss: 1.5146 - recall: 0.1575\n",
      "Epoch 15/50\n",
      "1167/1167 [==============================] - 2s 2ms/step - loss: 1.6725 - recall: 0.1562\n",
      "Epoch 16/50\n",
      "1167/1167 [==============================] - 2s 2ms/step - loss: 1.6800 - recall: 0.1602\n",
      "Epoch 17/50\n",
      "1167/1167 [==============================] - 2s 2ms/step - loss: 1.9387 - recall: 0.1562\n",
      "Epoch 18/50\n",
      "1167/1167 [==============================] - 2s 2ms/step - loss: 1.7374 - recall: 0.1609\n",
      "Epoch 19/50\n",
      "1167/1167 [==============================] - 2s 2ms/step - loss: 1.4381 - recall: 0.1629\n",
      "Epoch 20/50\n",
      "1167/1167 [==============================] - 2s 2ms/step - loss: 1.3994 - recall: 0.1528\n",
      "Epoch 21/50\n",
      "1167/1167 [==============================] - 2s 2ms/step - loss: 1.4507 - recall: 0.1596\n",
      "Epoch 22/50\n",
      "1167/1167 [==============================] - 2s 2ms/step - loss: 1.4262 - recall: 0.1494\n",
      "Epoch 23/50\n",
      "1167/1167 [==============================] - 2s 2ms/step - loss: 1.6521 - recall: 0.1548\n",
      "Epoch 24/50\n",
      "1167/1167 [==============================] - 2s 2ms/step - loss: 1.4376 - recall: 0.1325\n",
      "Epoch 25/50\n",
      "1167/1167 [==============================] - 2s 2ms/step - loss: 1.4430 - recall: 0.1494\n",
      "Epoch 26/50\n",
      "1167/1167 [==============================] - 2s 2ms/step - loss: 1.3690 - recall: 0.1515\n",
      "Epoch 27/50\n",
      "1167/1167 [==============================] - 2s 2ms/step - loss: 1.4033 - recall: 0.1501\n",
      "Epoch 28/50\n",
      "1167/1167 [==============================] - 2s 2ms/step - loss: 1.2505 - recall: 0.1217\n",
      "Epoch 29/50\n",
      "1167/1167 [==============================] - 2s 2ms/step - loss: 1.3317 - recall: 0.1386\n",
      "Epoch 30/50\n",
      "1167/1167 [==============================] - 2s 2ms/step - loss: 1.3318 - recall: 0.1447\n",
      "Epoch 31/50\n",
      "1167/1167 [==============================] - 2s 2ms/step - loss: 1.3281 - recall: 0.1325\n",
      "Epoch 32/50\n",
      "1167/1167 [==============================] - 2s 2ms/step - loss: 1.2299 - recall: 0.1467\n",
      "Epoch 33/50\n",
      "1167/1167 [==============================] - 2s 2ms/step - loss: 1.2633 - recall: 0.1420\n",
      "Epoch 34/50\n",
      "1167/1167 [==============================] - 2s 2ms/step - loss: 1.1063 - recall: 0.1210\n",
      "Epoch 35/50\n",
      "1167/1167 [==============================] - 2s 2ms/step - loss: 1.1764 - recall: 0.1197\n",
      "Epoch 36/50\n",
      "1167/1167 [==============================] - 2s 2ms/step - loss: 1.0449 - recall: 0.1339\n",
      "Epoch 37/50\n",
      "1167/1167 [==============================] - 2s 2ms/step - loss: 0.9587 - recall: 0.1116\n",
      "Epoch 38/50\n",
      "1167/1167 [==============================] - 2s 2ms/step - loss: 1.2049 - recall: 0.1379\n",
      "Epoch 39/50\n",
      "1167/1167 [==============================] - 2s 2ms/step - loss: 1.1711 - recall: 0.1258\n",
      "Epoch 40/50\n",
      "1167/1167 [==============================] - 2s 2ms/step - loss: 1.0029 - recall: 0.1082\n",
      "Epoch 41/50\n",
      "1167/1167 [==============================] - 2s 2ms/step - loss: 0.9018 - recall: 0.1291\n",
      "Epoch 42/50\n",
      "1167/1167 [==============================] - 2s 2ms/step - loss: 0.9101 - recall: 0.1305\n",
      "Epoch 43/50\n",
      "1167/1167 [==============================] - 2s 2ms/step - loss: 1.0479 - recall: 0.1271\n",
      "Epoch 44/50\n",
      "1167/1167 [==============================] - 2s 2ms/step - loss: 0.9824 - recall: 0.1312\n",
      "Epoch 45/50\n",
      "1167/1167 [==============================] - 2s 2ms/step - loss: 0.8625 - recall: 0.1210\n",
      "Epoch 46/50\n",
      "1167/1167 [==============================] - 2s 2ms/step - loss: 0.8740 - recall: 0.1062\n",
      "Epoch 47/50\n",
      "1167/1167 [==============================] - 2s 2ms/step - loss: 0.9271 - recall: 0.1034\n",
      "Epoch 48/50\n",
      "1167/1167 [==============================] - 2s 2ms/step - loss: 0.8230 - recall: 0.0953\n",
      "Epoch 49/50\n",
      "1167/1167 [==============================] - 2s 2ms/step - loss: 0.8003 - recall: 0.1041\n",
      "Epoch 50/50\n",
      "1167/1167 [==============================] - 2s 2ms/step - loss: 0.7297 - recall: 0.1041\n",
      "73/73 [==============================] - 0s 1ms/step - loss: 0.6913 - recall: 0.0000e+00\n",
      "Loss del modelo:{loss}\n",
      "Recall del modelo:{recall}\n"
     ]
    }
   ],
   "source": [
    "import tensorflow.keras as keras\n",
    "import tensorflow as tf\n",
    "from tensorflow.keras import Sequential\n",
    "from tensorflow.keras.layers import Dense\n",
    "from tensorflow.keras.metrics import Recall\n",
    "\n",
    "model = keras.Sequential([\n",
    "      Dense(32, activation='relu', input_shape=(37,)),\n",
    "      Dense(1, activation='sigmoid')\n",
    "])\n",
    "\n",
    "model.compile(optimizer='adam', loss='binary_crossentropy', metrics=[Recall()])\n",
    "    \n",
    "model.fit(x_train_r, y_train_r, epochs=50, batch_size=8, verbose=1)\n",
    "    \n",
    "loss, recall = model.evaluate(x_test_r, y_test_r)\n",
    "print('Loss del modelo:{loss}')\n",
    "print('Recall del modelo:{recall}')"
   ]
  },
  {
   "cell_type": "code",
   "execution_count": 81,
   "metadata": {},
   "outputs": [
    {
     "name": "stdout",
     "output_type": "stream",
     "text": [
      "Epoch 1/50\n",
      "1167/1167 [==============================] - 2s 2ms/step - loss: 0.4471 - recall_1: 0.0020\n",
      "Epoch 2/50\n",
      "1167/1167 [==============================] - 2s 2ms/step - loss: 0.4299 - recall_1: 6.7613e-04\n",
      "Epoch 3/50\n",
      "1167/1167 [==============================] - 2s 2ms/step - loss: 0.4259 - recall_1: 0.0014\n",
      "Epoch 4/50\n",
      "1167/1167 [==============================] - 2s 2ms/step - loss: 0.4233 - recall_1: 0.0034\n",
      "Epoch 5/50\n",
      "1167/1167 [==============================] - 2s 2ms/step - loss: 0.4209 - recall_1: 0.0041\n",
      "Epoch 6/50\n",
      "1167/1167 [==============================] - 2s 2ms/step - loss: 0.4192 - recall_1: 0.0074\n",
      "Epoch 7/50\n",
      "1167/1167 [==============================] - 2s 2ms/step - loss: 0.4188 - recall_1: 0.0101\n",
      "Epoch 8/50\n",
      "1167/1167 [==============================] - 2s 2ms/step - loss: 0.4164 - recall_1: 0.0101\n",
      "Epoch 9/50\n",
      "1167/1167 [==============================] - 2s 2ms/step - loss: 0.4146 - recall_1: 0.0074\n",
      "Epoch 10/50\n",
      "1167/1167 [==============================] - 2s 2ms/step - loss: 0.4150 - recall_1: 0.0095\n",
      "Epoch 11/50\n",
      "1167/1167 [==============================] - 2s 2ms/step - loss: 0.4133 - recall_1: 0.0101\n",
      "Epoch 12/50\n",
      "1167/1167 [==============================] - 2s 2ms/step - loss: 0.4121 - recall_1: 0.0122\n",
      "Epoch 13/50\n",
      "1167/1167 [==============================] - 2s 2ms/step - loss: 0.4120 - recall_1: 0.0135\n",
      "Epoch 14/50\n",
      "1167/1167 [==============================] - 2s 2ms/step - loss: 0.4118 - recall_1: 0.0135\n",
      "Epoch 15/50\n",
      "1167/1167 [==============================] - 2s 2ms/step - loss: 0.4107 - recall_1: 0.0101\n",
      "Epoch 16/50\n",
      "1167/1167 [==============================] - 2s 2ms/step - loss: 0.4107 - recall_1: 0.0128\n",
      "Epoch 17/50\n",
      "1167/1167 [==============================] - 2s 2ms/step - loss: 0.4094 - recall_1: 0.0115\n",
      "Epoch 18/50\n",
      "1167/1167 [==============================] - 2s 2ms/step - loss: 0.4093 - recall_1: 0.0176\n",
      "Epoch 19/50\n",
      "1167/1167 [==============================] - 2s 2ms/step - loss: 0.4080 - recall_1: 0.0176\n",
      "Epoch 20/50\n",
      "1167/1167 [==============================] - 2s 2ms/step - loss: 0.4084 - recall_1: 0.0162\n",
      "Epoch 21/50\n",
      "1167/1167 [==============================] - 2s 2ms/step - loss: 0.4077 - recall_1: 0.0183\n",
      "Epoch 22/50\n",
      "1167/1167 [==============================] - 2s 2ms/step - loss: 0.4085 - recall_1: 0.0230\n",
      "Epoch 23/50\n",
      "1167/1167 [==============================] - 2s 2ms/step - loss: 0.4065 - recall_1: 0.0189\n",
      "Epoch 24/50\n",
      "1167/1167 [==============================] - 2s 2ms/step - loss: 0.4069 - recall_1: 0.0203\n",
      "Epoch 25/50\n",
      "1167/1167 [==============================] - 2s 2ms/step - loss: 0.4060 - recall_1: 0.0176\n",
      "Epoch 26/50\n",
      "1167/1167 [==============================] - 2s 2ms/step - loss: 0.4061 - recall_1: 0.0203\n",
      "Epoch 27/50\n",
      "1167/1167 [==============================] - 2s 2ms/step - loss: 0.4052 - recall_1: 0.0183\n",
      "Epoch 28/50\n",
      "1167/1167 [==============================] - 2s 2ms/step - loss: 0.4050 - recall_1: 0.0223\n",
      "Epoch 29/50\n",
      "1167/1167 [==============================] - 2s 2ms/step - loss: 0.4049 - recall_1: 0.0237\n",
      "Epoch 30/50\n",
      "1167/1167 [==============================] - 2s 2ms/step - loss: 0.4052 - recall_1: 0.0210\n",
      "Epoch 31/50\n",
      "1167/1167 [==============================] - 2s 2ms/step - loss: 0.4044 - recall_1: 0.0223\n",
      "Epoch 32/50\n",
      "1167/1167 [==============================] - 2s 2ms/step - loss: 0.4036 - recall_1: 0.0257\n",
      "Epoch 33/50\n",
      "1167/1167 [==============================] - 2s 2ms/step - loss: 0.4040 - recall_1: 0.0264\n",
      "Epoch 34/50\n",
      "1167/1167 [==============================] - 2s 2ms/step - loss: 0.4032 - recall_1: 0.0270\n",
      "Epoch 35/50\n",
      "1167/1167 [==============================] - 2s 2ms/step - loss: 0.4020 - recall_1: 0.0291\n",
      "Epoch 36/50\n",
      "1167/1167 [==============================] - 2s 2ms/step - loss: 0.4024 - recall_1: 0.0304\n",
      "Epoch 37/50\n",
      "1167/1167 [==============================] - 2s 2ms/step - loss: 0.4031 - recall_1: 0.0318\n",
      "Epoch 38/50\n",
      "1167/1167 [==============================] - 2s 2ms/step - loss: 0.4020 - recall_1: 0.0284\n",
      "Epoch 39/50\n",
      "1167/1167 [==============================] - 2s 2ms/step - loss: 0.4018 - recall_1: 0.0264\n",
      "Epoch 40/50\n",
      "1167/1167 [==============================] - 2s 2ms/step - loss: 0.4020 - recall_1: 0.0284\n",
      "Epoch 41/50\n",
      "1167/1167 [==============================] - 2s 2ms/step - loss: 0.4026 - recall_1: 0.0277\n",
      "Epoch 42/50\n",
      "1167/1167 [==============================] - 2s 2ms/step - loss: 0.4015 - recall_1: 0.0325\n",
      "Epoch 43/50\n",
      "1167/1167 [==============================] - 2s 2ms/step - loss: 0.4009 - recall_1: 0.0325\n",
      "Epoch 44/50\n",
      "1167/1167 [==============================] - 2s 2ms/step - loss: 0.4014 - recall_1: 0.0284\n",
      "Epoch 45/50\n",
      "1167/1167 [==============================] - 2s 2ms/step - loss: 0.4013 - recall_1: 0.0264\n",
      "Epoch 46/50\n",
      "1167/1167 [==============================] - 2s 2ms/step - loss: 0.4011 - recall_1: 0.0345\n",
      "Epoch 47/50\n",
      "1167/1167 [==============================] - 2s 2ms/step - loss: 0.4006 - recall_1: 0.0304\n",
      "Epoch 48/50\n",
      "1167/1167 [==============================] - 2s 2ms/step - loss: 0.4005 - recall_1: 0.0358\n",
      "Epoch 49/50\n",
      "1167/1167 [==============================] - 2s 2ms/step - loss: 0.3994 - recall_1: 0.0426\n",
      "Epoch 50/50\n",
      "1167/1167 [==============================] - 2s 2ms/step - loss: 0.3996 - recall_1: 0.0318\n",
      "73/73 [==============================] - 0s 1ms/step - loss: 0.4424 - recall_1: 0.0108\n",
      "Loss del modelo:{loss_pca}\n",
      "Recall del modelo:{recall_pca}\n"
     ]
    }
   ],
   "source": [
    "model_pca = keras.Sequential([\n",
    "      Dense(32, activation='relu', input_shape=(23,)),\n",
    "      Dense(1, activation='sigmoid')\n",
    "])\n",
    "\n",
    "model_pca.compile(optimizer='adam', loss='binary_crossentropy', metrics=[Recall()])\n",
    "    \n",
    "model_pca.fit(x_train_pca, y_train_pca, epochs=50, batch_size=8, verbose=1)\n",
    "    \n",
    "loss_pca, recall_pca = model_pca.evaluate(x_test_pca, y_test_pca)\n",
    "print('Loss del modelo:{loss_pca}')\n",
    "print('Recall del modelo:{recall_pca}')"
   ]
  },
  {
   "cell_type": "markdown",
   "metadata": {},
   "source": [
    "### Weights and Biases"
   ]
  },
  {
   "cell_type": "code",
   "execution_count": 82,
   "metadata": {},
   "outputs": [],
   "source": [
    "import wandb"
   ]
  },
  {
   "cell_type": "code",
   "execution_count": 83,
   "metadata": {},
   "outputs": [
    {
     "name": "stderr",
     "output_type": "stream",
     "text": [
      "Failed to detect the name of this notebook, you can set it manually with the WANDB_NOTEBOOK_NAME environment variable to enable code saving.\n",
      "\u001b[34m\u001b[1mwandb\u001b[0m: Currently logged in as: \u001b[33mort_masterbigdata_2023\u001b[0m (use `wandb login --relogin` to force relogin)\n"
     ]
    },
    {
     "data": {
      "text/plain": [
       "True"
      ]
     },
     "execution_count": 83,
     "metadata": {},
     "output_type": "execute_result"
    }
   ],
   "source": [
    "wandb.login()"
   ]
  },
  {
   "cell_type": "code",
   "execution_count": 87,
   "metadata": {},
   "outputs": [],
   "source": [
    "project = 'trabajo_final_nps_itau'"
   ]
  },
  {
   "cell_type": "code",
   "execution_count": 94,
   "metadata": {},
   "outputs": [
    {
     "data": {
      "text/html": [
       "Finishing last run (ID:25ngupc0) before initializing another..."
      ],
      "text/plain": [
       "<IPython.core.display.HTML object>"
      ]
     },
     "metadata": {},
     "output_type": "display_data"
    },
    {
     "data": {
      "text/html": [
       "<br/>Waiting for W&B process to finish, PID 32874... <strong style=\"color:green\">(success).</strong>"
      ],
      "text/plain": [
       "<IPython.core.display.HTML object>"
      ]
     },
     "metadata": {},
     "output_type": "display_data"
    },
    {
     "data": {
      "application/vnd.jupyter.widget-view+json": {
       "model_id": "",
       "version_major": 2,
       "version_minor": 0
      },
      "text/plain": [
       "VBox(children=(Label(value=' 0.00MB of 0.00MB uploaded (0.00MB deduped)\\r'), FloatProgress(value=1.0, max=1.0)…"
      ]
     },
     "metadata": {},
     "output_type": "display_data"
    },
    {
     "data": {
      "text/html": [
       "<style>\n",
       "    table.wandb td:nth-child(1) { padding: 0 10px; text-align: right }\n",
       "    .wandb-row { display: flex; flex-direction: row; flex-wrap: wrap; width: 100% }\n",
       "    .wandb-col { display: flex; flex-direction: column; flex-basis: 100%; flex: 1; padding: 10px; }\n",
       "    </style>\n",
       "<div class=\"wandb-row\"><div class=\"wandb-col\">\n",
       "</div><div class=\"wandb-col\">\n",
       "</div></div>\n",
       "Synced 5 W&B file(s), 0 media file(s), 0 artifact file(s) and 0 other file(s)\n",
       "<br/>Synced <strong style=\"color:#cdcd00\">nagus-t-pol-34</strong>: <a href=\"https://wandb.ai/ort_masterbigdata_2023/trabajo_final_nps_itau/runs/25ngupc0\" target=\"_blank\">https://wandb.ai/ort_masterbigdata_2023/trabajo_final_nps_itau/runs/25ngupc0</a><br/>\n",
       "Find logs at: <code>./wandb/run-20250405_150317-25ngupc0/logs</code><br/>\n"
      ],
      "text/plain": [
       "<IPython.core.display.HTML object>"
      ]
     },
     "metadata": {},
     "output_type": "display_data"
    },
    {
     "data": {
      "text/html": [
       "Successfully finished last run (ID:25ngupc0). Initializing new run:<br/>"
      ],
      "text/plain": [
       "<IPython.core.display.HTML object>"
      ]
     },
     "metadata": {},
     "output_type": "display_data"
    },
    {
     "name": "stderr",
     "output_type": "stream",
     "text": [
      "\u001b[34m\u001b[1mwandb\u001b[0m: wandb version 0.19.9 is available!  To upgrade, please run:\n",
      "\u001b[34m\u001b[1mwandb\u001b[0m:  $ pip install wandb --upgrade\n"
     ]
    },
    {
     "data": {
      "text/html": [
       "\n",
       "                    Syncing run <strong><a href=\"https://wandb.ai/ort_masterbigdata_2023/trabajo_final_nps_itau/runs/19ne22qs\" target=\"_blank\">futile-janeway-35</a></strong> to <a href=\"https://wandb.ai/ort_masterbigdata_2023/trabajo_final_nps_itau\" target=\"_blank\">Weights & Biases</a> (<a href=\"https://docs.wandb.com/integrations/jupyter.html\" target=\"_blank\">docs</a>).<br/>\n",
       "\n",
       "                "
      ],
      "text/plain": [
       "<IPython.core.display.HTML object>"
      ]
     },
     "metadata": {},
     "output_type": "display_data"
    },
    {
     "name": "stdout",
     "output_type": "stream",
     "text": [
      "Accuracy del modelo: 0.849\n",
      "Recall del modelo: 0.846\n",
      "              precision    recall  f1-score   support\n",
      "\n",
      "       False       0.85      0.85      0.85      1952\n",
      "        True       0.85      0.85      0.85      1973\n",
      "\n",
      "    accuracy                           0.85      3925\n",
      "   macro avg       0.85      0.85      0.85      3925\n",
      "weighted avg       0.85      0.85      0.85      3925\n",
      "\n"
     ]
    },
    {
     "data": {
      "text/html": [
       "<br/>Waiting for W&B process to finish, PID 32979... <strong style=\"color:green\">(success).</strong>"
      ],
      "text/plain": [
       "<IPython.core.display.HTML object>"
      ]
     },
     "metadata": {},
     "output_type": "display_data"
    },
    {
     "data": {
      "application/vnd.jupyter.widget-view+json": {
       "model_id": "",
       "version_major": 2,
       "version_minor": 0
      },
      "text/plain": [
       "VBox(children=(Label(value=' 0.00MB of 0.00MB uploaded (0.00MB deduped)\\r'), FloatProgress(value=1.0, max=1.0)…"
      ]
     },
     "metadata": {},
     "output_type": "display_data"
    },
    {
     "data": {
      "text/html": [
       "<style>\n",
       "    table.wandb td:nth-child(1) { padding: 0 10px; text-align: right }\n",
       "    .wandb-row { display: flex; flex-direction: row; flex-wrap: wrap; width: 100% }\n",
       "    .wandb-col { display: flex; flex-direction: column; flex-basis: 100%; flex: 1; padding: 10px; }\n",
       "    </style>\n",
       "<div class=\"wandb-row\"><div class=\"wandb-col\">\n",
       "<h3>Run history:</h3><br/><table class=\"wandb\"><tr><td>accuracy</td><td>▁</td></tr><tr><td>recall</td><td>▁</td></tr></table><br/></div><div class=\"wandb-col\">\n",
       "<h3>Run summary:</h3><br/><table class=\"wandb\"><tr><td>accuracy</td><td>0.84917</td></tr><tr><td>recall</td><td>0.84592</td></tr></table>\n",
       "</div></div>\n",
       "Synced 5 W&B file(s), 0 media file(s), 0 artifact file(s) and 0 other file(s)\n",
       "<br/>Synced <strong style=\"color:#cdcd00\">futile-janeway-35</strong>: <a href=\"https://wandb.ai/ort_masterbigdata_2023/trabajo_final_nps_itau/runs/19ne22qs\" target=\"_blank\">https://wandb.ai/ort_masterbigdata_2023/trabajo_final_nps_itau/runs/19ne22qs</a><br/>\n",
       "Find logs at: <code>./wandb/run-20250405_150358-19ne22qs/logs</code><br/>\n"
      ],
      "text/plain": [
       "<IPython.core.display.HTML object>"
      ]
     },
     "metadata": {},
     "output_type": "display_data"
    }
   ],
   "source": [
    "from sklearn.pipeline import Pipeline\n",
    "from sklearn.metrics import accuracy_score, classification_report\n",
    "wandb.init(project=project)\n",
    "\n",
    "#  configuracion\n",
    "wandb.config = {\"n_estimators\": 100, \"random_state\": 42}\n",
    "\n",
    "model = RandomForestClassifier(n_estimators=100, random_state=42)\n",
    "\n",
    "# Entrenar el modelo usando el pipeline\n",
    "model.fit(x_train_sm_pca, y_train_sm_pca)\n",
    "\n",
    "# Evaluamos el modelo\n",
    "y_pred_sm_pca = model.predict(x_test_sm_pca)\n",
    "\n",
    "accuracy = accuracy_score(y_test_sm_pca, y_pred_sm_pca)\n",
    "print('Accuracy del modelo: %.3f' % accuracy)\n",
    "\n",
    "recall = recall_score(y_test_sm_pca, y_pred_sm_pca)\n",
    "print('Recall del modelo: %.3f' % recall)\n",
    "\n",
    "# Mostrar el reporte de clasificación\n",
    "print(classification_report(y_test_sm_pca, y_pred_sm_pca))\n",
    "\n",
    "wandb.log({'accuracy': accuracy_score(y_test_sm_pca, y_pred_sm_pca)})\n",
    "\n",
    "wandb.log({'recall': recall_score(y_test_sm_pca, y_pred_sm_pca)})\n",
    "\n",
    "wandb.finish()"
   ]
  },
  {
   "cell_type": "code",
   "execution_count": 95,
   "metadata": {},
   "outputs": [],
   "source": [
    "def train():\n",
    "    config = wandb.config\n",
    "    # Entrenar modelo con los parámetros desde config\n",
    "    model_wandb = RandomForestClassifier(\n",
    "        n_estimators=config.n_estimators,\n",
    "        max_depth=config.max_depth,\n",
    "        min_samples_split=config.min_samples_split,\n",
    "        random_state=42\n",
    "    )\n",
    "    \n",
    "    model_wandb.fit(x_train_sm_pca, y_train_sm_pca)\n",
    "    preds = model_wandb.predict(x_test_sm_pca)\n",
    "    recall_pca = recall(y_test_sm_pca, preds)\n",
    "    \n",
    "    # Loguear métricas\n",
    "    wandb.log({\"recall\": recall_pca})"
   ]
  },
  {
   "cell_type": "code",
   "execution_count": 96,
   "metadata": {},
   "outputs": [],
   "source": [
    "sweep_config = {\n",
    "    'method': 'grid',  # o 'random', 'bayes'\n",
    "    'metric': {\n",
    "      'name': 'accuracy',\n",
    "      'goal': 'maximize'\n",
    "    },\n",
    "    'parameters': {\n",
    "        'n_estimators': {\n",
    "            'values': [50, 100, 200]\n",
    "        },\n",
    "        'max_depth': {\n",
    "            'values': [3, 5, 10]\n",
    "        },\n",
    "        'min_samples_split': {\n",
    "            'values': [2, 5, 10]\n",
    "        }\n",
    "    }\n",
    "}"
   ]
  },
  {
   "cell_type": "code",
   "execution_count": 99,
   "metadata": {},
   "outputs": [
    {
     "name": "stderr",
     "output_type": "stream",
     "text": [
      "Failed to detect the name of this notebook, you can set it manually with the WANDB_NOTEBOOK_NAME environment variable to enable code saving.\n",
      "\u001b[34m\u001b[1mwandb\u001b[0m: wandb version 0.19.9 is available!  To upgrade, please run:\n",
      "\u001b[34m\u001b[1mwandb\u001b[0m:  $ pip install wandb --upgrade\n"
     ]
    },
    {
     "data": {
      "text/html": [
       "\n",
       "                    Syncing run <strong><a href=\"https://wandb.ai/ort_masterbigdata_2023/trabajo_final_nps_itau/runs/qre4gw49\" target=\"_blank\">nemesis-unimatrix-40</a></strong> to <a href=\"https://wandb.ai/ort_masterbigdata_2023/trabajo_final_nps_itau\" target=\"_blank\">Weights & Biases</a> (<a href=\"https://docs.wandb.com/integrations/jupyter.html\" target=\"_blank\">docs</a>).<br/>\n",
       "\n",
       "                "
      ],
      "text/plain": [
       "<IPython.core.display.HTML object>"
      ]
     },
     "metadata": {},
     "output_type": "display_data"
    },
    {
     "data": {
      "text/html": [
       "<button onClick=\"this.nextSibling.style.display='block';this.style.display='none';\">Display W&B run</button><iframe src=\"https://wandb.ai/ort_masterbigdata_2023/trabajo_final_nps_itau/runs/qre4gw49?jupyter=true\" style=\"border:none;width:100%;height:420px;display:none;\"></iframe>"
      ],
      "text/plain": [
       "<wandb.sdk.wandb_run.Run at 0x7f91332ab7d0>"
      ]
     },
     "execution_count": 99,
     "metadata": {},
     "output_type": "execute_result"
    }
   ],
   "source": [
    "wandb.init()"
   ]
  },
  {
   "cell_type": "code",
   "execution_count": null,
   "metadata": {},
   "outputs": [
    {
     "name": "stderr",
     "output_type": "stream",
     "text": [
      "\u001b[34m\u001b[1mwandb\u001b[0m: \u001b[33mWARNING\u001b[0m Calling wandb.login() after wandb.init() has no effect.\n",
      "\u001b[34m\u001b[1mwandb\u001b[0m: \u001b[33mWARNING\u001b[0m Calling wandb.login() after wandb.init() has no effect.\n"
     ]
    },
    {
     "name": "stdout",
     "output_type": "stream",
     "text": [
      "Create sweep with ID: q69gq7l9\n",
      "Sweep URL: https://wandb.ai/ort_masterbigdata_2023/trabajo_final_nps_itau/sweeps/q69gq7l9\n"
     ]
    },
    {
     "name": "stderr",
     "output_type": "stream",
     "text": [
      "\u001b[34m\u001b[1mwandb\u001b[0m: Agent Starting Run: xvi6btxg with config:\n",
      "\u001b[34m\u001b[1mwandb\u001b[0m: \tmax_depth: 3\n",
      "\u001b[34m\u001b[1mwandb\u001b[0m: \tmin_samples_split: 2\n",
      "\u001b[34m\u001b[1mwandb\u001b[0m: \tn_estimators: 50\n"
     ]
    },
    {
     "data": {
      "text/html": [
       "<br/>Waiting for W&B process to finish, PID 33089... <strong style=\"color:red\">(failed 1).</strong> Press ctrl-c to abort syncing."
      ],
      "text/plain": [
       "<IPython.core.display.HTML object>"
      ]
     },
     "metadata": {},
     "output_type": "display_data"
    },
    {
     "data": {
      "application/vnd.jupyter.widget-view+json": {
       "model_id": "",
       "version_major": 2,
       "version_minor": 0
      },
      "text/plain": [
       "VBox(children=(Label(value=' 0.00MB of 0.00MB uploaded (0.00MB deduped)\\r'), FloatProgress(value=1.0, max=1.0)…"
      ]
     },
     "metadata": {},
     "output_type": "display_data"
    },
    {
     "data": {
      "text/html": [
       "<style>\n",
       "    table.wandb td:nth-child(1) { padding: 0 10px; text-align: right }\n",
       "    .wandb-row { display: flex; flex-direction: row; flex-wrap: wrap; width: 100% }\n",
       "    .wandb-col { display: flex; flex-direction: column; flex-basis: 100%; flex: 1; padding: 10px; }\n",
       "    </style>\n",
       "<div class=\"wandb-row\"><div class=\"wandb-col\">\n",
       "</div><div class=\"wandb-col\">\n",
       "</div></div>\n",
       "Synced 5 W&B file(s), 0 media file(s), 0 artifact file(s) and 0 other file(s)\n",
       "<br/>Synced <strong style=\"color:#cdcd00\">nemesis-unimatrix-40</strong>: <a href=\"https://wandb.ai/ort_masterbigdata_2023/trabajo_final_nps_itau/runs/qre4gw49\" target=\"_blank\">https://wandb.ai/ort_masterbigdata_2023/trabajo_final_nps_itau/runs/qre4gw49</a><br/>\n",
       "Find logs at: <code>./wandb/run-20250405_150931-qre4gw49/logs</code><br/>\n"
      ],
      "text/plain": [
       "<IPython.core.display.HTML object>"
      ]
     },
     "metadata": {},
     "output_type": "display_data"
    },
    {
     "name": "stderr",
     "output_type": "stream",
     "text": [
      "Exception in thread Thread-71:\n",
      "Traceback (most recent call last):\n",
      "  File \"/opt/conda/lib/python3.7/site-packages/wandb/agents/pyagent.py\", line 302, in _run_job\n",
      "    self._function()\n",
      "  File \"/tmp/ipykernel_32007/2343747833.py\", line 5, in train\n",
      "    n_estimators=config.n_estimators,\n",
      "  File \"/opt/conda/lib/python3.7/site-packages/wandb/sdk/wandb_config.py\", line 154, in __getattr__\n",
      "    return self.__getitem__(key)\n",
      "  File \"/opt/conda/lib/python3.7/site-packages/wandb/sdk/wandb_config.py\", line 122, in __getitem__\n",
      "    return self._items[key]\n",
      "KeyError: 'n_estimators'\n",
      "\n",
      "During handling of the above exception, another exception occurred:\n",
      "\n",
      "Traceback (most recent call last):\n",
      "  File \"/opt/conda/lib/python3.7/threading.py\", line 926, in _bootstrap_inner\n",
      "    self.run()\n",
      "  File \"/opt/conda/lib/python3.7/threading.py\", line 870, in run\n",
      "    self._target(*self._args, **self._kwargs)\n",
      "  File \"/opt/conda/lib/python3.7/site-packages/wandb/agents/pyagent.py\", line 307, in _run_job\n",
      "    wandb.finish(exit_code=1)\n",
      "  File \"/opt/conda/lib/python3.7/site-packages/wandb/sdk/wandb_run.py\", line 2852, in finish\n",
      "    wandb.run.finish(exit_code=exit_code, quiet=quiet)\n",
      "  File \"/opt/conda/lib/python3.7/site-packages/wandb/sdk/wandb_run.py\", line 1470, in finish\n",
      "    if self._wl and len(self._wl._global_run_stack) > 0:\n",
      "  File \"/opt/conda/lib/python3.7/site-packages/wandb/sdk/wandb_setup.py\", line 259, in __getattr__\n",
      "    return getattr(self._instance, name)\n",
      "AttributeError: 'NoneType' object has no attribute '_global_run_stack'\n",
      "\n",
      "\u001b[34m\u001b[1mwandb\u001b[0m: Agent Starting Run: 3cdsnz00 with config:\n",
      "\u001b[34m\u001b[1mwandb\u001b[0m: \tmax_depth: 3\n",
      "\u001b[34m\u001b[1mwandb\u001b[0m: \tmin_samples_split: 2\n",
      "\u001b[34m\u001b[1mwandb\u001b[0m: \tn_estimators: 100\n",
      "Exception in thread Thread-72:\n",
      "Traceback (most recent call last):\n",
      "  File \"/opt/conda/lib/python3.7/site-packages/wandb/agents/pyagent.py\", line 302, in _run_job\n",
      "    self._function()\n",
      "  File \"/tmp/ipykernel_32007/2343747833.py\", line 5, in train\n",
      "    n_estimators=config.n_estimators,\n",
      "  File \"/opt/conda/lib/python3.7/site-packages/wandb/sdk/wandb_config.py\", line 154, in __getattr__\n",
      "    return self.__getitem__(key)\n",
      "  File \"/opt/conda/lib/python3.7/site-packages/wandb/sdk/wandb_config.py\", line 122, in __getitem__\n",
      "    return self._items[key]\n",
      "KeyError: 'n_estimators'\n",
      "\n",
      "During handling of the above exception, another exception occurred:\n",
      "\n",
      "Traceback (most recent call last):\n",
      "  File \"/opt/conda/lib/python3.7/threading.py\", line 926, in _bootstrap_inner\n",
      "    self.run()\n",
      "  File \"/opt/conda/lib/python3.7/threading.py\", line 870, in run\n",
      "    self._target(*self._args, **self._kwargs)\n",
      "  File \"/opt/conda/lib/python3.7/site-packages/wandb/agents/pyagent.py\", line 307, in _run_job\n",
      "    wandb.finish(exit_code=1)\n",
      "  File \"/opt/conda/lib/python3.7/site-packages/wandb/sdk/wandb_run.py\", line 2852, in finish\n",
      "    wandb.run.finish(exit_code=exit_code, quiet=quiet)\n",
      "  File \"/opt/conda/lib/python3.7/site-packages/wandb/sdk/wandb_run.py\", line 1467, in finish\n",
      "    hook.call()\n",
      "  File \"/opt/conda/lib/python3.7/site-packages/wandb/sdk/wandb_init.py\", line 311, in _jupyter_teardown\n",
      "    ipython.display_pub.publish = ipython.display_pub._orig_publish\n",
      "AttributeError: 'ZMQDisplayPublisher' object has no attribute '_orig_publish'\n",
      "\n",
      "\u001b[34m\u001b[1mwandb\u001b[0m: Sweep Agent: Waiting for job.\n",
      "\u001b[34m\u001b[1mwandb\u001b[0m: Job received.\n",
      "\u001b[34m\u001b[1mwandb\u001b[0m: Agent Starting Run: iv3omzxu with config:\n",
      "\u001b[34m\u001b[1mwandb\u001b[0m: \tmax_depth: 3\n",
      "\u001b[34m\u001b[1mwandb\u001b[0m: \tmin_samples_split: 2\n",
      "\u001b[34m\u001b[1mwandb\u001b[0m: \tn_estimators: 200\n",
      "Exception in thread Thread-73:\n",
      "Traceback (most recent call last):\n",
      "  File \"/opt/conda/lib/python3.7/site-packages/wandb/agents/pyagent.py\", line 302, in _run_job\n",
      "    self._function()\n",
      "  File \"/tmp/ipykernel_32007/2343747833.py\", line 5, in train\n",
      "    n_estimators=config.n_estimators,\n",
      "  File \"/opt/conda/lib/python3.7/site-packages/wandb/sdk/wandb_config.py\", line 154, in __getattr__\n",
      "    return self.__getitem__(key)\n",
      "  File \"/opt/conda/lib/python3.7/site-packages/wandb/sdk/wandb_config.py\", line 122, in __getitem__\n",
      "    return self._items[key]\n",
      "KeyError: 'n_estimators'\n",
      "\n",
      "During handling of the above exception, another exception occurred:\n",
      "\n",
      "Traceback (most recent call last):\n",
      "  File \"/opt/conda/lib/python3.7/threading.py\", line 926, in _bootstrap_inner\n",
      "    self.run()\n",
      "  File \"/opt/conda/lib/python3.7/threading.py\", line 870, in run\n",
      "    self._target(*self._args, **self._kwargs)\n",
      "  File \"/opt/conda/lib/python3.7/site-packages/wandb/agents/pyagent.py\", line 307, in _run_job\n",
      "    wandb.finish(exit_code=1)\n",
      "  File \"/opt/conda/lib/python3.7/site-packages/wandb/sdk/wandb_run.py\", line 2852, in finish\n",
      "    wandb.run.finish(exit_code=exit_code, quiet=quiet)\n",
      "  File \"/opt/conda/lib/python3.7/site-packages/wandb/sdk/wandb_run.py\", line 1467, in finish\n",
      "    hook.call()\n",
      "  File \"/opt/conda/lib/python3.7/site-packages/wandb/sdk/wandb_init.py\", line 311, in _jupyter_teardown\n",
      "    ipython.display_pub.publish = ipython.display_pub._orig_publish\n",
      "AttributeError: 'ZMQDisplayPublisher' object has no attribute '_orig_publish'\n",
      "\n",
      "\u001b[34m\u001b[1mwandb\u001b[0m: Agent Starting Run: lci5tmw6 with config:\n",
      "\u001b[34m\u001b[1mwandb\u001b[0m: \tmax_depth: 3\n",
      "\u001b[34m\u001b[1mwandb\u001b[0m: \tmin_samples_split: 5\n",
      "\u001b[34m\u001b[1mwandb\u001b[0m: \tn_estimators: 50\n",
      "Exception in thread Thread-74:\n",
      "Traceback (most recent call last):\n",
      "  File \"/opt/conda/lib/python3.7/site-packages/wandb/agents/pyagent.py\", line 302, in _run_job\n",
      "    self._function()\n",
      "  File \"/tmp/ipykernel_32007/2343747833.py\", line 5, in train\n",
      "    n_estimators=config.n_estimators,\n",
      "  File \"/opt/conda/lib/python3.7/site-packages/wandb/sdk/wandb_config.py\", line 154, in __getattr__\n",
      "    return self.__getitem__(key)\n",
      "  File \"/opt/conda/lib/python3.7/site-packages/wandb/sdk/wandb_config.py\", line 122, in __getitem__\n",
      "    return self._items[key]\n",
      "KeyError: 'n_estimators'\n",
      "\n",
      "During handling of the above exception, another exception occurred:\n",
      "\n",
      "Traceback (most recent call last):\n",
      "  File \"/opt/conda/lib/python3.7/threading.py\", line 926, in _bootstrap_inner\n",
      "    self.run()\n",
      "  File \"/opt/conda/lib/python3.7/threading.py\", line 870, in run\n",
      "    self._target(*self._args, **self._kwargs)\n",
      "  File \"/opt/conda/lib/python3.7/site-packages/wandb/agents/pyagent.py\", line 307, in _run_job\n",
      "    wandb.finish(exit_code=1)\n",
      "  File \"/opt/conda/lib/python3.7/site-packages/wandb/sdk/wandb_run.py\", line 2852, in finish\n",
      "    wandb.run.finish(exit_code=exit_code, quiet=quiet)\n",
      "  File \"/opt/conda/lib/python3.7/site-packages/wandb/sdk/wandb_run.py\", line 1467, in finish\n",
      "    hook.call()\n",
      "  File \"/opt/conda/lib/python3.7/site-packages/wandb/sdk/wandb_init.py\", line 311, in _jupyter_teardown\n",
      "    ipython.display_pub.publish = ipython.display_pub._orig_publish\n",
      "AttributeError: 'ZMQDisplayPublisher' object has no attribute '_orig_publish'\n",
      "\n",
      "\u001b[34m\u001b[1mwandb\u001b[0m: Sweep Agent: Waiting for job.\n",
      "\u001b[34m\u001b[1mwandb\u001b[0m: Job received.\n",
      "\u001b[34m\u001b[1mwandb\u001b[0m: Agent Starting Run: 9yrpp79j with config:\n",
      "\u001b[34m\u001b[1mwandb\u001b[0m: \tmax_depth: 3\n",
      "\u001b[34m\u001b[1mwandb\u001b[0m: \tmin_samples_split: 5\n",
      "\u001b[34m\u001b[1mwandb\u001b[0m: \tn_estimators: 100\n",
      "Exception in thread Thread-75:\n",
      "Traceback (most recent call last):\n",
      "  File \"/opt/conda/lib/python3.7/site-packages/wandb/agents/pyagent.py\", line 302, in _run_job\n",
      "    self._function()\n",
      "  File \"/tmp/ipykernel_32007/2343747833.py\", line 5, in train\n",
      "    n_estimators=config.n_estimators,\n",
      "  File \"/opt/conda/lib/python3.7/site-packages/wandb/sdk/wandb_config.py\", line 154, in __getattr__\n",
      "    return self.__getitem__(key)\n",
      "  File \"/opt/conda/lib/python3.7/site-packages/wandb/sdk/wandb_config.py\", line 122, in __getitem__\n",
      "    return self._items[key]\n",
      "KeyError: 'n_estimators'\n",
      "\n",
      "During handling of the above exception, another exception occurred:\n",
      "\n",
      "Traceback (most recent call last):\n",
      "  File \"/opt/conda/lib/python3.7/threading.py\", line 926, in _bootstrap_inner\n",
      "    self.run()\n",
      "  File \"/opt/conda/lib/python3.7/threading.py\", line 870, in run\n",
      "    self._target(*self._args, **self._kwargs)\n",
      "  File \"/opt/conda/lib/python3.7/site-packages/wandb/agents/pyagent.py\", line 307, in _run_job\n",
      "    wandb.finish(exit_code=1)\n",
      "  File \"/opt/conda/lib/python3.7/site-packages/wandb/sdk/wandb_run.py\", line 2852, in finish\n",
      "    wandb.run.finish(exit_code=exit_code, quiet=quiet)\n",
      "  File \"/opt/conda/lib/python3.7/site-packages/wandb/sdk/wandb_run.py\", line 1467, in finish\n",
      "    hook.call()\n",
      "  File \"/opt/conda/lib/python3.7/site-packages/wandb/sdk/wandb_init.py\", line 311, in _jupyter_teardown\n",
      "    ipython.display_pub.publish = ipython.display_pub._orig_publish\n",
      "AttributeError: 'ZMQDisplayPublisher' object has no attribute '_orig_publish'\n",
      "\n",
      "\u001b[34m\u001b[1mwandb\u001b[0m: Agent Starting Run: 6zwp3huz with config:\n",
      "\u001b[34m\u001b[1mwandb\u001b[0m: \tmax_depth: 3\n",
      "\u001b[34m\u001b[1mwandb\u001b[0m: \tmin_samples_split: 5\n",
      "\u001b[34m\u001b[1mwandb\u001b[0m: \tn_estimators: 200\n",
      "Exception in thread Thread-76:\n",
      "Traceback (most recent call last):\n",
      "  File \"/opt/conda/lib/python3.7/site-packages/wandb/agents/pyagent.py\", line 302, in _run_job\n",
      "    self._function()\n",
      "  File \"/tmp/ipykernel_32007/2343747833.py\", line 5, in train\n",
      "    n_estimators=config.n_estimators,\n",
      "  File \"/opt/conda/lib/python3.7/site-packages/wandb/sdk/wandb_config.py\", line 154, in __getattr__\n",
      "    return self.__getitem__(key)\n",
      "  File \"/opt/conda/lib/python3.7/site-packages/wandb/sdk/wandb_config.py\", line 122, in __getitem__\n",
      "    return self._items[key]\n",
      "KeyError: 'n_estimators'\n",
      "\n",
      "During handling of the above exception, another exception occurred:\n",
      "\n",
      "Traceback (most recent call last):\n",
      "  File \"/opt/conda/lib/python3.7/threading.py\", line 926, in _bootstrap_inner\n",
      "    self.run()\n",
      "  File \"/opt/conda/lib/python3.7/threading.py\", line 870, in run\n",
      "    self._target(*self._args, **self._kwargs)\n",
      "  File \"/opt/conda/lib/python3.7/site-packages/wandb/agents/pyagent.py\", line 307, in _run_job\n",
      "    wandb.finish(exit_code=1)\n",
      "  File \"/opt/conda/lib/python3.7/site-packages/wandb/sdk/wandb_run.py\", line 2852, in finish\n",
      "    wandb.run.finish(exit_code=exit_code, quiet=quiet)\n",
      "  File \"/opt/conda/lib/python3.7/site-packages/wandb/sdk/wandb_run.py\", line 1467, in finish\n",
      "    hook.call()\n",
      "  File \"/opt/conda/lib/python3.7/site-packages/wandb/sdk/wandb_init.py\", line 311, in _jupyter_teardown\n",
      "    ipython.display_pub.publish = ipython.display_pub._orig_publish\n",
      "AttributeError: 'ZMQDisplayPublisher' object has no attribute '_orig_publish'\n",
      "\n",
      "\u001b[34m\u001b[1mwandb\u001b[0m: Sweep Agent: Waiting for job.\n",
      "\u001b[34m\u001b[1mwandb\u001b[0m: Job received.\n",
      "\u001b[34m\u001b[1mwandb\u001b[0m: Agent Starting Run: 4whcyjpq with config:\n",
      "\u001b[34m\u001b[1mwandb\u001b[0m: \tmax_depth: 3\n",
      "\u001b[34m\u001b[1mwandb\u001b[0m: \tmin_samples_split: 10\n",
      "\u001b[34m\u001b[1mwandb\u001b[0m: \tn_estimators: 50\n",
      "Exception in thread Thread-77:\n",
      "Traceback (most recent call last):\n",
      "  File \"/opt/conda/lib/python3.7/site-packages/wandb/agents/pyagent.py\", line 302, in _run_job\n",
      "    self._function()\n",
      "  File \"/tmp/ipykernel_32007/2343747833.py\", line 5, in train\n",
      "    n_estimators=config.n_estimators,\n",
      "  File \"/opt/conda/lib/python3.7/site-packages/wandb/sdk/wandb_config.py\", line 154, in __getattr__\n",
      "    return self.__getitem__(key)\n",
      "  File \"/opt/conda/lib/python3.7/site-packages/wandb/sdk/wandb_config.py\", line 122, in __getitem__\n",
      "    return self._items[key]\n",
      "KeyError: 'n_estimators'\n",
      "\n",
      "During handling of the above exception, another exception occurred:\n",
      "\n",
      "Traceback (most recent call last):\n",
      "  File \"/opt/conda/lib/python3.7/threading.py\", line 926, in _bootstrap_inner\n",
      "    self.run()\n",
      "  File \"/opt/conda/lib/python3.7/threading.py\", line 870, in run\n",
      "    self._target(*self._args, **self._kwargs)\n",
      "  File \"/opt/conda/lib/python3.7/site-packages/wandb/agents/pyagent.py\", line 307, in _run_job\n",
      "    wandb.finish(exit_code=1)\n",
      "  File \"/opt/conda/lib/python3.7/site-packages/wandb/sdk/wandb_run.py\", line 2852, in finish\n",
      "    wandb.run.finish(exit_code=exit_code, quiet=quiet)\n",
      "  File \"/opt/conda/lib/python3.7/site-packages/wandb/sdk/wandb_run.py\", line 1467, in finish\n",
      "    hook.call()\n",
      "  File \"/opt/conda/lib/python3.7/site-packages/wandb/sdk/wandb_init.py\", line 311, in _jupyter_teardown\n",
      "    ipython.display_pub.publish = ipython.display_pub._orig_publish\n",
      "AttributeError: 'ZMQDisplayPublisher' object has no attribute '_orig_publish'\n",
      "\n",
      "\u001b[34m\u001b[1mwandb\u001b[0m: Agent Starting Run: y8n1maj0 with config:\n",
      "\u001b[34m\u001b[1mwandb\u001b[0m: \tmax_depth: 3\n",
      "\u001b[34m\u001b[1mwandb\u001b[0m: \tmin_samples_split: 10\n",
      "\u001b[34m\u001b[1mwandb\u001b[0m: \tn_estimators: 100\n",
      "Exception in thread Thread-78:\n",
      "Traceback (most recent call last):\n",
      "  File \"/opt/conda/lib/python3.7/site-packages/wandb/agents/pyagent.py\", line 302, in _run_job\n",
      "    self._function()\n",
      "  File \"/tmp/ipykernel_32007/2343747833.py\", line 5, in train\n",
      "    n_estimators=config.n_estimators,\n",
      "  File \"/opt/conda/lib/python3.7/site-packages/wandb/sdk/wandb_config.py\", line 154, in __getattr__\n",
      "    return self.__getitem__(key)\n",
      "  File \"/opt/conda/lib/python3.7/site-packages/wandb/sdk/wandb_config.py\", line 122, in __getitem__\n",
      "    return self._items[key]\n",
      "KeyError: 'n_estimators'\n",
      "\n",
      "During handling of the above exception, another exception occurred:\n",
      "\n",
      "Traceback (most recent call last):\n",
      "  File \"/opt/conda/lib/python3.7/threading.py\", line 926, in _bootstrap_inner\n",
      "    self.run()\n",
      "  File \"/opt/conda/lib/python3.7/threading.py\", line 870, in run\n",
      "    self._target(*self._args, **self._kwargs)\n",
      "  File \"/opt/conda/lib/python3.7/site-packages/wandb/agents/pyagent.py\", line 307, in _run_job\n",
      "    wandb.finish(exit_code=1)\n",
      "  File \"/opt/conda/lib/python3.7/site-packages/wandb/sdk/wandb_run.py\", line 2852, in finish\n",
      "    wandb.run.finish(exit_code=exit_code, quiet=quiet)\n",
      "  File \"/opt/conda/lib/python3.7/site-packages/wandb/sdk/wandb_run.py\", line 1467, in finish\n",
      "    hook.call()\n",
      "  File \"/opt/conda/lib/python3.7/site-packages/wandb/sdk/wandb_init.py\", line 311, in _jupyter_teardown\n",
      "    ipython.display_pub.publish = ipython.display_pub._orig_publish\n",
      "AttributeError: 'ZMQDisplayPublisher' object has no attribute '_orig_publish'\n",
      "\n",
      "\u001b[34m\u001b[1mwandb\u001b[0m: Sweep Agent: Waiting for job.\n",
      "\u001b[34m\u001b[1mwandb\u001b[0m: Job received.\n",
      "\u001b[34m\u001b[1mwandb\u001b[0m: Agent Starting Run: jh53tug5 with config:\n",
      "\u001b[34m\u001b[1mwandb\u001b[0m: \tmax_depth: 3\n",
      "\u001b[34m\u001b[1mwandb\u001b[0m: \tmin_samples_split: 10\n",
      "\u001b[34m\u001b[1mwandb\u001b[0m: \tn_estimators: 200\n",
      "Exception in thread Thread-79:\n",
      "Traceback (most recent call last):\n",
      "  File \"/opt/conda/lib/python3.7/site-packages/wandb/agents/pyagent.py\", line 302, in _run_job\n",
      "    self._function()\n",
      "  File \"/tmp/ipykernel_32007/2343747833.py\", line 5, in train\n",
      "    n_estimators=config.n_estimators,\n",
      "  File \"/opt/conda/lib/python3.7/site-packages/wandb/sdk/wandb_config.py\", line 154, in __getattr__\n",
      "    return self.__getitem__(key)\n",
      "  File \"/opt/conda/lib/python3.7/site-packages/wandb/sdk/wandb_config.py\", line 122, in __getitem__\n",
      "    return self._items[key]\n",
      "KeyError: 'n_estimators'\n",
      "\n",
      "During handling of the above exception, another exception occurred:\n",
      "\n",
      "Traceback (most recent call last):\n",
      "  File \"/opt/conda/lib/python3.7/threading.py\", line 926, in _bootstrap_inner\n",
      "    self.run()\n",
      "  File \"/opt/conda/lib/python3.7/threading.py\", line 870, in run\n",
      "    self._target(*self._args, **self._kwargs)\n",
      "  File \"/opt/conda/lib/python3.7/site-packages/wandb/agents/pyagent.py\", line 307, in _run_job\n",
      "    wandb.finish(exit_code=1)\n",
      "  File \"/opt/conda/lib/python3.7/site-packages/wandb/sdk/wandb_run.py\", line 2852, in finish\n",
      "    wandb.run.finish(exit_code=exit_code, quiet=quiet)\n",
      "  File \"/opt/conda/lib/python3.7/site-packages/wandb/sdk/wandb_run.py\", line 1467, in finish\n",
      "    hook.call()\n",
      "  File \"/opt/conda/lib/python3.7/site-packages/wandb/sdk/wandb_init.py\", line 311, in _jupyter_teardown\n",
      "    ipython.display_pub.publish = ipython.display_pub._orig_publish\n",
      "AttributeError: 'ZMQDisplayPublisher' object has no attribute '_orig_publish'\n",
      "\n",
      "\u001b[34m\u001b[1mwandb\u001b[0m: Agent Starting Run: l574mii8 with config:\n",
      "\u001b[34m\u001b[1mwandb\u001b[0m: \tmax_depth: 5\n",
      "\u001b[34m\u001b[1mwandb\u001b[0m: \tmin_samples_split: 2\n",
      "\u001b[34m\u001b[1mwandb\u001b[0m: \tn_estimators: 50\n",
      "Exception in thread Thread-80:\n",
      "Traceback (most recent call last):\n",
      "  File \"/opt/conda/lib/python3.7/site-packages/wandb/agents/pyagent.py\", line 302, in _run_job\n",
      "    self._function()\n",
      "  File \"/tmp/ipykernel_32007/2343747833.py\", line 5, in train\n",
      "    n_estimators=config.n_estimators,\n",
      "  File \"/opt/conda/lib/python3.7/site-packages/wandb/sdk/wandb_config.py\", line 154, in __getattr__\n",
      "    return self.__getitem__(key)\n",
      "  File \"/opt/conda/lib/python3.7/site-packages/wandb/sdk/wandb_config.py\", line 122, in __getitem__\n",
      "    return self._items[key]\n",
      "KeyError: 'n_estimators'\n",
      "\n",
      "During handling of the above exception, another exception occurred:\n",
      "\n",
      "Traceback (most recent call last):\n",
      "  File \"/opt/conda/lib/python3.7/threading.py\", line 926, in _bootstrap_inner\n",
      "    self.run()\n",
      "  File \"/opt/conda/lib/python3.7/threading.py\", line 870, in run\n",
      "    self._target(*self._args, **self._kwargs)\n",
      "  File \"/opt/conda/lib/python3.7/site-packages/wandb/agents/pyagent.py\", line 307, in _run_job\n",
      "    wandb.finish(exit_code=1)\n",
      "  File \"/opt/conda/lib/python3.7/site-packages/wandb/sdk/wandb_run.py\", line 2852, in finish\n",
      "    wandb.run.finish(exit_code=exit_code, quiet=quiet)\n",
      "  File \"/opt/conda/lib/python3.7/site-packages/wandb/sdk/wandb_run.py\", line 1467, in finish\n",
      "    hook.call()\n",
      "  File \"/opt/conda/lib/python3.7/site-packages/wandb/sdk/wandb_init.py\", line 311, in _jupyter_teardown\n",
      "    ipython.display_pub.publish = ipython.display_pub._orig_publish\n",
      "AttributeError: 'ZMQDisplayPublisher' object has no attribute '_orig_publish'\n",
      "\n",
      "\u001b[34m\u001b[1mwandb\u001b[0m: Sweep Agent: Waiting for job.\n",
      "\u001b[34m\u001b[1mwandb\u001b[0m: Job received.\n",
      "\u001b[34m\u001b[1mwandb\u001b[0m: Agent Starting Run: a24hhzc6 with config:\n",
      "\u001b[34m\u001b[1mwandb\u001b[0m: \tmax_depth: 5\n",
      "\u001b[34m\u001b[1mwandb\u001b[0m: \tmin_samples_split: 2\n",
      "\u001b[34m\u001b[1mwandb\u001b[0m: \tn_estimators: 100\n",
      "Exception in thread Thread-81:\n",
      "Traceback (most recent call last):\n",
      "  File \"/opt/conda/lib/python3.7/site-packages/wandb/agents/pyagent.py\", line 302, in _run_job\n",
      "    self._function()\n",
      "  File \"/tmp/ipykernel_32007/2343747833.py\", line 5, in train\n",
      "    n_estimators=config.n_estimators,\n",
      "  File \"/opt/conda/lib/python3.7/site-packages/wandb/sdk/wandb_config.py\", line 154, in __getattr__\n",
      "    return self.__getitem__(key)\n",
      "  File \"/opt/conda/lib/python3.7/site-packages/wandb/sdk/wandb_config.py\", line 122, in __getitem__\n",
      "    return self._items[key]\n",
      "KeyError: 'n_estimators'\n",
      "\n",
      "During handling of the above exception, another exception occurred:\n",
      "\n",
      "Traceback (most recent call last):\n",
      "  File \"/opt/conda/lib/python3.7/threading.py\", line 926, in _bootstrap_inner\n",
      "    self.run()\n",
      "  File \"/opt/conda/lib/python3.7/threading.py\", line 870, in run\n",
      "    self._target(*self._args, **self._kwargs)\n",
      "  File \"/opt/conda/lib/python3.7/site-packages/wandb/agents/pyagent.py\", line 307, in _run_job\n",
      "    wandb.finish(exit_code=1)\n",
      "  File \"/opt/conda/lib/python3.7/site-packages/wandb/sdk/wandb_run.py\", line 2852, in finish\n",
      "    wandb.run.finish(exit_code=exit_code, quiet=quiet)\n",
      "  File \"/opt/conda/lib/python3.7/site-packages/wandb/sdk/wandb_run.py\", line 1467, in finish\n",
      "    hook.call()\n",
      "  File \"/opt/conda/lib/python3.7/site-packages/wandb/sdk/wandb_init.py\", line 311, in _jupyter_teardown\n",
      "    ipython.display_pub.publish = ipython.display_pub._orig_publish\n",
      "AttributeError: 'ZMQDisplayPublisher' object has no attribute '_orig_publish'\n",
      "\n",
      "\u001b[34m\u001b[1mwandb\u001b[0m: Agent Starting Run: 1sf9n6gh with config:\n",
      "\u001b[34m\u001b[1mwandb\u001b[0m: \tmax_depth: 5\n",
      "\u001b[34m\u001b[1mwandb\u001b[0m: \tmin_samples_split: 2\n",
      "\u001b[34m\u001b[1mwandb\u001b[0m: \tn_estimators: 200\n",
      "Exception in thread Thread-82:\n",
      "Traceback (most recent call last):\n",
      "  File \"/opt/conda/lib/python3.7/site-packages/wandb/agents/pyagent.py\", line 302, in _run_job\n",
      "    self._function()\n",
      "  File \"/tmp/ipykernel_32007/2343747833.py\", line 5, in train\n",
      "    n_estimators=config.n_estimators,\n",
      "  File \"/opt/conda/lib/python3.7/site-packages/wandb/sdk/wandb_config.py\", line 154, in __getattr__\n",
      "    return self.__getitem__(key)\n",
      "  File \"/opt/conda/lib/python3.7/site-packages/wandb/sdk/wandb_config.py\", line 122, in __getitem__\n",
      "    return self._items[key]\n",
      "KeyError: 'n_estimators'\n",
      "\n",
      "During handling of the above exception, another exception occurred:\n",
      "\n",
      "Traceback (most recent call last):\n",
      "  File \"/opt/conda/lib/python3.7/threading.py\", line 926, in _bootstrap_inner\n",
      "    self.run()\n",
      "  File \"/opt/conda/lib/python3.7/threading.py\", line 870, in run\n",
      "    self._target(*self._args, **self._kwargs)\n",
      "  File \"/opt/conda/lib/python3.7/site-packages/wandb/agents/pyagent.py\", line 307, in _run_job\n",
      "    wandb.finish(exit_code=1)\n",
      "  File \"/opt/conda/lib/python3.7/site-packages/wandb/sdk/wandb_run.py\", line 2852, in finish\n",
      "    wandb.run.finish(exit_code=exit_code, quiet=quiet)\n",
      "  File \"/opt/conda/lib/python3.7/site-packages/wandb/sdk/wandb_run.py\", line 1467, in finish\n",
      "    hook.call()\n",
      "  File \"/opt/conda/lib/python3.7/site-packages/wandb/sdk/wandb_init.py\", line 311, in _jupyter_teardown\n",
      "    ipython.display_pub.publish = ipython.display_pub._orig_publish\n",
      "AttributeError: 'ZMQDisplayPublisher' object has no attribute '_orig_publish'\n",
      "\n",
      "\u001b[34m\u001b[1mwandb\u001b[0m: Sweep Agent: Waiting for job.\n",
      "\u001b[34m\u001b[1mwandb\u001b[0m: Job received.\n",
      "\u001b[34m\u001b[1mwandb\u001b[0m: Agent Starting Run: m4ek2lyx with config:\n",
      "\u001b[34m\u001b[1mwandb\u001b[0m: \tmax_depth: 5\n",
      "\u001b[34m\u001b[1mwandb\u001b[0m: \tmin_samples_split: 5\n",
      "\u001b[34m\u001b[1mwandb\u001b[0m: \tn_estimators: 50\n",
      "Exception in thread Thread-83:\n",
      "Traceback (most recent call last):\n",
      "  File \"/opt/conda/lib/python3.7/site-packages/wandb/agents/pyagent.py\", line 302, in _run_job\n",
      "    self._function()\n",
      "  File \"/tmp/ipykernel_32007/2343747833.py\", line 5, in train\n",
      "    n_estimators=config.n_estimators,\n",
      "  File \"/opt/conda/lib/python3.7/site-packages/wandb/sdk/wandb_config.py\", line 154, in __getattr__\n",
      "    return self.__getitem__(key)\n",
      "  File \"/opt/conda/lib/python3.7/site-packages/wandb/sdk/wandb_config.py\", line 122, in __getitem__\n",
      "    return self._items[key]\n",
      "KeyError: 'n_estimators'\n",
      "\n",
      "During handling of the above exception, another exception occurred:\n",
      "\n",
      "Traceback (most recent call last):\n",
      "  File \"/opt/conda/lib/python3.7/threading.py\", line 926, in _bootstrap_inner\n",
      "    self.run()\n",
      "  File \"/opt/conda/lib/python3.7/threading.py\", line 870, in run\n",
      "    self._target(*self._args, **self._kwargs)\n",
      "  File \"/opt/conda/lib/python3.7/site-packages/wandb/agents/pyagent.py\", line 307, in _run_job\n",
      "    wandb.finish(exit_code=1)\n",
      "  File \"/opt/conda/lib/python3.7/site-packages/wandb/sdk/wandb_run.py\", line 2852, in finish\n",
      "    wandb.run.finish(exit_code=exit_code, quiet=quiet)\n",
      "  File \"/opt/conda/lib/python3.7/site-packages/wandb/sdk/wandb_run.py\", line 1467, in finish\n",
      "    hook.call()\n",
      "  File \"/opt/conda/lib/python3.7/site-packages/wandb/sdk/wandb_init.py\", line 311, in _jupyter_teardown\n",
      "    ipython.display_pub.publish = ipython.display_pub._orig_publish\n",
      "AttributeError: 'ZMQDisplayPublisher' object has no attribute '_orig_publish'\n",
      "\n",
      "\u001b[34m\u001b[1mwandb\u001b[0m: Agent Starting Run: lcpk3tbo with config:\n",
      "\u001b[34m\u001b[1mwandb\u001b[0m: \tmax_depth: 5\n",
      "\u001b[34m\u001b[1mwandb\u001b[0m: \tmin_samples_split: 5\n",
      "\u001b[34m\u001b[1mwandb\u001b[0m: \tn_estimators: 100\n",
      "Exception in thread Thread-84:\n",
      "Traceback (most recent call last):\n",
      "  File \"/opt/conda/lib/python3.7/site-packages/wandb/agents/pyagent.py\", line 302, in _run_job\n",
      "    self._function()\n",
      "  File \"/tmp/ipykernel_32007/2343747833.py\", line 5, in train\n",
      "    n_estimators=config.n_estimators,\n",
      "  File \"/opt/conda/lib/python3.7/site-packages/wandb/sdk/wandb_config.py\", line 154, in __getattr__\n",
      "    return self.__getitem__(key)\n",
      "  File \"/opt/conda/lib/python3.7/site-packages/wandb/sdk/wandb_config.py\", line 122, in __getitem__\n",
      "    return self._items[key]\n",
      "KeyError: 'n_estimators'\n",
      "\n",
      "During handling of the above exception, another exception occurred:\n",
      "\n",
      "Traceback (most recent call last):\n",
      "  File \"/opt/conda/lib/python3.7/threading.py\", line 926, in _bootstrap_inner\n",
      "    self.run()\n",
      "  File \"/opt/conda/lib/python3.7/threading.py\", line 870, in run\n",
      "    self._target(*self._args, **self._kwargs)\n",
      "  File \"/opt/conda/lib/python3.7/site-packages/wandb/agents/pyagent.py\", line 307, in _run_job\n",
      "    wandb.finish(exit_code=1)\n",
      "  File \"/opt/conda/lib/python3.7/site-packages/wandb/sdk/wandb_run.py\", line 2852, in finish\n",
      "    wandb.run.finish(exit_code=exit_code, quiet=quiet)\n",
      "  File \"/opt/conda/lib/python3.7/site-packages/wandb/sdk/wandb_run.py\", line 1467, in finish\n",
      "    hook.call()\n",
      "  File \"/opt/conda/lib/python3.7/site-packages/wandb/sdk/wandb_init.py\", line 311, in _jupyter_teardown\n",
      "    ipython.display_pub.publish = ipython.display_pub._orig_publish\n",
      "AttributeError: 'ZMQDisplayPublisher' object has no attribute '_orig_publish'\n",
      "\n",
      "\u001b[34m\u001b[1mwandb\u001b[0m: Sweep Agent: Waiting for job.\n",
      "\u001b[34m\u001b[1mwandb\u001b[0m: Job received.\n",
      "\u001b[34m\u001b[1mwandb\u001b[0m: Agent Starting Run: 9eiy7h37 with config:\n",
      "\u001b[34m\u001b[1mwandb\u001b[0m: \tmax_depth: 5\n",
      "\u001b[34m\u001b[1mwandb\u001b[0m: \tmin_samples_split: 5\n",
      "\u001b[34m\u001b[1mwandb\u001b[0m: \tn_estimators: 200\n",
      "Exception in thread Thread-85:\n",
      "Traceback (most recent call last):\n",
      "  File \"/opt/conda/lib/python3.7/site-packages/wandb/agents/pyagent.py\", line 302, in _run_job\n",
      "    self._function()\n",
      "  File \"/tmp/ipykernel_32007/2343747833.py\", line 5, in train\n",
      "    n_estimators=config.n_estimators,\n",
      "  File \"/opt/conda/lib/python3.7/site-packages/wandb/sdk/wandb_config.py\", line 154, in __getattr__\n",
      "    return self.__getitem__(key)\n",
      "  File \"/opt/conda/lib/python3.7/site-packages/wandb/sdk/wandb_config.py\", line 122, in __getitem__\n",
      "    return self._items[key]\n",
      "KeyError: 'n_estimators'\n",
      "\n",
      "During handling of the above exception, another exception occurred:\n",
      "\n",
      "Traceback (most recent call last):\n",
      "  File \"/opt/conda/lib/python3.7/threading.py\", line 926, in _bootstrap_inner\n",
      "    self.run()\n",
      "  File \"/opt/conda/lib/python3.7/threading.py\", line 870, in run\n",
      "    self._target(*self._args, **self._kwargs)\n",
      "  File \"/opt/conda/lib/python3.7/site-packages/wandb/agents/pyagent.py\", line 307, in _run_job\n",
      "    wandb.finish(exit_code=1)\n",
      "  File \"/opt/conda/lib/python3.7/site-packages/wandb/sdk/wandb_run.py\", line 2852, in finish\n",
      "    wandb.run.finish(exit_code=exit_code, quiet=quiet)\n",
      "  File \"/opt/conda/lib/python3.7/site-packages/wandb/sdk/wandb_run.py\", line 1467, in finish\n",
      "    hook.call()\n",
      "  File \"/opt/conda/lib/python3.7/site-packages/wandb/sdk/wandb_init.py\", line 311, in _jupyter_teardown\n",
      "    ipython.display_pub.publish = ipython.display_pub._orig_publish\n",
      "AttributeError: 'ZMQDisplayPublisher' object has no attribute '_orig_publish'\n",
      "\n",
      "\u001b[34m\u001b[1mwandb\u001b[0m: Agent Starting Run: kgfbs7si with config:\n",
      "\u001b[34m\u001b[1mwandb\u001b[0m: \tmax_depth: 5\n",
      "\u001b[34m\u001b[1mwandb\u001b[0m: \tmin_samples_split: 10\n",
      "\u001b[34m\u001b[1mwandb\u001b[0m: \tn_estimators: 50\n",
      "Exception in thread Thread-86:\n",
      "Traceback (most recent call last):\n",
      "  File \"/opt/conda/lib/python3.7/site-packages/wandb/agents/pyagent.py\", line 302, in _run_job\n",
      "    self._function()\n",
      "  File \"/tmp/ipykernel_32007/2343747833.py\", line 5, in train\n",
      "    n_estimators=config.n_estimators,\n",
      "  File \"/opt/conda/lib/python3.7/site-packages/wandb/sdk/wandb_config.py\", line 154, in __getattr__\n",
      "    return self.__getitem__(key)\n",
      "  File \"/opt/conda/lib/python3.7/site-packages/wandb/sdk/wandb_config.py\", line 122, in __getitem__\n",
      "    return self._items[key]\n",
      "KeyError: 'n_estimators'\n",
      "\n",
      "During handling of the above exception, another exception occurred:\n",
      "\n",
      "Traceback (most recent call last):\n",
      "  File \"/opt/conda/lib/python3.7/threading.py\", line 926, in _bootstrap_inner\n",
      "    self.run()\n",
      "  File \"/opt/conda/lib/python3.7/threading.py\", line 870, in run\n",
      "    self._target(*self._args, **self._kwargs)\n",
      "  File \"/opt/conda/lib/python3.7/site-packages/wandb/agents/pyagent.py\", line 307, in _run_job\n",
      "    wandb.finish(exit_code=1)\n",
      "  File \"/opt/conda/lib/python3.7/site-packages/wandb/sdk/wandb_run.py\", line 2852, in finish\n",
      "    wandb.run.finish(exit_code=exit_code, quiet=quiet)\n",
      "  File \"/opt/conda/lib/python3.7/site-packages/wandb/sdk/wandb_run.py\", line 1467, in finish\n",
      "    hook.call()\n",
      "  File \"/opt/conda/lib/python3.7/site-packages/wandb/sdk/wandb_init.py\", line 311, in _jupyter_teardown\n",
      "    ipython.display_pub.publish = ipython.display_pub._orig_publish\n",
      "AttributeError: 'ZMQDisplayPublisher' object has no attribute '_orig_publish'\n",
      "\n",
      "\u001b[34m\u001b[1mwandb\u001b[0m: Sweep Agent: Waiting for job.\n",
      "\u001b[34m\u001b[1mwandb\u001b[0m: Job received.\n",
      "\u001b[34m\u001b[1mwandb\u001b[0m: Agent Starting Run: 4ixyf41g with config:\n",
      "\u001b[34m\u001b[1mwandb\u001b[0m: \tmax_depth: 5\n",
      "\u001b[34m\u001b[1mwandb\u001b[0m: \tmin_samples_split: 10\n",
      "\u001b[34m\u001b[1mwandb\u001b[0m: \tn_estimators: 100\n",
      "Exception in thread Thread-87:\n",
      "Traceback (most recent call last):\n",
      "  File \"/opt/conda/lib/python3.7/site-packages/wandb/agents/pyagent.py\", line 302, in _run_job\n",
      "    self._function()\n",
      "  File \"/tmp/ipykernel_32007/2343747833.py\", line 5, in train\n",
      "    n_estimators=config.n_estimators,\n",
      "  File \"/opt/conda/lib/python3.7/site-packages/wandb/sdk/wandb_config.py\", line 154, in __getattr__\n",
      "    return self.__getitem__(key)\n",
      "  File \"/opt/conda/lib/python3.7/site-packages/wandb/sdk/wandb_config.py\", line 122, in __getitem__\n",
      "    return self._items[key]\n",
      "KeyError: 'n_estimators'\n",
      "\n",
      "During handling of the above exception, another exception occurred:\n",
      "\n",
      "Traceback (most recent call last):\n",
      "  File \"/opt/conda/lib/python3.7/threading.py\", line 926, in _bootstrap_inner\n",
      "    self.run()\n",
      "  File \"/opt/conda/lib/python3.7/threading.py\", line 870, in run\n",
      "    self._target(*self._args, **self._kwargs)\n",
      "  File \"/opt/conda/lib/python3.7/site-packages/wandb/agents/pyagent.py\", line 307, in _run_job\n",
      "    wandb.finish(exit_code=1)\n",
      "  File \"/opt/conda/lib/python3.7/site-packages/wandb/sdk/wandb_run.py\", line 2852, in finish\n",
      "    wandb.run.finish(exit_code=exit_code, quiet=quiet)\n",
      "  File \"/opt/conda/lib/python3.7/site-packages/wandb/sdk/wandb_run.py\", line 1467, in finish\n",
      "    hook.call()\n",
      "  File \"/opt/conda/lib/python3.7/site-packages/wandb/sdk/wandb_init.py\", line 311, in _jupyter_teardown\n",
      "    ipython.display_pub.publish = ipython.display_pub._orig_publish\n",
      "AttributeError: 'ZMQDisplayPublisher' object has no attribute '_orig_publish'\n",
      "\n",
      "\u001b[34m\u001b[1mwandb\u001b[0m: Agent Starting Run: s08ycc8q with config:\n",
      "\u001b[34m\u001b[1mwandb\u001b[0m: \tmax_depth: 5\n",
      "\u001b[34m\u001b[1mwandb\u001b[0m: \tmin_samples_split: 10\n",
      "\u001b[34m\u001b[1mwandb\u001b[0m: \tn_estimators: 200\n",
      "Exception in thread Thread-88:\n",
      "Traceback (most recent call last):\n",
      "  File \"/opt/conda/lib/python3.7/site-packages/wandb/agents/pyagent.py\", line 302, in _run_job\n",
      "    self._function()\n",
      "  File \"/tmp/ipykernel_32007/2343747833.py\", line 5, in train\n",
      "    n_estimators=config.n_estimators,\n",
      "  File \"/opt/conda/lib/python3.7/site-packages/wandb/sdk/wandb_config.py\", line 154, in __getattr__\n",
      "    return self.__getitem__(key)\n",
      "  File \"/opt/conda/lib/python3.7/site-packages/wandb/sdk/wandb_config.py\", line 122, in __getitem__\n",
      "    return self._items[key]\n",
      "KeyError: 'n_estimators'\n",
      "\n",
      "During handling of the above exception, another exception occurred:\n",
      "\n",
      "Traceback (most recent call last):\n",
      "  File \"/opt/conda/lib/python3.7/threading.py\", line 926, in _bootstrap_inner\n",
      "    self.run()\n",
      "  File \"/opt/conda/lib/python3.7/threading.py\", line 870, in run\n",
      "    self._target(*self._args, **self._kwargs)\n",
      "  File \"/opt/conda/lib/python3.7/site-packages/wandb/agents/pyagent.py\", line 307, in _run_job\n",
      "    wandb.finish(exit_code=1)\n",
      "  File \"/opt/conda/lib/python3.7/site-packages/wandb/sdk/wandb_run.py\", line 2852, in finish\n",
      "    wandb.run.finish(exit_code=exit_code, quiet=quiet)\n",
      "  File \"/opt/conda/lib/python3.7/site-packages/wandb/sdk/wandb_run.py\", line 1467, in finish\n",
      "    hook.call()\n",
      "  File \"/opt/conda/lib/python3.7/site-packages/wandb/sdk/wandb_init.py\", line 311, in _jupyter_teardown\n",
      "    ipython.display_pub.publish = ipython.display_pub._orig_publish\n",
      "AttributeError: 'ZMQDisplayPublisher' object has no attribute '_orig_publish'\n",
      "\n",
      "\u001b[34m\u001b[1mwandb\u001b[0m: Sweep Agent: Waiting for job.\n",
      "\u001b[34m\u001b[1mwandb\u001b[0m: Job received.\n",
      "\u001b[34m\u001b[1mwandb\u001b[0m: Agent Starting Run: 1wdvpsy3 with config:\n",
      "\u001b[34m\u001b[1mwandb\u001b[0m: \tmax_depth: 10\n",
      "\u001b[34m\u001b[1mwandb\u001b[0m: \tmin_samples_split: 2\n",
      "\u001b[34m\u001b[1mwandb\u001b[0m: \tn_estimators: 50\n",
      "Exception in thread Thread-89:\n",
      "Traceback (most recent call last):\n",
      "  File \"/opt/conda/lib/python3.7/site-packages/wandb/agents/pyagent.py\", line 302, in _run_job\n",
      "    self._function()\n",
      "  File \"/tmp/ipykernel_32007/2343747833.py\", line 5, in train\n",
      "    n_estimators=config.n_estimators,\n",
      "  File \"/opt/conda/lib/python3.7/site-packages/wandb/sdk/wandb_config.py\", line 154, in __getattr__\n",
      "    return self.__getitem__(key)\n",
      "  File \"/opt/conda/lib/python3.7/site-packages/wandb/sdk/wandb_config.py\", line 122, in __getitem__\n",
      "    return self._items[key]\n",
      "KeyError: 'n_estimators'\n",
      "\n",
      "During handling of the above exception, another exception occurred:\n",
      "\n",
      "Traceback (most recent call last):\n",
      "  File \"/opt/conda/lib/python3.7/threading.py\", line 926, in _bootstrap_inner\n",
      "    self.run()\n",
      "  File \"/opt/conda/lib/python3.7/threading.py\", line 870, in run\n",
      "    self._target(*self._args, **self._kwargs)\n",
      "  File \"/opt/conda/lib/python3.7/site-packages/wandb/agents/pyagent.py\", line 307, in _run_job\n",
      "    wandb.finish(exit_code=1)\n",
      "  File \"/opt/conda/lib/python3.7/site-packages/wandb/sdk/wandb_run.py\", line 2852, in finish\n",
      "    wandb.run.finish(exit_code=exit_code, quiet=quiet)\n",
      "  File \"/opt/conda/lib/python3.7/site-packages/wandb/sdk/wandb_run.py\", line 1467, in finish\n",
      "    hook.call()\n",
      "  File \"/opt/conda/lib/python3.7/site-packages/wandb/sdk/wandb_init.py\", line 311, in _jupyter_teardown\n",
      "    ipython.display_pub.publish = ipython.display_pub._orig_publish\n",
      "AttributeError: 'ZMQDisplayPublisher' object has no attribute '_orig_publish'\n",
      "\n",
      "\u001b[34m\u001b[1mwandb\u001b[0m: Agent Starting Run: 0c7205sm with config:\n",
      "\u001b[34m\u001b[1mwandb\u001b[0m: \tmax_depth: 10\n",
      "\u001b[34m\u001b[1mwandb\u001b[0m: \tmin_samples_split: 2\n",
      "\u001b[34m\u001b[1mwandb\u001b[0m: \tn_estimators: 100\n",
      "Exception in thread Thread-90:\n",
      "Traceback (most recent call last):\n",
      "  File \"/opt/conda/lib/python3.7/site-packages/wandb/agents/pyagent.py\", line 302, in _run_job\n",
      "    self._function()\n",
      "  File \"/tmp/ipykernel_32007/2343747833.py\", line 5, in train\n",
      "    n_estimators=config.n_estimators,\n",
      "  File \"/opt/conda/lib/python3.7/site-packages/wandb/sdk/wandb_config.py\", line 154, in __getattr__\n",
      "    return self.__getitem__(key)\n",
      "  File \"/opt/conda/lib/python3.7/site-packages/wandb/sdk/wandb_config.py\", line 122, in __getitem__\n",
      "    return self._items[key]\n",
      "KeyError: 'n_estimators'\n",
      "\n",
      "During handling of the above exception, another exception occurred:\n",
      "\n",
      "Traceback (most recent call last):\n",
      "  File \"/opt/conda/lib/python3.7/threading.py\", line 926, in _bootstrap_inner\n",
      "    self.run()\n",
      "  File \"/opt/conda/lib/python3.7/threading.py\", line 870, in run\n",
      "    self._target(*self._args, **self._kwargs)\n",
      "  File \"/opt/conda/lib/python3.7/site-packages/wandb/agents/pyagent.py\", line 307, in _run_job\n",
      "    wandb.finish(exit_code=1)\n",
      "  File \"/opt/conda/lib/python3.7/site-packages/wandb/sdk/wandb_run.py\", line 2852, in finish\n",
      "    wandb.run.finish(exit_code=exit_code, quiet=quiet)\n",
      "  File \"/opt/conda/lib/python3.7/site-packages/wandb/sdk/wandb_run.py\", line 1467, in finish\n",
      "    hook.call()\n",
      "  File \"/opt/conda/lib/python3.7/site-packages/wandb/sdk/wandb_init.py\", line 311, in _jupyter_teardown\n",
      "    ipython.display_pub.publish = ipython.display_pub._orig_publish\n",
      "AttributeError: 'ZMQDisplayPublisher' object has no attribute '_orig_publish'\n",
      "\n",
      "\u001b[34m\u001b[1mwandb\u001b[0m: Sweep Agent: Waiting for job.\n",
      "\u001b[34m\u001b[1mwandb\u001b[0m: Job received.\n",
      "\u001b[34m\u001b[1mwandb\u001b[0m: Agent Starting Run: ub307gpv with config:\n",
      "\u001b[34m\u001b[1mwandb\u001b[0m: \tmax_depth: 10\n",
      "\u001b[34m\u001b[1mwandb\u001b[0m: \tmin_samples_split: 2\n",
      "\u001b[34m\u001b[1mwandb\u001b[0m: \tn_estimators: 200\n",
      "Exception in thread Thread-91:\n",
      "Traceback (most recent call last):\n",
      "  File \"/opt/conda/lib/python3.7/site-packages/wandb/agents/pyagent.py\", line 302, in _run_job\n",
      "    self._function()\n",
      "  File \"/tmp/ipykernel_32007/2343747833.py\", line 5, in train\n",
      "    n_estimators=config.n_estimators,\n",
      "  File \"/opt/conda/lib/python3.7/site-packages/wandb/sdk/wandb_config.py\", line 154, in __getattr__\n",
      "    return self.__getitem__(key)\n",
      "  File \"/opt/conda/lib/python3.7/site-packages/wandb/sdk/wandb_config.py\", line 122, in __getitem__\n",
      "    return self._items[key]\n",
      "KeyError: 'n_estimators'\n",
      "\n",
      "During handling of the above exception, another exception occurred:\n",
      "\n",
      "Traceback (most recent call last):\n",
      "  File \"/opt/conda/lib/python3.7/threading.py\", line 926, in _bootstrap_inner\n",
      "    self.run()\n",
      "  File \"/opt/conda/lib/python3.7/threading.py\", line 870, in run\n",
      "    self._target(*self._args, **self._kwargs)\n",
      "  File \"/opt/conda/lib/python3.7/site-packages/wandb/agents/pyagent.py\", line 307, in _run_job\n",
      "    wandb.finish(exit_code=1)\n",
      "  File \"/opt/conda/lib/python3.7/site-packages/wandb/sdk/wandb_run.py\", line 2852, in finish\n",
      "    wandb.run.finish(exit_code=exit_code, quiet=quiet)\n",
      "  File \"/opt/conda/lib/python3.7/site-packages/wandb/sdk/wandb_run.py\", line 1467, in finish\n",
      "    hook.call()\n",
      "  File \"/opt/conda/lib/python3.7/site-packages/wandb/sdk/wandb_init.py\", line 311, in _jupyter_teardown\n",
      "    ipython.display_pub.publish = ipython.display_pub._orig_publish\n",
      "AttributeError: 'ZMQDisplayPublisher' object has no attribute '_orig_publish'\n",
      "\n",
      "\u001b[34m\u001b[1mwandb\u001b[0m: Agent Starting Run: ukr3ynoi with config:\n",
      "\u001b[34m\u001b[1mwandb\u001b[0m: \tmax_depth: 10\n",
      "\u001b[34m\u001b[1mwandb\u001b[0m: \tmin_samples_split: 5\n",
      "\u001b[34m\u001b[1mwandb\u001b[0m: \tn_estimators: 50\n",
      "Exception in thread Thread-92:\n",
      "Traceback (most recent call last):\n",
      "  File \"/opt/conda/lib/python3.7/site-packages/wandb/agents/pyagent.py\", line 302, in _run_job\n",
      "    self._function()\n",
      "  File \"/tmp/ipykernel_32007/2343747833.py\", line 5, in train\n",
      "    n_estimators=config.n_estimators,\n",
      "  File \"/opt/conda/lib/python3.7/site-packages/wandb/sdk/wandb_config.py\", line 154, in __getattr__\n",
      "    return self.__getitem__(key)\n",
      "  File \"/opt/conda/lib/python3.7/site-packages/wandb/sdk/wandb_config.py\", line 122, in __getitem__\n",
      "    return self._items[key]\n",
      "KeyError: 'n_estimators'\n",
      "\n",
      "During handling of the above exception, another exception occurred:\n",
      "\n",
      "Traceback (most recent call last):\n",
      "  File \"/opt/conda/lib/python3.7/threading.py\", line 926, in _bootstrap_inner\n",
      "    self.run()\n",
      "  File \"/opt/conda/lib/python3.7/threading.py\", line 870, in run\n",
      "    self._target(*self._args, **self._kwargs)\n",
      "  File \"/opt/conda/lib/python3.7/site-packages/wandb/agents/pyagent.py\", line 307, in _run_job\n",
      "    wandb.finish(exit_code=1)\n",
      "  File \"/opt/conda/lib/python3.7/site-packages/wandb/sdk/wandb_run.py\", line 2852, in finish\n",
      "    wandb.run.finish(exit_code=exit_code, quiet=quiet)\n",
      "  File \"/opt/conda/lib/python3.7/site-packages/wandb/sdk/wandb_run.py\", line 1467, in finish\n",
      "    hook.call()\n",
      "  File \"/opt/conda/lib/python3.7/site-packages/wandb/sdk/wandb_init.py\", line 311, in _jupyter_teardown\n",
      "    ipython.display_pub.publish = ipython.display_pub._orig_publish\n",
      "AttributeError: 'ZMQDisplayPublisher' object has no attribute '_orig_publish'\n",
      "\n",
      "\u001b[34m\u001b[1mwandb\u001b[0m: Sweep Agent: Waiting for job.\n",
      "\u001b[34m\u001b[1mwandb\u001b[0m: Job received.\n",
      "\u001b[34m\u001b[1mwandb\u001b[0m: Agent Starting Run: 0siky5av with config:\n",
      "\u001b[34m\u001b[1mwandb\u001b[0m: \tmax_depth: 10\n",
      "\u001b[34m\u001b[1mwandb\u001b[0m: \tmin_samples_split: 5\n",
      "\u001b[34m\u001b[1mwandb\u001b[0m: \tn_estimators: 100\n",
      "Exception in thread Thread-93:\n",
      "Traceback (most recent call last):\n",
      "  File \"/opt/conda/lib/python3.7/site-packages/wandb/agents/pyagent.py\", line 302, in _run_job\n",
      "    self._function()\n",
      "  File \"/tmp/ipykernel_32007/2343747833.py\", line 5, in train\n",
      "    n_estimators=config.n_estimators,\n",
      "  File \"/opt/conda/lib/python3.7/site-packages/wandb/sdk/wandb_config.py\", line 154, in __getattr__\n",
      "    return self.__getitem__(key)\n",
      "  File \"/opt/conda/lib/python3.7/site-packages/wandb/sdk/wandb_config.py\", line 122, in __getitem__\n",
      "    return self._items[key]\n",
      "KeyError: 'n_estimators'\n",
      "\n",
      "During handling of the above exception, another exception occurred:\n",
      "\n",
      "Traceback (most recent call last):\n",
      "  File \"/opt/conda/lib/python3.7/threading.py\", line 926, in _bootstrap_inner\n",
      "    self.run()\n",
      "  File \"/opt/conda/lib/python3.7/threading.py\", line 870, in run\n",
      "    self._target(*self._args, **self._kwargs)\n",
      "  File \"/opt/conda/lib/python3.7/site-packages/wandb/agents/pyagent.py\", line 307, in _run_job\n",
      "    wandb.finish(exit_code=1)\n",
      "  File \"/opt/conda/lib/python3.7/site-packages/wandb/sdk/wandb_run.py\", line 2852, in finish\n",
      "    wandb.run.finish(exit_code=exit_code, quiet=quiet)\n",
      "  File \"/opt/conda/lib/python3.7/site-packages/wandb/sdk/wandb_run.py\", line 1467, in finish\n",
      "    hook.call()\n",
      "  File \"/opt/conda/lib/python3.7/site-packages/wandb/sdk/wandb_init.py\", line 311, in _jupyter_teardown\n",
      "    ipython.display_pub.publish = ipython.display_pub._orig_publish\n",
      "AttributeError: 'ZMQDisplayPublisher' object has no attribute '_orig_publish'\n",
      "\n",
      "\u001b[34m\u001b[1mwandb\u001b[0m: Agent Starting Run: iqw4donp with config:\n",
      "\u001b[34m\u001b[1mwandb\u001b[0m: \tmax_depth: 10\n",
      "\u001b[34m\u001b[1mwandb\u001b[0m: \tmin_samples_split: 5\n",
      "\u001b[34m\u001b[1mwandb\u001b[0m: \tn_estimators: 200\n",
      "Exception in thread Thread-94:\n",
      "Traceback (most recent call last):\n",
      "  File \"/opt/conda/lib/python3.7/site-packages/wandb/agents/pyagent.py\", line 302, in _run_job\n",
      "    self._function()\n",
      "  File \"/tmp/ipykernel_32007/2343747833.py\", line 5, in train\n",
      "    n_estimators=config.n_estimators,\n",
      "  File \"/opt/conda/lib/python3.7/site-packages/wandb/sdk/wandb_config.py\", line 154, in __getattr__\n",
      "    return self.__getitem__(key)\n",
      "  File \"/opt/conda/lib/python3.7/site-packages/wandb/sdk/wandb_config.py\", line 122, in __getitem__\n",
      "    return self._items[key]\n",
      "KeyError: 'n_estimators'\n",
      "\n",
      "During handling of the above exception, another exception occurred:\n",
      "\n",
      "Traceback (most recent call last):\n",
      "  File \"/opt/conda/lib/python3.7/threading.py\", line 926, in _bootstrap_inner\n",
      "    self.run()\n",
      "  File \"/opt/conda/lib/python3.7/threading.py\", line 870, in run\n",
      "    self._target(*self._args, **self._kwargs)\n",
      "  File \"/opt/conda/lib/python3.7/site-packages/wandb/agents/pyagent.py\", line 307, in _run_job\n",
      "    wandb.finish(exit_code=1)\n",
      "  File \"/opt/conda/lib/python3.7/site-packages/wandb/sdk/wandb_run.py\", line 2852, in finish\n",
      "    wandb.run.finish(exit_code=exit_code, quiet=quiet)\n",
      "  File \"/opt/conda/lib/python3.7/site-packages/wandb/sdk/wandb_run.py\", line 1467, in finish\n",
      "    hook.call()\n",
      "  File \"/opt/conda/lib/python3.7/site-packages/wandb/sdk/wandb_init.py\", line 311, in _jupyter_teardown\n",
      "    ipython.display_pub.publish = ipython.display_pub._orig_publish\n",
      "AttributeError: 'ZMQDisplayPublisher' object has no attribute '_orig_publish'\n",
      "\n",
      "\u001b[34m\u001b[1mwandb\u001b[0m: Sweep Agent: Waiting for job.\n",
      "\u001b[34m\u001b[1mwandb\u001b[0m: Job received.\n",
      "\u001b[34m\u001b[1mwandb\u001b[0m: Agent Starting Run: h85epn46 with config:\n",
      "\u001b[34m\u001b[1mwandb\u001b[0m: \tmax_depth: 10\n",
      "\u001b[34m\u001b[1mwandb\u001b[0m: \tmin_samples_split: 10\n",
      "\u001b[34m\u001b[1mwandb\u001b[0m: \tn_estimators: 50\n",
      "Exception in thread Thread-95:\n",
      "Traceback (most recent call last):\n",
      "  File \"/opt/conda/lib/python3.7/site-packages/wandb/agents/pyagent.py\", line 302, in _run_job\n",
      "    self._function()\n",
      "  File \"/tmp/ipykernel_32007/2343747833.py\", line 5, in train\n",
      "    n_estimators=config.n_estimators,\n",
      "  File \"/opt/conda/lib/python3.7/site-packages/wandb/sdk/wandb_config.py\", line 154, in __getattr__\n",
      "    return self.__getitem__(key)\n",
      "  File \"/opt/conda/lib/python3.7/site-packages/wandb/sdk/wandb_config.py\", line 122, in __getitem__\n",
      "    return self._items[key]\n",
      "KeyError: 'n_estimators'\n",
      "\n",
      "During handling of the above exception, another exception occurred:\n",
      "\n",
      "Traceback (most recent call last):\n",
      "  File \"/opt/conda/lib/python3.7/threading.py\", line 926, in _bootstrap_inner\n",
      "    self.run()\n",
      "  File \"/opt/conda/lib/python3.7/threading.py\", line 870, in run\n",
      "    self._target(*self._args, **self._kwargs)\n",
      "  File \"/opt/conda/lib/python3.7/site-packages/wandb/agents/pyagent.py\", line 307, in _run_job\n",
      "    wandb.finish(exit_code=1)\n",
      "  File \"/opt/conda/lib/python3.7/site-packages/wandb/sdk/wandb_run.py\", line 2852, in finish\n",
      "    wandb.run.finish(exit_code=exit_code, quiet=quiet)\n",
      "  File \"/opt/conda/lib/python3.7/site-packages/wandb/sdk/wandb_run.py\", line 1467, in finish\n",
      "    hook.call()\n",
      "  File \"/opt/conda/lib/python3.7/site-packages/wandb/sdk/wandb_init.py\", line 311, in _jupyter_teardown\n",
      "    ipython.display_pub.publish = ipython.display_pub._orig_publish\n",
      "AttributeError: 'ZMQDisplayPublisher' object has no attribute '_orig_publish'\n",
      "\n",
      "\u001b[34m\u001b[1mwandb\u001b[0m: Agent Starting Run: 510yf0cc with config:\n",
      "\u001b[34m\u001b[1mwandb\u001b[0m: \tmax_depth: 10\n",
      "\u001b[34m\u001b[1mwandb\u001b[0m: \tmin_samples_split: 10\n",
      "\u001b[34m\u001b[1mwandb\u001b[0m: \tn_estimators: 100\n",
      "Exception in thread Thread-96:\n",
      "Traceback (most recent call last):\n",
      "  File \"/opt/conda/lib/python3.7/site-packages/wandb/agents/pyagent.py\", line 302, in _run_job\n",
      "    self._function()\n",
      "  File \"/tmp/ipykernel_32007/2343747833.py\", line 5, in train\n",
      "    n_estimators=config.n_estimators,\n",
      "  File \"/opt/conda/lib/python3.7/site-packages/wandb/sdk/wandb_config.py\", line 154, in __getattr__\n",
      "    return self.__getitem__(key)\n",
      "  File \"/opt/conda/lib/python3.7/site-packages/wandb/sdk/wandb_config.py\", line 122, in __getitem__\n",
      "    return self._items[key]\n",
      "KeyError: 'n_estimators'\n",
      "\n",
      "During handling of the above exception, another exception occurred:\n",
      "\n",
      "Traceback (most recent call last):\n",
      "  File \"/opt/conda/lib/python3.7/threading.py\", line 926, in _bootstrap_inner\n",
      "    self.run()\n",
      "  File \"/opt/conda/lib/python3.7/threading.py\", line 870, in run\n",
      "    self._target(*self._args, **self._kwargs)\n",
      "  File \"/opt/conda/lib/python3.7/site-packages/wandb/agents/pyagent.py\", line 307, in _run_job\n",
      "    wandb.finish(exit_code=1)\n",
      "  File \"/opt/conda/lib/python3.7/site-packages/wandb/sdk/wandb_run.py\", line 2852, in finish\n",
      "    wandb.run.finish(exit_code=exit_code, quiet=quiet)\n",
      "  File \"/opt/conda/lib/python3.7/site-packages/wandb/sdk/wandb_run.py\", line 1467, in finish\n",
      "    hook.call()\n",
      "  File \"/opt/conda/lib/python3.7/site-packages/wandb/sdk/wandb_init.py\", line 311, in _jupyter_teardown\n",
      "    ipython.display_pub.publish = ipython.display_pub._orig_publish\n",
      "AttributeError: 'ZMQDisplayPublisher' object has no attribute '_orig_publish'\n",
      "\n",
      "\u001b[34m\u001b[1mwandb\u001b[0m: Sweep Agent: Waiting for job.\n",
      "\u001b[34m\u001b[1mwandb\u001b[0m: Job received.\n",
      "\u001b[34m\u001b[1mwandb\u001b[0m: Agent Starting Run: 9j3kb2j0 with config:\n",
      "\u001b[34m\u001b[1mwandb\u001b[0m: \tmax_depth: 10\n",
      "\u001b[34m\u001b[1mwandb\u001b[0m: \tmin_samples_split: 10\n",
      "\u001b[34m\u001b[1mwandb\u001b[0m: \tn_estimators: 200\n",
      "Exception in thread Thread-97:\n",
      "Traceback (most recent call last):\n",
      "  File \"/opt/conda/lib/python3.7/site-packages/wandb/agents/pyagent.py\", line 302, in _run_job\n",
      "    self._function()\n",
      "  File \"/tmp/ipykernel_32007/2343747833.py\", line 5, in train\n",
      "    n_estimators=config.n_estimators,\n",
      "  File \"/opt/conda/lib/python3.7/site-packages/wandb/sdk/wandb_config.py\", line 154, in __getattr__\n",
      "    return self.__getitem__(key)\n",
      "  File \"/opt/conda/lib/python3.7/site-packages/wandb/sdk/wandb_config.py\", line 122, in __getitem__\n",
      "    return self._items[key]\n",
      "KeyError: 'n_estimators'\n",
      "\n",
      "During handling of the above exception, another exception occurred:\n",
      "\n",
      "Traceback (most recent call last):\n",
      "  File \"/opt/conda/lib/python3.7/threading.py\", line 926, in _bootstrap_inner\n",
      "    self.run()\n",
      "  File \"/opt/conda/lib/python3.7/threading.py\", line 870, in run\n",
      "    self._target(*self._args, **self._kwargs)\n",
      "  File \"/opt/conda/lib/python3.7/site-packages/wandb/agents/pyagent.py\", line 307, in _run_job\n",
      "    wandb.finish(exit_code=1)\n",
      "  File \"/opt/conda/lib/python3.7/site-packages/wandb/sdk/wandb_run.py\", line 2852, in finish\n",
      "    wandb.run.finish(exit_code=exit_code, quiet=quiet)\n",
      "  File \"/opt/conda/lib/python3.7/site-packages/wandb/sdk/wandb_run.py\", line 1467, in finish\n",
      "    hook.call()\n",
      "  File \"/opt/conda/lib/python3.7/site-packages/wandb/sdk/wandb_init.py\", line 311, in _jupyter_teardown\n",
      "    ipython.display_pub.publish = ipython.display_pub._orig_publish\n",
      "AttributeError: 'ZMQDisplayPublisher' object has no attribute '_orig_publish'\n",
      "\n",
      "\u001b[34m\u001b[1mwandb\u001b[0m: Sweep Agent: Waiting for job.\n"
     ]
    }
   ],
   "source": [
    "sweep_id = wandb.sweep(sweep_config, project=project)\n",
    "wandb.agent(sweep_id, function=train)"
   ]
  },
  {
   "cell_type": "code",
   "execution_count": null,
   "metadata": {},
   "outputs": [],
   "source": []
  }
 ],
 "metadata": {
  "kernelspec": {
   "display_name": "Python 3 (ipykernel)",
   "language": "python",
   "name": "python3"
  },
  "language_info": {
   "codemirror_mode": {
    "name": "ipython",
    "version": 3
   },
   "file_extension": ".py",
   "mimetype": "text/x-python",
   "name": "python",
   "nbconvert_exporter": "python",
   "pygments_lexer": "ipython3",
   "version": "3.7.12"
  }
 },
 "nbformat": 4,
 "nbformat_minor": 4
}
