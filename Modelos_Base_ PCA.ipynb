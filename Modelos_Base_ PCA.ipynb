{
 "cells": [
  {
   "cell_type": "markdown",
   "metadata": {},
   "source": [
    "<tr>\n",
    "\n",
    "    <td><img src=https://encrypted-tbn0.gstatic.com/images?q=tbn:ANd9GcTZcU0_2fgIIcOXf6T0U0AQq1Ld4wMw9s1at5scGVpT5VEmPPTq6-CRSGJhQkrSSrSfi7o&usqp=CAU alt=\"Drawing\" style=\"width: 70px;\"/></td>\n",
    "\n",
    "    <td><td style=\"font-size:3vw\"><font color='OrangeRed'><b>Trabajo Final Master en Big Data</b></font></td>\n",
    "\n",
    "</tr>"
   ]
  },
  {
   "cell_type": "markdown",
   "metadata": {},
   "source": [
    "<tr>\n",
    "\n",
    "    <td><img src=https://encrypted-tbn0.gstatic.com/images?q=tbn:ANd9GcTZcU0_2fgIIcOXf6T0U0AQq1Ld4wMw9s1at5scGVpT5VEmPPTq6-CRSGJhQkrSSrSfi7o&usqp=CAU alt=\"Drawing\" style=\"width: 70px;\"/></td>\n",
    "\n",
    "    <td><td style=\"font-size:3vw\"><font color='OrangeRed'><b>Trabajo Final Master en Big Data</b></font></td>\n",
    "\n",
    "</tr>"
   ]
  },
  {
   "cell_type": "markdown",
   "metadata": {},
   "source": [
    "# Trabajo Final - Máster en Big Data - Fernández, García y Payovich"
   ]
  },
  {
   "cell_type": "markdown",
   "metadata": {},
   "source": [
    "## Modelos con base PCA:"
   ]
  },
  {
   "cell_type": "markdown",
   "metadata": {},
   "source": [
    "### Importación de Librerías"
   ]
  },
  {
   "cell_type": "code",
   "execution_count": 1,
   "metadata": {},
   "outputs": [],
   "source": [
    "import pandas as pd\n",
    "import numpy as np\n",
    "import os\n",
    "import seaborn as sns\n",
    "import matplotlib.pyplot as plt\n",
    "from sklearn.model_selection import train_test_split # División del dataset\n",
    "import matplotlib.pyplot as plt # Plotear\n",
    "from sklearn.linear_model import LinearRegression # Modelo de ML\n",
    "from sklearn.preprocessing import OneHotEncoder, StandardScaler\n",
    "from sklearn.compose import make_column_transformer\n",
    "from sklearn import metrics\n",
    "from sklearn.metrics import precision_score, recall_score, f1_score, accuracy_score, confusion_matrix, classification_report # Métricas\n",
    "pd.options.display.max_columns= None\n",
    "import warnings"
   ]
  },
  {
   "cell_type": "code",
   "execution_count": 2,
   "metadata": {},
   "outputs": [],
   "source": [
    "warnings.filterwarnings('ignore')"
   ]
  },
  {
   "cell_type": "markdown",
   "metadata": {},
   "source": [
    "### Importación y Transformación de las Bases"
   ]
  },
  {
   "cell_type": "code",
   "execution_count": 3,
   "metadata": {},
   "outputs": [],
   "source": [
    "dfpca = pd.read_csv('base_final_PCA.csv', delimiter= ';')"
   ]
  },
  {
   "cell_type": "code",
   "execution_count": 4,
   "metadata": {},
   "outputs": [],
   "source": [
    "x_pca = dfpca.drop(['detractor'], axis=1)"
   ]
  },
  {
   "cell_type": "code",
   "execution_count": 5,
   "metadata": {},
   "outputs": [],
   "source": [
    "y_pca = dfpca['detractor']"
   ]
  },
  {
   "cell_type": "markdown",
   "metadata": {},
   "source": [
    "### Random Forest con Oversampling - PCA:"
   ]
  },
  {
   "cell_type": "code",
   "execution_count": 6,
   "metadata": {},
   "outputs": [],
   "source": [
    "x_train_smpca, x_test_smpca, y_train_smpca, y_test_smpca = train_test_split(x_pca, y_pca,\n",
    "                                   random_state=104, \n",
    "                                   test_size=0.20, \n",
    "                                   shuffle=True)"
   ]
  },
  {
   "cell_type": "code",
   "execution_count": 8,
   "metadata": {},
   "outputs": [],
   "source": [
    "#OverSampling:\n",
    "from imblearn.over_sampling import SMOTE\n",
    "sm = SMOTE(random_state = 42)\n",
    "x_train_smpca, y_train_smpca = sm.fit_resample(x_train_smpca, y_train_smpca)"
   ]
  },
  {
   "cell_type": "code",
   "execution_count": 9,
   "metadata": {},
   "outputs": [],
   "source": [
    "from sklearn.preprocessing import StandardScaler\n",
    "sc = StandardScaler()\n",
    "#Escalo Datos de Entrenamiento:\n",
    "x_train_smpca = sc.fit_transform(x_train_smpca)\n",
    "#Escalo Datos de Testeo:\n",
    "x_test_smpca = sc.fit_transform(x_test_smpca)"
   ]
  },
  {
   "cell_type": "code",
   "execution_count": 10,
   "metadata": {},
   "outputs": [],
   "source": [
    "from sklearn.ensemble import RandomForestClassifier\n",
    "rf_smpca = RandomForestClassifier(random_state = 50, n_estimators = 500)\n",
    "rf_smpca.fit(x_train_smpca, y_train_smpca)\n",
    "y_pred_smpca = rf_smpca.predict(x_test_smpca).round()"
   ]
  },
  {
   "cell_type": "code",
   "execution_count": 11,
   "metadata": {},
   "outputs": [
    {
     "name": "stdout",
     "output_type": "stream",
     "text": [
      "Accuracy del Random Forest con Oversampling y PCA: 0.763\n"
     ]
    }
   ],
   "source": [
    "accuracy_rf_smpca = accuracy_score(y_test_smpca, y_pred_smpca)\n",
    "print('Accuracy del Random Forest con Oversampling y PCA: %.3f' % accuracy_rf_smpca)"
   ]
  },
  {
   "cell_type": "code",
   "execution_count": 12,
   "metadata": {},
   "outputs": [
    {
     "name": "stdout",
     "output_type": "stream",
     "text": [
      "Precision del modelo Random Forest con Oversampling y PCA: 0.228\n"
     ]
    }
   ],
   "source": [
    "precision_rf_smpca = precision_score(y_test_smpca, y_pred_smpca)\n",
    "print('Precision del modelo Random Forest con Oversampling y PCA: %.3f' % precision_rf_smpca)"
   ]
  },
  {
   "cell_type": "code",
   "execution_count": 13,
   "metadata": {},
   "outputs": [
    {
     "name": "stdout",
     "output_type": "stream",
     "text": [
      "Recall del Modelo Random Forest con Oversampling y PCA: 0.177\n"
     ]
    }
   ],
   "source": [
    "recall_rf_smpca = recall_score(y_test_smpca, y_pred_smpca)\n",
    "print('Recall del Modelo Random Forest con Oversampling y PCA: %.3f' % recall_rf_smpca)"
   ]
  },
  {
   "cell_type": "markdown",
   "metadata": {},
   "source": [
    "### Random Forest con Undersampling"
   ]
  },
  {
   "cell_type": "code",
   "execution_count": 15,
   "metadata": {},
   "outputs": [],
   "source": [
    "x_train_uspca, x_test_uspca, y_train_uspca, y_test_uspca = train_test_split(x_pca, y_pca,\n",
    "                                   random_state=104, \n",
    "                                   test_size=0.20, \n",
    "                                   shuffle=True)"
   ]
  },
  {
   "cell_type": "code",
   "execution_count": 16,
   "metadata": {},
   "outputs": [],
   "source": [
    "#Undersampling\n",
    "from imblearn.under_sampling import RandomUnderSampler\n",
    "rus = RandomUnderSampler(random_state = 42)\n",
    "x_train_uspca, y_train_uspca = rus.fit_resample(x_train_uspca, y_train_uspca)"
   ]
  },
  {
   "cell_type": "code",
   "execution_count": 17,
   "metadata": {},
   "outputs": [],
   "source": [
    "from sklearn.preprocessing import StandardScaler\n",
    "sc = StandardScaler()\n",
    "#Escalo Datos de Entrenamiento:\n",
    "x_train_uspca = sc.fit_transform(x_train_uspca)\n",
    "#Escalo Datos de Testeo:\n",
    "x_test_uspca = sc.fit_transform(x_test_uspca)"
   ]
  },
  {
   "cell_type": "code",
   "execution_count": 18,
   "metadata": {},
   "outputs": [],
   "source": [
    "from sklearn.ensemble import RandomForestClassifier\n",
    "rf_uspca = RandomForestClassifier(random_state = 50, n_estimators = 500)\n",
    "rf_uspca.fit(x_train_uspca, y_train_uspca)\n",
    "y_pred_uspca = rf_uspca.predict(x_test_uspca).round()"
   ]
  },
  {
   "cell_type": "code",
   "execution_count": 19,
   "metadata": {},
   "outputs": [
    {
     "name": "stdout",
     "output_type": "stream",
     "text": [
      "Accuracy del Random Forest con Undersampling: 0.565\n"
     ]
    }
   ],
   "source": [
    "accuracy_rf_uspca = accuracy_score(y_test_uspca, y_pred_uspca)\n",
    "print('Accuracy del Random Forest con Undersampling: %.3f' % accuracy_rf_uspca)"
   ]
  },
  {
   "cell_type": "code",
   "execution_count": 20,
   "metadata": {},
   "outputs": [
    {
     "name": "stdout",
     "output_type": "stream",
     "text": [
      "Precision del modelo Random Forest con Undersampling 0.196\n"
     ]
    }
   ],
   "source": [
    "precision_uspca = precision_score(y_test_uspca, y_pred_uspca)\n",
    "print('Precision del modelo Random Forest con Undersampling %.3f' % precision_uspca)"
   ]
  },
  {
   "cell_type": "code",
   "execution_count": 21,
   "metadata": {},
   "outputs": [
    {
     "name": "stdout",
     "output_type": "stream",
     "text": [
      "Recall del Modelo Random Forest con Undersampling: 0.517\n"
     ]
    }
   ],
   "source": [
    "recall_uspca = recall_score(y_test_uspca, y_pred_uspca)\n",
    "print('Recall del Modelo Random Forest con Undersampling: %.3f' % recall_uspca)"
   ]
  },
  {
   "cell_type": "markdown",
   "metadata": {},
   "source": [
    "### Random Forest Balanceado"
   ]
  },
  {
   "cell_type": "code",
   "execution_count": 23,
   "metadata": {},
   "outputs": [],
   "source": [
    "x_train_rfb, x_test_rfb, y_train_rfb, y_test_rfb = train_test_split(x_pca, y_pca,\n",
    "                                   random_state=104, \n",
    "                                   test_size=0.20, \n",
    "                                   shuffle=True)"
   ]
  },
  {
   "cell_type": "code",
   "execution_count": 24,
   "metadata": {},
   "outputs": [],
   "source": [
    "sc = StandardScaler()\n",
    "#Escalo Datos de Entrenamiento:\n",
    "x_train_rfb = sc.fit_transform(x_train_rfb)\n",
    "#Escalo Datos de Testeo:\n",
    "x_test_rfb = sc.fit_transform(x_test_rfb)"
   ]
  },
  {
   "cell_type": "code",
   "execution_count": 25,
   "metadata": {},
   "outputs": [],
   "source": [
    "rfb = RandomForestClassifier(random_state = 50, n_estimators = 500, class_weight='balanced')\n",
    "rfb.fit(x_train_rfb, y_train_rfb)\n",
    "y_pred_rfb = rfb.predict(x_test_rfb).round()"
   ]
  },
  {
   "cell_type": "code",
   "execution_count": 26,
   "metadata": {},
   "outputs": [
    {
     "name": "stdout",
     "output_type": "stream",
     "text": [
      "Accuracy del Random Forest con Balanceo: 0.831\n"
     ]
    }
   ],
   "source": [
    "accuracy_rfb = accuracy_score(y_test_rfb, y_pred_rfb)\n",
    "print('Accuracy del Random Forest con Balanceo: %.3f' % accuracy_rfb)"
   ]
  },
  {
   "cell_type": "code",
   "execution_count": 27,
   "metadata": {},
   "outputs": [
    {
     "name": "stdout",
     "output_type": "stream",
     "text": [
      "Precision del modelo Random Forest con Balanceo 0.125\n"
     ]
    }
   ],
   "source": [
    "precision_rfb = precision_score(y_test_rfb, y_pred_rfb)\n",
    "print('Precision del modelo Random Forest con Balanceo %.3f' % precision_rfb)"
   ]
  },
  {
   "cell_type": "code",
   "execution_count": 28,
   "metadata": {},
   "outputs": [
    {
     "name": "stdout",
     "output_type": "stream",
     "text": [
      "Recall del Modelo Random Forest con Balanceo: 0.003\n"
     ]
    }
   ],
   "source": [
    "recall_rfb = recall_score(y_test_rfb, y_pred_rfb)\n",
    "print('Recall del Modelo Random Forest con Balanceo: %.3f' % recall_rfb)"
   ]
  },
  {
   "cell_type": "markdown",
   "metadata": {},
   "source": [
    "### Regresión Logística con Undersampling"
   ]
  },
  {
   "cell_type": "code",
   "execution_count": 29,
   "metadata": {},
   "outputs": [],
   "source": [
    "x_train_rlus, x_test_rlus, y_train_rlus, y_test_rlus = train_test_split(x_pca, y_pca,\n",
    "                                   random_state=104, \n",
    "                                   test_size=0.20, \n",
    "                                   shuffle=True)"
   ]
  },
  {
   "cell_type": "code",
   "execution_count": 30,
   "metadata": {},
   "outputs": [],
   "source": [
    "rus = RandomUnderSampler(random_state = 42)\n",
    "x_train_rlus, y_train_rlus = rus.fit_resample(x_train_rlus, y_train_rlus)"
   ]
  },
  {
   "cell_type": "code",
   "execution_count": 31,
   "metadata": {},
   "outputs": [],
   "source": [
    "sc = StandardScaler()\n",
    "x_train_rlus = sc.fit_transform(x_train_rlus)\n",
    "x_test_rlus = sc.fit_transform(x_test_rlus )"
   ]
  },
  {
   "cell_type": "code",
   "execution_count": 32,
   "metadata": {},
   "outputs": [],
   "source": [
    "from sklearn.linear_model import LogisticRegression\n",
    "rlus = LogisticRegression(max_iter=1000)\n",
    "rlus.fit(x_train_rlus, y_train_rlus)\n",
    "y_pred_rlus = rlus.predict(x_test_rlus)"
   ]
  },
  {
   "cell_type": "code",
   "execution_count": 33,
   "metadata": {},
   "outputs": [
    {
     "name": "stdout",
     "output_type": "stream",
     "text": [
      "Accuracy del Modelo de Regresión Logística con US: 0.503\n"
     ]
    }
   ],
   "source": [
    "accuracy_rlus = accuracy_score(y_test_rlus, y_pred_rlus)\n",
    "print('Accuracy del Modelo de Regresión Logística con US: %.3f' % accuracy_rlus)"
   ]
  },
  {
   "cell_type": "code",
   "execution_count": 34,
   "metadata": {},
   "outputs": [
    {
     "name": "stdout",
     "output_type": "stream",
     "text": [
      "Precision del Modelo de Regresión Logística con Undersampling 0.197\n"
     ]
    }
   ],
   "source": [
    "precision_rlus = precision_score(y_test_rlus, y_pred_rlus)\n",
    "print('Precision del Modelo de Regresión Logística con Undersampling %.3f' % precision_rlus)"
   ]
  },
  {
   "cell_type": "code",
   "execution_count": 35,
   "metadata": {},
   "outputs": [
    {
     "name": "stdout",
     "output_type": "stream",
     "text": [
      "Recall del Modelo de Regresión Logística con Undersampling: 0.643\n"
     ]
    }
   ],
   "source": [
    "recall_rlus = recall_score(y_test_rlus, y_pred_rlus)\n",
    "print('Recall del Modelo de Regresión Logística con Undersampling: %.3f' % recall_rlus)"
   ]
  }
 ],
 "metadata": {
  "kernelspec": {
   "display_name": "Python 3 (ipykernel)",
   "language": "python",
   "name": "python3"
  },
  "language_info": {
   "codemirror_mode": {
    "name": "ipython",
    "version": 3
   },
   "file_extension": ".py",
   "mimetype": "text/x-python",
   "name": "python",
   "nbconvert_exporter": "python",
   "pygments_lexer": "ipython3",
   "version": "3.7.12"
  }
 },
 "nbformat": 4,
 "nbformat_minor": 4
}
