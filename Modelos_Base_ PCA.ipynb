{
 "cells": [
  {
   "cell_type": "markdown",
   "metadata": {},
   "source": [
    "<tr>\n",
    "\n",
    "    <td><img src=https://encrypted-tbn0.gstatic.com/images?q=tbn:ANd9GcTZcU0_2fgIIcOXf6T0U0AQq1Ld4wMw9s1at5scGVpT5VEmPPTq6-CRSGJhQkrSSrSfi7o&usqp=CAU alt=\"Drawing\" style=\"width: 70px;\"/></td>\n",
    "\n",
    "    <td><td style=\"font-size:3vw\"><font color='OrangeRed'><b>Trabajo Final Master en Big Data</b></font></td>\n",
    "\n",
    "</tr>"
   ]
  },
  {
   "cell_type": "markdown",
   "metadata": {},
   "source": [
    "<tr>\n",
    "\n",
    "    <td><img src=https://encrypted-tbn0.gstatic.com/images?q=tbn:ANd9GcTZcU0_2fgIIcOXf6T0U0AQq1Ld4wMw9s1at5scGVpT5VEmPPTq6-CRSGJhQkrSSrSfi7o&usqp=CAU alt=\"Drawing\" style=\"width: 70px;\"/></td>\n",
    "\n",
    "    <td><td style=\"font-size:3vw\"><font color='OrangeRed'><b>Trabajo Final Master en Big Data</b></font></td>\n",
    "\n",
    "</tr>"
   ]
  },
  {
   "cell_type": "markdown",
   "metadata": {},
   "source": [
    "# Trabajo Final - Máster en Big Data - Fernández, García y Payovich"
   ]
  },
  {
   "cell_type": "markdown",
   "metadata": {},
   "source": [
    "## Modelos con base PCA:"
   ]
  },
  {
   "cell_type": "markdown",
   "metadata": {},
   "source": [
    "### Importación de Librerías"
   ]
  },
  {
   "cell_type": "code",
   "execution_count": 1,
   "metadata": {},
   "outputs": [],
   "source": [
    "import pandas as pd\n",
    "import numpy as np\n",
    "import os\n",
    "import seaborn as sns\n",
    "import matplotlib.pyplot as plt\n",
    "from sklearn.model_selection import train_test_split # División del dataset\n",
    "import matplotlib.pyplot as plt # Plotear\n",
    "from sklearn.linear_model import LinearRegression # Modelo de ML\n",
    "from sklearn.preprocessing import OneHotEncoder, StandardScaler\n",
    "from sklearn.compose import make_column_transformer\n",
    "from sklearn import metrics\n",
    "from sklearn.metrics import precision_score, recall_score, f1_score, accuracy_score, confusion_matrix, classification_report # Métricas\n",
    "pd.options.display.max_columns= None\n",
    "import warnings"
   ]
  },
  {
   "cell_type": "code",
   "execution_count": 2,
   "metadata": {},
   "outputs": [],
   "source": [
    "warnings.filterwarnings('ignore')"
   ]
  },
  {
   "cell_type": "markdown",
   "metadata": {},
   "source": [
    "### Importación y Transformación de las Bases"
   ]
  },
  {
   "cell_type": "code",
   "execution_count": 3,
   "metadata": {},
   "outputs": [],
   "source": [
    "dfpca = pd.read_csv('base_final_PCA.csv', delimiter= ';')"
   ]
  },
  {
   "cell_type": "code",
   "execution_count": 4,
   "metadata": {},
   "outputs": [],
   "source": [
    "x_pca = dfpca.drop(['detractor'], axis=1)"
   ]
  },
  {
   "cell_type": "code",
   "execution_count": 5,
   "metadata": {},
   "outputs": [],
   "source": [
    "y_pca = dfpca['detractor']"
   ]
  },
  {
   "cell_type": "markdown",
   "metadata": {},
   "source": [
    "### Sampleo y Escalado de Datos:"
   ]
  },
  {
   "cell_type": "code",
   "execution_count": 7,
   "metadata": {},
   "outputs": [],
   "source": [
    "#OverSampling:\n",
    "from imblearn.over_sampling import SMOTE\n",
    "sm = SMOTE(random_state = 42)\n",
    "x_sm_pca, y_sm_pca = sm.fit_resample(x_pca, y_pca)"
   ]
  },
  {
   "cell_type": "code",
   "execution_count": 8,
   "metadata": {},
   "outputs": [],
   "source": [
    "#Undersampling\n",
    "from imblearn.under_sampling import RandomUnderSampler\n",
    "rus = RandomUnderSampler(random_state = 42)\n",
    "x_us_pca, y_us_pca = rus.fit_resample(x_pca, y_pca)"
   ]
  },
  {
   "cell_type": "markdown",
   "metadata": {},
   "source": [
    "### Random Forest con Oversampling - PCA:"
   ]
  },
  {
   "cell_type": "code",
   "execution_count": 9,
   "metadata": {},
   "outputs": [],
   "source": [
    "x_train_sm_pca, x_test_sm_pca, y_train_sm_pca, y_test_sm_pca = train_test_split(x_sm_pca, y_sm_pca,\n",
    "                                   random_state=104, \n",
    "                                   test_size=0.20, \n",
    "                                   shuffle=True)"
   ]
  },
  {
   "cell_type": "code",
   "execution_count": 10,
   "metadata": {},
   "outputs": [],
   "source": [
    "from sklearn.preprocessing import StandardScaler\n",
    "sc = StandardScaler()\n",
    "#Escalo Datos de Entrenamiento:\n",
    "x_train_sm_pca = sc.fit_transform(x_train_sm_pca)\n",
    "#Escalo Datos de Testeo:\n",
    "x_test_sm_pca = sc.fit_transform(x_test_sm_pca)"
   ]
  },
  {
   "cell_type": "code",
   "execution_count": 11,
   "metadata": {},
   "outputs": [],
   "source": [
    "from sklearn.ensemble import RandomForestClassifier"
   ]
  },
  {
   "cell_type": "code",
   "execution_count": 12,
   "metadata": {},
   "outputs": [],
   "source": [
    "rf_sm_pca = RandomForestClassifier(random_state = 50, n_estimators = 500)\n",
    "rf_sm_pca.fit(x_train_sm_pca, y_train_sm_pca)\n",
    "y_pred_sm_pca = rf_sm_pca.predict(x_test_sm_pca).round()"
   ]
  },
  {
   "cell_type": "code",
   "execution_count": 13,
   "metadata": {},
   "outputs": [
    {
     "name": "stdout",
     "output_type": "stream",
     "text": [
      "Accuracy del Random Forest con Oversampling y PCA: 0.851\n"
     ]
    }
   ],
   "source": [
    "accuracy_rf_sm_pca = accuracy_score(y_test_sm_pca, y_pred_sm_pca)\n",
    "print('Accuracy del Random Forest con Oversampling y PCA: %.3f' % accuracy_rf_sm_pca)"
   ]
  },
  {
   "cell_type": "code",
   "execution_count": 14,
   "metadata": {},
   "outputs": [
    {
     "name": "stdout",
     "output_type": "stream",
     "text": [
      "Precision del modelo Random Forest con Oversampling y PCA: 0.850\n"
     ]
    }
   ],
   "source": [
    "precision_sm_pca = precision_score(y_test_sm_pca, y_pred_sm_pca)\n",
    "print('Precision del modelo Random Forest con Oversampling y PCA: %.3f' % precision_sm_pca)"
   ]
  },
  {
   "cell_type": "code",
   "execution_count": 15,
   "metadata": {},
   "outputs": [
    {
     "name": "stdout",
     "output_type": "stream",
     "text": [
      "Recall del Modelo Random Forest con Oversampling y PCA: 0.855\n"
     ]
    }
   ],
   "source": [
    "recall_sm_pca = recall_score(y_test_sm_pca, y_pred_sm_pca)\n",
    "print('Recall del Modelo Random Forest con Oversampling y PCA: %.3f' % recall_sm_pca)"
   ]
  },
  {
   "cell_type": "code",
   "execution_count": 16,
   "metadata": {},
   "outputs": [
    {
     "name": "stdout",
     "output_type": "stream",
     "text": [
      "Matriz de Confusión:\n",
      "[[1655  297]\n",
      " [ 286 1687]]\n"
     ]
    }
   ],
   "source": [
    "matriz_sm_pca = confusion_matrix(y_test_sm_pca, y_pred_sm_pca)\n",
    "print('Matriz de Confusión:')\n",
    "print(matriz_sm_pca)"
   ]
  },
  {
   "cell_type": "code",
   "execution_count": 17,
   "metadata": {},
   "outputs": [
    {
     "name": "stdout",
     "output_type": "stream",
     "text": [
      "              precision    recall  f1-score   support\n",
      "\n",
      "       False       0.85      0.85      0.85      1952\n",
      "        True       0.85      0.86      0.85      1973\n",
      "\n",
      "    accuracy                           0.85      3925\n",
      "   macro avg       0.85      0.85      0.85      3925\n",
      "weighted avg       0.85      0.85      0.85      3925\n",
      "\n"
     ]
    }
   ],
   "source": [
    "print(classification_report(y_test_sm_pca, y_pred_sm_pca))"
   ]
  },
  {
   "cell_type": "markdown",
   "metadata": {},
   "source": [
    "### Random Forest con Undersampling"
   ]
  },
  {
   "cell_type": "code",
   "execution_count": 18,
   "metadata": {},
   "outputs": [],
   "source": [
    "x_train_us_pca, x_test_us_pca, y_train_us_pca, y_test_us_pca = train_test_split(x_us_pca, y_us_pca,\n",
    "                                   random_state=104, \n",
    "                                   test_size=0.20, \n",
    "                                   shuffle=True)"
   ]
  },
  {
   "cell_type": "code",
   "execution_count": 19,
   "metadata": {},
   "outputs": [],
   "source": [
    "from sklearn.preprocessing import StandardScaler\n",
    "sc = StandardScaler()\n",
    "#Escalo Datos de Entrenamiento:\n",
    "x_train_us_pca = sc.fit_transform(x_train_us_pca)\n",
    "#Escalo Datos de Testeo:\n",
    "x_test_us_pca = sc.fit_transform(x_test_us_pca)"
   ]
  },
  {
   "cell_type": "code",
   "execution_count": 20,
   "metadata": {},
   "outputs": [],
   "source": [
    "from sklearn.ensemble import RandomForestClassifier\n",
    "rf_us_pca = RandomForestClassifier(random_state = 50, n_estimators = 500)\n",
    "rf_us_pca.fit(x_train_us_pca, y_train_us_pca)\n",
    "y_pred_us_pca = rf_us_pca.predict(x_test_us_pca).round()"
   ]
  },
  {
   "cell_type": "code",
   "execution_count": 21,
   "metadata": {},
   "outputs": [
    {
     "name": "stdout",
     "output_type": "stream",
     "text": [
      "Accuracy del Random Forest con Undersampling: 0.570\n"
     ]
    }
   ],
   "source": [
    "accuracy_rf_us_pca = accuracy_score(y_test_us_pca, y_pred_us_pca)\n",
    "print('Accuracy del Random Forest con Undersampling: %.3f' % accuracy_rf_us_pca)"
   ]
  },
  {
   "cell_type": "code",
   "execution_count": 22,
   "metadata": {},
   "outputs": [
    {
     "name": "stdout",
     "output_type": "stream",
     "text": [
      "Precision del modelo Random Forest con Undersampling 0.558\n"
     ]
    }
   ],
   "source": [
    "precision_us_pca = precision_score(y_test_us_pca, y_pred_us_pca)\n",
    "print('Precision del modelo Random Forest con Undersampling %.3f' % precision_us_pca)"
   ]
  },
  {
   "cell_type": "code",
   "execution_count": 23,
   "metadata": {},
   "outputs": [
    {
     "name": "stdout",
     "output_type": "stream",
     "text": [
      "Recall del Modelo Random Forest con Undersampling: 0.527\n"
     ]
    }
   ],
   "source": [
    "recall_us_pca = recall_score(y_test_us_pca, y_pred_us_pca)\n",
    "print('Recall del Modelo Random Forest con Undersampling: %.3f' % recall_us_pca)"
   ]
  },
  {
   "cell_type": "code",
   "execution_count": 24,
   "metadata": {},
   "outputs": [
    {
     "name": "stdout",
     "output_type": "stream",
     "text": [
      "Matriz de Confusión:\n",
      "[[234 149]\n",
      " [169 188]]\n"
     ]
    }
   ],
   "source": [
    "matriz_us_pca = confusion_matrix(y_test_us_pca, y_pred_us_pca)\n",
    "print('Matriz de Confusión:')\n",
    "print(matriz_us_pca)"
   ]
  },
  {
   "cell_type": "code",
   "execution_count": 25,
   "metadata": {},
   "outputs": [
    {
     "name": "stdout",
     "output_type": "stream",
     "text": [
      "              precision    recall  f1-score   support\n",
      "\n",
      "       False       0.58      0.61      0.60       383\n",
      "        True       0.56      0.53      0.54       357\n",
      "\n",
      "    accuracy                           0.57       740\n",
      "   macro avg       0.57      0.57      0.57       740\n",
      "weighted avg       0.57      0.57      0.57       740\n",
      "\n"
     ]
    }
   ],
   "source": [
    "print(classification_report(y_test_us_pca, y_pred_us_pca))"
   ]
  }
 ],
 "metadata": {
  "kernelspec": {
   "display_name": "Python 3",
   "language": "python",
   "name": "python3"
  },
  "language_info": {
   "codemirror_mode": {
    "name": "ipython",
    "version": 3
   },
   "file_extension": ".py",
   "mimetype": "text/x-python",
   "name": "python",
   "nbconvert_exporter": "python",
   "pygments_lexer": "ipython3",
   "version": "3.7.6"
  }
 },
 "nbformat": 4,
 "nbformat_minor": 4
}
