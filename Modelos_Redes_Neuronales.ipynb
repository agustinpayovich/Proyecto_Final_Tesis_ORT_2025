{
 "cells": [
  {
   "cell_type": "markdown",
   "metadata": {},
   "source": [
    "<tr>\n",
    "\n",
    "    <td><img src=https://encrypted-tbn0.gstatic.com/images?q=tbn:ANd9GcTZcU0_2fgIIcOXf6T0U0AQq1Ld4wMw9s1at5scGVpT5VEmPPTq6-CRSGJhQkrSSrSfi7o&usqp=CAU alt=\"Drawing\" style=\"width: 70px;\"/></td>\n",
    "\n",
    "    <td><td style=\"font-size:3vw\"><font color='OrangeRed'><b>Trabajo Final Master en Big Data</b></font></td>\n",
    "\n",
    "</tr>"
   ]
  },
  {
   "cell_type": "markdown",
   "metadata": {},
   "source": [
    "<tr>\n",
    "\n",
    "    <td><img src=https://encrypted-tbn0.gstatic.com/images?q=tbn:ANd9GcTZcU0_2fgIIcOXf6T0U0AQq1Ld4wMw9s1at5scGVpT5VEmPPTq6-CRSGJhQkrSSrSfi7o&usqp=CAU alt=\"Drawing\" style=\"width: 70px;\"/></td>\n",
    "\n",
    "    <td><td style=\"font-size:3vw\"><font color='OrangeRed'><b>Trabajo Final Master en Big Data</b></font></td>\n",
    "\n",
    "</tr>"
   ]
  },
  {
   "cell_type": "markdown",
   "metadata": {},
   "source": [
    "# Trabajo Final - Máster en Big Data - Fernández, García y Payovich"
   ]
  },
  {
   "cell_type": "markdown",
   "metadata": {},
   "source": [
    "## Modelos de Base: Redes Neuronales"
   ]
  },
  {
   "cell_type": "markdown",
   "metadata": {},
   "source": [
    "### Importación de Librerías"
   ]
  },
  {
   "cell_type": "code",
   "execution_count": 1,
   "metadata": {},
   "outputs": [],
   "source": [
    "import pandas as pd\n",
    "import numpy as np\n",
    "import os\n",
    "import seaborn as sns\n",
    "import matplotlib.pyplot as plt\n",
    "from sklearn.model_selection import train_test_split # División del dataset\n",
    "import matplotlib.pyplot as plt # Plotear\n",
    "from sklearn.linear_model import LinearRegression # Modelo de ML\n",
    "from sklearn.preprocessing import OneHotEncoder, StandardScaler\n",
    "from sklearn.compose import make_column_transformer\n",
    "from sklearn import metrics\n",
    "from sklearn.metrics import precision_score, recall_score, f1_score, accuracy_score, confusion_matrix, classification_report # Métricas\n",
    "pd.options.display.max_columns= None\n",
    "import warnings\n",
    "from openpyxl import Workbook"
   ]
  },
  {
   "cell_type": "code",
   "execution_count": 2,
   "metadata": {},
   "outputs": [],
   "source": [
    "warnings.filterwarnings('ignore')"
   ]
  },
  {
   "cell_type": "markdown",
   "metadata": {},
   "source": [
    "### Importación y Transformación de las Bases"
   ]
  },
  {
   "cell_type": "code",
   "execution_count": 3,
   "metadata": {},
   "outputs": [],
   "source": [
    "df = pd.read_csv('base_final_EDA.csv', delimiter= ',')"
   ]
  },
  {
   "cell_type": "code",
   "execution_count": 4,
   "metadata": {},
   "outputs": [],
   "source": [
    "dfr = df.astype(int)"
   ]
  },
  {
   "cell_type": "code",
   "execution_count": 5,
   "metadata": {},
   "outputs": [],
   "source": [
    "dfpca = pd.read_csv('base_final_PCA.csv', delimiter= ';')"
   ]
  },
  {
   "cell_type": "code",
   "execution_count": 6,
   "metadata": {},
   "outputs": [],
   "source": [
    "x_r = dfr.drop(['detractor'], axis=1)"
   ]
  },
  {
   "cell_type": "code",
   "execution_count": 7,
   "metadata": {},
   "outputs": [],
   "source": [
    "y_r = dfr['detractor']"
   ]
  },
  {
   "cell_type": "code",
   "execution_count": 8,
   "metadata": {},
   "outputs": [],
   "source": [
    "x_pca = dfpca.drop(['detractor'], axis=1)"
   ]
  },
  {
   "cell_type": "code",
   "execution_count": 9,
   "metadata": {},
   "outputs": [],
   "source": [
    "y_pca = dfpca['detractor']"
   ]
  },
  {
   "cell_type": "code",
   "execution_count": 10,
   "metadata": {},
   "outputs": [
    {
     "data": {
      "text/plain": [
       "37"
      ]
     },
     "execution_count": 10,
     "metadata": {},
     "output_type": "execute_result"
    }
   ],
   "source": [
    "len(x_r.columns)"
   ]
  },
  {
   "cell_type": "code",
   "execution_count": 11,
   "metadata": {},
   "outputs": [
    {
     "data": {
      "text/plain": [
       "23"
      ]
     },
     "execution_count": 11,
     "metadata": {},
     "output_type": "execute_result"
    }
   ],
   "source": [
    "len(x_pca.columns)"
   ]
  },
  {
   "cell_type": "markdown",
   "metadata": {},
   "source": [
    "### Sampleo y Escalado de Datos:"
   ]
  },
  {
   "cell_type": "code",
   "execution_count": 13,
   "metadata": {},
   "outputs": [],
   "source": [
    "from imblearn.over_sampling import SMOTE\n",
    "sm = SMOTE(random_state = 42)\n",
    "x_r_sm, y_r_sm = sm.fit_resample(x_r, y_r)"
   ]
  },
  {
   "cell_type": "code",
   "execution_count": 14,
   "metadata": {},
   "outputs": [],
   "source": [
    "from imblearn.over_sampling import SMOTE\n",
    "sm = SMOTE(random_state = 42)\n",
    "x_pca_sm, y_pca_sm = sm.fit_resample(x_pca, y_pca)"
   ]
  },
  {
   "cell_type": "code",
   "execution_count": 15,
   "metadata": {},
   "outputs": [],
   "source": [
    "x_train_r, x_test_r, y_train_r, y_test_r = train_test_split(x_r_sm, y_r_sm,\n",
    "                                   random_state=104, \n",
    "                                   test_size=0.20, \n",
    "                                   shuffle=True)"
   ]
  },
  {
   "cell_type": "code",
   "execution_count": 16,
   "metadata": {},
   "outputs": [],
   "source": [
    "x_train_pca, x_test_pca, y_train_pca, y_test_pca = train_test_split(x_pca_sm, y_pca_sm,\n",
    "                                   random_state=104, \n",
    "                                   test_size=0.20, \n",
    "                                   shuffle=True)"
   ]
  },
  {
   "cell_type": "markdown",
   "metadata": {},
   "source": [
    "### Red de 2 Capas:"
   ]
  },
  {
   "cell_type": "code",
   "execution_count": 17,
   "metadata": {},
   "outputs": [
    {
     "name": "stderr",
     "output_type": "stream",
     "text": [
      "2025-04-14 15:51:37.004862: W tensorflow/stream_executor/platform/default/dso_loader.cc:55] Could not load dynamic library 'libcuda.so.1'; dlerror: /usr/lib/x86_64-linux-gnu/libcuda.so.1: file too short; LD_LIBRARY_PATH: /usr/local/cuda/extras/CUPTI/lib64:/usr/local/cuda/lib64:/usr/local/nvidia/lib:/usr/local/nvidia/lib64\n",
      "2025-04-14 15:51:37.004899: E tensorflow/stream_executor/cuda/cuda_driver.cc:313] failed call to cuInit: UNKNOWN ERROR (303)\n",
      "2025-04-14 15:51:37.004925: I tensorflow/stream_executor/cuda/cuda_diagnostics.cc:163] no NVIDIA GPU device is present: /dev/nvidia0 does not exist\n",
      "2025-04-14 15:51:37.005068: I tensorflow/core/platform/cpu_feature_guard.cc:143] Your CPU supports instructions that this TensorFlow binary was not compiled to use: AVX2 AVX512F FMA\n",
      "2025-04-14 15:51:37.034396: I tensorflow/core/platform/profile_utils/cpu_utils.cc:102] CPU Frequency: 2300000000 Hz\n",
      "2025-04-14 15:51:37.037592: I tensorflow/compiler/xla/service/service.cc:168] XLA service 0x7f0eb4000b20 initialized for platform Host (this does not guarantee that XLA will be used). Devices:\n",
      "2025-04-14 15:51:37.037714: I tensorflow/compiler/xla/service/service.cc:176]   StreamExecutor device (0): Host, Default Version\n"
     ]
    },
    {
     "name": "stdout",
     "output_type": "stream",
     "text": [
      "Epoch 1/50\n",
      "1963/1963 [==============================] - 3s 1ms/step - loss: 8.4027 - recall: 0.5267\n",
      "Epoch 2/50\n",
      "1963/1963 [==============================] - 3s 1ms/step - loss: 3.5327 - recall: 0.5674\n",
      "Epoch 3/50\n",
      "1963/1963 [==============================] - 3s 1ms/step - loss: 3.0493 - recall: 0.5813\n",
      "Epoch 4/50\n",
      "1963/1963 [==============================] - 3s 1ms/step - loss: 3.2100 - recall: 0.5854\n",
      "Epoch 5/50\n",
      "1963/1963 [==============================] - 3s 1ms/step - loss: 3.1410 - recall: 0.6008\n",
      "Epoch 6/50\n",
      "1963/1963 [==============================] - 3s 1ms/step - loss: 2.9394 - recall: 0.6131\n",
      "Epoch 7/50\n",
      "1963/1963 [==============================] - 3s 1ms/step - loss: 2.6396 - recall: 0.6214\n",
      "Epoch 8/50\n",
      "1963/1963 [==============================] - 3s 1ms/step - loss: 2.9250 - recall: 0.6163\n",
      "Epoch 9/50\n",
      "1963/1963 [==============================] - 3s 1ms/step - loss: 2.8484 - recall: 0.6172\n",
      "Epoch 10/50\n",
      "1963/1963 [==============================] - 2s 1ms/step - loss: 2.7843 - recall: 0.6255\n",
      "Epoch 11/50\n",
      "1963/1963 [==============================] - 3s 1ms/step - loss: 2.4562 - recall: 0.6512\n",
      "Epoch 12/50\n",
      "1963/1963 [==============================] - 3s 1ms/step - loss: 2.6030 - recall: 0.6265\n",
      "Epoch 13/50\n",
      "1963/1963 [==============================] - 3s 1ms/step - loss: 2.6203 - recall: 0.6329\n",
      "Epoch 14/50\n",
      "1963/1963 [==============================] - 3s 1ms/step - loss: 2.6789 - recall: 0.6397\n",
      "Epoch 15/50\n",
      "1963/1963 [==============================] - 3s 1ms/step - loss: 2.3543 - recall: 0.6404\n",
      "Epoch 16/50\n",
      "1963/1963 [==============================] - 3s 1ms/step - loss: 2.5327 - recall: 0.6408\n",
      "Epoch 17/50\n",
      "1963/1963 [==============================] - 3s 1ms/step - loss: 2.5743 - recall: 0.6345\n",
      "Epoch 18/50\n",
      "1963/1963 [==============================] - 2s 1ms/step - loss: 2.5793 - recall: 0.6452\n",
      "Epoch 19/50\n",
      "1963/1963 [==============================] - 3s 1ms/step - loss: 2.2804 - recall: 0.6497\n",
      "Epoch 20/50\n",
      "1963/1963 [==============================] - 3s 1ms/step - loss: 2.3014 - recall: 0.6474: 0s - loss: 2.2974 - recall: 0.64\n",
      "Epoch 21/50\n",
      "1963/1963 [==============================] - 3s 1ms/step - loss: 2.1945 - recall: 0.6487\n",
      "Epoch 22/50\n",
      "1963/1963 [==============================] - 3s 1ms/step - loss: 2.2905 - recall: 0.6475\n",
      "Epoch 23/50\n",
      "1963/1963 [==============================] - 2s 1ms/step - loss: 2.0188 - recall: 0.6593\n",
      "Epoch 24/50\n",
      "1963/1963 [==============================] - 3s 1ms/step - loss: 2.0095 - recall: 0.6614\n",
      "Epoch 25/50\n",
      "1963/1963 [==============================] - 3s 2ms/step - loss: 2.0071 - recall: 0.6579\n",
      "Epoch 26/50\n",
      "1963/1963 [==============================] - 3s 2ms/step - loss: 1.9034 - recall: 0.6565\n",
      "Epoch 27/50\n",
      "1963/1963 [==============================] - 3s 1ms/step - loss: 2.0267 - recall: 0.6571\n",
      "Epoch 28/50\n",
      "1963/1963 [==============================] - 3s 2ms/step - loss: 1.8114 - recall: 0.6608\n",
      "Epoch 29/50\n",
      "1963/1963 [==============================] - 3s 1ms/step - loss: 1.8925 - recall: 0.6534\n",
      "Epoch 30/50\n",
      "1963/1963 [==============================] - 3s 1ms/step - loss: 1.8285 - recall: 0.6598\n",
      "Epoch 31/50\n",
      "1963/1963 [==============================] - 3s 1ms/step - loss: 1.6550 - recall: 0.6704\n",
      "Epoch 32/50\n",
      "1963/1963 [==============================] - 3s 1ms/step - loss: 1.6920 - recall: 0.6642\n",
      "Epoch 33/50\n",
      "1963/1963 [==============================] - 3s 2ms/step - loss: 1.7239 - recall: 0.6672\n",
      "Epoch 34/50\n",
      "1963/1963 [==============================] - 3s 1ms/step - loss: 1.6207 - recall: 0.6665\n",
      "Epoch 35/50\n",
      "1963/1963 [==============================] - 3s 1ms/step - loss: 1.5570 - recall: 0.6639\n",
      "Epoch 36/50\n",
      "1963/1963 [==============================] - 3s 1ms/step - loss: 1.4616 - recall: 0.6625\n",
      "Epoch 37/50\n",
      "1963/1963 [==============================] - 3s 1ms/step - loss: 1.3925 - recall: 0.6678\n",
      "Epoch 38/50\n",
      "1963/1963 [==============================] - 3s 2ms/step - loss: 1.4063 - recall: 0.6716\n",
      "Epoch 39/50\n",
      "1963/1963 [==============================] - 3s 1ms/step - loss: 1.3318 - recall: 0.6710\n",
      "Epoch 40/50\n",
      "1963/1963 [==============================] - 3s 2ms/step - loss: 1.2922 - recall: 0.6713\n",
      "Epoch 41/50\n",
      "1963/1963 [==============================] - 3s 1ms/step - loss: 1.1732 - recall: 0.6718\n",
      "Epoch 42/50\n",
      "1963/1963 [==============================] - 2s 1ms/step - loss: 1.1998 - recall: 0.6697\n",
      "Epoch 43/50\n",
      "1963/1963 [==============================] - 3s 1ms/step - loss: 1.1969 - recall: 0.6771\n",
      "Epoch 44/50\n",
      "1963/1963 [==============================] - 2s 1ms/step - loss: 1.0614 - recall: 0.6770\n",
      "Epoch 45/50\n",
      "1963/1963 [==============================] - 3s 1ms/step - loss: 1.0213 - recall: 0.6760\n",
      "Epoch 46/50\n",
      "1963/1963 [==============================] - 3s 1ms/step - loss: 0.9596 - recall: 0.6790\n",
      "Epoch 47/50\n",
      "1963/1963 [==============================] - 3s 1ms/step - loss: 1.0443 - recall: 0.6737\n",
      "Epoch 48/50\n",
      "1963/1963 [==============================] - 3s 1ms/step - loss: 1.0305 - recall: 0.6817\n",
      "Epoch 49/50\n",
      "1963/1963 [==============================] - 2s 1ms/step - loss: 0.9959 - recall: 0.6756\n",
      "Epoch 50/50\n",
      "1963/1963 [==============================] - 3s 1ms/step - loss: 0.9400 - recall: 0.6776\n",
      "123/123 [==============================] - 0s 941us/step - loss: 0.5606 - recall: 0.7152\n",
      "Loss del modelo:{loss}\n",
      "Recall del modelo:{recall}\n",
      "              precision    recall  f1-score   support\n",
      "\n",
      "           0       0.72      0.74      0.73      1952\n",
      "           1       0.74      0.72      0.73      1973\n",
      "\n",
      "    accuracy                           0.73      3925\n",
      "   macro avg       0.73      0.73      0.73      3925\n",
      "weighted avg       0.73      0.73      0.73      3925\n",
      "\n"
     ]
    }
   ],
   "source": [
    "import tensorflow.keras as keras\n",
    "import tensorflow as tf\n",
    "from tensorflow.keras import Sequential\n",
    "from tensorflow.keras.layers import Dense\n",
    "from tensorflow.keras.metrics import Recall\n",
    "from sklearn.metrics import accuracy_score, precision_score, recall_score, f1_score, confusion_matrix, roc_auc_score\n",
    "\n",
    "model_r = keras.Sequential([\n",
    "      Dense(32, activation='relu', input_shape=(37,)),\n",
    "      Dense(1, activation='sigmoid')\n",
    "])\n",
    "\n",
    "model_r.compile(optimizer='adam', loss='binary_crossentropy', metrics=[Recall()])\n",
    "    \n",
    "model_r.fit(x_train_r, y_train_r, epochs=50, batch_size=8, verbose=1)\n",
    "\n",
    "y_pred_r = model_r.predict(x_test_r).round()\n",
    "    \n",
    "loss, recall = model_r.evaluate(x_test_r, y_test_r)\n",
    "print('Loss del modelo:{loss}')\n",
    "print('Recall del modelo:{recall}')\n",
    "print(classification_report(y_test_r, y_pred_r))"
   ]
  },
  {
   "cell_type": "code",
   "execution_count": 18,
   "metadata": {},
   "outputs": [
    {
     "name": "stdout",
     "output_type": "stream",
     "text": [
      "Epoch 1/50\n",
      "1963/1963 [==============================] - 3s 1ms/step - loss: 0.6719 - recall_1: 0.6272\n",
      "Epoch 2/50\n",
      "1963/1963 [==============================] - 3s 1ms/step - loss: 0.6540 - recall_1: 0.6426\n",
      "Epoch 3/50\n",
      "1963/1963 [==============================] - 2s 1ms/step - loss: 0.6481 - recall_1: 0.6554\n",
      "Epoch 4/50\n",
      "1963/1963 [==============================] - 2s 1ms/step - loss: 0.6422 - recall_1: 0.6730\n",
      "Epoch 5/50\n",
      "1963/1963 [==============================] - 3s 1ms/step - loss: 0.6383 - recall_1: 0.6673\n",
      "Epoch 6/50\n",
      "1963/1963 [==============================] - 3s 1ms/step - loss: 0.6349 - recall_1: 0.6654\n",
      "Epoch 7/50\n",
      "1963/1963 [==============================] - 3s 1ms/step - loss: 0.6314 - recall_1: 0.6679\n",
      "Epoch 8/50\n",
      "1963/1963 [==============================] - 2s 1ms/step - loss: 0.6284 - recall_1: 0.6741\n",
      "Epoch 9/50\n",
      "1963/1963 [==============================] - 2s 1ms/step - loss: 0.6261 - recall_1: 0.6811\n",
      "Epoch 10/50\n",
      "1963/1963 [==============================] - 2s 1ms/step - loss: 0.6244 - recall_1: 0.6808\n",
      "Epoch 11/50\n",
      "1963/1963 [==============================] - 3s 1ms/step - loss: 0.6217 - recall_1: 0.6875\n",
      "Epoch 12/50\n",
      "1963/1963 [==============================] - 3s 1ms/step - loss: 0.6200 - recall_1: 0.6859\n",
      "Epoch 13/50\n",
      "1963/1963 [==============================] - 3s 1ms/step - loss: 0.6190 - recall_1: 0.7024\n",
      "Epoch 14/50\n",
      "1963/1963 [==============================] - 3s 1ms/step - loss: 0.6167 - recall_1: 0.6926\n",
      "Epoch 15/50\n",
      "1963/1963 [==============================] - 3s 1ms/step - loss: 0.6150 - recall_1: 0.7003\n",
      "Epoch 16/50\n",
      "1963/1963 [==============================] - 3s 1ms/step - loss: 0.6127 - recall_1: 0.7005\n",
      "Epoch 17/50\n",
      "1963/1963 [==============================] - 2s 1ms/step - loss: 0.6122 - recall_1: 0.7093\n",
      "Epoch 18/50\n",
      "1963/1963 [==============================] - 2s 1ms/step - loss: 0.6099 - recall_1: 0.7005\n",
      "Epoch 19/50\n",
      "1963/1963 [==============================] - 2s 1ms/step - loss: 0.6090 - recall_1: 0.7033\n",
      "Epoch 20/50\n",
      "1963/1963 [==============================] - 2s 1ms/step - loss: 0.6071 - recall_1: 0.7063\n",
      "Epoch 21/50\n",
      "1963/1963 [==============================] - 2s 1ms/step - loss: 0.6050 - recall_1: 0.7114\n",
      "Epoch 22/50\n",
      "1963/1963 [==============================] - 3s 1ms/step - loss: 0.6033 - recall_1: 0.7095\n",
      "Epoch 23/50\n",
      "1963/1963 [==============================] - 2s 1ms/step - loss: 0.6032 - recall_1: 0.7177\n",
      "Epoch 24/50\n",
      "1963/1963 [==============================] - 2s 1ms/step - loss: 0.6025 - recall_1: 0.7168\n",
      "Epoch 25/50\n",
      "1963/1963 [==============================] - 3s 1ms/step - loss: 0.6015 - recall_1: 0.7086\n",
      "Epoch 26/50\n",
      "1963/1963 [==============================] - 3s 1ms/step - loss: 0.6002 - recall_1: 0.7168\n",
      "Epoch 27/50\n",
      "1963/1963 [==============================] - 2s 1ms/step - loss: 0.5988 - recall_1: 0.7131\n",
      "Epoch 28/50\n",
      "1963/1963 [==============================] - 2s 1ms/step - loss: 0.5985 - recall_1: 0.7211\n",
      "Epoch 29/50\n",
      "1963/1963 [==============================] - 2s 1ms/step - loss: 0.5973 - recall_1: 0.7141\n",
      "Epoch 30/50\n",
      "1963/1963 [==============================] - 3s 1ms/step - loss: 0.5966 - recall_1: 0.7208\n",
      "Epoch 31/50\n",
      "1963/1963 [==============================] - 3s 1ms/step - loss: 0.5959 - recall_1: 0.7261\n",
      "Epoch 32/50\n",
      "1963/1963 [==============================] - 2s 1ms/step - loss: 0.5956 - recall_1: 0.7220\n",
      "Epoch 33/50\n",
      "1963/1963 [==============================] - 2s 1ms/step - loss: 0.5947 - recall_1: 0.7192\n",
      "Epoch 34/50\n",
      "1963/1963 [==============================] - 2s 997us/step - loss: 0.5948 - recall_1: 0.7204\n",
      "Epoch 35/50\n",
      "1963/1963 [==============================] - 3s 1ms/step - loss: 0.5923 - recall_1: 0.7233\n",
      "Epoch 36/50\n",
      "1963/1963 [==============================] - 3s 1ms/step - loss: 0.5926 - recall_1: 0.7225\n",
      "Epoch 37/50\n",
      "1963/1963 [==============================] - 3s 1ms/step - loss: 0.5912 - recall_1: 0.7307\n",
      "Epoch 38/50\n",
      "1963/1963 [==============================] - 3s 1ms/step - loss: 0.5906 - recall_1: 0.7256\n",
      "Epoch 39/50\n",
      "1963/1963 [==============================] - 3s 1ms/step - loss: 0.5891 - recall_1: 0.7293\n",
      "Epoch 40/50\n",
      "1963/1963 [==============================] - 2s 1ms/step - loss: 0.5893 - recall_1: 0.7253\n",
      "Epoch 41/50\n",
      "1963/1963 [==============================] - 3s 1ms/step - loss: 0.5888 - recall_1: 0.7386\n",
      "Epoch 42/50\n",
      "1963/1963 [==============================] - 3s 1ms/step - loss: 0.5886 - recall_1: 0.7299\n",
      "Epoch 43/50\n",
      "1963/1963 [==============================] - 3s 1ms/step - loss: 0.5874 - recall_1: 0.7290\n",
      "Epoch 44/50\n",
      "1963/1963 [==============================] - 3s 1ms/step - loss: 0.5870 - recall_1: 0.7312\n",
      "Epoch 45/50\n",
      "1963/1963 [==============================] - 3s 1ms/step - loss: 0.5866 - recall_1: 0.7333\n",
      "Epoch 46/50\n",
      "1963/1963 [==============================] - 3s 1ms/step - loss: 0.5857 - recall_1: 0.7373\n",
      "Epoch 47/50\n",
      "1963/1963 [==============================] - 3s 1ms/step - loss: 0.5854 - recall_1: 0.7310\n",
      "Epoch 48/50\n",
      "1963/1963 [==============================] - 2s 997us/step - loss: 0.5853 - recall_1: 0.7329\n",
      "Epoch 49/50\n",
      "1963/1963 [==============================] - 3s 1ms/step - loss: 0.5842 - recall_1: 0.7331\n",
      "Epoch 50/50\n",
      "1963/1963 [==============================] - 2s 1ms/step - loss: 0.5838 - recall_1: 0.7284\n",
      "              precision    recall  f1-score   support\n",
      "\n",
      "       False       0.71      0.56      0.63      1952\n",
      "        True       0.64      0.77      0.70      1973\n",
      "\n",
      "    accuracy                           0.67      3925\n",
      "   macro avg       0.67      0.67      0.66      3925\n",
      "weighted avg       0.67      0.67      0.66      3925\n",
      "\n"
     ]
    }
   ],
   "source": [
    "model_pca = keras.Sequential([\n",
    "      Dense(32, activation='relu', input_shape=(23,)),\n",
    "      Dense(1, activation='sigmoid')\n",
    "])\n",
    "\n",
    "model_pca.compile(optimizer='adam', loss='binary_crossentropy', metrics=[Recall()])\n",
    "    \n",
    "model_pca.fit(x_train_pca, y_train_pca, epochs=50, batch_size=8, verbose=1)\n",
    "\n",
    "y_pred_pca = model_pca.predict(x_test_pca).round()\n",
    "    \n",
    "print(classification_report(y_test_pca, y_pred_pca))"
   ]
  },
  {
   "cell_type": "markdown",
   "metadata": {},
   "source": [
    "### Red de 3 Capas:"
   ]
  },
  {
   "cell_type": "code",
   "execution_count": 19,
   "metadata": {},
   "outputs": [
    {
     "name": "stdout",
     "output_type": "stream",
     "text": [
      "Epoch 1/50\n",
      "1963/1963 [==============================] - 3s 1ms/step - loss: 5.6116 - recall_2: 0.5397\n",
      "Epoch 2/50\n",
      "1963/1963 [==============================] - 3s 1ms/step - loss: 3.3900 - recall_2: 0.5714\n",
      "Epoch 3/50\n",
      "1963/1963 [==============================] - 2s 1ms/step - loss: 3.0896 - recall_2: 0.5877\n",
      "Epoch 4/50\n",
      "1963/1963 [==============================] - 3s 1ms/step - loss: 2.1799 - recall_2: 0.6030\n",
      "Epoch 5/50\n",
      "1963/1963 [==============================] - 3s 1ms/step - loss: 2.0505 - recall_2: 0.6089\n",
      "Epoch 6/50\n",
      "1963/1963 [==============================] - 3s 2ms/step - loss: 1.4758 - recall_2: 0.6279\n",
      "Epoch 7/50\n",
      "1963/1963 [==============================] - 3s 1ms/step - loss: 1.1847 - recall_2: 0.6382\n",
      "Epoch 8/50\n",
      "1963/1963 [==============================] - 3s 1ms/step - loss: 0.8973 - recall_2: 0.6357\n",
      "Epoch 9/50\n",
      "1963/1963 [==============================] - 3s 1ms/step - loss: 0.7013 - recall_2: 0.6665\n",
      "Epoch 10/50\n",
      "1963/1963 [==============================] - 2s 1ms/step - loss: 0.6612 - recall_2: 0.6665\n",
      "Epoch 11/50\n",
      "1963/1963 [==============================] - 3s 2ms/step - loss: 0.6689 - recall_2: 0.6586\n",
      "Epoch 12/50\n",
      "1963/1963 [==============================] - 3s 2ms/step - loss: 0.6721 - recall_2: 0.7534: 0s - loss: 0.6733 - reca\n",
      "Epoch 13/50\n",
      "1963/1963 [==============================] - 3s 1ms/step - loss: 0.6767 - recall_2: 0.8180\n",
      "Epoch 14/50\n",
      "1963/1963 [==============================] - 3s 2ms/step - loss: 0.6762 - recall_2: 0.6852\n",
      "Epoch 15/50\n",
      "1963/1963 [==============================] - 3s 1ms/step - loss: 0.6753 - recall_2: 0.3757\n",
      "Epoch 16/50\n",
      "1963/1963 [==============================] - 3s 2ms/step - loss: 0.6762 - recall_2: 0.0885\n",
      "Epoch 17/50\n",
      "1963/1963 [==============================] - 3s 2ms/step - loss: 0.6761 - recall_2: 0.0857\n",
      "Epoch 18/50\n",
      "1963/1963 [==============================] - 3s 2ms/step - loss: 0.6751 - recall_2: 0.1994\n",
      "Epoch 19/50\n",
      "1963/1963 [==============================] - 3s 1ms/step - loss: 0.6739 - recall_2: 0.3170\n",
      "Epoch 20/50\n",
      "1963/1963 [==============================] - 2s 1ms/step - loss: 0.6758 - recall_2: 0.0929\n",
      "Epoch 21/50\n",
      "1963/1963 [==============================] - 3s 2ms/step - loss: 0.6744 - recall_2: 0.2077\n",
      "Epoch 22/50\n",
      "1963/1963 [==============================] - 3s 2ms/step - loss: 0.6735 - recall_2: 0.2065\n",
      "Epoch 23/50\n",
      "1963/1963 [==============================] - 3s 1ms/step - loss: 0.6717 - recall_2: 0.0865\n",
      "Epoch 24/50\n",
      "1963/1963 [==============================] - 3s 2ms/step - loss: 0.6741 - recall_2: 0.0890\n",
      "Epoch 25/50\n",
      "1963/1963 [==============================] - 3s 1ms/step - loss: 0.6739 - recall_2: 0.0916\n",
      "Epoch 26/50\n",
      "1963/1963 [==============================] - 3s 1ms/step - loss: 0.6711 - recall_2: 0.0890\n",
      "Epoch 27/50\n",
      "1963/1963 [==============================] - 3s 2ms/step - loss: 0.6691 - recall_2: 0.1143\n",
      "Epoch 28/50\n",
      "1963/1963 [==============================] - 3s 1ms/step - loss: 0.6696 - recall_2: 0.3212\n",
      "Epoch 29/50\n",
      "1963/1963 [==============================] - 2s 1ms/step - loss: 0.6673 - recall_2: 0.0910\n",
      "Epoch 30/50\n",
      "1963/1963 [==============================] - 3s 1ms/step - loss: 0.6674 - recall_2: 0.2484\n",
      "Epoch 31/50\n",
      "1963/1963 [==============================] - 3s 2ms/step - loss: 0.6665 - recall_2: 0.3310\n",
      "Epoch 32/50\n",
      "1963/1963 [==============================] - 2s 1ms/step - loss: 0.6664 - recall_2: 0.5822\n",
      "Epoch 33/50\n",
      "1963/1963 [==============================] - 3s 1ms/step - loss: 0.6660 - recall_2: 0.2602\n",
      "Epoch 34/50\n",
      "1963/1963 [==============================] - 3s 1ms/step - loss: 0.6670 - recall_2: 0.3985\n",
      "Epoch 35/50\n",
      "1963/1963 [==============================] - 3s 2ms/step - loss: 0.6656 - recall_2: 0.5478\n",
      "Epoch 36/50\n",
      "1963/1963 [==============================] - 3s 1ms/step - loss: 0.6635 - recall_2: 0.2447\n",
      "Epoch 37/50\n",
      "1963/1963 [==============================] - 2s 1ms/step - loss: 0.6662 - recall_2: 0.1156\n",
      "Epoch 38/50\n",
      "1963/1963 [==============================] - 3s 1ms/step - loss: 0.6667 - recall_2: 0.3633\n",
      "Epoch 39/50\n",
      "1963/1963 [==============================] - 3s 1ms/step - loss: 0.6665 - recall_2: 0.1142\n",
      "Epoch 40/50\n",
      "1963/1963 [==============================] - 3s 1ms/step - loss: 0.6625 - recall_2: 0.1346\n",
      "Epoch 41/50\n",
      "1963/1963 [==============================] - 3s 2ms/step - loss: 0.6620 - recall_2: 0.1533\n",
      "Epoch 42/50\n",
      "1963/1963 [==============================] - 3s 2ms/step - loss: 0.6587 - recall_2: 0.3139\n",
      "Epoch 43/50\n",
      "1963/1963 [==============================] - 3s 2ms/step - loss: 0.6596 - recall_2: 0.9329\n",
      "Epoch 44/50\n",
      "1963/1963 [==============================] - 3s 2ms/step - loss: 0.6588 - recall_2: 0.6790\n",
      "Epoch 45/50\n",
      "1963/1963 [==============================] - 3s 2ms/step - loss: 0.6570 - recall_2: 0.9259\n",
      "Epoch 46/50\n",
      "1963/1963 [==============================] - 3s 1ms/step - loss: 0.6601 - recall_2: 0.7438\n",
      "Epoch 47/50\n",
      "1963/1963 [==============================] - 3s 2ms/step - loss: 0.6507 - recall_2: 0.8529\n",
      "Epoch 48/50\n",
      "1963/1963 [==============================] - 2s 1ms/step - loss: 0.6505 - recall_2: 0.8289\n",
      "Epoch 49/50\n",
      "1963/1963 [==============================] - 3s 1ms/step - loss: 0.6435 - recall_2: 0.7728\n",
      "Epoch 50/50\n",
      "1963/1963 [==============================] - 3s 2ms/step - loss: 0.6386 - recall_2: 0.7577\n",
      "123/123 [==============================] - 0s 994us/step - loss: 0.6600 - recall_2: 0.9346\n",
      "              precision    recall  f1-score   support\n",
      "\n",
      "           0       0.72      0.74      0.73      1952\n",
      "           1       0.74      0.72      0.73      1973\n",
      "\n",
      "    accuracy                           0.73      3925\n",
      "   macro avg       0.73      0.73      0.73      3925\n",
      "weighted avg       0.73      0.73      0.73      3925\n",
      "\n"
     ]
    }
   ],
   "source": [
    "model_r3 = keras.Sequential([\n",
    "      Dense(64, activation='relu', input_shape=(37,)),\n",
    "      Dense(8, activation='relu'),\n",
    "      Dense(1, activation='sigmoid')\n",
    "])\n",
    "\n",
    "model_r3.compile(optimizer='adam', loss='binary_crossentropy', metrics=[Recall()])\n",
    "    \n",
    "model_r3.fit(x_train_r, y_train_r, epochs=50, batch_size=8, verbose=1)\n",
    "\n",
    "y_pred_r3 = model_r3.predict(x_test_r).round()\n",
    "    \n",
    "loss, recall = model_r3.evaluate(x_test_r, y_test_r)\n",
    "print(classification_report(y_test_r, y_pred_r))"
   ]
  },
  {
   "cell_type": "code",
   "execution_count": 20,
   "metadata": {},
   "outputs": [
    {
     "name": "stdout",
     "output_type": "stream",
     "text": [
      "Epoch 1/50\n",
      "1963/1963 [==============================] - 3s 2ms/step - loss: 0.6688 - recall_3: 0.6183\n",
      "Epoch 2/50\n",
      "1963/1963 [==============================] - 3s 2ms/step - loss: 0.6479 - recall_3: 0.6609\n",
      "Epoch 3/50\n",
      "1963/1963 [==============================] - 3s 2ms/step - loss: 0.6374 - recall_3: 0.6653\n",
      "Epoch 4/50\n",
      "1963/1963 [==============================] - 3s 1ms/step - loss: 0.6277 - recall_3: 0.6807\n",
      "Epoch 5/50\n",
      "1963/1963 [==============================] - 3s 2ms/step - loss: 0.6180 - recall_3: 0.6906\n",
      "Epoch 6/50\n",
      "1963/1963 [==============================] - 3s 2ms/step - loss: 0.6100 - recall_3: 0.7071\n",
      "Epoch 7/50\n",
      "1963/1963 [==============================] - 3s 2ms/step - loss: 0.6029 - recall_3: 0.7183\n",
      "Epoch 8/50\n",
      "1963/1963 [==============================] - 3s 2ms/step - loss: 0.5971 - recall_3: 0.7250\n",
      "Epoch 9/50\n",
      "1963/1963 [==============================] - 3s 2ms/step - loss: 0.5893 - recall_3: 0.7352\n",
      "Epoch 10/50\n",
      "1963/1963 [==============================] - 3s 1ms/step - loss: 0.5847 - recall_3: 0.7375\n",
      "Epoch 11/50\n",
      "1963/1963 [==============================] - 3s 2ms/step - loss: 0.5779 - recall_3: 0.7447\n",
      "Epoch 12/50\n",
      "1963/1963 [==============================] - 3s 1ms/step - loss: 0.5729 - recall_3: 0.7521\n",
      "Epoch 13/50\n",
      "1963/1963 [==============================] - 3s 1ms/step - loss: 0.5680 - recall_3: 0.7589\n",
      "Epoch 14/50\n",
      "1963/1963 [==============================] - 3s 1ms/step - loss: 0.5630 - recall_3: 0.7622\n",
      "Epoch 15/50\n",
      "1963/1963 [==============================] - 3s 1ms/step - loss: 0.5570 - recall_3: 0.7622\n",
      "Epoch 16/50\n",
      "1963/1963 [==============================] - 3s 2ms/step - loss: 0.5519 - recall_3: 0.7690\n",
      "Epoch 17/50\n",
      "1963/1963 [==============================] - 3s 2ms/step - loss: 0.5507 - recall_3: 0.7634\n",
      "Epoch 18/50\n",
      "1963/1963 [==============================] - 3s 1ms/step - loss: 0.5442 - recall_3: 0.7740\n",
      "Epoch 19/50\n",
      "1963/1963 [==============================] - 3s 1ms/step - loss: 0.5413 - recall_3: 0.7788\n",
      "Epoch 20/50\n",
      "1963/1963 [==============================] - 3s 1ms/step - loss: 0.5396 - recall_3: 0.7719\n",
      "Epoch 21/50\n",
      "1963/1963 [==============================] - 3s 2ms/step - loss: 0.5359 - recall_3: 0.7770\n",
      "Epoch 22/50\n",
      "1963/1963 [==============================] - 3s 2ms/step - loss: 0.5318 - recall_3: 0.7815\n",
      "Epoch 23/50\n",
      "1963/1963 [==============================] - 3s 2ms/step - loss: 0.5296 - recall_3: 0.7834\n",
      "Epoch 24/50\n",
      "1963/1963 [==============================] - 3s 2ms/step - loss: 0.5257 - recall_3: 0.7879\n",
      "Epoch 25/50\n",
      "1963/1963 [==============================] - 3s 2ms/step - loss: 0.5242 - recall_3: 0.7859\n",
      "Epoch 26/50\n",
      "1963/1963 [==============================] - 3s 1ms/step - loss: 0.5213 - recall_3: 0.7945\n",
      "Epoch 27/50\n",
      "1963/1963 [==============================] - 3s 2ms/step - loss: 0.5165 - recall_3: 0.7900\n",
      "Epoch 28/50\n",
      "1963/1963 [==============================] - 3s 1ms/step - loss: 0.5150 - recall_3: 0.7981\n",
      "Epoch 29/50\n",
      "1963/1963 [==============================] - 3s 2ms/step - loss: 0.5133 - recall_3: 0.7977\n",
      "Epoch 30/50\n",
      "1963/1963 [==============================] - 3s 2ms/step - loss: 0.5124 - recall_3: 0.7960\n",
      "Epoch 31/50\n",
      "1963/1963 [==============================] - 2s 1ms/step - loss: 0.5114 - recall_3: 0.7944\n",
      "Epoch 32/50\n",
      "1963/1963 [==============================] - 3s 1ms/step - loss: 0.5072 - recall_3: 0.8030\n",
      "Epoch 33/50\n",
      "1963/1963 [==============================] - 3s 2ms/step - loss: 0.5043 - recall_3: 0.8070\n",
      "Epoch 34/50\n",
      "1963/1963 [==============================] - 2s 1ms/step - loss: 0.5039 - recall_3: 0.8042\n",
      "Epoch 35/50\n",
      "1963/1963 [==============================] - 3s 2ms/step - loss: 0.4998 - recall_3: 0.8076\n",
      "Epoch 36/50\n",
      "1963/1963 [==============================] - 3s 1ms/step - loss: 0.4976 - recall_3: 0.8053: \n",
      "Epoch 37/50\n",
      "1963/1963 [==============================] - 3s 2ms/step - loss: 0.4983 - recall_3: 0.8103\n",
      "Epoch 38/50\n",
      "1963/1963 [==============================] - 3s 1ms/step - loss: 0.4955 - recall_3: 0.8111\n",
      "Epoch 39/50\n",
      "1963/1963 [==============================] - 3s 2ms/step - loss: 0.4947 - recall_3: 0.8090\n",
      "Epoch 40/50\n",
      "1963/1963 [==============================] - 3s 2ms/step - loss: 0.4937 - recall_3: 0.8112\n",
      "Epoch 41/50\n",
      "1963/1963 [==============================] - 2s 1ms/step - loss: 0.4913 - recall_3: 0.8118\n",
      "Epoch 42/50\n",
      "1963/1963 [==============================] - 3s 1ms/step - loss: 0.4887 - recall_3: 0.8129\n",
      "Epoch 43/50\n",
      "1963/1963 [==============================] - 3s 2ms/step - loss: 0.4905 - recall_3: 0.8158\n",
      "Epoch 44/50\n",
      "1963/1963 [==============================] - 3s 1ms/step - loss: 0.4876 - recall_3: 0.8164\n",
      "Epoch 45/50\n",
      "1963/1963 [==============================] - 3s 2ms/step - loss: 0.4869 - recall_3: 0.8206\n",
      "Epoch 46/50\n",
      "1963/1963 [==============================] - 3s 2ms/step - loss: 0.4838 - recall_3: 0.8249\n",
      "Epoch 47/50\n",
      "1963/1963 [==============================] - 3s 2ms/step - loss: 0.4844 - recall_3: 0.8226\n",
      "Epoch 48/50\n",
      "1963/1963 [==============================] - 3s 1ms/step - loss: 0.4840 - recall_3: 0.8228: 0s - loss: 0.4800 - recall\n",
      "Epoch 49/50\n",
      "1963/1963 [==============================] - 3s 1ms/step - loss: 0.4811 - recall_3: 0.8197\n",
      "Epoch 50/50\n",
      "1963/1963 [==============================] - 3s 2ms/step - loss: 0.4826 - recall_3: 0.8254\n",
      "123/123 [==============================] - 0s 973us/step - loss: 0.5942 - recall_3: 0.8363\n",
      "              precision    recall  f1-score   support\n",
      "\n",
      "       False       0.71      0.56      0.63      1952\n",
      "        True       0.64      0.77      0.70      1973\n",
      "\n",
      "    accuracy                           0.67      3925\n",
      "   macro avg       0.67      0.67      0.66      3925\n",
      "weighted avg       0.67      0.67      0.66      3925\n",
      "\n"
     ]
    }
   ],
   "source": [
    "model_p3 = keras.Sequential([\n",
    "      Dense(64, activation='relu', input_shape=(23,)),\n",
    "      Dense(8, activation='relu'),\n",
    "      Dense(1, activation='sigmoid')\n",
    "])\n",
    "\n",
    "model_p3.compile(optimizer='adam', loss='binary_crossentropy', metrics=[Recall()])\n",
    "    \n",
    "model_p3.fit(x_train_pca, y_train_pca, epochs=50, batch_size=8, verbose=1)\n",
    "\n",
    "y_pred_p3 = model_p3.predict(x_test_pca).round()\n",
    "    \n",
    "loss, recall = model_p3.evaluate(x_test_pca, y_test_pca)\n",
    "print(classification_report(y_test_pca, y_pred_pca))"
   ]
  },
  {
   "cell_type": "markdown",
   "metadata": {},
   "source": [
    "### Weights and Biases"
   ]
  },
  {
   "cell_type": "code",
   "execution_count": 23,
   "metadata": {},
   "outputs": [
    {
     "name": "stdout",
     "output_type": "stream",
     "text": [
      "Requirement already satisfied: wandb in /opt/conda/lib/python3.7/site-packages (0.12.7)\n",
      "Requirement already satisfied: sentry-sdk>=1.0.0 in /opt/conda/lib/python3.7/site-packages (from wandb) (1.5.0)\n",
      "Requirement already satisfied: yaspin>=1.0.0 in /opt/conda/lib/python3.7/site-packages (from wandb) (2.1.0)\n",
      "Requirement already satisfied: six>=1.13.0 in /opt/conda/lib/python3.7/site-packages (from wandb) (1.16.0)\n",
      "Requirement already satisfied: psutil>=5.0.0 in /opt/conda/lib/python3.7/site-packages (from wandb) (5.8.0)\n",
      "Requirement already satisfied: docker-pycreds>=0.4.0 in /opt/conda/lib/python3.7/site-packages (from wandb) (0.4.0)\n",
      "Requirement already satisfied: PyYAML in /opt/conda/lib/python3.7/site-packages (from wandb) (6.0)\n",
      "Requirement already satisfied: subprocess32>=3.5.3 in /opt/conda/lib/python3.7/site-packages (from wandb) (3.5.4)\n",
      "Requirement already satisfied: promise<3,>=2.0 in /opt/conda/lib/python3.7/site-packages (from wandb) (2.3)\n",
      "Requirement already satisfied: shortuuid>=0.5.0 in /opt/conda/lib/python3.7/site-packages (from wandb) (1.0.8)\n",
      "Requirement already satisfied: pathtools in /opt/conda/lib/python3.7/site-packages (from wandb) (0.1.2)\n",
      "Requirement already satisfied: protobuf>=3.12.0 in /opt/conda/lib/python3.7/site-packages (from wandb) (3.18.1)\n",
      "Requirement already satisfied: GitPython>=1.0.0 in /opt/conda/lib/python3.7/site-packages (from wandb) (3.1.24)\n",
      "Requirement already satisfied: configparser>=3.8.1 in /opt/conda/lib/python3.7/site-packages (from wandb) (5.1.0)\n",
      "Requirement already satisfied: python-dateutil>=2.6.1 in /opt/conda/lib/python3.7/site-packages (from wandb) (2.8.2)\n",
      "Requirement already satisfied: requests<3,>=2.0.0 in /opt/conda/lib/python3.7/site-packages (from wandb) (2.26.0)\n",
      "Requirement already satisfied: Click!=8.0.0,>=7.0 in /opt/conda/lib/python3.7/site-packages (from wandb) (7.1.2)\n",
      "Requirement already satisfied: typing-extensions>=3.7.4.3 in /opt/conda/lib/python3.7/site-packages (from GitPython>=1.0.0->wandb) (4.0.0)\n",
      "Requirement already satisfied: gitdb<5,>=4.0.1 in /opt/conda/lib/python3.7/site-packages (from GitPython>=1.0.0->wandb) (4.0.9)\n",
      "Requirement already satisfied: charset-normalizer~=2.0.0 in /opt/conda/lib/python3.7/site-packages (from requests<3,>=2.0.0->wandb) (2.0.8)\n",
      "Requirement already satisfied: urllib3<1.27,>=1.21.1 in /opt/conda/lib/python3.7/site-packages (from requests<3,>=2.0.0->wandb) (1.26.7)\n",
      "Requirement already satisfied: idna<4,>=2.5 in /opt/conda/lib/python3.7/site-packages (from requests<3,>=2.0.0->wandb) (3.1)\n",
      "Requirement already satisfied: certifi>=2017.4.17 in /opt/conda/lib/python3.7/site-packages (from requests<3,>=2.0.0->wandb) (2021.10.8)\n",
      "Requirement already satisfied: termcolor<2.0.0,>=1.1.0 in /opt/conda/lib/python3.7/site-packages (from yaspin>=1.0.0->wandb) (1.1.0)\n",
      "Requirement already satisfied: smmap<6,>=3.0.1 in /opt/conda/lib/python3.7/site-packages (from gitdb<5,>=4.0.1->GitPython>=1.0.0->wandb) (5.0.0)\n",
      "Note: you may need to restart the kernel to use updated packages.\n"
     ]
    }
   ],
   "source": [
    "pip install wandb"
   ]
  },
  {
   "cell_type": "code",
   "execution_count": 27,
   "metadata": {},
   "outputs": [
    {
     "name": "stderr",
     "output_type": "stream",
     "text": [
      "Failed to detect the name of this notebook, you can set it manually with the WANDB_NOTEBOOK_NAME environment variable to enable code saving.\n",
      "\u001b[34m\u001b[1mwandb\u001b[0m: Currently logged in as: \u001b[33mort_masterbigdata_2023\u001b[0m (use `wandb login --relogin` to force relogin)\n"
     ]
    },
    {
     "data": {
      "text/plain": [
       "True"
      ]
     },
     "execution_count": 27,
     "metadata": {},
     "output_type": "execute_result"
    }
   ],
   "source": [
    "import wandb\n",
    "wandb.login()"
   ]
  },
  {
   "cell_type": "code",
   "execution_count": 28,
   "metadata": {},
   "outputs": [
    {
     "name": "stderr",
     "output_type": "stream",
     "text": [
      "\u001b[34m\u001b[1mwandb\u001b[0m: wandb version 0.19.9 is available!  To upgrade, please run:\n",
      "\u001b[34m\u001b[1mwandb\u001b[0m:  $ pip install wandb --upgrade\n"
     ]
    },
    {
     "data": {
      "text/html": [
       "\n",
       "                    Syncing run <strong><a href=\"https://wandb.ai/ort_masterbigdata_2023/trabajo_final_nps_itau/runs/2p1xsh7s\" target=\"_blank\">copper-rain-94</a></strong> to <a href=\"https://wandb.ai/ort_masterbigdata_2023/trabajo_final_nps_itau\" target=\"_blank\">Weights & Biases</a> (<a href=\"https://docs.wandb.com/integrations/jupyter.html\" target=\"_blank\">docs</a>).<br/>\n",
       "\n",
       "                "
      ],
      "text/plain": [
       "<IPython.core.display.HTML object>"
      ]
     },
     "metadata": {},
     "output_type": "display_data"
    }
   ],
   "source": [
    "project = 'trabajo_final_nps_itau'\n",
    "wandb.init(project=project)\n",
    "\n",
    "# Hiperparámetros\n",
    "config = wandb.config\n",
    "config.learning_rate = 0.01\n",
    "config.epochs = 50\n",
    "config.batch_size = 32\n",
    "           \n",
    "recall = recall_score(y_test_r, y_pred_r)\n",
    "wandb.log({\"recall\": recall})\n",
    "\n",
    "# Ejemplo de entrenamiento dummy\n",
    "for epoch in range(config.epochs):\n",
    "    loss = 0.01 * epoch  # Simulación de pérdida\n",
    "    acc = 1 - loss       # Simulación de accuracy\n",
    "    recall = recall\n",
    "    wandb.log({\"epoch\": epoch, \"loss\": loss, \"accuracy\": acc, \"recall\":recall})"
   ]
  },
  {
   "cell_type": "code",
   "execution_count": 29,
   "metadata": {},
   "outputs": [
    {
     "data": {
      "text/plain": [
       "[]"
      ]
     },
     "execution_count": 29,
     "metadata": {},
     "output_type": "execute_result"
    }
   ],
   "source": [
    "wandb.save('red_3capas.h5')"
   ]
  },
  {
   "cell_type": "markdown",
   "metadata": {},
   "source": [
    "####  Optimización de Parámetros"
   ]
  },
  {
   "cell_type": "code",
   "execution_count": 30,
   "metadata": {},
   "outputs": [],
   "source": [
    "def train():\n",
    "    # Inicializar wandb y acceder a los hiperparámetros\n",
    "    with wandb.init() as run:\n",
    "        config = wandb.config\n",
    "        \n",
    "        for epoch in range(10):\n",
    "            loss = 1 / (config.learning_rate * (epoch + 1))\n",
    "            wandb.log({\"epoch\": epoch, \"loss\": loss, \"recall\":recall})"
   ]
  },
  {
   "cell_type": "code",
   "execution_count": 31,
   "metadata": {},
   "outputs": [],
   "source": [
    "sweep_config = {\n",
    "    'method': 'random',  # también puede ser 'grid' o 'bayes'\n",
    "    'metric': {\n",
    "        'name': 'loss',\n",
    "        'goal': 'minimize'\n",
    "    },\n",
    "    'parameters': {\n",
    "        'learning_rate': {\n",
    "            'min': 0.0001,\n",
    "            'max': 0.1\n",
    "        },\n",
    "        'batch_size': {\n",
    "            'values': [16, 32, 64]\n",
    "        }\n",
    "    }\n",
    "}"
   ]
  },
  {
   "cell_type": "code",
   "execution_count": 32,
   "metadata": {},
   "outputs": [
    {
     "name": "stderr",
     "output_type": "stream",
     "text": [
      "\u001b[34m\u001b[1mwandb\u001b[0m: \u001b[33mWARNING\u001b[0m Calling wandb.login() after wandb.init() has no effect.\n"
     ]
    },
    {
     "name": "stdout",
     "output_type": "stream",
     "text": [
      "Create sweep with ID: frjklye1\n",
      "Sweep URL: https://wandb.ai/ort_masterbigdata_2023/trabajo_final_nps_itau/sweeps/frjklye1\n"
     ]
    }
   ],
   "source": [
    "sweep_id = wandb.sweep(sweep=sweep_config, project=project)"
   ]
  },
  {
   "cell_type": "code",
   "execution_count": 33,
   "metadata": {},
   "outputs": [
    {
     "name": "stderr",
     "output_type": "stream",
     "text": [
      "\u001b[34m\u001b[1mwandb\u001b[0m: \u001b[33mWARNING\u001b[0m Calling wandb.login() after wandb.init() has no effect.\n",
      "\u001b[34m\u001b[1mwandb\u001b[0m: Agent Starting Run: 9iwk84nk with config:\n",
      "\u001b[34m\u001b[1mwandb\u001b[0m: \tbatch_size: 64\n",
      "\u001b[34m\u001b[1mwandb\u001b[0m: \tlearning_rate: 0.002860281813977048\n",
      "\u001b[34m\u001b[1mwandb\u001b[0m: wandb version 0.19.9 is available!  To upgrade, please run:\n",
      "\u001b[34m\u001b[1mwandb\u001b[0m:  $ pip install wandb --upgrade\n"
     ]
    },
    {
     "data": {
      "text/html": [
       "\n",
       "                    Syncing run <strong><a href=\"https://wandb.ai/ort_masterbigdata_2023/trabajo_final_nps_itau/runs/9iwk84nk\" target=\"_blank\">fine-sweep-1</a></strong> to <a href=\"https://wandb.ai/ort_masterbigdata_2023/trabajo_final_nps_itau\" target=\"_blank\">Weights & Biases</a> (<a href=\"https://docs.wandb.com/integrations/jupyter.html\" target=\"_blank\">docs</a>).<br/>\n",
       "Sweep page: <a href=\"https://wandb.ai/ort_masterbigdata_2023/trabajo_final_nps_itau/sweeps/frjklye1\" target=\"_blank\">https://wandb.ai/ort_masterbigdata_2023/trabajo_final_nps_itau/sweeps/frjklye1</a><br/>\n",
       "\n",
       "                "
      ],
      "text/plain": [
       "<IPython.core.display.HTML object>"
      ]
     },
     "metadata": {},
     "output_type": "display_data"
    },
    {
     "data": {
      "text/html": [
       "<br/>Waiting for W&B process to finish, PID 330... <strong style=\"color:green\">(success).</strong>"
      ],
      "text/plain": [
       "<IPython.core.display.HTML object>"
      ]
     },
     "metadata": {},
     "output_type": "display_data"
    },
    {
     "data": {
      "application/vnd.jupyter.widget-view+json": {
       "model_id": "",
       "version_major": 2,
       "version_minor": 0
      },
      "text/plain": [
       "VBox(children=(Label(value=' 0.00MB of 0.00MB uploaded (0.00MB deduped)\\r'), FloatProgress(value=1.0, max=1.0)…"
      ]
     },
     "metadata": {},
     "output_type": "display_data"
    },
    {
     "data": {
      "text/html": [
       "<style>\n",
       "    table.wandb td:nth-child(1) { padding: 0 10px; text-align: right }\n",
       "    .wandb-row { display: flex; flex-direction: row; flex-wrap: wrap; width: 100% }\n",
       "    .wandb-col { display: flex; flex-direction: column; flex-basis: 100%; flex: 1; padding: 10px; }\n",
       "    </style>\n",
       "<div class=\"wandb-row\"><div class=\"wandb-col\">\n",
       "<h3>Run history:</h3><br/><table class=\"wandb\"><tr><td>epoch</td><td>▁▂▃▃▄▅▆▆▇█</td></tr><tr><td>loss</td><td>█▄▃▂▂▂▁▁▁▁</td></tr><tr><td>recall</td><td>▁▁▁▁▁▁▁▁▁▁</td></tr></table><br/></div><div class=\"wandb-col\">\n",
       "<h3>Run summary:</h3><br/><table class=\"wandb\"><tr><td>epoch</td><td>9</td></tr><tr><td>loss</td><td>34.96159</td></tr><tr><td>recall</td><td>0.71515</td></tr></table>\n",
       "</div></div>\n",
       "Synced 4 W&B file(s), 0 media file(s), 0 artifact file(s) and 0 other file(s)\n",
       "<br/>Synced <strong style=\"color:#cdcd00\">fine-sweep-1</strong>: <a href=\"https://wandb.ai/ort_masterbigdata_2023/trabajo_final_nps_itau/runs/9iwk84nk\" target=\"_blank\">https://wandb.ai/ort_masterbigdata_2023/trabajo_final_nps_itau/runs/9iwk84nk</a><br/>\n",
       "Find logs at: <code>./wandb/run-20250414_160241-9iwk84nk/logs</code><br/>\n"
      ],
      "text/plain": [
       "<IPython.core.display.HTML object>"
      ]
     },
     "metadata": {},
     "output_type": "display_data"
    },
    {
     "name": "stderr",
     "output_type": "stream",
     "text": [
      "\u001b[34m\u001b[1mwandb\u001b[0m: Agent Starting Run: m1bhpthg with config:\n",
      "\u001b[34m\u001b[1mwandb\u001b[0m: \tbatch_size: 32\n",
      "\u001b[34m\u001b[1mwandb\u001b[0m: \tlearning_rate: 0.020796526213385503\n",
      "\u001b[34m\u001b[1mwandb\u001b[0m: wandb version 0.19.9 is available!  To upgrade, please run:\n",
      "\u001b[34m\u001b[1mwandb\u001b[0m:  $ pip install wandb --upgrade\n"
     ]
    },
    {
     "data": {
      "text/html": [
       "\n",
       "                    Syncing run <strong><a href=\"https://wandb.ai/ort_masterbigdata_2023/trabajo_final_nps_itau/runs/m1bhpthg\" target=\"_blank\">worthy-sweep-2</a></strong> to <a href=\"https://wandb.ai/ort_masterbigdata_2023/trabajo_final_nps_itau\" target=\"_blank\">Weights & Biases</a> (<a href=\"https://docs.wandb.com/integrations/jupyter.html\" target=\"_blank\">docs</a>).<br/>\n",
       "Sweep page: <a href=\"https://wandb.ai/ort_masterbigdata_2023/trabajo_final_nps_itau/sweeps/frjklye1\" target=\"_blank\">https://wandb.ai/ort_masterbigdata_2023/trabajo_final_nps_itau/sweeps/frjklye1</a><br/>\n",
       "\n",
       "                "
      ],
      "text/plain": [
       "<IPython.core.display.HTML object>"
      ]
     },
     "metadata": {},
     "output_type": "display_data"
    },
    {
     "data": {
      "text/html": [
       "<br/>Waiting for W&B process to finish, PID 436... <strong style=\"color:green\">(success).</strong>"
      ],
      "text/plain": [
       "<IPython.core.display.HTML object>"
      ]
     },
     "metadata": {},
     "output_type": "display_data"
    },
    {
     "data": {
      "application/vnd.jupyter.widget-view+json": {
       "model_id": "",
       "version_major": 2,
       "version_minor": 0
      },
      "text/plain": [
       "VBox(children=(Label(value=' 0.00MB of 0.00MB uploaded (0.00MB deduped)\\r'), FloatProgress(value=1.0, max=1.0)…"
      ]
     },
     "metadata": {},
     "output_type": "display_data"
    },
    {
     "data": {
      "text/html": [
       "<style>\n",
       "    table.wandb td:nth-child(1) { padding: 0 10px; text-align: right }\n",
       "    .wandb-row { display: flex; flex-direction: row; flex-wrap: wrap; width: 100% }\n",
       "    .wandb-col { display: flex; flex-direction: column; flex-basis: 100%; flex: 1; padding: 10px; }\n",
       "    </style>\n",
       "<div class=\"wandb-row\"><div class=\"wandb-col\">\n",
       "<h3>Run history:</h3><br/><table class=\"wandb\"><tr><td>epoch</td><td>▁▂▃▃▄▅▆▆▇█</td></tr><tr><td>loss</td><td>█▄▃▂▂▂▁▁▁▁</td></tr><tr><td>recall</td><td>▁▁▁▁▁▁▁▁▁▁</td></tr></table><br/></div><div class=\"wandb-col\">\n",
       "<h3>Run summary:</h3><br/><table class=\"wandb\"><tr><td>epoch</td><td>9</td></tr><tr><td>loss</td><td>4.8085</td></tr><tr><td>recall</td><td>0.71515</td></tr></table>\n",
       "</div></div>\n",
       "Synced 4 W&B file(s), 0 media file(s), 0 artifact file(s) and 0 other file(s)\n",
       "<br/>Synced <strong style=\"color:#cdcd00\">worthy-sweep-2</strong>: <a href=\"https://wandb.ai/ort_masterbigdata_2023/trabajo_final_nps_itau/runs/m1bhpthg\" target=\"_blank\">https://wandb.ai/ort_masterbigdata_2023/trabajo_final_nps_itau/runs/m1bhpthg</a><br/>\n",
       "Find logs at: <code>./wandb/run-20250414_160252-m1bhpthg/logs</code><br/>\n"
      ],
      "text/plain": [
       "<IPython.core.display.HTML object>"
      ]
     },
     "metadata": {},
     "output_type": "display_data"
    },
    {
     "name": "stderr",
     "output_type": "stream",
     "text": [
      "\u001b[34m\u001b[1mwandb\u001b[0m: Agent Starting Run: aex8v7ol with config:\n",
      "\u001b[34m\u001b[1mwandb\u001b[0m: \tbatch_size: 32\n",
      "\u001b[34m\u001b[1mwandb\u001b[0m: \tlearning_rate: 0.018208359917665905\n",
      "\u001b[34m\u001b[1mwandb\u001b[0m: wandb version 0.19.9 is available!  To upgrade, please run:\n",
      "\u001b[34m\u001b[1mwandb\u001b[0m:  $ pip install wandb --upgrade\n"
     ]
    },
    {
     "data": {
      "text/html": [
       "\n",
       "                    Syncing run <strong><a href=\"https://wandb.ai/ort_masterbigdata_2023/trabajo_final_nps_itau/runs/aex8v7ol\" target=\"_blank\">sparkling-sweep-3</a></strong> to <a href=\"https://wandb.ai/ort_masterbigdata_2023/trabajo_final_nps_itau\" target=\"_blank\">Weights & Biases</a> (<a href=\"https://docs.wandb.com/integrations/jupyter.html\" target=\"_blank\">docs</a>).<br/>\n",
       "Sweep page: <a href=\"https://wandb.ai/ort_masterbigdata_2023/trabajo_final_nps_itau/sweeps/frjklye1\" target=\"_blank\">https://wandb.ai/ort_masterbigdata_2023/trabajo_final_nps_itau/sweeps/frjklye1</a><br/>\n",
       "\n",
       "                "
      ],
      "text/plain": [
       "<IPython.core.display.HTML object>"
      ]
     },
     "metadata": {},
     "output_type": "display_data"
    },
    {
     "data": {
      "text/html": [
       "<br/>Waiting for W&B process to finish, PID 710... <strong style=\"color:green\">(success).</strong>"
      ],
      "text/plain": [
       "<IPython.core.display.HTML object>"
      ]
     },
     "metadata": {},
     "output_type": "display_data"
    },
    {
     "data": {
      "application/vnd.jupyter.widget-view+json": {
       "model_id": "",
       "version_major": 2,
       "version_minor": 0
      },
      "text/plain": [
       "VBox(children=(Label(value=' 0.00MB of 0.00MB uploaded (0.00MB deduped)\\r'), FloatProgress(value=1.0, max=1.0)…"
      ]
     },
     "metadata": {},
     "output_type": "display_data"
    },
    {
     "data": {
      "text/html": [
       "<style>\n",
       "    table.wandb td:nth-child(1) { padding: 0 10px; text-align: right }\n",
       "    .wandb-row { display: flex; flex-direction: row; flex-wrap: wrap; width: 100% }\n",
       "    .wandb-col { display: flex; flex-direction: column; flex-basis: 100%; flex: 1; padding: 10px; }\n",
       "    </style>\n",
       "<div class=\"wandb-row\"><div class=\"wandb-col\">\n",
       "<h3>Run history:</h3><br/><table class=\"wandb\"><tr><td>epoch</td><td>▁▂▃▃▄▅▆▆▇█</td></tr><tr><td>loss</td><td>█▄▃▂▂▂▁▁▁▁</td></tr><tr><td>recall</td><td>▁▁▁▁▁▁▁▁▁▁</td></tr></table><br/></div><div class=\"wandb-col\">\n",
       "<h3>Run summary:</h3><br/><table class=\"wandb\"><tr><td>epoch</td><td>9</td></tr><tr><td>loss</td><td>5.49198</td></tr><tr><td>recall</td><td>0.71515</td></tr></table>\n",
       "</div></div>\n",
       "Synced 4 W&B file(s), 0 media file(s), 0 artifact file(s) and 0 other file(s)\n",
       "<br/>Synced <strong style=\"color:#cdcd00\">sparkling-sweep-3</strong>: <a href=\"https://wandb.ai/ort_masterbigdata_2023/trabajo_final_nps_itau/runs/aex8v7ol\" target=\"_blank\">https://wandb.ai/ort_masterbigdata_2023/trabajo_final_nps_itau/runs/aex8v7ol</a><br/>\n",
       "Find logs at: <code>./wandb/run-20250414_160303-aex8v7ol/logs</code><br/>\n"
      ],
      "text/plain": [
       "<IPython.core.display.HTML object>"
      ]
     },
     "metadata": {},
     "output_type": "display_data"
    },
    {
     "name": "stderr",
     "output_type": "stream",
     "text": [
      "\u001b[34m\u001b[1mwandb\u001b[0m: Agent Starting Run: bfjdsclq with config:\n",
      "\u001b[34m\u001b[1mwandb\u001b[0m: \tbatch_size: 16\n",
      "\u001b[34m\u001b[1mwandb\u001b[0m: \tlearning_rate: 0.09248747925890678\n",
      "\u001b[34m\u001b[1mwandb\u001b[0m: wandb version 0.19.9 is available!  To upgrade, please run:\n",
      "\u001b[34m\u001b[1mwandb\u001b[0m:  $ pip install wandb --upgrade\n"
     ]
    },
    {
     "data": {
      "text/html": [
       "\n",
       "                    Syncing run <strong><a href=\"https://wandb.ai/ort_masterbigdata_2023/trabajo_final_nps_itau/runs/bfjdsclq\" target=\"_blank\">wandering-sweep-4</a></strong> to <a href=\"https://wandb.ai/ort_masterbigdata_2023/trabajo_final_nps_itau\" target=\"_blank\">Weights & Biases</a> (<a href=\"https://docs.wandb.com/integrations/jupyter.html\" target=\"_blank\">docs</a>).<br/>\n",
       "Sweep page: <a href=\"https://wandb.ai/ort_masterbigdata_2023/trabajo_final_nps_itau/sweeps/frjklye1\" target=\"_blank\">https://wandb.ai/ort_masterbigdata_2023/trabajo_final_nps_itau/sweeps/frjklye1</a><br/>\n",
       "\n",
       "                "
      ],
      "text/plain": [
       "<IPython.core.display.HTML object>"
      ]
     },
     "metadata": {},
     "output_type": "display_data"
    },
    {
     "data": {
      "text/html": [
       "<br/>Waiting for W&B process to finish, PID 816... <strong style=\"color:green\">(success).</strong>"
      ],
      "text/plain": [
       "<IPython.core.display.HTML object>"
      ]
     },
     "metadata": {},
     "output_type": "display_data"
    },
    {
     "data": {
      "application/vnd.jupyter.widget-view+json": {
       "model_id": "",
       "version_major": 2,
       "version_minor": 0
      },
      "text/plain": [
       "VBox(children=(Label(value=' 0.00MB of 0.00MB uploaded (0.00MB deduped)\\r'), FloatProgress(value=1.0, max=1.0)…"
      ]
     },
     "metadata": {},
     "output_type": "display_data"
    },
    {
     "data": {
      "text/html": [
       "<style>\n",
       "    table.wandb td:nth-child(1) { padding: 0 10px; text-align: right }\n",
       "    .wandb-row { display: flex; flex-direction: row; flex-wrap: wrap; width: 100% }\n",
       "    .wandb-col { display: flex; flex-direction: column; flex-basis: 100%; flex: 1; padding: 10px; }\n",
       "    </style>\n",
       "<div class=\"wandb-row\"><div class=\"wandb-col\">\n",
       "<h3>Run history:</h3><br/><table class=\"wandb\"><tr><td>epoch</td><td>▁▂▃▃▄▅▆▆▇█</td></tr><tr><td>loss</td><td>█▄▃▂▂▂▁▁▁▁</td></tr><tr><td>recall</td><td>▁▁▁▁▁▁▁▁▁▁</td></tr></table><br/></div><div class=\"wandb-col\">\n",
       "<h3>Run summary:</h3><br/><table class=\"wandb\"><tr><td>epoch</td><td>9</td></tr><tr><td>loss</td><td>1.08123</td></tr><tr><td>recall</td><td>0.71515</td></tr></table>\n",
       "</div></div>\n",
       "Synced 4 W&B file(s), 0 media file(s), 0 artifact file(s) and 0 other file(s)\n",
       "<br/>Synced <strong style=\"color:#cdcd00\">wandering-sweep-4</strong>: <a href=\"https://wandb.ai/ort_masterbigdata_2023/trabajo_final_nps_itau/runs/bfjdsclq\" target=\"_blank\">https://wandb.ai/ort_masterbigdata_2023/trabajo_final_nps_itau/runs/bfjdsclq</a><br/>\n",
       "Find logs at: <code>./wandb/run-20250414_160313-bfjdsclq/logs</code><br/>\n"
      ],
      "text/plain": [
       "<IPython.core.display.HTML object>"
      ]
     },
     "metadata": {},
     "output_type": "display_data"
    },
    {
     "name": "stderr",
     "output_type": "stream",
     "text": [
      "\u001b[34m\u001b[1mwandb\u001b[0m: Agent Starting Run: 7gh8lfav with config:\n",
      "\u001b[34m\u001b[1mwandb\u001b[0m: \tbatch_size: 64\n",
      "\u001b[34m\u001b[1mwandb\u001b[0m: \tlearning_rate: 0.04266239770153933\n",
      "\u001b[34m\u001b[1mwandb\u001b[0m: wandb version 0.19.9 is available!  To upgrade, please run:\n",
      "\u001b[34m\u001b[1mwandb\u001b[0m:  $ pip install wandb --upgrade\n"
     ]
    },
    {
     "data": {
      "text/html": [
       "\n",
       "                    Syncing run <strong><a href=\"https://wandb.ai/ort_masterbigdata_2023/trabajo_final_nps_itau/runs/7gh8lfav\" target=\"_blank\">astral-sweep-5</a></strong> to <a href=\"https://wandb.ai/ort_masterbigdata_2023/trabajo_final_nps_itau\" target=\"_blank\">Weights & Biases</a> (<a href=\"https://docs.wandb.com/integrations/jupyter.html\" target=\"_blank\">docs</a>).<br/>\n",
       "Sweep page: <a href=\"https://wandb.ai/ort_masterbigdata_2023/trabajo_final_nps_itau/sweeps/frjklye1\" target=\"_blank\">https://wandb.ai/ort_masterbigdata_2023/trabajo_final_nps_itau/sweeps/frjklye1</a><br/>\n",
       "\n",
       "                "
      ],
      "text/plain": [
       "<IPython.core.display.HTML object>"
      ]
     },
     "metadata": {},
     "output_type": "display_data"
    },
    {
     "data": {
      "text/html": [
       "<br/>Waiting for W&B process to finish, PID 922... <strong style=\"color:green\">(success).</strong>"
      ],
      "text/plain": [
       "<IPython.core.display.HTML object>"
      ]
     },
     "metadata": {},
     "output_type": "display_data"
    },
    {
     "data": {
      "application/vnd.jupyter.widget-view+json": {
       "model_id": "",
       "version_major": 2,
       "version_minor": 0
      },
      "text/plain": [
       "VBox(children=(Label(value=' 0.00MB of 0.00MB uploaded (0.00MB deduped)\\r'), FloatProgress(value=1.0, max=1.0)…"
      ]
     },
     "metadata": {},
     "output_type": "display_data"
    },
    {
     "data": {
      "text/html": [
       "<style>\n",
       "    table.wandb td:nth-child(1) { padding: 0 10px; text-align: right }\n",
       "    .wandb-row { display: flex; flex-direction: row; flex-wrap: wrap; width: 100% }\n",
       "    .wandb-col { display: flex; flex-direction: column; flex-basis: 100%; flex: 1; padding: 10px; }\n",
       "    </style>\n",
       "<div class=\"wandb-row\"><div class=\"wandb-col\">\n",
       "<h3>Run history:</h3><br/><table class=\"wandb\"><tr><td>epoch</td><td>▁▂▃▃▄▅▆▆▇█</td></tr><tr><td>loss</td><td>█▄▃▂▂▂▁▁▁▁</td></tr><tr><td>recall</td><td>▁▁▁▁▁▁▁▁▁▁</td></tr></table><br/></div><div class=\"wandb-col\">\n",
       "<h3>Run summary:</h3><br/><table class=\"wandb\"><tr><td>epoch</td><td>9</td></tr><tr><td>loss</td><td>2.34398</td></tr><tr><td>recall</td><td>0.71515</td></tr></table>\n",
       "</div></div>\n",
       "Synced 4 W&B file(s), 0 media file(s), 0 artifact file(s) and 0 other file(s)\n",
       "<br/>Synced <strong style=\"color:#cdcd00\">astral-sweep-5</strong>: <a href=\"https://wandb.ai/ort_masterbigdata_2023/trabajo_final_nps_itau/runs/7gh8lfav\" target=\"_blank\">https://wandb.ai/ort_masterbigdata_2023/trabajo_final_nps_itau/runs/7gh8lfav</a><br/>\n",
       "Find logs at: <code>./wandb/run-20250414_160324-7gh8lfav/logs</code><br/>\n"
      ],
      "text/plain": [
       "<IPython.core.display.HTML object>"
      ]
     },
     "metadata": {},
     "output_type": "display_data"
    },
    {
     "name": "stderr",
     "output_type": "stream",
     "text": [
      "\u001b[34m\u001b[1mwandb\u001b[0m: Agent Starting Run: qgfob2kz with config:\n",
      "\u001b[34m\u001b[1mwandb\u001b[0m: \tbatch_size: 16\n",
      "\u001b[34m\u001b[1mwandb\u001b[0m: \tlearning_rate: 0.027517625244927516\n",
      "\u001b[34m\u001b[1mwandb\u001b[0m: wandb version 0.19.9 is available!  To upgrade, please run:\n",
      "\u001b[34m\u001b[1mwandb\u001b[0m:  $ pip install wandb --upgrade\n"
     ]
    },
    {
     "data": {
      "text/html": [
       "\n",
       "                    Syncing run <strong><a href=\"https://wandb.ai/ort_masterbigdata_2023/trabajo_final_nps_itau/runs/qgfob2kz\" target=\"_blank\">expert-sweep-6</a></strong> to <a href=\"https://wandb.ai/ort_masterbigdata_2023/trabajo_final_nps_itau\" target=\"_blank\">Weights & Biases</a> (<a href=\"https://docs.wandb.com/integrations/jupyter.html\" target=\"_blank\">docs</a>).<br/>\n",
       "Sweep page: <a href=\"https://wandb.ai/ort_masterbigdata_2023/trabajo_final_nps_itau/sweeps/frjklye1\" target=\"_blank\">https://wandb.ai/ort_masterbigdata_2023/trabajo_final_nps_itau/sweeps/frjklye1</a><br/>\n",
       "\n",
       "                "
      ],
      "text/plain": [
       "<IPython.core.display.HTML object>"
      ]
     },
     "metadata": {},
     "output_type": "display_data"
    },
    {
     "data": {
      "text/html": [
       "<br/>Waiting for W&B process to finish, PID 1028... <strong style=\"color:green\">(success).</strong>"
      ],
      "text/plain": [
       "<IPython.core.display.HTML object>"
      ]
     },
     "metadata": {},
     "output_type": "display_data"
    },
    {
     "data": {
      "application/vnd.jupyter.widget-view+json": {
       "model_id": "",
       "version_major": 2,
       "version_minor": 0
      },
      "text/plain": [
       "VBox(children=(Label(value=' 0.00MB of 0.00MB uploaded (0.00MB deduped)\\r'), FloatProgress(value=1.0, max=1.0)…"
      ]
     },
     "metadata": {},
     "output_type": "display_data"
    },
    {
     "data": {
      "text/html": [
       "<style>\n",
       "    table.wandb td:nth-child(1) { padding: 0 10px; text-align: right }\n",
       "    .wandb-row { display: flex; flex-direction: row; flex-wrap: wrap; width: 100% }\n",
       "    .wandb-col { display: flex; flex-direction: column; flex-basis: 100%; flex: 1; padding: 10px; }\n",
       "    </style>\n",
       "<div class=\"wandb-row\"><div class=\"wandb-col\">\n",
       "<h3>Run history:</h3><br/><table class=\"wandb\"><tr><td>epoch</td><td>▁▂▃▃▄▅▆▆▇█</td></tr><tr><td>loss</td><td>█▄▃▂▂▂▁▁▁▁</td></tr><tr><td>recall</td><td>▁▁▁▁▁▁▁▁▁▁</td></tr></table><br/></div><div class=\"wandb-col\">\n",
       "<h3>Run summary:</h3><br/><table class=\"wandb\"><tr><td>epoch</td><td>9</td></tr><tr><td>loss</td><td>3.63403</td></tr><tr><td>recall</td><td>0.71515</td></tr></table>\n",
       "</div></div>\n",
       "Synced 4 W&B file(s), 0 media file(s), 0 artifact file(s) and 0 other file(s)\n",
       "<br/>Synced <strong style=\"color:#cdcd00\">expert-sweep-6</strong>: <a href=\"https://wandb.ai/ort_masterbigdata_2023/trabajo_final_nps_itau/runs/qgfob2kz\" target=\"_blank\">https://wandb.ai/ort_masterbigdata_2023/trabajo_final_nps_itau/runs/qgfob2kz</a><br/>\n",
       "Find logs at: <code>./wandb/run-20250414_160335-qgfob2kz/logs</code><br/>\n"
      ],
      "text/plain": [
       "<IPython.core.display.HTML object>"
      ]
     },
     "metadata": {},
     "output_type": "display_data"
    },
    {
     "name": "stderr",
     "output_type": "stream",
     "text": [
      "\u001b[34m\u001b[1mwandb\u001b[0m: Agent Starting Run: hohx6sut with config:\n",
      "\u001b[34m\u001b[1mwandb\u001b[0m: \tbatch_size: 32\n",
      "\u001b[34m\u001b[1mwandb\u001b[0m: \tlearning_rate: 0.08134934005265824\n",
      "\u001b[34m\u001b[1mwandb\u001b[0m: wandb version 0.19.9 is available!  To upgrade, please run:\n",
      "\u001b[34m\u001b[1mwandb\u001b[0m:  $ pip install wandb --upgrade\n"
     ]
    },
    {
     "data": {
      "text/html": [
       "\n",
       "                    Syncing run <strong><a href=\"https://wandb.ai/ort_masterbigdata_2023/trabajo_final_nps_itau/runs/hohx6sut\" target=\"_blank\">vivid-sweep-7</a></strong> to <a href=\"https://wandb.ai/ort_masterbigdata_2023/trabajo_final_nps_itau\" target=\"_blank\">Weights & Biases</a> (<a href=\"https://docs.wandb.com/integrations/jupyter.html\" target=\"_blank\">docs</a>).<br/>\n",
       "Sweep page: <a href=\"https://wandb.ai/ort_masterbigdata_2023/trabajo_final_nps_itau/sweeps/frjklye1\" target=\"_blank\">https://wandb.ai/ort_masterbigdata_2023/trabajo_final_nps_itau/sweeps/frjklye1</a><br/>\n",
       "\n",
       "                "
      ],
      "text/plain": [
       "<IPython.core.display.HTML object>"
      ]
     },
     "metadata": {},
     "output_type": "display_data"
    },
    {
     "data": {
      "text/html": [
       "<br/>Waiting for W&B process to finish, PID 1134... <strong style=\"color:green\">(success).</strong>"
      ],
      "text/plain": [
       "<IPython.core.display.HTML object>"
      ]
     },
     "metadata": {},
     "output_type": "display_data"
    },
    {
     "data": {
      "application/vnd.jupyter.widget-view+json": {
       "model_id": "",
       "version_major": 2,
       "version_minor": 0
      },
      "text/plain": [
       "VBox(children=(Label(value=' 0.00MB of 0.00MB uploaded (0.00MB deduped)\\r'), FloatProgress(value=1.0, max=1.0)…"
      ]
     },
     "metadata": {},
     "output_type": "display_data"
    },
    {
     "data": {
      "text/html": [
       "<style>\n",
       "    table.wandb td:nth-child(1) { padding: 0 10px; text-align: right }\n",
       "    .wandb-row { display: flex; flex-direction: row; flex-wrap: wrap; width: 100% }\n",
       "    .wandb-col { display: flex; flex-direction: column; flex-basis: 100%; flex: 1; padding: 10px; }\n",
       "    </style>\n",
       "<div class=\"wandb-row\"><div class=\"wandb-col\">\n",
       "<h3>Run history:</h3><br/><table class=\"wandb\"><tr><td>epoch</td><td>▁▂▃▃▄▅▆▆▇█</td></tr><tr><td>loss</td><td>█▄▃▂▂▂▁▁▁▁</td></tr><tr><td>recall</td><td>▁▁▁▁▁▁▁▁▁▁</td></tr></table><br/></div><div class=\"wandb-col\">\n",
       "<h3>Run summary:</h3><br/><table class=\"wandb\"><tr><td>epoch</td><td>9</td></tr><tr><td>loss</td><td>1.22927</td></tr><tr><td>recall</td><td>0.71515</td></tr></table>\n",
       "</div></div>\n",
       "Synced 4 W&B file(s), 0 media file(s), 0 artifact file(s) and 0 other file(s)\n",
       "<br/>Synced <strong style=\"color:#cdcd00\">vivid-sweep-7</strong>: <a href=\"https://wandb.ai/ort_masterbigdata_2023/trabajo_final_nps_itau/runs/hohx6sut\" target=\"_blank\">https://wandb.ai/ort_masterbigdata_2023/trabajo_final_nps_itau/runs/hohx6sut</a><br/>\n",
       "Find logs at: <code>./wandb/run-20250414_160345-hohx6sut/logs</code><br/>\n"
      ],
      "text/plain": [
       "<IPython.core.display.HTML object>"
      ]
     },
     "metadata": {},
     "output_type": "display_data"
    },
    {
     "name": "stderr",
     "output_type": "stream",
     "text": [
      "\u001b[34m\u001b[1mwandb\u001b[0m: Agent Starting Run: iw2wf28e with config:\n",
      "\u001b[34m\u001b[1mwandb\u001b[0m: \tbatch_size: 16\n",
      "\u001b[34m\u001b[1mwandb\u001b[0m: \tlearning_rate: 0.002887532327763576\n",
      "\u001b[34m\u001b[1mwandb\u001b[0m: wandb version 0.19.9 is available!  To upgrade, please run:\n",
      "\u001b[34m\u001b[1mwandb\u001b[0m:  $ pip install wandb --upgrade\n"
     ]
    },
    {
     "data": {
      "text/html": [
       "\n",
       "                    Syncing run <strong><a href=\"https://wandb.ai/ort_masterbigdata_2023/trabajo_final_nps_itau/runs/iw2wf28e\" target=\"_blank\">pious-sweep-8</a></strong> to <a href=\"https://wandb.ai/ort_masterbigdata_2023/trabajo_final_nps_itau\" target=\"_blank\">Weights & Biases</a> (<a href=\"https://docs.wandb.com/integrations/jupyter.html\" target=\"_blank\">docs</a>).<br/>\n",
       "Sweep page: <a href=\"https://wandb.ai/ort_masterbigdata_2023/trabajo_final_nps_itau/sweeps/frjklye1\" target=\"_blank\">https://wandb.ai/ort_masterbigdata_2023/trabajo_final_nps_itau/sweeps/frjklye1</a><br/>\n",
       "\n",
       "                "
      ],
      "text/plain": [
       "<IPython.core.display.HTML object>"
      ]
     },
     "metadata": {},
     "output_type": "display_data"
    },
    {
     "data": {
      "text/html": [
       "<br/>Waiting for W&B process to finish, PID 1240... <strong style=\"color:green\">(success).</strong>"
      ],
      "text/plain": [
       "<IPython.core.display.HTML object>"
      ]
     },
     "metadata": {},
     "output_type": "display_data"
    },
    {
     "data": {
      "application/vnd.jupyter.widget-view+json": {
       "model_id": "",
       "version_major": 2,
       "version_minor": 0
      },
      "text/plain": [
       "VBox(children=(Label(value=' 0.00MB of 0.00MB uploaded (0.00MB deduped)\\r'), FloatProgress(value=1.0, max=1.0)…"
      ]
     },
     "metadata": {},
     "output_type": "display_data"
    },
    {
     "data": {
      "text/html": [
       "<style>\n",
       "    table.wandb td:nth-child(1) { padding: 0 10px; text-align: right }\n",
       "    .wandb-row { display: flex; flex-direction: row; flex-wrap: wrap; width: 100% }\n",
       "    .wandb-col { display: flex; flex-direction: column; flex-basis: 100%; flex: 1; padding: 10px; }\n",
       "    </style>\n",
       "<div class=\"wandb-row\"><div class=\"wandb-col\">\n",
       "<h3>Run history:</h3><br/><table class=\"wandb\"><tr><td>epoch</td><td>▁▂▃▃▄▅▆▆▇█</td></tr><tr><td>loss</td><td>█▄▃▂▂▂▁▁▁▁</td></tr><tr><td>recall</td><td>▁▁▁▁▁▁▁▁▁▁</td></tr></table><br/></div><div class=\"wandb-col\">\n",
       "<h3>Run summary:</h3><br/><table class=\"wandb\"><tr><td>epoch</td><td>9</td></tr><tr><td>loss</td><td>34.63165</td></tr><tr><td>recall</td><td>0.71515</td></tr></table>\n",
       "</div></div>\n",
       "Synced 4 W&B file(s), 0 media file(s), 0 artifact file(s) and 0 other file(s)\n",
       "<br/>Synced <strong style=\"color:#cdcd00\">pious-sweep-8</strong>: <a href=\"https://wandb.ai/ort_masterbigdata_2023/trabajo_final_nps_itau/runs/iw2wf28e\" target=\"_blank\">https://wandb.ai/ort_masterbigdata_2023/trabajo_final_nps_itau/runs/iw2wf28e</a><br/>\n",
       "Find logs at: <code>./wandb/run-20250414_160356-iw2wf28e/logs</code><br/>\n"
      ],
      "text/plain": [
       "<IPython.core.display.HTML object>"
      ]
     },
     "metadata": {},
     "output_type": "display_data"
    },
    {
     "name": "stderr",
     "output_type": "stream",
     "text": [
      "\u001b[34m\u001b[1mwandb\u001b[0m: Agent Starting Run: 74u6n58i with config:\n",
      "\u001b[34m\u001b[1mwandb\u001b[0m: \tbatch_size: 16\n",
      "\u001b[34m\u001b[1mwandb\u001b[0m: \tlearning_rate: 0.03656111298503896\n",
      "\u001b[34m\u001b[1mwandb\u001b[0m: wandb version 0.19.9 is available!  To upgrade, please run:\n",
      "\u001b[34m\u001b[1mwandb\u001b[0m:  $ pip install wandb --upgrade\n"
     ]
    },
    {
     "data": {
      "text/html": [
       "\n",
       "                    Syncing run <strong><a href=\"https://wandb.ai/ort_masterbigdata_2023/trabajo_final_nps_itau/runs/74u6n58i\" target=\"_blank\">prime-sweep-9</a></strong> to <a href=\"https://wandb.ai/ort_masterbigdata_2023/trabajo_final_nps_itau\" target=\"_blank\">Weights & Biases</a> (<a href=\"https://docs.wandb.com/integrations/jupyter.html\" target=\"_blank\">docs</a>).<br/>\n",
       "Sweep page: <a href=\"https://wandb.ai/ort_masterbigdata_2023/trabajo_final_nps_itau/sweeps/frjklye1\" target=\"_blank\">https://wandb.ai/ort_masterbigdata_2023/trabajo_final_nps_itau/sweeps/frjklye1</a><br/>\n",
       "\n",
       "                "
      ],
      "text/plain": [
       "<IPython.core.display.HTML object>"
      ]
     },
     "metadata": {},
     "output_type": "display_data"
    },
    {
     "data": {
      "text/html": [
       "<br/>Waiting for W&B process to finish, PID 1346... <strong style=\"color:green\">(success).</strong>"
      ],
      "text/plain": [
       "<IPython.core.display.HTML object>"
      ]
     },
     "metadata": {},
     "output_type": "display_data"
    },
    {
     "data": {
      "application/vnd.jupyter.widget-view+json": {
       "model_id": "",
       "version_major": 2,
       "version_minor": 0
      },
      "text/plain": [
       "VBox(children=(Label(value=' 0.00MB of 0.00MB uploaded (0.00MB deduped)\\r'), FloatProgress(value=1.0, max=1.0)…"
      ]
     },
     "metadata": {},
     "output_type": "display_data"
    },
    {
     "data": {
      "text/html": [
       "<style>\n",
       "    table.wandb td:nth-child(1) { padding: 0 10px; text-align: right }\n",
       "    .wandb-row { display: flex; flex-direction: row; flex-wrap: wrap; width: 100% }\n",
       "    .wandb-col { display: flex; flex-direction: column; flex-basis: 100%; flex: 1; padding: 10px; }\n",
       "    </style>\n",
       "<div class=\"wandb-row\"><div class=\"wandb-col\">\n",
       "<h3>Run history:</h3><br/><table class=\"wandb\"><tr><td>epoch</td><td>▁▂▃▃▄▅▆▆▇█</td></tr><tr><td>loss</td><td>█▄▃▂▂▂▁▁▁▁</td></tr><tr><td>recall</td><td>▁▁▁▁▁▁▁▁▁▁</td></tr></table><br/></div><div class=\"wandb-col\">\n",
       "<h3>Run summary:</h3><br/><table class=\"wandb\"><tr><td>epoch</td><td>9</td></tr><tr><td>loss</td><td>2.73515</td></tr><tr><td>recall</td><td>0.71515</td></tr></table>\n",
       "</div></div>\n",
       "Synced 4 W&B file(s), 0 media file(s), 0 artifact file(s) and 0 other file(s)\n",
       "<br/>Synced <strong style=\"color:#cdcd00\">prime-sweep-9</strong>: <a href=\"https://wandb.ai/ort_masterbigdata_2023/trabajo_final_nps_itau/runs/74u6n58i\" target=\"_blank\">https://wandb.ai/ort_masterbigdata_2023/trabajo_final_nps_itau/runs/74u6n58i</a><br/>\n",
       "Find logs at: <code>./wandb/run-20250414_160407-74u6n58i/logs</code><br/>\n"
      ],
      "text/plain": [
       "<IPython.core.display.HTML object>"
      ]
     },
     "metadata": {},
     "output_type": "display_data"
    },
    {
     "name": "stderr",
     "output_type": "stream",
     "text": [
      "\u001b[34m\u001b[1mwandb\u001b[0m: Agent Starting Run: hiz2i4n1 with config:\n",
      "\u001b[34m\u001b[1mwandb\u001b[0m: \tbatch_size: 16\n",
      "\u001b[34m\u001b[1mwandb\u001b[0m: \tlearning_rate: 0.06265314245478716\n",
      "\u001b[34m\u001b[1mwandb\u001b[0m: wandb version 0.19.9 is available!  To upgrade, please run:\n",
      "\u001b[34m\u001b[1mwandb\u001b[0m:  $ pip install wandb --upgrade\n"
     ]
    },
    {
     "data": {
      "text/html": [
       "\n",
       "                    Syncing run <strong><a href=\"https://wandb.ai/ort_masterbigdata_2023/trabajo_final_nps_itau/runs/hiz2i4n1\" target=\"_blank\">comic-sweep-10</a></strong> to <a href=\"https://wandb.ai/ort_masterbigdata_2023/trabajo_final_nps_itau\" target=\"_blank\">Weights & Biases</a> (<a href=\"https://docs.wandb.com/integrations/jupyter.html\" target=\"_blank\">docs</a>).<br/>\n",
       "Sweep page: <a href=\"https://wandb.ai/ort_masterbigdata_2023/trabajo_final_nps_itau/sweeps/frjklye1\" target=\"_blank\">https://wandb.ai/ort_masterbigdata_2023/trabajo_final_nps_itau/sweeps/frjklye1</a><br/>\n",
       "\n",
       "                "
      ],
      "text/plain": [
       "<IPython.core.display.HTML object>"
      ]
     },
     "metadata": {},
     "output_type": "display_data"
    },
    {
     "data": {
      "text/html": [
       "<br/>Waiting for W&B process to finish, PID 1452... <strong style=\"color:green\">(success).</strong>"
      ],
      "text/plain": [
       "<IPython.core.display.HTML object>"
      ]
     },
     "metadata": {},
     "output_type": "display_data"
    },
    {
     "data": {
      "application/vnd.jupyter.widget-view+json": {
       "model_id": "",
       "version_major": 2,
       "version_minor": 0
      },
      "text/plain": [
       "VBox(children=(Label(value=' 0.00MB of 0.00MB uploaded (0.00MB deduped)\\r'), FloatProgress(value=0.0, max=1.0)…"
      ]
     },
     "metadata": {},
     "output_type": "display_data"
    },
    {
     "data": {
      "text/html": [
       "<style>\n",
       "    table.wandb td:nth-child(1) { padding: 0 10px; text-align: right }\n",
       "    .wandb-row { display: flex; flex-direction: row; flex-wrap: wrap; width: 100% }\n",
       "    .wandb-col { display: flex; flex-direction: column; flex-basis: 100%; flex: 1; padding: 10px; }\n",
       "    </style>\n",
       "<div class=\"wandb-row\"><div class=\"wandb-col\">\n",
       "<h3>Run history:</h3><br/><table class=\"wandb\"><tr><td>epoch</td><td>▁▂▃▃▄▅▆▆▇█</td></tr><tr><td>loss</td><td>█▄▃▂▂▂▁▁▁▁</td></tr><tr><td>recall</td><td>▁▁▁▁▁▁▁▁▁▁</td></tr></table><br/></div><div class=\"wandb-col\">\n",
       "<h3>Run summary:</h3><br/><table class=\"wandb\"><tr><td>epoch</td><td>9</td></tr><tr><td>loss</td><td>1.59609</td></tr><tr><td>recall</td><td>0.71515</td></tr></table>\n",
       "</div></div>\n",
       "Synced 4 W&B file(s), 0 media file(s), 0 artifact file(s) and 0 other file(s)\n",
       "<br/>Synced <strong style=\"color:#cdcd00\">comic-sweep-10</strong>: <a href=\"https://wandb.ai/ort_masterbigdata_2023/trabajo_final_nps_itau/runs/hiz2i4n1\" target=\"_blank\">https://wandb.ai/ort_masterbigdata_2023/trabajo_final_nps_itau/runs/hiz2i4n1</a><br/>\n",
       "Find logs at: <code>./wandb/run-20250414_160417-hiz2i4n1/logs</code><br/>\n"
      ],
      "text/plain": [
       "<IPython.core.display.HTML object>"
      ]
     },
     "metadata": {},
     "output_type": "display_data"
    },
    {
     "name": "stderr",
     "output_type": "stream",
     "text": [
      "\u001b[34m\u001b[1mwandb\u001b[0m: Agent Starting Run: 9z5tv4fu with config:\n",
      "\u001b[34m\u001b[1mwandb\u001b[0m: \tbatch_size: 16\n",
      "\u001b[34m\u001b[1mwandb\u001b[0m: \tlearning_rate: 0.015729622983009152\n",
      "\u001b[34m\u001b[1mwandb\u001b[0m: wandb version 0.19.9 is available!  To upgrade, please run:\n",
      "\u001b[34m\u001b[1mwandb\u001b[0m:  $ pip install wandb --upgrade\n"
     ]
    },
    {
     "data": {
      "text/html": [
       "\n",
       "                    Syncing run <strong><a href=\"https://wandb.ai/ort_masterbigdata_2023/trabajo_final_nps_itau/runs/9z5tv4fu\" target=\"_blank\">brisk-sweep-11</a></strong> to <a href=\"https://wandb.ai/ort_masterbigdata_2023/trabajo_final_nps_itau\" target=\"_blank\">Weights & Biases</a> (<a href=\"https://docs.wandb.com/integrations/jupyter.html\" target=\"_blank\">docs</a>).<br/>\n",
       "Sweep page: <a href=\"https://wandb.ai/ort_masterbigdata_2023/trabajo_final_nps_itau/sweeps/frjklye1\" target=\"_blank\">https://wandb.ai/ort_masterbigdata_2023/trabajo_final_nps_itau/sweeps/frjklye1</a><br/>\n",
       "\n",
       "                "
      ],
      "text/plain": [
       "<IPython.core.display.HTML object>"
      ]
     },
     "metadata": {},
     "output_type": "display_data"
    },
    {
     "data": {
      "text/html": [
       "<br/>Waiting for W&B process to finish, PID 1558... <strong style=\"color:green\">(success).</strong>"
      ],
      "text/plain": [
       "<IPython.core.display.HTML object>"
      ]
     },
     "metadata": {},
     "output_type": "display_data"
    },
    {
     "data": {
      "application/vnd.jupyter.widget-view+json": {
       "model_id": "",
       "version_major": 2,
       "version_minor": 0
      },
      "text/plain": [
       "VBox(children=(Label(value=' 0.00MB of 0.00MB uploaded (0.00MB deduped)\\r'), FloatProgress(value=0.0, max=1.0)…"
      ]
     },
     "metadata": {},
     "output_type": "display_data"
    },
    {
     "data": {
      "text/html": [
       "<style>\n",
       "    table.wandb td:nth-child(1) { padding: 0 10px; text-align: right }\n",
       "    .wandb-row { display: flex; flex-direction: row; flex-wrap: wrap; width: 100% }\n",
       "    .wandb-col { display: flex; flex-direction: column; flex-basis: 100%; flex: 1; padding: 10px; }\n",
       "    </style>\n",
       "<div class=\"wandb-row\"><div class=\"wandb-col\">\n",
       "<h3>Run history:</h3><br/><table class=\"wandb\"><tr><td>epoch</td><td>▁▂▃▃▄▅▆▆▇█</td></tr><tr><td>loss</td><td>█▄▃▂▂▂▁▁▁▁</td></tr><tr><td>recall</td><td>▁▁▁▁▁▁▁▁▁▁</td></tr></table><br/></div><div class=\"wandb-col\">\n",
       "<h3>Run summary:</h3><br/><table class=\"wandb\"><tr><td>epoch</td><td>9</td></tr><tr><td>loss</td><td>6.35743</td></tr><tr><td>recall</td><td>0.71515</td></tr></table>\n",
       "</div></div>\n",
       "Synced 4 W&B file(s), 0 media file(s), 0 artifact file(s) and 0 other file(s)\n",
       "<br/>Synced <strong style=\"color:#cdcd00\">brisk-sweep-11</strong>: <a href=\"https://wandb.ai/ort_masterbigdata_2023/trabajo_final_nps_itau/runs/9z5tv4fu\" target=\"_blank\">https://wandb.ai/ort_masterbigdata_2023/trabajo_final_nps_itau/runs/9z5tv4fu</a><br/>\n",
       "Find logs at: <code>./wandb/run-20250414_160428-9z5tv4fu/logs</code><br/>\n"
      ],
      "text/plain": [
       "<IPython.core.display.HTML object>"
      ]
     },
     "metadata": {},
     "output_type": "display_data"
    },
    {
     "name": "stderr",
     "output_type": "stream",
     "text": [
      "\u001b[34m\u001b[1mwandb\u001b[0m: Agent Starting Run: 874d3rzo with config:\n",
      "\u001b[34m\u001b[1mwandb\u001b[0m: \tbatch_size: 16\n",
      "\u001b[34m\u001b[1mwandb\u001b[0m: \tlearning_rate: 0.06420059641336172\n",
      "\u001b[34m\u001b[1mwandb\u001b[0m: wandb version 0.19.9 is available!  To upgrade, please run:\n",
      "\u001b[34m\u001b[1mwandb\u001b[0m:  $ pip install wandb --upgrade\n"
     ]
    },
    {
     "data": {
      "text/html": [
       "\n",
       "                    Syncing run <strong><a href=\"https://wandb.ai/ort_masterbigdata_2023/trabajo_final_nps_itau/runs/874d3rzo\" target=\"_blank\">leafy-sweep-12</a></strong> to <a href=\"https://wandb.ai/ort_masterbigdata_2023/trabajo_final_nps_itau\" target=\"_blank\">Weights & Biases</a> (<a href=\"https://docs.wandb.com/integrations/jupyter.html\" target=\"_blank\">docs</a>).<br/>\n",
       "Sweep page: <a href=\"https://wandb.ai/ort_masterbigdata_2023/trabajo_final_nps_itau/sweeps/frjklye1\" target=\"_blank\">https://wandb.ai/ort_masterbigdata_2023/trabajo_final_nps_itau/sweeps/frjklye1</a><br/>\n",
       "\n",
       "                "
      ],
      "text/plain": [
       "<IPython.core.display.HTML object>"
      ]
     },
     "metadata": {},
     "output_type": "display_data"
    },
    {
     "data": {
      "text/html": [
       "<br/>Waiting for W&B process to finish, PID 1664... <strong style=\"color:green\">(success).</strong>"
      ],
      "text/plain": [
       "<IPython.core.display.HTML object>"
      ]
     },
     "metadata": {},
     "output_type": "display_data"
    },
    {
     "data": {
      "application/vnd.jupyter.widget-view+json": {
       "model_id": "",
       "version_major": 2,
       "version_minor": 0
      },
      "text/plain": [
       "VBox(children=(Label(value=' 0.00MB of 0.00MB uploaded (0.00MB deduped)\\r'), FloatProgress(value=1.0, max=1.0)…"
      ]
     },
     "metadata": {},
     "output_type": "display_data"
    },
    {
     "data": {
      "text/html": [
       "<style>\n",
       "    table.wandb td:nth-child(1) { padding: 0 10px; text-align: right }\n",
       "    .wandb-row { display: flex; flex-direction: row; flex-wrap: wrap; width: 100% }\n",
       "    .wandb-col { display: flex; flex-direction: column; flex-basis: 100%; flex: 1; padding: 10px; }\n",
       "    </style>\n",
       "<div class=\"wandb-row\"><div class=\"wandb-col\">\n",
       "<h3>Run history:</h3><br/><table class=\"wandb\"><tr><td>epoch</td><td>▁▂▃▃▄▅▆▆▇█</td></tr><tr><td>loss</td><td>█▄▃▂▂▂▁▁▁▁</td></tr><tr><td>recall</td><td>▁▁▁▁▁▁▁▁▁▁</td></tr></table><br/></div><div class=\"wandb-col\">\n",
       "<h3>Run summary:</h3><br/><table class=\"wandb\"><tr><td>epoch</td><td>9</td></tr><tr><td>loss</td><td>1.55762</td></tr><tr><td>recall</td><td>0.71515</td></tr></table>\n",
       "</div></div>\n",
       "Synced 4 W&B file(s), 0 media file(s), 0 artifact file(s) and 0 other file(s)\n",
       "<br/>Synced <strong style=\"color:#cdcd00\">leafy-sweep-12</strong>: <a href=\"https://wandb.ai/ort_masterbigdata_2023/trabajo_final_nps_itau/runs/874d3rzo\" target=\"_blank\">https://wandb.ai/ort_masterbigdata_2023/trabajo_final_nps_itau/runs/874d3rzo</a><br/>\n",
       "Find logs at: <code>./wandb/run-20250414_160439-874d3rzo/logs</code><br/>\n"
      ],
      "text/plain": [
       "<IPython.core.display.HTML object>"
      ]
     },
     "metadata": {},
     "output_type": "display_data"
    },
    {
     "name": "stderr",
     "output_type": "stream",
     "text": [
      "\u001b[34m\u001b[1mwandb\u001b[0m: Agent Starting Run: 7ie6tzn5 with config:\n",
      "\u001b[34m\u001b[1mwandb\u001b[0m: \tbatch_size: 64\n",
      "\u001b[34m\u001b[1mwandb\u001b[0m: \tlearning_rate: 0.03666642823682552\n",
      "\u001b[34m\u001b[1mwandb\u001b[0m: wandb version 0.19.9 is available!  To upgrade, please run:\n",
      "\u001b[34m\u001b[1mwandb\u001b[0m:  $ pip install wandb --upgrade\n"
     ]
    },
    {
     "data": {
      "text/html": [
       "\n",
       "                    Syncing run <strong><a href=\"https://wandb.ai/ort_masterbigdata_2023/trabajo_final_nps_itau/runs/7ie6tzn5\" target=\"_blank\">scarlet-sweep-13</a></strong> to <a href=\"https://wandb.ai/ort_masterbigdata_2023/trabajo_final_nps_itau\" target=\"_blank\">Weights & Biases</a> (<a href=\"https://docs.wandb.com/integrations/jupyter.html\" target=\"_blank\">docs</a>).<br/>\n",
       "Sweep page: <a href=\"https://wandb.ai/ort_masterbigdata_2023/trabajo_final_nps_itau/sweeps/frjklye1\" target=\"_blank\">https://wandb.ai/ort_masterbigdata_2023/trabajo_final_nps_itau/sweeps/frjklye1</a><br/>\n",
       "\n",
       "                "
      ],
      "text/plain": [
       "<IPython.core.display.HTML object>"
      ]
     },
     "metadata": {},
     "output_type": "display_data"
    },
    {
     "data": {
      "text/html": [
       "<br/>Waiting for W&B process to finish, PID 1770... <strong style=\"color:green\">(success).</strong>"
      ],
      "text/plain": [
       "<IPython.core.display.HTML object>"
      ]
     },
     "metadata": {},
     "output_type": "display_data"
    },
    {
     "data": {
      "application/vnd.jupyter.widget-view+json": {
       "model_id": "",
       "version_major": 2,
       "version_minor": 0
      },
      "text/plain": [
       "VBox(children=(Label(value=' 0.00MB of 0.00MB uploaded (0.00MB deduped)\\r'), FloatProgress(value=0.0, max=1.0)…"
      ]
     },
     "metadata": {},
     "output_type": "display_data"
    },
    {
     "data": {
      "text/html": [
       "<style>\n",
       "    table.wandb td:nth-child(1) { padding: 0 10px; text-align: right }\n",
       "    .wandb-row { display: flex; flex-direction: row; flex-wrap: wrap; width: 100% }\n",
       "    .wandb-col { display: flex; flex-direction: column; flex-basis: 100%; flex: 1; padding: 10px; }\n",
       "    </style>\n",
       "<div class=\"wandb-row\"><div class=\"wandb-col\">\n",
       "<h3>Run history:</h3><br/><table class=\"wandb\"><tr><td>epoch</td><td>▁▂▃▃▄▅▆▆▇█</td></tr><tr><td>loss</td><td>█▄▃▂▂▂▁▁▁▁</td></tr><tr><td>recall</td><td>▁▁▁▁▁▁▁▁▁▁</td></tr></table><br/></div><div class=\"wandb-col\">\n",
       "<h3>Run summary:</h3><br/><table class=\"wandb\"><tr><td>epoch</td><td>9</td></tr><tr><td>loss</td><td>2.72729</td></tr><tr><td>recall</td><td>0.71515</td></tr></table>\n",
       "</div></div>\n",
       "Synced 4 W&B file(s), 0 media file(s), 0 artifact file(s) and 0 other file(s)\n",
       "<br/>Synced <strong style=\"color:#cdcd00\">scarlet-sweep-13</strong>: <a href=\"https://wandb.ai/ort_masterbigdata_2023/trabajo_final_nps_itau/runs/7ie6tzn5\" target=\"_blank\">https://wandb.ai/ort_masterbigdata_2023/trabajo_final_nps_itau/runs/7ie6tzn5</a><br/>\n",
       "Find logs at: <code>./wandb/run-20250414_160450-7ie6tzn5/logs</code><br/>\n"
      ],
      "text/plain": [
       "<IPython.core.display.HTML object>"
      ]
     },
     "metadata": {},
     "output_type": "display_data"
    },
    {
     "name": "stderr",
     "output_type": "stream",
     "text": [
      "\u001b[34m\u001b[1mwandb\u001b[0m: Agent Starting Run: 5axsar3z with config:\n",
      "\u001b[34m\u001b[1mwandb\u001b[0m: \tbatch_size: 64\n",
      "\u001b[34m\u001b[1mwandb\u001b[0m: \tlearning_rate: 0.09056518332141192\n",
      "\u001b[34m\u001b[1mwandb\u001b[0m: wandb version 0.19.9 is available!  To upgrade, please run:\n",
      "\u001b[34m\u001b[1mwandb\u001b[0m:  $ pip install wandb --upgrade\n"
     ]
    },
    {
     "data": {
      "text/html": [
       "\n",
       "                    Syncing run <strong><a href=\"https://wandb.ai/ort_masterbigdata_2023/trabajo_final_nps_itau/runs/5axsar3z\" target=\"_blank\">deep-sweep-14</a></strong> to <a href=\"https://wandb.ai/ort_masterbigdata_2023/trabajo_final_nps_itau\" target=\"_blank\">Weights & Biases</a> (<a href=\"https://docs.wandb.com/integrations/jupyter.html\" target=\"_blank\">docs</a>).<br/>\n",
       "Sweep page: <a href=\"https://wandb.ai/ort_masterbigdata_2023/trabajo_final_nps_itau/sweeps/frjklye1\" target=\"_blank\">https://wandb.ai/ort_masterbigdata_2023/trabajo_final_nps_itau/sweeps/frjklye1</a><br/>\n",
       "\n",
       "                "
      ],
      "text/plain": [
       "<IPython.core.display.HTML object>"
      ]
     },
     "metadata": {},
     "output_type": "display_data"
    },
    {
     "data": {
      "text/html": [
       "<br/>Waiting for W&B process to finish, PID 1876... <strong style=\"color:green\">(success).</strong>"
      ],
      "text/plain": [
       "<IPython.core.display.HTML object>"
      ]
     },
     "metadata": {},
     "output_type": "display_data"
    },
    {
     "data": {
      "application/vnd.jupyter.widget-view+json": {
       "model_id": "",
       "version_major": 2,
       "version_minor": 0
      },
      "text/plain": [
       "VBox(children=(Label(value=' 0.00MB of 0.00MB uploaded (0.00MB deduped)\\r'), FloatProgress(value=1.0, max=1.0)…"
      ]
     },
     "metadata": {},
     "output_type": "display_data"
    },
    {
     "data": {
      "text/html": [
       "<style>\n",
       "    table.wandb td:nth-child(1) { padding: 0 10px; text-align: right }\n",
       "    .wandb-row { display: flex; flex-direction: row; flex-wrap: wrap; width: 100% }\n",
       "    .wandb-col { display: flex; flex-direction: column; flex-basis: 100%; flex: 1; padding: 10px; }\n",
       "    </style>\n",
       "<div class=\"wandb-row\"><div class=\"wandb-col\">\n",
       "<h3>Run history:</h3><br/><table class=\"wandb\"><tr><td>epoch</td><td>▁▂▃▃▄▅▆▆▇█</td></tr><tr><td>loss</td><td>█▄▃▂▂▂▁▁▁▁</td></tr><tr><td>recall</td><td>▁▁▁▁▁▁▁▁▁▁</td></tr></table><br/></div><div class=\"wandb-col\">\n",
       "<h3>Run summary:</h3><br/><table class=\"wandb\"><tr><td>epoch</td><td>9</td></tr><tr><td>loss</td><td>1.10418</td></tr><tr><td>recall</td><td>0.71515</td></tr></table>\n",
       "</div></div>\n",
       "Synced 4 W&B file(s), 0 media file(s), 0 artifact file(s) and 0 other file(s)\n",
       "<br/>Synced <strong style=\"color:#cdcd00\">deep-sweep-14</strong>: <a href=\"https://wandb.ai/ort_masterbigdata_2023/trabajo_final_nps_itau/runs/5axsar3z\" target=\"_blank\">https://wandb.ai/ort_masterbigdata_2023/trabajo_final_nps_itau/runs/5axsar3z</a><br/>\n",
       "Find logs at: <code>./wandb/run-20250414_160500-5axsar3z/logs</code><br/>\n"
      ],
      "text/plain": [
       "<IPython.core.display.HTML object>"
      ]
     },
     "metadata": {},
     "output_type": "display_data"
    },
    {
     "name": "stderr",
     "output_type": "stream",
     "text": [
      "\u001b[34m\u001b[1mwandb\u001b[0m: Agent Starting Run: 64msyqrn with config:\n",
      "\u001b[34m\u001b[1mwandb\u001b[0m: \tbatch_size: 64\n",
      "\u001b[34m\u001b[1mwandb\u001b[0m: \tlearning_rate: 0.0643353035678868\n",
      "\u001b[34m\u001b[1mwandb\u001b[0m: wandb version 0.19.9 is available!  To upgrade, please run:\n",
      "\u001b[34m\u001b[1mwandb\u001b[0m:  $ pip install wandb --upgrade\n"
     ]
    },
    {
     "data": {
      "text/html": [
       "\n",
       "                    Syncing run <strong><a href=\"https://wandb.ai/ort_masterbigdata_2023/trabajo_final_nps_itau/runs/64msyqrn\" target=\"_blank\">electric-sweep-15</a></strong> to <a href=\"https://wandb.ai/ort_masterbigdata_2023/trabajo_final_nps_itau\" target=\"_blank\">Weights & Biases</a> (<a href=\"https://docs.wandb.com/integrations/jupyter.html\" target=\"_blank\">docs</a>).<br/>\n",
       "Sweep page: <a href=\"https://wandb.ai/ort_masterbigdata_2023/trabajo_final_nps_itau/sweeps/frjklye1\" target=\"_blank\">https://wandb.ai/ort_masterbigdata_2023/trabajo_final_nps_itau/sweeps/frjklye1</a><br/>\n",
       "\n",
       "                "
      ],
      "text/plain": [
       "<IPython.core.display.HTML object>"
      ]
     },
     "metadata": {},
     "output_type": "display_data"
    },
    {
     "data": {
      "text/html": [
       "<br/>Waiting for W&B process to finish, PID 1982... <strong style=\"color:green\">(success).</strong>"
      ],
      "text/plain": [
       "<IPython.core.display.HTML object>"
      ]
     },
     "metadata": {},
     "output_type": "display_data"
    },
    {
     "data": {
      "application/vnd.jupyter.widget-view+json": {
       "model_id": "",
       "version_major": 2,
       "version_minor": 0
      },
      "text/plain": [
       "VBox(children=(Label(value=' 0.00MB of 0.00MB uploaded (0.00MB deduped)\\r'), FloatProgress(value=0.0, max=1.0)…"
      ]
     },
     "metadata": {},
     "output_type": "display_data"
    },
    {
     "data": {
      "text/html": [
       "<style>\n",
       "    table.wandb td:nth-child(1) { padding: 0 10px; text-align: right }\n",
       "    .wandb-row { display: flex; flex-direction: row; flex-wrap: wrap; width: 100% }\n",
       "    .wandb-col { display: flex; flex-direction: column; flex-basis: 100%; flex: 1; padding: 10px; }\n",
       "    </style>\n",
       "<div class=\"wandb-row\"><div class=\"wandb-col\">\n",
       "<h3>Run history:</h3><br/><table class=\"wandb\"><tr><td>epoch</td><td>▁▂▃▃▄▅▆▆▇█</td></tr><tr><td>loss</td><td>█▄▃▂▂▂▁▁▁▁</td></tr><tr><td>recall</td><td>▁▁▁▁▁▁▁▁▁▁</td></tr></table><br/></div><div class=\"wandb-col\">\n",
       "<h3>Run summary:</h3><br/><table class=\"wandb\"><tr><td>epoch</td><td>9</td></tr><tr><td>loss</td><td>1.55436</td></tr><tr><td>recall</td><td>0.71515</td></tr></table>\n",
       "</div></div>\n",
       "Synced 4 W&B file(s), 0 media file(s), 0 artifact file(s) and 0 other file(s)\n",
       "<br/>Synced <strong style=\"color:#cdcd00\">electric-sweep-15</strong>: <a href=\"https://wandb.ai/ort_masterbigdata_2023/trabajo_final_nps_itau/runs/64msyqrn\" target=\"_blank\">https://wandb.ai/ort_masterbigdata_2023/trabajo_final_nps_itau/runs/64msyqrn</a><br/>\n",
       "Find logs at: <code>./wandb/run-20250414_160511-64msyqrn/logs</code><br/>\n"
      ],
      "text/plain": [
       "<IPython.core.display.HTML object>"
      ]
     },
     "metadata": {},
     "output_type": "display_data"
    },
    {
     "name": "stderr",
     "output_type": "stream",
     "text": [
      "\u001b[34m\u001b[1mwandb\u001b[0m: Agent Starting Run: vj9p6fdk with config:\n",
      "\u001b[34m\u001b[1mwandb\u001b[0m: \tbatch_size: 32\n",
      "\u001b[34m\u001b[1mwandb\u001b[0m: \tlearning_rate: 0.06844088868538194\n",
      "\u001b[34m\u001b[1mwandb\u001b[0m: wandb version 0.19.9 is available!  To upgrade, please run:\n",
      "\u001b[34m\u001b[1mwandb\u001b[0m:  $ pip install wandb --upgrade\n"
     ]
    },
    {
     "data": {
      "text/html": [
       "\n",
       "                    Syncing run <strong><a href=\"https://wandb.ai/ort_masterbigdata_2023/trabajo_final_nps_itau/runs/vj9p6fdk\" target=\"_blank\">worthy-sweep-16</a></strong> to <a href=\"https://wandb.ai/ort_masterbigdata_2023/trabajo_final_nps_itau\" target=\"_blank\">Weights & Biases</a> (<a href=\"https://docs.wandb.com/integrations/jupyter.html\" target=\"_blank\">docs</a>).<br/>\n",
       "Sweep page: <a href=\"https://wandb.ai/ort_masterbigdata_2023/trabajo_final_nps_itau/sweeps/frjklye1\" target=\"_blank\">https://wandb.ai/ort_masterbigdata_2023/trabajo_final_nps_itau/sweeps/frjklye1</a><br/>\n",
       "\n",
       "                "
      ],
      "text/plain": [
       "<IPython.core.display.HTML object>"
      ]
     },
     "metadata": {},
     "output_type": "display_data"
    },
    {
     "data": {
      "text/html": [
       "<br/>Waiting for W&B process to finish, PID 2088... <strong style=\"color:green\">(success).</strong>"
      ],
      "text/plain": [
       "<IPython.core.display.HTML object>"
      ]
     },
     "metadata": {},
     "output_type": "display_data"
    },
    {
     "data": {
      "application/vnd.jupyter.widget-view+json": {
       "model_id": "",
       "version_major": 2,
       "version_minor": 0
      },
      "text/plain": [
       "VBox(children=(Label(value=' 0.00MB of 0.00MB uploaded (0.00MB deduped)\\r'), FloatProgress(value=1.0, max=1.0)…"
      ]
     },
     "metadata": {},
     "output_type": "display_data"
    },
    {
     "data": {
      "text/html": [
       "<style>\n",
       "    table.wandb td:nth-child(1) { padding: 0 10px; text-align: right }\n",
       "    .wandb-row { display: flex; flex-direction: row; flex-wrap: wrap; width: 100% }\n",
       "    .wandb-col { display: flex; flex-direction: column; flex-basis: 100%; flex: 1; padding: 10px; }\n",
       "    </style>\n",
       "<div class=\"wandb-row\"><div class=\"wandb-col\">\n",
       "<h3>Run history:</h3><br/><table class=\"wandb\"><tr><td>epoch</td><td>▁▂▃▃▄▅▆▆▇█</td></tr><tr><td>loss</td><td>█▄▃▂▂▂▁▁▁▁</td></tr><tr><td>recall</td><td>▁▁▁▁▁▁▁▁▁▁</td></tr></table><br/></div><div class=\"wandb-col\">\n",
       "<h3>Run summary:</h3><br/><table class=\"wandb\"><tr><td>epoch</td><td>9</td></tr><tr><td>loss</td><td>1.46111</td></tr><tr><td>recall</td><td>0.71515</td></tr></table>\n",
       "</div></div>\n",
       "Synced 4 W&B file(s), 0 media file(s), 0 artifact file(s) and 0 other file(s)\n",
       "<br/>Synced <strong style=\"color:#cdcd00\">worthy-sweep-16</strong>: <a href=\"https://wandb.ai/ort_masterbigdata_2023/trabajo_final_nps_itau/runs/vj9p6fdk\" target=\"_blank\">https://wandb.ai/ort_masterbigdata_2023/trabajo_final_nps_itau/runs/vj9p6fdk</a><br/>\n",
       "Find logs at: <code>./wandb/run-20250414_160522-vj9p6fdk/logs</code><br/>\n"
      ],
      "text/plain": [
       "<IPython.core.display.HTML object>"
      ]
     },
     "metadata": {},
     "output_type": "display_data"
    },
    {
     "name": "stderr",
     "output_type": "stream",
     "text": [
      "\u001b[34m\u001b[1mwandb\u001b[0m: Agent Starting Run: lcrhez96 with config:\n",
      "\u001b[34m\u001b[1mwandb\u001b[0m: \tbatch_size: 32\n",
      "\u001b[34m\u001b[1mwandb\u001b[0m: \tlearning_rate: 0.05094818987681296\n",
      "\u001b[34m\u001b[1mwandb\u001b[0m: wandb version 0.19.9 is available!  To upgrade, please run:\n",
      "\u001b[34m\u001b[1mwandb\u001b[0m:  $ pip install wandb --upgrade\n"
     ]
    },
    {
     "data": {
      "text/html": [
       "\n",
       "                    Syncing run <strong><a href=\"https://wandb.ai/ort_masterbigdata_2023/trabajo_final_nps_itau/runs/lcrhez96\" target=\"_blank\">soft-sweep-17</a></strong> to <a href=\"https://wandb.ai/ort_masterbigdata_2023/trabajo_final_nps_itau\" target=\"_blank\">Weights & Biases</a> (<a href=\"https://docs.wandb.com/integrations/jupyter.html\" target=\"_blank\">docs</a>).<br/>\n",
       "Sweep page: <a href=\"https://wandb.ai/ort_masterbigdata_2023/trabajo_final_nps_itau/sweeps/frjklye1\" target=\"_blank\">https://wandb.ai/ort_masterbigdata_2023/trabajo_final_nps_itau/sweeps/frjklye1</a><br/>\n",
       "\n",
       "                "
      ],
      "text/plain": [
       "<IPython.core.display.HTML object>"
      ]
     },
     "metadata": {},
     "output_type": "display_data"
    },
    {
     "data": {
      "text/html": [
       "<br/>Waiting for W&B process to finish, PID 2194... <strong style=\"color:green\">(success).</strong>"
      ],
      "text/plain": [
       "<IPython.core.display.HTML object>"
      ]
     },
     "metadata": {},
     "output_type": "display_data"
    },
    {
     "data": {
      "application/vnd.jupyter.widget-view+json": {
       "model_id": "",
       "version_major": 2,
       "version_minor": 0
      },
      "text/plain": [
       "VBox(children=(Label(value=' 0.00MB of 0.00MB uploaded (0.00MB deduped)\\r'), FloatProgress(value=0.0, max=1.0)…"
      ]
     },
     "metadata": {},
     "output_type": "display_data"
    },
    {
     "data": {
      "text/html": [
       "<style>\n",
       "    table.wandb td:nth-child(1) { padding: 0 10px; text-align: right }\n",
       "    .wandb-row { display: flex; flex-direction: row; flex-wrap: wrap; width: 100% }\n",
       "    .wandb-col { display: flex; flex-direction: column; flex-basis: 100%; flex: 1; padding: 10px; }\n",
       "    </style>\n",
       "<div class=\"wandb-row\"><div class=\"wandb-col\">\n",
       "<h3>Run history:</h3><br/><table class=\"wandb\"><tr><td>epoch</td><td>▁▂▃▃▄▅▆▆▇█</td></tr><tr><td>loss</td><td>█▄▃▂▂▂▁▁▁▁</td></tr><tr><td>recall</td><td>▁▁▁▁▁▁▁▁▁▁</td></tr></table><br/></div><div class=\"wandb-col\">\n",
       "<h3>Run summary:</h3><br/><table class=\"wandb\"><tr><td>epoch</td><td>9</td></tr><tr><td>loss</td><td>1.96278</td></tr><tr><td>recall</td><td>0.71515</td></tr></table>\n",
       "</div></div>\n",
       "Synced 4 W&B file(s), 0 media file(s), 0 artifact file(s) and 0 other file(s)\n",
       "<br/>Synced <strong style=\"color:#cdcd00\">soft-sweep-17</strong>: <a href=\"https://wandb.ai/ort_masterbigdata_2023/trabajo_final_nps_itau/runs/lcrhez96\" target=\"_blank\">https://wandb.ai/ort_masterbigdata_2023/trabajo_final_nps_itau/runs/lcrhez96</a><br/>\n",
       "Find logs at: <code>./wandb/run-20250414_160538-lcrhez96/logs</code><br/>\n"
      ],
      "text/plain": [
       "<IPython.core.display.HTML object>"
      ]
     },
     "metadata": {},
     "output_type": "display_data"
    },
    {
     "name": "stderr",
     "output_type": "stream",
     "text": [
      "\u001b[34m\u001b[1mwandb\u001b[0m: Agent Starting Run: gve7dp91 with config:\n",
      "\u001b[34m\u001b[1mwandb\u001b[0m: \tbatch_size: 16\n",
      "\u001b[34m\u001b[1mwandb\u001b[0m: \tlearning_rate: 0.004157729739572018\n",
      "\u001b[34m\u001b[1mwandb\u001b[0m: wandb version 0.19.9 is available!  To upgrade, please run:\n",
      "\u001b[34m\u001b[1mwandb\u001b[0m:  $ pip install wandb --upgrade\n"
     ]
    },
    {
     "data": {
      "text/html": [
       "\n",
       "                    Syncing run <strong><a href=\"https://wandb.ai/ort_masterbigdata_2023/trabajo_final_nps_itau/runs/gve7dp91\" target=\"_blank\">soft-sweep-18</a></strong> to <a href=\"https://wandb.ai/ort_masterbigdata_2023/trabajo_final_nps_itau\" target=\"_blank\">Weights & Biases</a> (<a href=\"https://docs.wandb.com/integrations/jupyter.html\" target=\"_blank\">docs</a>).<br/>\n",
       "Sweep page: <a href=\"https://wandb.ai/ort_masterbigdata_2023/trabajo_final_nps_itau/sweeps/frjklye1\" target=\"_blank\">https://wandb.ai/ort_masterbigdata_2023/trabajo_final_nps_itau/sweeps/frjklye1</a><br/>\n",
       "\n",
       "                "
      ],
      "text/plain": [
       "<IPython.core.display.HTML object>"
      ]
     },
     "metadata": {},
     "output_type": "display_data"
    },
    {
     "data": {
      "text/html": [
       "<br/>Waiting for W&B process to finish, PID 2300... <strong style=\"color:green\">(success).</strong>"
      ],
      "text/plain": [
       "<IPython.core.display.HTML object>"
      ]
     },
     "metadata": {},
     "output_type": "display_data"
    },
    {
     "data": {
      "application/vnd.jupyter.widget-view+json": {
       "model_id": "",
       "version_major": 2,
       "version_minor": 0
      },
      "text/plain": [
       "VBox(children=(Label(value=' 0.00MB of 0.00MB uploaded (0.00MB deduped)\\r'), FloatProgress(value=0.0, max=1.0)…"
      ]
     },
     "metadata": {},
     "output_type": "display_data"
    },
    {
     "data": {
      "text/html": [
       "<style>\n",
       "    table.wandb td:nth-child(1) { padding: 0 10px; text-align: right }\n",
       "    .wandb-row { display: flex; flex-direction: row; flex-wrap: wrap; width: 100% }\n",
       "    .wandb-col { display: flex; flex-direction: column; flex-basis: 100%; flex: 1; padding: 10px; }\n",
       "    </style>\n",
       "<div class=\"wandb-row\"><div class=\"wandb-col\">\n",
       "<h3>Run history:</h3><br/><table class=\"wandb\"><tr><td>epoch</td><td>▁▂▃▃▄▅▆▆▇█</td></tr><tr><td>loss</td><td>█▄▃▂▂▂▁▁▁▁</td></tr><tr><td>recall</td><td>▁▁▁▁▁▁▁▁▁▁</td></tr></table><br/></div><div class=\"wandb-col\">\n",
       "<h3>Run summary:</h3><br/><table class=\"wandb\"><tr><td>epoch</td><td>9</td></tr><tr><td>loss</td><td>24.05159</td></tr><tr><td>recall</td><td>0.71515</td></tr></table>\n",
       "</div></div>\n",
       "Synced 4 W&B file(s), 0 media file(s), 0 artifact file(s) and 0 other file(s)\n",
       "<br/>Synced <strong style=\"color:#cdcd00\">soft-sweep-18</strong>: <a href=\"https://wandb.ai/ort_masterbigdata_2023/trabajo_final_nps_itau/runs/gve7dp91\" target=\"_blank\">https://wandb.ai/ort_masterbigdata_2023/trabajo_final_nps_itau/runs/gve7dp91</a><br/>\n",
       "Find logs at: <code>./wandb/run-20250414_160548-gve7dp91/logs</code><br/>\n"
      ],
      "text/plain": [
       "<IPython.core.display.HTML object>"
      ]
     },
     "metadata": {},
     "output_type": "display_data"
    },
    {
     "name": "stderr",
     "output_type": "stream",
     "text": [
      "\u001b[34m\u001b[1mwandb\u001b[0m: Agent Starting Run: a1r3e6e2 with config:\n",
      "\u001b[34m\u001b[1mwandb\u001b[0m: \tbatch_size: 64\n",
      "\u001b[34m\u001b[1mwandb\u001b[0m: \tlearning_rate: 0.003408442400140216\n",
      "\u001b[34m\u001b[1mwandb\u001b[0m: wandb version 0.19.9 is available!  To upgrade, please run:\n",
      "\u001b[34m\u001b[1mwandb\u001b[0m:  $ pip install wandb --upgrade\n"
     ]
    },
    {
     "data": {
      "text/html": [
       "\n",
       "                    Syncing run <strong><a href=\"https://wandb.ai/ort_masterbigdata_2023/trabajo_final_nps_itau/runs/a1r3e6e2\" target=\"_blank\">dashing-sweep-19</a></strong> to <a href=\"https://wandb.ai/ort_masterbigdata_2023/trabajo_final_nps_itau\" target=\"_blank\">Weights & Biases</a> (<a href=\"https://docs.wandb.com/integrations/jupyter.html\" target=\"_blank\">docs</a>).<br/>\n",
       "Sweep page: <a href=\"https://wandb.ai/ort_masterbigdata_2023/trabajo_final_nps_itau/sweeps/frjklye1\" target=\"_blank\">https://wandb.ai/ort_masterbigdata_2023/trabajo_final_nps_itau/sweeps/frjklye1</a><br/>\n",
       "\n",
       "                "
      ],
      "text/plain": [
       "<IPython.core.display.HTML object>"
      ]
     },
     "metadata": {},
     "output_type": "display_data"
    },
    {
     "data": {
      "text/html": [
       "<br/>Waiting for W&B process to finish, PID 2406... <strong style=\"color:green\">(success).</strong>"
      ],
      "text/plain": [
       "<IPython.core.display.HTML object>"
      ]
     },
     "metadata": {},
     "output_type": "display_data"
    },
    {
     "data": {
      "application/vnd.jupyter.widget-view+json": {
       "model_id": "",
       "version_major": 2,
       "version_minor": 0
      },
      "text/plain": [
       "VBox(children=(Label(value=' 0.00MB of 0.00MB uploaded (0.00MB deduped)\\r'), FloatProgress(value=1.0, max=1.0)…"
      ]
     },
     "metadata": {},
     "output_type": "display_data"
    },
    {
     "data": {
      "text/html": [
       "<style>\n",
       "    table.wandb td:nth-child(1) { padding: 0 10px; text-align: right }\n",
       "    .wandb-row { display: flex; flex-direction: row; flex-wrap: wrap; width: 100% }\n",
       "    .wandb-col { display: flex; flex-direction: column; flex-basis: 100%; flex: 1; padding: 10px; }\n",
       "    </style>\n",
       "<div class=\"wandb-row\"><div class=\"wandb-col\">\n",
       "<h3>Run history:</h3><br/><table class=\"wandb\"><tr><td>epoch</td><td>▁▂▃▃▄▅▆▆▇█</td></tr><tr><td>loss</td><td>█▄▃▂▂▂▁▁▁▁</td></tr><tr><td>recall</td><td>▁▁▁▁▁▁▁▁▁▁</td></tr></table><br/></div><div class=\"wandb-col\">\n",
       "<h3>Run summary:</h3><br/><table class=\"wandb\"><tr><td>epoch</td><td>9</td></tr><tr><td>loss</td><td>29.33891</td></tr><tr><td>recall</td><td>0.71515</td></tr></table>\n",
       "</div></div>\n",
       "Synced 4 W&B file(s), 0 media file(s), 0 artifact file(s) and 0 other file(s)\n",
       "<br/>Synced <strong style=\"color:#cdcd00\">dashing-sweep-19</strong>: <a href=\"https://wandb.ai/ort_masterbigdata_2023/trabajo_final_nps_itau/runs/a1r3e6e2\" target=\"_blank\">https://wandb.ai/ort_masterbigdata_2023/trabajo_final_nps_itau/runs/a1r3e6e2</a><br/>\n",
       "Find logs at: <code>./wandb/run-20250414_160559-a1r3e6e2/logs</code><br/>\n"
      ],
      "text/plain": [
       "<IPython.core.display.HTML object>"
      ]
     },
     "metadata": {},
     "output_type": "display_data"
    },
    {
     "name": "stderr",
     "output_type": "stream",
     "text": [
      "\u001b[34m\u001b[1mwandb\u001b[0m: Agent Starting Run: j5mzbdvb with config:\n",
      "\u001b[34m\u001b[1mwandb\u001b[0m: \tbatch_size: 16\n",
      "\u001b[34m\u001b[1mwandb\u001b[0m: \tlearning_rate: 0.09978527213100873\n",
      "\u001b[34m\u001b[1mwandb\u001b[0m: wandb version 0.19.9 is available!  To upgrade, please run:\n",
      "\u001b[34m\u001b[1mwandb\u001b[0m:  $ pip install wandb --upgrade\n"
     ]
    },
    {
     "data": {
      "text/html": [
       "\n",
       "                    Syncing run <strong><a href=\"https://wandb.ai/ort_masterbigdata_2023/trabajo_final_nps_itau/runs/j5mzbdvb\" target=\"_blank\">warm-sweep-20</a></strong> to <a href=\"https://wandb.ai/ort_masterbigdata_2023/trabajo_final_nps_itau\" target=\"_blank\">Weights & Biases</a> (<a href=\"https://docs.wandb.com/integrations/jupyter.html\" target=\"_blank\">docs</a>).<br/>\n",
       "Sweep page: <a href=\"https://wandb.ai/ort_masterbigdata_2023/trabajo_final_nps_itau/sweeps/frjklye1\" target=\"_blank\">https://wandb.ai/ort_masterbigdata_2023/trabajo_final_nps_itau/sweeps/frjklye1</a><br/>\n",
       "\n",
       "                "
      ],
      "text/plain": [
       "<IPython.core.display.HTML object>"
      ]
     },
     "metadata": {},
     "output_type": "display_data"
    },
    {
     "data": {
      "text/html": [
       "<br/>Waiting for W&B process to finish, PID 2512... <strong style=\"color:green\">(success).</strong>"
      ],
      "text/plain": [
       "<IPython.core.display.HTML object>"
      ]
     },
     "metadata": {},
     "output_type": "display_data"
    },
    {
     "data": {
      "application/vnd.jupyter.widget-view+json": {
       "model_id": "",
       "version_major": 2,
       "version_minor": 0
      },
      "text/plain": [
       "VBox(children=(Label(value=' 0.00MB of 0.00MB uploaded (0.00MB deduped)\\r'), FloatProgress(value=1.0, max=1.0)…"
      ]
     },
     "metadata": {},
     "output_type": "display_data"
    },
    {
     "data": {
      "text/html": [
       "<style>\n",
       "    table.wandb td:nth-child(1) { padding: 0 10px; text-align: right }\n",
       "    .wandb-row { display: flex; flex-direction: row; flex-wrap: wrap; width: 100% }\n",
       "    .wandb-col { display: flex; flex-direction: column; flex-basis: 100%; flex: 1; padding: 10px; }\n",
       "    </style>\n",
       "<div class=\"wandb-row\"><div class=\"wandb-col\">\n",
       "<h3>Run history:</h3><br/><table class=\"wandb\"><tr><td>epoch</td><td>▁▂▃▃▄▅▆▆▇█</td></tr><tr><td>loss</td><td>█▄▃▂▂▂▁▁▁▁</td></tr><tr><td>recall</td><td>▁▁▁▁▁▁▁▁▁▁</td></tr></table><br/></div><div class=\"wandb-col\">\n",
       "<h3>Run summary:</h3><br/><table class=\"wandb\"><tr><td>epoch</td><td>9</td></tr><tr><td>loss</td><td>1.00215</td></tr><tr><td>recall</td><td>0.71515</td></tr></table>\n",
       "</div></div>\n",
       "Synced 4 W&B file(s), 0 media file(s), 0 artifact file(s) and 0 other file(s)\n",
       "<br/>Synced <strong style=\"color:#cdcd00\">warm-sweep-20</strong>: <a href=\"https://wandb.ai/ort_masterbigdata_2023/trabajo_final_nps_itau/runs/j5mzbdvb\" target=\"_blank\">https://wandb.ai/ort_masterbigdata_2023/trabajo_final_nps_itau/runs/j5mzbdvb</a><br/>\n",
       "Find logs at: <code>./wandb/run-20250414_160610-j5mzbdvb/logs</code><br/>\n"
      ],
      "text/plain": [
       "<IPython.core.display.HTML object>"
      ]
     },
     "metadata": {},
     "output_type": "display_data"
    }
   ],
   "source": [
    "wandb.agent(sweep_id, function=train, count=20)"
   ]
  }
 ],
 "metadata": {
  "kernelspec": {
   "display_name": "Python 3 (ipykernel)",
   "language": "python",
   "name": "python3"
  },
  "language_info": {
   "codemirror_mode": {
    "name": "ipython",
    "version": 3
   },
   "file_extension": ".py",
   "mimetype": "text/x-python",
   "name": "python",
   "nbconvert_exporter": "python",
   "pygments_lexer": "ipython3",
   "version": "3.7.12"
  }
 },
 "nbformat": 4,
 "nbformat_minor": 4
}
