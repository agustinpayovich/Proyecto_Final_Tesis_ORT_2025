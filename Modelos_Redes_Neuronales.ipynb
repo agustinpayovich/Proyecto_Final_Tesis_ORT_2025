{
 "cells": [
  {
   "cell_type": "markdown",
   "metadata": {},
   "source": [
    "<tr>\n",
    "\n",
    "    <td><img src=https://encrypted-tbn0.gstatic.com/images?q=tbn:ANd9GcTZcU0_2fgIIcOXf6T0U0AQq1Ld4wMw9s1at5scGVpT5VEmPPTq6-CRSGJhQkrSSrSfi7o&usqp=CAU alt=\"Drawing\" style=\"width: 70px;\"/></td>\n",
    "\n",
    "    <td><td style=\"font-size:3vw\"><font color='OrangeRed'><b>Trabajo Final Master en Big Data</b></font></td>\n",
    "\n",
    "</tr>"
   ]
  },
  {
   "cell_type": "markdown",
   "metadata": {},
   "source": [
    "<tr>\n",
    "\n",
    "    <td><img src=https://encrypted-tbn0.gstatic.com/images?q=tbn:ANd9GcTZcU0_2fgIIcOXf6T0U0AQq1Ld4wMw9s1at5scGVpT5VEmPPTq6-CRSGJhQkrSSrSfi7o&usqp=CAU alt=\"Drawing\" style=\"width: 70px;\"/></td>\n",
    "\n",
    "    <td><td style=\"font-size:3vw\"><font color='OrangeRed'><b>Trabajo Final Master en Big Data</b></font></td>\n",
    "\n",
    "</tr>"
   ]
  },
  {
   "cell_type": "markdown",
   "metadata": {},
   "source": [
    "# Trabajo Final - Máster en Big Data - Fernández, García y Payovich"
   ]
  },
  {
   "cell_type": "markdown",
   "metadata": {},
   "source": [
    "## Modelos de Base: Redes Neuronales"
   ]
  },
  {
   "cell_type": "markdown",
   "metadata": {},
   "source": [
    "### Importación de Librerías"
   ]
  },
  {
   "cell_type": "code",
   "execution_count": 22,
   "metadata": {},
   "outputs": [],
   "source": [
    "import pandas as pd\n",
    "import numpy as np\n",
    "import os\n",
    "import seaborn as sns\n",
    "import matplotlib.pyplot as plt\n",
    "from sklearn.model_selection import train_test_split # División del dataset\n",
    "import matplotlib.pyplot as plt # Plotear\n",
    "from sklearn.linear_model import LinearRegression # Modelo de ML\n",
    "from sklearn.preprocessing import OneHotEncoder, StandardScaler\n",
    "from sklearn.compose import make_column_transformer\n",
    "from sklearn import metrics\n",
    "from sklearn.metrics import precision_score, recall_score, f1_score, accuracy_score, confusion_matrix, classification_report # Métricas\n",
    "pd.options.display.max_columns= None\n",
    "import warnings\n",
    "from openpyxl import Workbook"
   ]
  },
  {
   "cell_type": "code",
   "execution_count": 23,
   "metadata": {},
   "outputs": [],
   "source": [
    "warnings.filterwarnings('ignore')"
   ]
  },
  {
   "cell_type": "markdown",
   "metadata": {},
   "source": [
    "### Importación y Transformación de las Bases"
   ]
  },
  {
   "cell_type": "code",
   "execution_count": 24,
   "metadata": {},
   "outputs": [],
   "source": [
    "df = pd.read_csv('base_final_EDA.csv', delimiter= ',')"
   ]
  },
  {
   "cell_type": "code",
   "execution_count": 25,
   "metadata": {},
   "outputs": [],
   "source": [
    "dfr = df.astype(int)"
   ]
  },
  {
   "cell_type": "code",
   "execution_count": 26,
   "metadata": {},
   "outputs": [],
   "source": [
    "dfpca = pd.read_csv('base_final_PCA.csv', delimiter= ';')"
   ]
  },
  {
   "cell_type": "code",
   "execution_count": 27,
   "metadata": {},
   "outputs": [],
   "source": [
    "x_r = dfr.drop(['detractor'], axis=1)"
   ]
  },
  {
   "cell_type": "code",
   "execution_count": 28,
   "metadata": {},
   "outputs": [],
   "source": [
    "y_r = dfr['detractor']"
   ]
  },
  {
   "cell_type": "code",
   "execution_count": 29,
   "metadata": {},
   "outputs": [],
   "source": [
    "x_pca = dfpca.drop(['detractor'], axis=1)"
   ]
  },
  {
   "cell_type": "code",
   "execution_count": 30,
   "metadata": {},
   "outputs": [],
   "source": [
    "y_pca = dfpca['detractor']"
   ]
  },
  {
   "cell_type": "code",
   "execution_count": 31,
   "metadata": {},
   "outputs": [
    {
     "data": {
      "text/plain": [
       "37"
      ]
     },
     "execution_count": 31,
     "metadata": {},
     "output_type": "execute_result"
    }
   ],
   "source": [
    "len(x_r.columns)"
   ]
  },
  {
   "cell_type": "code",
   "execution_count": 32,
   "metadata": {},
   "outputs": [
    {
     "data": {
      "text/plain": [
       "23"
      ]
     },
     "execution_count": 32,
     "metadata": {},
     "output_type": "execute_result"
    }
   ],
   "source": [
    "len(x_pca.columns)"
   ]
  },
  {
   "cell_type": "code",
   "execution_count": 33,
   "metadata": {},
   "outputs": [],
   "source": [
    "x_train_r, x_test_r, y_train_r, y_test_r = train_test_split(x_r, y_r,\n",
    "                                   random_state=104, \n",
    "                                   test_size=0.20, \n",
    "                                   shuffle=True)"
   ]
  },
  {
   "cell_type": "code",
   "execution_count": 34,
   "metadata": {},
   "outputs": [],
   "source": [
    "from imblearn.over_sampling import SMOTE\n",
    "sm = SMOTE(random_state = 42)\n",
    "x_train_r, y_train_r = sm.fit_resample(x_r, y_r)"
   ]
  },
  {
   "cell_type": "code",
   "execution_count": 35,
   "metadata": {},
   "outputs": [],
   "source": [
    "x_train_pca, x_test_pca, y_train_pca, y_test_pca = train_test_split(x_pca, y_pca,\n",
    "                                   random_state=104, \n",
    "                                   test_size=0.20, \n",
    "                                   shuffle=True)"
   ]
  },
  {
   "cell_type": "code",
   "execution_count": 36,
   "metadata": {},
   "outputs": [],
   "source": [
    "x_train_pca, y_train_pca = sm.fit_resample(x_train_pca, y_train_pca)"
   ]
  },
  {
   "cell_type": "markdown",
   "metadata": {},
   "source": [
    "### Red de 2 Capas:"
   ]
  },
  {
   "cell_type": "code",
   "execution_count": 37,
   "metadata": {},
   "outputs": [
    {
     "name": "stdout",
     "output_type": "stream",
     "text": [
      "Epoch 1/50\n",
      "2453/2453 [==============================] - 3s 1ms/step - loss: 6.3452 - recall_2: 0.5370\n",
      "Epoch 2/50\n",
      "2453/2453 [==============================] - 3s 1ms/step - loss: 2.7544 - recall_2: 0.5678\n",
      "Epoch 3/50\n",
      "2453/2453 [==============================] - 3s 1ms/step - loss: 3.0631 - recall_2: 0.5923\n",
      "Epoch 4/50\n",
      "2453/2453 [==============================] - 3s 1ms/step - loss: 2.7143 - recall_2: 0.5996\n",
      "Epoch 5/50\n",
      "2453/2453 [==============================] - 3s 1ms/step - loss: 2.5469 - recall_2: 0.6148\n",
      "Epoch 6/50\n",
      "2453/2453 [==============================] - 2s 1ms/step - loss: 2.4112 - recall_2: 0.6249\n",
      "Epoch 7/50\n",
      "2453/2453 [==============================] - 3s 1ms/step - loss: 2.2367 - recall_2: 0.6302\n",
      "Epoch 8/50\n",
      "2453/2453 [==============================] - 3s 1ms/step - loss: 2.2362 - recall_2: 0.6319\n",
      "Epoch 9/50\n",
      "2453/2453 [==============================] - 3s 1ms/step - loss: 2.2724 - recall_2: 0.6278\n",
      "Epoch 10/50\n",
      "2453/2453 [==============================] - 3s 1ms/step - loss: 2.0683 - recall_2: 0.6368\n",
      "Epoch 11/50\n",
      "2453/2453 [==============================] - 3s 1ms/step - loss: 2.1134 - recall_2: 0.6390\n",
      "Epoch 12/50\n",
      "2453/2453 [==============================] - 3s 1ms/step - loss: 2.0234 - recall_2: 0.6466\n",
      "Epoch 13/50\n",
      "2453/2453 [==============================] - 3s 1ms/step - loss: 2.0700 - recall_2: 0.6424\n",
      "Epoch 14/50\n",
      "2453/2453 [==============================] - 3s 1ms/step - loss: 2.1518 - recall_2: 0.6431\n",
      "Epoch 15/50\n",
      "2453/2453 [==============================] - 3s 1ms/step - loss: 1.8971 - recall_2: 0.6512\n",
      "Epoch 16/50\n",
      "2453/2453 [==============================] - 3s 1ms/step - loss: 1.8564 - recall_2: 0.6530\n",
      "Epoch 17/50\n",
      "2453/2453 [==============================] - 3s 1ms/step - loss: 1.9296 - recall_2: 0.6515\n",
      "Epoch 18/50\n",
      "2453/2453 [==============================] - 3s 1ms/step - loss: 1.8503 - recall_2: 0.6530\n",
      "Epoch 19/50\n",
      "2453/2453 [==============================] - 4s 1ms/step - loss: 1.7632 - recall_2: 0.6633\n",
      "Epoch 20/50\n",
      "2453/2453 [==============================] - 3s 1ms/step - loss: 1.7350 - recall_2: 0.6575\n",
      "Epoch 21/50\n",
      "2453/2453 [==============================] - 3s 1ms/step - loss: 1.5730 - recall_2: 0.6682\n",
      "Epoch 22/50\n",
      "2453/2453 [==============================] - 3s 1ms/step - loss: 1.5353 - recall_2: 0.6600\n",
      "Epoch 23/50\n",
      "2453/2453 [==============================] - 3s 1ms/step - loss: 1.5846 - recall_2: 0.6635\n",
      "Epoch 24/50\n",
      "2453/2453 [==============================] - 3s 1ms/step - loss: 1.4436 - recall_2: 0.6579\n",
      "Epoch 25/50\n",
      "2453/2453 [==============================] - 3s 1ms/step - loss: 1.3947 - recall_2: 0.6665\n",
      "Epoch 26/50\n",
      "2453/2453 [==============================] - 2s 979us/step - loss: 1.3143 - recall_2: 0.6737\n",
      "Epoch 27/50\n",
      "2453/2453 [==============================] - 3s 1ms/step - loss: 1.3316 - recall_2: 0.6639\n",
      "Epoch 28/50\n",
      "2453/2453 [==============================] - 3s 1ms/step - loss: 1.1965 - recall_2: 0.6715\n",
      "Epoch 29/50\n",
      "2453/2453 [==============================] - 3s 1ms/step - loss: 1.2793 - recall_2: 0.6747\n",
      "Epoch 30/50\n",
      "2453/2453 [==============================] - 3s 1ms/step - loss: 1.1470 - recall_2: 0.6720\n",
      "Epoch 31/50\n",
      "2453/2453 [==============================] - 3s 1ms/step - loss: 1.2095 - recall_2: 0.6651\n",
      "Epoch 32/50\n",
      "2453/2453 [==============================] - 3s 1ms/step - loss: 1.1279 - recall_2: 0.6758\n",
      "Epoch 33/50\n",
      "2453/2453 [==============================] - 3s 1ms/step - loss: 1.1107 - recall_2: 0.6677\n",
      "Epoch 34/50\n",
      "2453/2453 [==============================] - 3s 1ms/step - loss: 0.9888 - recall_2: 0.6766\n",
      "Epoch 35/50\n",
      "2453/2453 [==============================] - 3s 1ms/step - loss: 0.9596 - recall_2: 0.6749\n",
      "Epoch 36/50\n",
      "2453/2453 [==============================] - 3s 1ms/step - loss: 0.9537 - recall_2: 0.6751\n",
      "Epoch 37/50\n",
      "2453/2453 [==============================] - 3s 1ms/step - loss: 0.9008 - recall_2: 0.6730\n",
      "Epoch 38/50\n",
      "2453/2453 [==============================] - 3s 1ms/step - loss: 0.8454 - recall_2: 0.6791\n",
      "Epoch 39/50\n",
      "2453/2453 [==============================] - 3s 1ms/step - loss: 0.8685 - recall_2: 0.6734\n",
      "Epoch 40/50\n",
      "2453/2453 [==============================] - 3s 1ms/step - loss: 0.7913 - recall_2: 0.6802\n",
      "Epoch 41/50\n",
      "2453/2453 [==============================] - 3s 1ms/step - loss: 0.8331 - recall_2: 0.6743\n",
      "Epoch 42/50\n",
      "2453/2453 [==============================] - 3s 1ms/step - loss: 0.8053 - recall_2: 0.6762\n",
      "Epoch 43/50\n",
      "2453/2453 [==============================] - 2s 878us/step - loss: 0.7234 - recall_2: 0.6853\n",
      "Epoch 44/50\n",
      "2453/2453 [==============================] - 2s 981us/step - loss: 0.7200 - recall_2: 0.6829\n",
      "Epoch 45/50\n",
      "2453/2453 [==============================] - 3s 1ms/step - loss: 0.6760 - recall_2: 0.6919\n",
      "Epoch 46/50\n",
      "2453/2453 [==============================] - 3s 1ms/step - loss: 0.6613 - recall_2: 0.6865\n",
      "Epoch 47/50\n",
      "2453/2453 [==============================] - 3s 1ms/step - loss: 0.6620 - recall_2: 0.6873\n",
      "Epoch 48/50\n",
      "2453/2453 [==============================] - 3s 1ms/step - loss: 0.6221 - recall_2: 0.6942\n",
      "Epoch 49/50\n",
      "2453/2453 [==============================] - 3s 1ms/step - loss: 0.6266 - recall_2: 0.6963\n",
      "Epoch 50/50\n",
      "2453/2453 [==============================] - 3s 1ms/step - loss: 0.6099 - recall_2: 0.6935\n",
      "73/73 [==============================] - 0s 1ms/step - loss: 0.5628 - recall_2: 0.3136\n",
      "Loss del modelo:{loss}\n",
      "Recall del modelo:{recall}\n",
      "              precision    recall  f1-score   support\n",
      "\n",
      "           0       0.85      0.78      0.82      1944\n",
      "           1       0.22      0.31      0.26       389\n",
      "\n",
      "    accuracy                           0.71      2333\n",
      "   macro avg       0.54      0.55      0.54      2333\n",
      "weighted avg       0.75      0.71      0.72      2333\n",
      "\n"
     ]
    }
   ],
   "source": [
    "import tensorflow.keras as keras\n",
    "import tensorflow as tf\n",
    "from tensorflow.keras import Sequential\n",
    "from tensorflow.keras.layers import Dense\n",
    "from tensorflow.keras.metrics import Recall\n",
    "from sklearn.metrics import accuracy_score, precision_score, recall_score, f1_score, confusion_matrix, roc_auc_score\n",
    "\n",
    "model_r = keras.Sequential([\n",
    "      Dense(32, activation='relu', input_shape=(37,)),\n",
    "      Dense(1, activation='sigmoid')\n",
    "])\n",
    "\n",
    "model_r.compile(optimizer='adam', loss='binary_crossentropy', metrics=[Recall()])\n",
    "    \n",
    "model_r.fit(x_train_r, y_train_r, epochs=50, batch_size=8, verbose=1)\n",
    "\n",
    "y_pred_r = model_r.predict(x_test_r).round()\n",
    "    \n",
    "loss, recall = model_r.evaluate(x_test_r, y_test_r)\n",
    "print('Loss del modelo:{loss}')\n",
    "print('Recall del modelo:{recall}')\n",
    "print(classification_report(y_test_r, y_pred_r))"
   ]
  },
  {
   "cell_type": "code",
   "execution_count": 38,
   "metadata": {},
   "outputs": [
    {
     "name": "stdout",
     "output_type": "stream",
     "text": [
      "Epoch 1/50\n",
      "1967/1967 [==============================] - 2s 1ms/step - loss: 0.6695 - recall_3: 0.6174\n",
      "Epoch 2/50\n",
      "1967/1967 [==============================] - 2s 1ms/step - loss: 0.6507 - recall_3: 0.6318\n",
      "Epoch 3/50\n",
      "1967/1967 [==============================] - 2s 1ms/step - loss: 0.6441 - recall_3: 0.6412\n",
      "Epoch 4/50\n",
      "1967/1967 [==============================] - 2s 1ms/step - loss: 0.6380 - recall_3: 0.6509\n",
      "Epoch 5/50\n",
      "1967/1967 [==============================] - 2s 1ms/step - loss: 0.6340 - recall_3: 0.6626\n",
      "Epoch 6/50\n",
      "1967/1967 [==============================] - 2s 1ms/step - loss: 0.6308 - recall_3: 0.6669\n",
      "Epoch 7/50\n",
      "1967/1967 [==============================] - 2s 1ms/step - loss: 0.6278 - recall_3: 0.6750\n",
      "Epoch 8/50\n",
      "1967/1967 [==============================] - 2s 1ms/step - loss: 0.6250 - recall_3: 0.6805\n",
      "Epoch 9/50\n",
      "1967/1967 [==============================] - 2s 1ms/step - loss: 0.6231 - recall_3: 0.6927\n",
      "Epoch 10/50\n",
      "1967/1967 [==============================] - 2s 1ms/step - loss: 0.6206 - recall_3: 0.6912\n",
      "Epoch 11/50\n",
      "1967/1967 [==============================] - 3s 1ms/step - loss: 0.6180 - recall_3: 0.6909\n",
      "Epoch 12/50\n",
      "1967/1967 [==============================] - 2s 1ms/step - loss: 0.6160 - recall_3: 0.6974\n",
      "Epoch 13/50\n",
      "1967/1967 [==============================] - 2s 1ms/step - loss: 0.6138 - recall_3: 0.7020\n",
      "Epoch 14/50\n",
      "1967/1967 [==============================] - 2s 1ms/step - loss: 0.6127 - recall_3: 0.7022\n",
      "Epoch 15/50\n",
      "1967/1967 [==============================] - 2s 1ms/step - loss: 0.6098 - recall_3: 0.7092\n",
      "Epoch 16/50\n",
      "1967/1967 [==============================] - 2s 1ms/step - loss: 0.6076 - recall_3: 0.7037\n",
      "Epoch 17/50\n",
      "1967/1967 [==============================] - 2s 1ms/step - loss: 0.6065 - recall_3: 0.7089\n",
      "Epoch 18/50\n",
      "1967/1967 [==============================] - 2s 1ms/step - loss: 0.6043 - recall_3: 0.7117\n",
      "Epoch 19/50\n",
      "1967/1967 [==============================] - 2s 1ms/step - loss: 0.6024 - recall_3: 0.7163\n",
      "Epoch 20/50\n",
      "1967/1967 [==============================] - 2s 1ms/step - loss: 0.6012 - recall_3: 0.7125\n",
      "Epoch 21/50\n",
      "1967/1967 [==============================] - 2s 1ms/step - loss: 0.5985 - recall_3: 0.7217\n",
      "Epoch 22/50\n",
      "1967/1967 [==============================] - 2s 1ms/step - loss: 0.5989 - recall_3: 0.7182\n",
      "Epoch 23/50\n",
      "1967/1967 [==============================] - 3s 1ms/step - loss: 0.5967 - recall_3: 0.7182\n",
      "Epoch 24/50\n",
      "1967/1967 [==============================] - 3s 1ms/step - loss: 0.5958 - recall_3: 0.7232\n",
      "Epoch 25/50\n",
      "1967/1967 [==============================] - 2s 1ms/step - loss: 0.5946 - recall_3: 0.7168\n",
      "Epoch 26/50\n",
      "1967/1967 [==============================] - 2s 1ms/step - loss: 0.5929 - recall_3: 0.7200\n",
      "Epoch 27/50\n",
      "1967/1967 [==============================] - 2s 1ms/step - loss: 0.5914 - recall_3: 0.7239\n",
      "Epoch 28/50\n",
      "1967/1967 [==============================] - 3s 1ms/step - loss: 0.5909 - recall_3: 0.7204\n",
      "Epoch 29/50\n",
      "1967/1967 [==============================] - 2s 1ms/step - loss: 0.5889 - recall_3: 0.7227\n",
      "Epoch 30/50\n",
      "1967/1967 [==============================] - 2s 1ms/step - loss: 0.5889 - recall_3: 0.7239\n",
      "Epoch 31/50\n",
      "1967/1967 [==============================] - 2s 1ms/step - loss: 0.5868 - recall_3: 0.7267\n",
      "Epoch 32/50\n",
      "1967/1967 [==============================] - 2s 1ms/step - loss: 0.5870 - recall_3: 0.7278\n",
      "Epoch 33/50\n",
      "1967/1967 [==============================] - 2s 1ms/step - loss: 0.5848 - recall_3: 0.7241\n",
      "Epoch 34/50\n",
      "1967/1967 [==============================] - 2s 1ms/step - loss: 0.5843 - recall_3: 0.7278\n",
      "Epoch 35/50\n",
      "1967/1967 [==============================] - 2s 937us/step - loss: 0.5839 - recall_3: 0.7275\n",
      "Epoch 36/50\n",
      "1967/1967 [==============================] - 2s 1ms/step - loss: 0.5836 - recall_3: 0.7219\n",
      "Epoch 37/50\n",
      "1967/1967 [==============================] - 3s 1ms/step - loss: 0.5816 - recall_3: 0.7302\n",
      "Epoch 38/50\n",
      "1967/1967 [==============================] - 2s 1ms/step - loss: 0.5815 - recall_3: 0.7351\n",
      "Epoch 39/50\n",
      "1967/1967 [==============================] - 2s 1ms/step - loss: 0.5797 - recall_3: 0.7280\n",
      "Epoch 40/50\n",
      "1967/1967 [==============================] - 2s 1ms/step - loss: 0.5793 - recall_3: 0.7247\n",
      "Epoch 41/50\n",
      "1967/1967 [==============================] - 3s 1ms/step - loss: 0.5783 - recall_3: 0.7288\n",
      "Epoch 42/50\n",
      "1967/1967 [==============================] - 2s 1ms/step - loss: 0.5787 - recall_3: 0.7283\n",
      "Epoch 43/50\n",
      "1967/1967 [==============================] - 3s 1ms/step - loss: 0.5760 - recall_3: 0.7364\n",
      "Epoch 44/50\n",
      "1967/1967 [==============================] - 2s 1ms/step - loss: 0.5762 - recall_3: 0.7328\n",
      "Epoch 45/50\n",
      "1967/1967 [==============================] - 3s 1ms/step - loss: 0.5760 - recall_3: 0.7334\n",
      "Epoch 46/50\n",
      "1967/1967 [==============================] - 2s 1ms/step - loss: 0.5747 - recall_3: 0.7392\n",
      "Epoch 47/50\n",
      "1967/1967 [==============================] - 2s 1ms/step - loss: 0.5750 - recall_3: 0.7328\n",
      "Epoch 48/50\n",
      "1967/1967 [==============================] - 2s 1ms/step - loss: 0.5742 - recall_3: 0.7412\n",
      "Epoch 49/50\n",
      "1967/1967 [==============================] - 3s 1ms/step - loss: 0.5725 - recall_3: 0.7372\n",
      "Epoch 50/50\n",
      "1967/1967 [==============================] - 2s 1ms/step - loss: 0.5724 - recall_3: 0.7410\n",
      "              precision    recall  f1-score   support\n",
      "\n",
      "       False       0.86      0.62      0.72      1944\n",
      "        True       0.21      0.50      0.29       389\n",
      "\n",
      "    accuracy                           0.60      2333\n",
      "   macro avg       0.53      0.56      0.51      2333\n",
      "weighted avg       0.75      0.60      0.65      2333\n",
      "\n"
     ]
    }
   ],
   "source": [
    "model_pca = keras.Sequential([\n",
    "      Dense(32, activation='relu', input_shape=(23,)),\n",
    "      Dense(1, activation='sigmoid')\n",
    "])\n",
    "\n",
    "model_pca.compile(optimizer='adam', loss='binary_crossentropy', metrics=[Recall()])\n",
    "    \n",
    "model_pca.fit(x_train_pca, y_train_pca, epochs=50, batch_size=8, verbose=1)\n",
    "\n",
    "y_pred_pca = model_pca.predict(x_test_pca).round()\n",
    "    \n",
    "print(classification_report(y_test_pca, y_pred_pca))"
   ]
  },
  {
   "cell_type": "markdown",
   "metadata": {},
   "source": [
    "### Red de 3 Capas:"
   ]
  },
  {
   "cell_type": "code",
   "execution_count": 39,
   "metadata": {},
   "outputs": [
    {
     "name": "stdout",
     "output_type": "stream",
     "text": [
      "Epoch 1/50\n",
      "2453/2453 [==============================] - 3s 1ms/step - loss: 4.6400 - recall_4: 0.5250\n",
      "Epoch 2/50\n",
      "2453/2453 [==============================] - 4s 1ms/step - loss: 3.5183 - recall_4: 0.5593\n",
      "Epoch 3/50\n",
      "2453/2453 [==============================] - 4s 1ms/step - loss: 2.5816 - recall_4: 0.5799\n",
      "Epoch 4/50\n",
      "2453/2453 [==============================] - 3s 1ms/step - loss: 1.7091 - recall_4: 0.5978\n",
      "Epoch 5/50\n",
      "2453/2453 [==============================] - 3s 1ms/step - loss: 1.6582 - recall_4: 0.6091\n",
      "Epoch 6/50\n",
      "2453/2453 [==============================] - 4s 1ms/step - loss: 1.1257 - recall_4: 0.6339\n",
      "Epoch 7/50\n",
      "2453/2453 [==============================] - 3s 1ms/step - loss: 0.7542 - recall_4: 0.8808\n",
      "Epoch 8/50\n",
      "2453/2453 [==============================] - 3s 1ms/step - loss: 0.6811 - recall_4: 0.3421: 0s - loss: 0.6813 - recall_4: 0.\n",
      "Epoch 9/50\n",
      "2453/2453 [==============================] - 3s 1ms/step - loss: 0.6798 - recall_4: 0.0937\n",
      "Epoch 10/50\n",
      "2453/2453 [==============================] - 3s 1ms/step - loss: 0.6806 - recall_4: 0.0963\n",
      "Epoch 11/50\n",
      "2453/2453 [==============================] - 3s 1ms/step - loss: 0.6795 - recall_4: 0.0887\n",
      "Epoch 12/50\n",
      "2453/2453 [==============================] - 3s 1ms/step - loss: 0.6782 - recall_4: 0.0891\n",
      "Epoch 13/50\n",
      "2453/2453 [==============================] - 4s 2ms/step - loss: 0.6778 - recall_4: 0.0875\n",
      "Epoch 14/50\n",
      "2453/2453 [==============================] - 3s 1ms/step - loss: 0.6787 - recall_4: 0.0873\n",
      "Epoch 15/50\n",
      "2453/2453 [==============================] - 3s 1ms/step - loss: 0.6766 - recall_4: 0.0893\n",
      "Epoch 16/50\n",
      "2453/2453 [==============================] - 3s 1ms/step - loss: 0.6768 - recall_4: 0.0855\n",
      "Epoch 17/50\n",
      "2453/2453 [==============================] - 2s 994us/step - loss: 0.6770 - recall_4: 0.0843\n",
      "Epoch 18/50\n",
      "2453/2453 [==============================] - 3s 1ms/step - loss: 0.6763 - recall_4: 0.0830\n",
      "Epoch 19/50\n",
      "2453/2453 [==============================] - 3s 1ms/step - loss: 0.6749 - recall_4: 0.0835\n",
      "Epoch 20/50\n",
      "2453/2453 [==============================] - 3s 1ms/step - loss: 0.6747 - recall_4: 0.0859\n",
      "Epoch 21/50\n",
      "2453/2453 [==============================] - 3s 1ms/step - loss: 0.6772 - recall_4: 0.0863\n",
      "Epoch 22/50\n",
      "2453/2453 [==============================] - 3s 1ms/step - loss: 0.6752 - recall_4: 0.0858\n",
      "Epoch 23/50\n",
      "2453/2453 [==============================] - 3s 1ms/step - loss: 0.6743 - recall_4: 0.0860\n",
      "Epoch 24/50\n",
      "2453/2453 [==============================] - 4s 2ms/step - loss: 0.6731 - recall_4: 0.0852\n",
      "Epoch 25/50\n",
      "2453/2453 [==============================] - 4s 2ms/step - loss: 0.6737 - recall_4: 0.0838\n",
      "Epoch 26/50\n",
      "2453/2453 [==============================] - 3s 1ms/step - loss: 0.6736 - recall_4: 0.0859\n",
      "Epoch 27/50\n",
      "2453/2453 [==============================] - 3s 1ms/step - loss: 0.6737 - recall_4: 0.0873\n",
      "Epoch 28/50\n",
      "2453/2453 [==============================] - 4s 2ms/step - loss: 0.6731 - recall_4: 0.0884\n",
      "Epoch 29/50\n",
      "2453/2453 [==============================] - 3s 1ms/step - loss: 0.6732 - recall_4: 0.0881\n",
      "Epoch 30/50\n",
      "2453/2453 [==============================] - 3s 1ms/step - loss: 0.6736 - recall_4: 0.0870\n",
      "Epoch 31/50\n",
      "2453/2453 [==============================] - 4s 1ms/step - loss: 0.6725 - recall_4: 0.0890\n",
      "Epoch 32/50\n",
      "2453/2453 [==============================] - 4s 1ms/step - loss: 0.6718 - recall_4: 0.1361\n",
      "Epoch 33/50\n",
      "2453/2453 [==============================] - 3s 1ms/step - loss: 0.6724 - recall_4: 0.0903\n",
      "Epoch 34/50\n",
      "2453/2453 [==============================] - 3s 1ms/step - loss: 0.6740 - recall_4: 0.0904\n",
      "Epoch 35/50\n",
      "2453/2453 [==============================] - 3s 1ms/step - loss: 0.6727 - recall_4: 0.0891\n",
      "Epoch 36/50\n",
      "2453/2453 [==============================] - 3s 1ms/step - loss: 0.6701 - recall_4: 0.0912\n",
      "Epoch 37/50\n",
      "2453/2453 [==============================] - 4s 1ms/step - loss: 0.6713 - recall_4: 0.0917\n",
      "Epoch 38/50\n",
      "2453/2453 [==============================] - 4s 1ms/step - loss: 0.6707 - recall_4: 0.0904\n",
      "Epoch 39/50\n",
      "2453/2453 [==============================] - 3s 1ms/step - loss: 0.6742 - recall_4: 0.0890\n",
      "Epoch 40/50\n",
      "2453/2453 [==============================] - 4s 1ms/step - loss: 0.6696 - recall_4: 0.0914\n",
      "Epoch 41/50\n",
      "2453/2453 [==============================] - 3s 1ms/step - loss: 0.6713 - recall_4: 0.0893\n",
      "Epoch 42/50\n",
      "2453/2453 [==============================] - 3s 1ms/step - loss: 0.6705 - recall_4: 0.0869\n",
      "Epoch 43/50\n",
      "2453/2453 [==============================] - 3s 1ms/step - loss: 0.6704 - recall_4: 0.0922\n",
      "Epoch 44/50\n",
      "2453/2453 [==============================] - 4s 2ms/step - loss: 0.6761 - recall_4: 0.0943\n",
      "Epoch 45/50\n",
      "2453/2453 [==============================] - 4s 2ms/step - loss: 0.6693 - recall_4: 0.0971\n",
      "Epoch 46/50\n",
      "2453/2453 [==============================] - 4s 2ms/step - loss: 0.6693 - recall_4: 0.0957\n",
      "Epoch 47/50\n",
      "2453/2453 [==============================] - 4s 2ms/step - loss: 0.6697 - recall_4: 0.0955\n",
      "Epoch 48/50\n",
      "2453/2453 [==============================] - 4s 2ms/step - loss: 0.6695 - recall_4: 0.0959\n",
      "Epoch 49/50\n",
      "2453/2453 [==============================] - 4s 2ms/step - loss: 0.6697 - recall_4: 0.0968\n",
      "Epoch 50/50\n",
      "2453/2453 [==============================] - 4s 2ms/step - loss: 0.6686 - recall_4: 0.0939\n",
      "73/73 [==============================] - 0s 1ms/step - loss: 0.6736 - recall_4: 0.0848\n",
      "              precision    recall  f1-score   support\n",
      "\n",
      "           0       0.85      0.78      0.82      1944\n",
      "           1       0.22      0.31      0.26       389\n",
      "\n",
      "    accuracy                           0.71      2333\n",
      "   macro avg       0.54      0.55      0.54      2333\n",
      "weighted avg       0.75      0.71      0.72      2333\n",
      "\n"
     ]
    }
   ],
   "source": [
    "model_r3 = keras.Sequential([\n",
    "      Dense(64, activation='relu', input_shape=(37,)),\n",
    "      Dense(8, activation='relu'),\n",
    "      Dense(1, activation='sigmoid')\n",
    "])\n",
    "\n",
    "model_r3.compile(optimizer='adam', loss='binary_crossentropy', metrics=[Recall()])\n",
    "    \n",
    "model_r3.fit(x_train_r, y_train_r, epochs=50, batch_size=8, verbose=1)\n",
    "\n",
    "y_pred_r3 = model_r3.predict(x_test_r).round()\n",
    "    \n",
    "loss, recall = model_r3.evaluate(x_test_r, y_test_r)\n",
    "print(classification_report(y_test_r, y_pred_r))"
   ]
  },
  {
   "cell_type": "code",
   "execution_count": 40,
   "metadata": {},
   "outputs": [
    {
     "name": "stdout",
     "output_type": "stream",
     "text": [
      "Epoch 1/50\n",
      "1967/1967 [==============================] - 3s 1ms/step - loss: 0.6668 - recall_5: 0.6036\n",
      "Epoch 2/50\n",
      "1967/1967 [==============================] - 2s 1ms/step - loss: 0.6459 - recall_5: 0.6300\n",
      "Epoch 3/50\n",
      "1967/1967 [==============================] - 3s 1ms/step - loss: 0.6329 - recall_5: 0.6557\n",
      "Epoch 4/50\n",
      "1967/1967 [==============================] - 2s 1ms/step - loss: 0.6215 - recall_5: 0.6905\n",
      "Epoch 5/50\n",
      "1967/1967 [==============================] - 2s 1ms/step - loss: 0.6109 - recall_5: 0.7022\n",
      "Epoch 6/50\n",
      "1967/1967 [==============================] - 3s 1ms/step - loss: 0.6024 - recall_5: 0.7121\n",
      "Epoch 7/50\n",
      "1967/1967 [==============================] - 3s 1ms/step - loss: 0.5939 - recall_5: 0.7190\n",
      "Epoch 8/50\n",
      "1967/1967 [==============================] - 3s 1ms/step - loss: 0.5860 - recall_5: 0.7306\n",
      "Epoch 9/50\n",
      "1967/1967 [==============================] - 3s 1ms/step - loss: 0.5760 - recall_5: 0.7364\n",
      "Epoch 10/50\n",
      "1967/1967 [==============================] - 3s 2ms/step - loss: 0.5703 - recall_5: 0.7485\n",
      "Epoch 11/50\n",
      "1967/1967 [==============================] - 3s 1ms/step - loss: 0.5637 - recall_5: 0.7425\n",
      "Epoch 12/50\n",
      "1967/1967 [==============================] - 3s 1ms/step - loss: 0.5574 - recall_5: 0.7529\n",
      "Epoch 13/50\n",
      "1967/1967 [==============================] - 2s 1ms/step - loss: 0.5513 - recall_5: 0.7631\n",
      "Epoch 14/50\n",
      "1967/1967 [==============================] - 2s 1ms/step - loss: 0.5474 - recall_5: 0.7639\n",
      "Epoch 15/50\n",
      "1967/1967 [==============================] - 3s 1ms/step - loss: 0.5412 - recall_5: 0.7670\n",
      "Epoch 16/50\n",
      "1967/1967 [==============================] - 3s 1ms/step - loss: 0.5377 - recall_5: 0.7674\n",
      "Epoch 17/50\n",
      "1967/1967 [==============================] - 2s 1ms/step - loss: 0.5318 - recall_5: 0.7720\n",
      "Epoch 18/50\n",
      "1967/1967 [==============================] - 2s 1ms/step - loss: 0.5281 - recall_5: 0.7735\n",
      "Epoch 19/50\n",
      "1967/1967 [==============================] - 3s 1ms/step - loss: 0.5243 - recall_5: 0.7771\n",
      "Epoch 20/50\n",
      "1967/1967 [==============================] - 2s 1ms/step - loss: 0.5183 - recall_5: 0.7808\n",
      "Epoch 21/50\n",
      "1967/1967 [==============================] - 2s 1ms/step - loss: 0.5172 - recall_5: 0.7802\n",
      "Epoch 22/50\n",
      "1967/1967 [==============================] - 2s 1ms/step - loss: 0.5103 - recall_5: 0.7876\n",
      "Epoch 23/50\n",
      "1967/1967 [==============================] - 3s 1ms/step - loss: 0.5091 - recall_5: 0.7855\n",
      "Epoch 24/50\n",
      "1967/1967 [==============================] - 2s 1ms/step - loss: 0.5049 - recall_5: 0.7937\n",
      "Epoch 25/50\n",
      "1967/1967 [==============================] - 2s 1ms/step - loss: 0.5007 - recall_5: 0.7919\n",
      "Epoch 26/50\n",
      "1967/1967 [==============================] - 2s 1ms/step - loss: 0.5004 - recall_5: 0.7986\n",
      "Epoch 27/50\n",
      "1967/1967 [==============================] - 2s 1ms/step - loss: 0.4965 - recall_5: 0.7965\n",
      "Epoch 28/50\n",
      "1967/1967 [==============================] - 2s 1ms/step - loss: 0.4942 - recall_5: 0.7974\n",
      "Epoch 29/50\n",
      "1967/1967 [==============================] - 2s 1ms/step - loss: 0.4899 - recall_5: 0.8020\n",
      "Epoch 30/50\n",
      "1967/1967 [==============================] - 3s 1ms/step - loss: 0.4875 - recall_5: 0.8022\n",
      "Epoch 31/50\n",
      "1967/1967 [==============================] - 2s 1ms/step - loss: 0.4873 - recall_5: 0.8013\n",
      "Epoch 32/50\n",
      "1967/1967 [==============================] - 3s 1ms/step - loss: 0.4842 - recall_5: 0.8071\n",
      "Epoch 33/50\n",
      "1967/1967 [==============================] - 3s 2ms/step - loss: 0.4814 - recall_5: 0.8044\n",
      "Epoch 34/50\n",
      "1967/1967 [==============================] - 3s 1ms/step - loss: 0.4794 - recall_5: 0.8082\n",
      "Epoch 35/50\n",
      "1967/1967 [==============================] - 2s 1ms/step - loss: 0.4766 - recall_5: 0.8105\n",
      "Epoch 36/50\n",
      "1967/1967 [==============================] - 3s 1ms/step - loss: 0.4728 - recall_5: 0.8172\n",
      "Epoch 37/50\n",
      "1967/1967 [==============================] - 2s 1ms/step - loss: 0.4722 - recall_5: 0.8116\n",
      "Epoch 38/50\n",
      "1967/1967 [==============================] - 3s 1ms/step - loss: 0.4706 - recall_5: 0.8132\n",
      "Epoch 39/50\n",
      "1967/1967 [==============================] - 3s 1ms/step - loss: 0.4690 - recall_5: 0.8204\n",
      "Epoch 40/50\n",
      "1967/1967 [==============================] - 3s 1ms/step - loss: 0.4695 - recall_5: 0.8170\n",
      "Epoch 41/50\n",
      "1967/1967 [==============================] - 3s 2ms/step - loss: 0.4673 - recall_5: 0.8191\n",
      "Epoch 42/50\n",
      "1967/1967 [==============================] - 2s 1ms/step - loss: 0.4637 - recall_5: 0.8175\n",
      "Epoch 43/50\n",
      "1967/1967 [==============================] - 2s 1ms/step - loss: 0.4640 - recall_5: 0.8202\n",
      "Epoch 44/50\n",
      "1967/1967 [==============================] - 2s 991us/step - loss: 0.4635 - recall_5: 0.8204\n",
      "Epoch 45/50\n",
      "1967/1967 [==============================] - 2s 1ms/step - loss: 0.4596 - recall_5: 0.8251\n",
      "Epoch 46/50\n",
      "1967/1967 [==============================] - 2s 1ms/step - loss: 0.4613 - recall_5: 0.8226\n",
      "Epoch 47/50\n",
      "1967/1967 [==============================] - 3s 1ms/step - loss: 0.4575 - recall_5: 0.8217\n",
      "Epoch 48/50\n",
      "1967/1967 [==============================] - 3s 2ms/step - loss: 0.4584 - recall_5: 0.8254\n",
      "Epoch 49/50\n",
      "1967/1967 [==============================] - 3s 1ms/step - loss: 0.4572 - recall_5: 0.8230\n",
      "Epoch 50/50\n",
      "1967/1967 [==============================] - 3s 1ms/step - loss: 0.4544 - recall_5: 0.8266\n",
      "73/73 [==============================] - 0s 1ms/step - loss: 0.8197 - recall_5: 0.4139\n",
      "              precision    recall  f1-score   support\n",
      "\n",
      "       False       0.86      0.62      0.72      1944\n",
      "        True       0.21      0.50      0.29       389\n",
      "\n",
      "    accuracy                           0.60      2333\n",
      "   macro avg       0.53      0.56      0.51      2333\n",
      "weighted avg       0.75      0.60      0.65      2333\n",
      "\n"
     ]
    }
   ],
   "source": [
    "model_p3 = keras.Sequential([\n",
    "      Dense(64, activation='relu', input_shape=(23,)),\n",
    "      Dense(8, activation='relu'),\n",
    "      Dense(1, activation='sigmoid')\n",
    "])\n",
    "\n",
    "model_p3.compile(optimizer='adam', loss='binary_crossentropy', metrics=[Recall()])\n",
    "    \n",
    "model_p3.fit(x_train_pca, y_train_pca, epochs=50, batch_size=8, verbose=1)\n",
    "\n",
    "y_pred_p3 = model_p3.predict(x_test_pca).round()\n",
    "    \n",
    "loss, recall = model_p3.evaluate(x_test_pca, y_test_pca)\n",
    "print(classification_report(y_test_pca, y_pred_pca))"
   ]
  },
  {
   "cell_type": "markdown",
   "metadata": {},
   "source": [
    "### Weights and Biases"
   ]
  },
  {
   "cell_type": "code",
   "execution_count": 41,
   "metadata": {},
   "outputs": [
    {
     "name": "stdout",
     "output_type": "stream",
     "text": [
      "Requirement already satisfied: wandb in /opt/conda/lib/python3.7/site-packages (0.12.7)\n",
      "Requirement already satisfied: protobuf>=3.12.0 in /opt/conda/lib/python3.7/site-packages (from wandb) (3.18.1)\n",
      "Requirement already satisfied: pathtools in /opt/conda/lib/python3.7/site-packages (from wandb) (0.1.2)\n",
      "Requirement already satisfied: sentry-sdk>=1.0.0 in /opt/conda/lib/python3.7/site-packages (from wandb) (1.5.0)\n",
      "Requirement already satisfied: docker-pycreds>=0.4.0 in /opt/conda/lib/python3.7/site-packages (from wandb) (0.4.0)\n",
      "Requirement already satisfied: promise<3,>=2.0 in /opt/conda/lib/python3.7/site-packages (from wandb) (2.3)\n",
      "Requirement already satisfied: shortuuid>=0.5.0 in /opt/conda/lib/python3.7/site-packages (from wandb) (1.0.8)\n",
      "Requirement already satisfied: GitPython>=1.0.0 in /opt/conda/lib/python3.7/site-packages (from wandb) (3.1.24)\n",
      "Requirement already satisfied: six>=1.13.0 in /opt/conda/lib/python3.7/site-packages (from wandb) (1.16.0)\n",
      "Requirement already satisfied: subprocess32>=3.5.3 in /opt/conda/lib/python3.7/site-packages (from wandb) (3.5.4)\n",
      "Requirement already satisfied: configparser>=3.8.1 in /opt/conda/lib/python3.7/site-packages (from wandb) (5.1.0)\n",
      "Requirement already satisfied: yaspin>=1.0.0 in /opt/conda/lib/python3.7/site-packages (from wandb) (2.1.0)\n",
      "Requirement already satisfied: Click!=8.0.0,>=7.0 in /opt/conda/lib/python3.7/site-packages (from wandb) (7.1.2)\n",
      "Requirement already satisfied: requests<3,>=2.0.0 in /opt/conda/lib/python3.7/site-packages (from wandb) (2.26.0)\n",
      "Requirement already satisfied: python-dateutil>=2.6.1 in /opt/conda/lib/python3.7/site-packages (from wandb) (2.8.2)\n",
      "Requirement already satisfied: psutil>=5.0.0 in /opt/conda/lib/python3.7/site-packages (from wandb) (5.8.0)\n",
      "Requirement already satisfied: PyYAML in /opt/conda/lib/python3.7/site-packages (from wandb) (6.0)\n",
      "Requirement already satisfied: typing-extensions>=3.7.4.3 in /opt/conda/lib/python3.7/site-packages (from GitPython>=1.0.0->wandb) (4.0.0)\n",
      "Requirement already satisfied: gitdb<5,>=4.0.1 in /opt/conda/lib/python3.7/site-packages (from GitPython>=1.0.0->wandb) (4.0.9)\n",
      "Requirement already satisfied: certifi>=2017.4.17 in /opt/conda/lib/python3.7/site-packages (from requests<3,>=2.0.0->wandb) (2024.2.2)\n",
      "Requirement already satisfied: urllib3<1.27,>=1.21.1 in /opt/conda/lib/python3.7/site-packages (from requests<3,>=2.0.0->wandb) (1.26.7)\n",
      "Requirement already satisfied: idna<4,>=2.5 in /opt/conda/lib/python3.7/site-packages (from requests<3,>=2.0.0->wandb) (3.1)\n",
      "Requirement already satisfied: charset-normalizer~=2.0.0 in /opt/conda/lib/python3.7/site-packages (from requests<3,>=2.0.0->wandb) (2.0.8)\n",
      "Requirement already satisfied: termcolor<2.0.0,>=1.1.0 in /opt/conda/lib/python3.7/site-packages (from yaspin>=1.0.0->wandb) (1.1.0)\n",
      "Requirement already satisfied: smmap<6,>=3.0.1 in /opt/conda/lib/python3.7/site-packages (from gitdb<5,>=4.0.1->GitPython>=1.0.0->wandb) (5.0.0)\n",
      "Note: you may need to restart the kernel to use updated packages.\n"
     ]
    }
   ],
   "source": [
    "pip install wandb"
   ]
  },
  {
   "cell_type": "code",
   "execution_count": 42,
   "metadata": {},
   "outputs": [
    {
     "name": "stderr",
     "output_type": "stream",
     "text": [
      "Failed to detect the name of this notebook, you can set it manually with the WANDB_NOTEBOOK_NAME environment variable to enable code saving.\n",
      "\u001b[34m\u001b[1mwandb\u001b[0m: Currently logged in as: \u001b[33mort_masterbigdata_2023\u001b[0m (use `wandb login --relogin` to force relogin)\n"
     ]
    },
    {
     "data": {
      "text/plain": [
       "True"
      ]
     },
     "execution_count": 42,
     "metadata": {},
     "output_type": "execute_result"
    }
   ],
   "source": [
    "import wandb\n",
    "wandb.login()"
   ]
  },
  {
   "cell_type": "code",
   "execution_count": 43,
   "metadata": {},
   "outputs": [
    {
     "name": "stderr",
     "output_type": "stream",
     "text": [
      "\u001b[34m\u001b[1mwandb\u001b[0m: wandb version 0.19.9 is available!  To upgrade, please run:\n",
      "\u001b[34m\u001b[1mwandb\u001b[0m:  $ pip install wandb --upgrade\n"
     ]
    },
    {
     "data": {
      "text/html": [
       "\n",
       "                    Syncing run <strong><a href=\"https://wandb.ai/ort_masterbigdata_2023/trabajo_final_nps_itau/runs/2uovr9k5\" target=\"_blank\">rose-hill-115</a></strong> to <a href=\"https://wandb.ai/ort_masterbigdata_2023/trabajo_final_nps_itau\" target=\"_blank\">Weights & Biases</a> (<a href=\"https://docs.wandb.com/integrations/jupyter.html\" target=\"_blank\">docs</a>).<br/>\n",
       "\n",
       "                "
      ],
      "text/plain": [
       "<IPython.core.display.HTML object>"
      ]
     },
     "metadata": {},
     "output_type": "display_data"
    }
   ],
   "source": [
    "project = 'trabajo_final_nps_itau'\n",
    "wandb.init(project=project)\n",
    "\n",
    "# Hiperparámetros\n",
    "config = wandb.config\n",
    "config.learning_rate = 0.01\n",
    "config.epochs = 50\n",
    "config.batch_size = 32\n",
    "           \n",
    "recall = recall_score(y_test_r, y_pred_r)\n",
    "wandb.log({\"recall\": recall})\n",
    "\n",
    "# Ejemplo de entrenamiento dummy\n",
    "for epoch in range(config.epochs):\n",
    "    loss = 0.01 * epoch  # Simulación de pérdida\n",
    "    acc = 1 - loss       # Simulación de accuracy\n",
    "    recall = recall\n",
    "    wandb.log({\"epoch\": epoch, \"loss\": loss, \"accuracy\": acc, \"recall\":recall})"
   ]
  },
  {
   "cell_type": "code",
   "execution_count": 44,
   "metadata": {},
   "outputs": [
    {
     "data": {
      "text/plain": [
       "[]"
      ]
     },
     "execution_count": 44,
     "metadata": {},
     "output_type": "execute_result"
    }
   ],
   "source": [
    "wandb.save('red_3capas.h5')"
   ]
  },
  {
   "cell_type": "markdown",
   "metadata": {},
   "source": [
    "####  Optimización de Parámetros"
   ]
  },
  {
   "cell_type": "code",
   "execution_count": 45,
   "metadata": {},
   "outputs": [],
   "source": [
    "def train():\n",
    "    # Inicializar wandb y acceder a los hiperparámetros\n",
    "    with wandb.init() as run:\n",
    "        config = wandb.config\n",
    "        \n",
    "        for epoch in range(10):\n",
    "            loss = 1 / (config.learning_rate * (epoch + 1))\n",
    "            wandb.log({\"epoch\": epoch, \"loss\": loss, \"recall\":recall})"
   ]
  },
  {
   "cell_type": "code",
   "execution_count": 46,
   "metadata": {},
   "outputs": [],
   "source": [
    "sweep_config = {\n",
    "    'method': 'random',  # también puede ser 'grid' o 'bayes'\n",
    "    'metric': {\n",
    "        'name': 'loss',\n",
    "        'goal': 'minimize'\n",
    "    },\n",
    "    'parameters': {\n",
    "        'learning_rate': {\n",
    "            'min': 0.0001,\n",
    "            'max': 0.1\n",
    "        },\n",
    "        'batch_size': {\n",
    "            'values': [16, 32, 64]\n",
    "        }\n",
    "    }\n",
    "}"
   ]
  },
  {
   "cell_type": "code",
   "execution_count": 47,
   "metadata": {},
   "outputs": [
    {
     "name": "stderr",
     "output_type": "stream",
     "text": [
      "\u001b[34m\u001b[1mwandb\u001b[0m: \u001b[33mWARNING\u001b[0m Calling wandb.login() after wandb.init() has no effect.\n"
     ]
    },
    {
     "name": "stdout",
     "output_type": "stream",
     "text": [
      "Create sweep with ID: icsnnr1l\n",
      "Sweep URL: https://wandb.ai/ort_masterbigdata_2023/trabajo_final_nps_itau/sweeps/icsnnr1l\n"
     ]
    }
   ],
   "source": [
    "sweep_id = wandb.sweep(sweep=sweep_config, project=project)"
   ]
  },
  {
   "cell_type": "code",
   "execution_count": 48,
   "metadata": {},
   "outputs": [
    {
     "name": "stderr",
     "output_type": "stream",
     "text": [
      "\u001b[34m\u001b[1mwandb\u001b[0m: \u001b[33mWARNING\u001b[0m Calling wandb.login() after wandb.init() has no effect.\n",
      "\u001b[34m\u001b[1mwandb\u001b[0m: Agent Starting Run: h7o6pfb2 with config:\n",
      "\u001b[34m\u001b[1mwandb\u001b[0m: \tbatch_size: 16\n",
      "\u001b[34m\u001b[1mwandb\u001b[0m: \tlearning_rate: 0.06280948732209998\n",
      "\u001b[34m\u001b[1mwandb\u001b[0m: wandb version 0.19.9 is available!  To upgrade, please run:\n",
      "\u001b[34m\u001b[1mwandb\u001b[0m:  $ pip install wandb --upgrade\n"
     ]
    },
    {
     "data": {
      "text/html": [
       "\n",
       "                    Syncing run <strong><a href=\"https://wandb.ai/ort_masterbigdata_2023/trabajo_final_nps_itau/runs/h7o6pfb2\" target=\"_blank\">zany-sweep-1</a></strong> to <a href=\"https://wandb.ai/ort_masterbigdata_2023/trabajo_final_nps_itau\" target=\"_blank\">Weights & Biases</a> (<a href=\"https://docs.wandb.com/integrations/jupyter.html\" target=\"_blank\">docs</a>).<br/>\n",
       "Sweep page: <a href=\"https://wandb.ai/ort_masterbigdata_2023/trabajo_final_nps_itau/sweeps/icsnnr1l\" target=\"_blank\">https://wandb.ai/ort_masterbigdata_2023/trabajo_final_nps_itau/sweeps/icsnnr1l</a><br/>\n",
       "\n",
       "                "
      ],
      "text/plain": [
       "<IPython.core.display.HTML object>"
      ]
     },
     "metadata": {},
     "output_type": "display_data"
    },
    {
     "data": {
      "text/html": [
       "<br/>Waiting for W&B process to finish, PID 15349... <strong style=\"color:green\">(success).</strong>"
      ],
      "text/plain": [
       "<IPython.core.display.HTML object>"
      ]
     },
     "metadata": {},
     "output_type": "display_data"
    },
    {
     "data": {
      "application/vnd.jupyter.widget-view+json": {
       "model_id": "",
       "version_major": 2,
       "version_minor": 0
      },
      "text/plain": [
       "VBox(children=(Label(value=' 0.00MB of 0.00MB uploaded (0.00MB deduped)\\r'), FloatProgress(value=1.0, max=1.0)…"
      ]
     },
     "metadata": {},
     "output_type": "display_data"
    },
    {
     "data": {
      "text/html": [
       "<style>\n",
       "    table.wandb td:nth-child(1) { padding: 0 10px; text-align: right }\n",
       "    .wandb-row { display: flex; flex-direction: row; flex-wrap: wrap; width: 100% }\n",
       "    .wandb-col { display: flex; flex-direction: column; flex-basis: 100%; flex: 1; padding: 10px; }\n",
       "    </style>\n",
       "<div class=\"wandb-row\"><div class=\"wandb-col\">\n",
       "<h3>Run history:</h3><br/><table class=\"wandb\"><tr><td>epoch</td><td>▁▂▃▃▄▅▆▆▇█</td></tr><tr><td>loss</td><td>█▄▃▂▂▂▁▁▁▁</td></tr><tr><td>recall</td><td>▁▁▁▁▁▁▁▁▁▁</td></tr></table><br/></div><div class=\"wandb-col\">\n",
       "<h3>Run summary:</h3><br/><table class=\"wandb\"><tr><td>epoch</td><td>9</td></tr><tr><td>loss</td><td>1.59212</td></tr><tr><td>recall</td><td>0.31362</td></tr></table>\n",
       "</div></div>\n",
       "Synced 4 W&B file(s), 0 media file(s), 0 artifact file(s) and 0 other file(s)\n",
       "<br/>Synced <strong style=\"color:#cdcd00\">zany-sweep-1</strong>: <a href=\"https://wandb.ai/ort_masterbigdata_2023/trabajo_final_nps_itau/runs/h7o6pfb2\" target=\"_blank\">https://wandb.ai/ort_masterbigdata_2023/trabajo_final_nps_itau/runs/h7o6pfb2</a><br/>\n",
       "Find logs at: <code>./wandb/run-20250417_153405-h7o6pfb2/logs</code><br/>\n"
      ],
      "text/plain": [
       "<IPython.core.display.HTML object>"
      ]
     },
     "metadata": {},
     "output_type": "display_data"
    },
    {
     "name": "stderr",
     "output_type": "stream",
     "text": [
      "\u001b[34m\u001b[1mwandb\u001b[0m: Agent Starting Run: t33utpsl with config:\n",
      "\u001b[34m\u001b[1mwandb\u001b[0m: \tbatch_size: 16\n",
      "\u001b[34m\u001b[1mwandb\u001b[0m: \tlearning_rate: 0.07815315466084709\n",
      "\u001b[34m\u001b[1mwandb\u001b[0m: wandb version 0.19.9 is available!  To upgrade, please run:\n",
      "\u001b[34m\u001b[1mwandb\u001b[0m:  $ pip install wandb --upgrade\n"
     ]
    },
    {
     "data": {
      "text/html": [
       "\n",
       "                    Syncing run <strong><a href=\"https://wandb.ai/ort_masterbigdata_2023/trabajo_final_nps_itau/runs/t33utpsl\" target=\"_blank\">sweepy-sweep-2</a></strong> to <a href=\"https://wandb.ai/ort_masterbigdata_2023/trabajo_final_nps_itau\" target=\"_blank\">Weights & Biases</a> (<a href=\"https://docs.wandb.com/integrations/jupyter.html\" target=\"_blank\">docs</a>).<br/>\n",
       "Sweep page: <a href=\"https://wandb.ai/ort_masterbigdata_2023/trabajo_final_nps_itau/sweeps/icsnnr1l\" target=\"_blank\">https://wandb.ai/ort_masterbigdata_2023/trabajo_final_nps_itau/sweeps/icsnnr1l</a><br/>\n",
       "\n",
       "                "
      ],
      "text/plain": [
       "<IPython.core.display.HTML object>"
      ]
     },
     "metadata": {},
     "output_type": "display_data"
    },
    {
     "data": {
      "text/html": [
       "<br/>Waiting for W&B process to finish, PID 15455... <strong style=\"color:green\">(success).</strong>"
      ],
      "text/plain": [
       "<IPython.core.display.HTML object>"
      ]
     },
     "metadata": {},
     "output_type": "display_data"
    },
    {
     "data": {
      "application/vnd.jupyter.widget-view+json": {
       "model_id": "",
       "version_major": 2,
       "version_minor": 0
      },
      "text/plain": [
       "VBox(children=(Label(value=' 0.00MB of 0.00MB uploaded (0.00MB deduped)\\r'), FloatProgress(value=1.0, max=1.0)…"
      ]
     },
     "metadata": {},
     "output_type": "display_data"
    },
    {
     "data": {
      "text/html": [
       "<style>\n",
       "    table.wandb td:nth-child(1) { padding: 0 10px; text-align: right }\n",
       "    .wandb-row { display: flex; flex-direction: row; flex-wrap: wrap; width: 100% }\n",
       "    .wandb-col { display: flex; flex-direction: column; flex-basis: 100%; flex: 1; padding: 10px; }\n",
       "    </style>\n",
       "<div class=\"wandb-row\"><div class=\"wandb-col\">\n",
       "<h3>Run history:</h3><br/><table class=\"wandb\"><tr><td>epoch</td><td>▁▂▃▃▄▅▆▆▇█</td></tr><tr><td>loss</td><td>█▄▃▂▂▂▁▁▁▁</td></tr><tr><td>recall</td><td>▁▁▁▁▁▁▁▁▁▁</td></tr></table><br/></div><div class=\"wandb-col\">\n",
       "<h3>Run summary:</h3><br/><table class=\"wandb\"><tr><td>epoch</td><td>9</td></tr><tr><td>loss</td><td>1.27954</td></tr><tr><td>recall</td><td>0.31362</td></tr></table>\n",
       "</div></div>\n",
       "Synced 4 W&B file(s), 0 media file(s), 0 artifact file(s) and 0 other file(s)\n",
       "<br/>Synced <strong style=\"color:#cdcd00\">sweepy-sweep-2</strong>: <a href=\"https://wandb.ai/ort_masterbigdata_2023/trabajo_final_nps_itau/runs/t33utpsl\" target=\"_blank\">https://wandb.ai/ort_masterbigdata_2023/trabajo_final_nps_itau/runs/t33utpsl</a><br/>\n",
       "Find logs at: <code>./wandb/run-20250417_153416-t33utpsl/logs</code><br/>\n"
      ],
      "text/plain": [
       "<IPython.core.display.HTML object>"
      ]
     },
     "metadata": {},
     "output_type": "display_data"
    },
    {
     "name": "stderr",
     "output_type": "stream",
     "text": [
      "\u001b[34m\u001b[1mwandb\u001b[0m: Agent Starting Run: 6a50wy69 with config:\n",
      "\u001b[34m\u001b[1mwandb\u001b[0m: \tbatch_size: 64\n",
      "\u001b[34m\u001b[1mwandb\u001b[0m: \tlearning_rate: 0.013679759923996749\n",
      "\u001b[34m\u001b[1mwandb\u001b[0m: wandb version 0.19.9 is available!  To upgrade, please run:\n",
      "\u001b[34m\u001b[1mwandb\u001b[0m:  $ pip install wandb --upgrade\n"
     ]
    },
    {
     "data": {
      "text/html": [
       "\n",
       "                    Syncing run <strong><a href=\"https://wandb.ai/ort_masterbigdata_2023/trabajo_final_nps_itau/runs/6a50wy69\" target=\"_blank\">usual-sweep-3</a></strong> to <a href=\"https://wandb.ai/ort_masterbigdata_2023/trabajo_final_nps_itau\" target=\"_blank\">Weights & Biases</a> (<a href=\"https://docs.wandb.com/integrations/jupyter.html\" target=\"_blank\">docs</a>).<br/>\n",
       "Sweep page: <a href=\"https://wandb.ai/ort_masterbigdata_2023/trabajo_final_nps_itau/sweeps/icsnnr1l\" target=\"_blank\">https://wandb.ai/ort_masterbigdata_2023/trabajo_final_nps_itau/sweeps/icsnnr1l</a><br/>\n",
       "\n",
       "                "
      ],
      "text/plain": [
       "<IPython.core.display.HTML object>"
      ]
     },
     "metadata": {},
     "output_type": "display_data"
    },
    {
     "data": {
      "text/html": [
       "<br/>Waiting for W&B process to finish, PID 15561... <strong style=\"color:green\">(success).</strong>"
      ],
      "text/plain": [
       "<IPython.core.display.HTML object>"
      ]
     },
     "metadata": {},
     "output_type": "display_data"
    },
    {
     "data": {
      "application/vnd.jupyter.widget-view+json": {
       "model_id": "",
       "version_major": 2,
       "version_minor": 0
      },
      "text/plain": [
       "VBox(children=(Label(value=' 0.00MB of 0.00MB uploaded (0.00MB deduped)\\r'), FloatProgress(value=1.0, max=1.0)…"
      ]
     },
     "metadata": {},
     "output_type": "display_data"
    },
    {
     "data": {
      "text/html": [
       "<style>\n",
       "    table.wandb td:nth-child(1) { padding: 0 10px; text-align: right }\n",
       "    .wandb-row { display: flex; flex-direction: row; flex-wrap: wrap; width: 100% }\n",
       "    .wandb-col { display: flex; flex-direction: column; flex-basis: 100%; flex: 1; padding: 10px; }\n",
       "    </style>\n",
       "<div class=\"wandb-row\"><div class=\"wandb-col\">\n",
       "<h3>Run history:</h3><br/><table class=\"wandb\"><tr><td>epoch</td><td>▁▂▃▃▄▅▆▆▇█</td></tr><tr><td>loss</td><td>█▄▃▂▂▂▁▁▁▁</td></tr><tr><td>recall</td><td>▁▁▁▁▁▁▁▁▁▁</td></tr></table><br/></div><div class=\"wandb-col\">\n",
       "<h3>Run summary:</h3><br/><table class=\"wandb\"><tr><td>epoch</td><td>9</td></tr><tr><td>loss</td><td>7.31007</td></tr><tr><td>recall</td><td>0.31362</td></tr></table>\n",
       "</div></div>\n",
       "Synced 4 W&B file(s), 0 media file(s), 0 artifact file(s) and 0 other file(s)\n",
       "<br/>Synced <strong style=\"color:#cdcd00\">usual-sweep-3</strong>: <a href=\"https://wandb.ai/ort_masterbigdata_2023/trabajo_final_nps_itau/runs/6a50wy69\" target=\"_blank\">https://wandb.ai/ort_masterbigdata_2023/trabajo_final_nps_itau/runs/6a50wy69</a><br/>\n",
       "Find logs at: <code>./wandb/run-20250417_153427-6a50wy69/logs</code><br/>\n"
      ],
      "text/plain": [
       "<IPython.core.display.HTML object>"
      ]
     },
     "metadata": {},
     "output_type": "display_data"
    },
    {
     "name": "stderr",
     "output_type": "stream",
     "text": [
      "\u001b[34m\u001b[1mwandb\u001b[0m: Agent Starting Run: gulxl1bp with config:\n",
      "\u001b[34m\u001b[1mwandb\u001b[0m: \tbatch_size: 64\n",
      "\u001b[34m\u001b[1mwandb\u001b[0m: \tlearning_rate: 0.02897567658600958\n",
      "\u001b[34m\u001b[1mwandb\u001b[0m: wandb version 0.19.9 is available!  To upgrade, please run:\n",
      "\u001b[34m\u001b[1mwandb\u001b[0m:  $ pip install wandb --upgrade\n"
     ]
    },
    {
     "data": {
      "text/html": [
       "\n",
       "                    Syncing run <strong><a href=\"https://wandb.ai/ort_masterbigdata_2023/trabajo_final_nps_itau/runs/gulxl1bp\" target=\"_blank\">smooth-sweep-4</a></strong> to <a href=\"https://wandb.ai/ort_masterbigdata_2023/trabajo_final_nps_itau\" target=\"_blank\">Weights & Biases</a> (<a href=\"https://docs.wandb.com/integrations/jupyter.html\" target=\"_blank\">docs</a>).<br/>\n",
       "Sweep page: <a href=\"https://wandb.ai/ort_masterbigdata_2023/trabajo_final_nps_itau/sweeps/icsnnr1l\" target=\"_blank\">https://wandb.ai/ort_masterbigdata_2023/trabajo_final_nps_itau/sweeps/icsnnr1l</a><br/>\n",
       "\n",
       "                "
      ],
      "text/plain": [
       "<IPython.core.display.HTML object>"
      ]
     },
     "metadata": {},
     "output_type": "display_data"
    },
    {
     "data": {
      "text/html": [
       "<br/>Waiting for W&B process to finish, PID 15667... <strong style=\"color:green\">(success).</strong>"
      ],
      "text/plain": [
       "<IPython.core.display.HTML object>"
      ]
     },
     "metadata": {},
     "output_type": "display_data"
    },
    {
     "data": {
      "application/vnd.jupyter.widget-view+json": {
       "model_id": "",
       "version_major": 2,
       "version_minor": 0
      },
      "text/plain": [
       "VBox(children=(Label(value=' 0.00MB of 0.00MB uploaded (0.00MB deduped)\\r'), FloatProgress(value=1.0, max=1.0)…"
      ]
     },
     "metadata": {},
     "output_type": "display_data"
    },
    {
     "data": {
      "text/html": [
       "<style>\n",
       "    table.wandb td:nth-child(1) { padding: 0 10px; text-align: right }\n",
       "    .wandb-row { display: flex; flex-direction: row; flex-wrap: wrap; width: 100% }\n",
       "    .wandb-col { display: flex; flex-direction: column; flex-basis: 100%; flex: 1; padding: 10px; }\n",
       "    </style>\n",
       "<div class=\"wandb-row\"><div class=\"wandb-col\">\n",
       "<h3>Run history:</h3><br/><table class=\"wandb\"><tr><td>epoch</td><td>▁▂▃▃▄▅▆▆▇█</td></tr><tr><td>loss</td><td>█▄▃▂▂▂▁▁▁▁</td></tr><tr><td>recall</td><td>▁▁▁▁▁▁▁▁▁▁</td></tr></table><br/></div><div class=\"wandb-col\">\n",
       "<h3>Run summary:</h3><br/><table class=\"wandb\"><tr><td>epoch</td><td>9</td></tr><tr><td>loss</td><td>3.45117</td></tr><tr><td>recall</td><td>0.31362</td></tr></table>\n",
       "</div></div>\n",
       "Synced 4 W&B file(s), 0 media file(s), 0 artifact file(s) and 0 other file(s)\n",
       "<br/>Synced <strong style=\"color:#cdcd00\">smooth-sweep-4</strong>: <a href=\"https://wandb.ai/ort_masterbigdata_2023/trabajo_final_nps_itau/runs/gulxl1bp\" target=\"_blank\">https://wandb.ai/ort_masterbigdata_2023/trabajo_final_nps_itau/runs/gulxl1bp</a><br/>\n",
       "Find logs at: <code>./wandb/run-20250417_153438-gulxl1bp/logs</code><br/>\n"
      ],
      "text/plain": [
       "<IPython.core.display.HTML object>"
      ]
     },
     "metadata": {},
     "output_type": "display_data"
    },
    {
     "name": "stderr",
     "output_type": "stream",
     "text": [
      "\u001b[34m\u001b[1mwandb\u001b[0m: Agent Starting Run: 3nouazxi with config:\n",
      "\u001b[34m\u001b[1mwandb\u001b[0m: \tbatch_size: 64\n",
      "\u001b[34m\u001b[1mwandb\u001b[0m: \tlearning_rate: 0.017586218733628974\n",
      "\u001b[34m\u001b[1mwandb\u001b[0m: wandb version 0.19.9 is available!  To upgrade, please run:\n",
      "\u001b[34m\u001b[1mwandb\u001b[0m:  $ pip install wandb --upgrade\n"
     ]
    },
    {
     "data": {
      "text/html": [
       "\n",
       "                    Syncing run <strong><a href=\"https://wandb.ai/ort_masterbigdata_2023/trabajo_final_nps_itau/runs/3nouazxi\" target=\"_blank\">ethereal-sweep-5</a></strong> to <a href=\"https://wandb.ai/ort_masterbigdata_2023/trabajo_final_nps_itau\" target=\"_blank\">Weights & Biases</a> (<a href=\"https://docs.wandb.com/integrations/jupyter.html\" target=\"_blank\">docs</a>).<br/>\n",
       "Sweep page: <a href=\"https://wandb.ai/ort_masterbigdata_2023/trabajo_final_nps_itau/sweeps/icsnnr1l\" target=\"_blank\">https://wandb.ai/ort_masterbigdata_2023/trabajo_final_nps_itau/sweeps/icsnnr1l</a><br/>\n",
       "\n",
       "                "
      ],
      "text/plain": [
       "<IPython.core.display.HTML object>"
      ]
     },
     "metadata": {},
     "output_type": "display_data"
    },
    {
     "data": {
      "text/html": [
       "<br/>Waiting for W&B process to finish, PID 15773... <strong style=\"color:green\">(success).</strong>"
      ],
      "text/plain": [
       "<IPython.core.display.HTML object>"
      ]
     },
     "metadata": {},
     "output_type": "display_data"
    },
    {
     "data": {
      "application/vnd.jupyter.widget-view+json": {
       "model_id": "",
       "version_major": 2,
       "version_minor": 0
      },
      "text/plain": [
       "VBox(children=(Label(value=' 0.00MB of 0.00MB uploaded (0.00MB deduped)\\r'), FloatProgress(value=1.0, max=1.0)…"
      ]
     },
     "metadata": {},
     "output_type": "display_data"
    },
    {
     "data": {
      "text/html": [
       "<style>\n",
       "    table.wandb td:nth-child(1) { padding: 0 10px; text-align: right }\n",
       "    .wandb-row { display: flex; flex-direction: row; flex-wrap: wrap; width: 100% }\n",
       "    .wandb-col { display: flex; flex-direction: column; flex-basis: 100%; flex: 1; padding: 10px; }\n",
       "    </style>\n",
       "<div class=\"wandb-row\"><div class=\"wandb-col\">\n",
       "<h3>Run history:</h3><br/><table class=\"wandb\"><tr><td>epoch</td><td>▁▂▃▃▄▅▆▆▇█</td></tr><tr><td>loss</td><td>█▄▃▂▂▂▁▁▁▁</td></tr><tr><td>recall</td><td>▁▁▁▁▁▁▁▁▁▁</td></tr></table><br/></div><div class=\"wandb-col\">\n",
       "<h3>Run summary:</h3><br/><table class=\"wandb\"><tr><td>epoch</td><td>9</td></tr><tr><td>loss</td><td>5.68627</td></tr><tr><td>recall</td><td>0.31362</td></tr></table>\n",
       "</div></div>\n",
       "Synced 4 W&B file(s), 0 media file(s), 0 artifact file(s) and 0 other file(s)\n",
       "<br/>Synced <strong style=\"color:#cdcd00\">ethereal-sweep-5</strong>: <a href=\"https://wandb.ai/ort_masterbigdata_2023/trabajo_final_nps_itau/runs/3nouazxi\" target=\"_blank\">https://wandb.ai/ort_masterbigdata_2023/trabajo_final_nps_itau/runs/3nouazxi</a><br/>\n",
       "Find logs at: <code>./wandb/run-20250417_153448-3nouazxi/logs</code><br/>\n"
      ],
      "text/plain": [
       "<IPython.core.display.HTML object>"
      ]
     },
     "metadata": {},
     "output_type": "display_data"
    },
    {
     "name": "stderr",
     "output_type": "stream",
     "text": [
      "\u001b[34m\u001b[1mwandb\u001b[0m: Agent Starting Run: 10yrypa9 with config:\n",
      "\u001b[34m\u001b[1mwandb\u001b[0m: \tbatch_size: 32\n",
      "\u001b[34m\u001b[1mwandb\u001b[0m: \tlearning_rate: 0.014367266726122195\n",
      "\u001b[34m\u001b[1mwandb\u001b[0m: wandb version 0.19.9 is available!  To upgrade, please run:\n",
      "\u001b[34m\u001b[1mwandb\u001b[0m:  $ pip install wandb --upgrade\n"
     ]
    },
    {
     "data": {
      "text/html": [
       "\n",
       "                    Syncing run <strong><a href=\"https://wandb.ai/ort_masterbigdata_2023/trabajo_final_nps_itau/runs/10yrypa9\" target=\"_blank\">bright-sweep-6</a></strong> to <a href=\"https://wandb.ai/ort_masterbigdata_2023/trabajo_final_nps_itau\" target=\"_blank\">Weights & Biases</a> (<a href=\"https://docs.wandb.com/integrations/jupyter.html\" target=\"_blank\">docs</a>).<br/>\n",
       "Sweep page: <a href=\"https://wandb.ai/ort_masterbigdata_2023/trabajo_final_nps_itau/sweeps/icsnnr1l\" target=\"_blank\">https://wandb.ai/ort_masterbigdata_2023/trabajo_final_nps_itau/sweeps/icsnnr1l</a><br/>\n",
       "\n",
       "                "
      ],
      "text/plain": [
       "<IPython.core.display.HTML object>"
      ]
     },
     "metadata": {},
     "output_type": "display_data"
    },
    {
     "data": {
      "text/html": [
       "<br/>Waiting for W&B process to finish, PID 15879... <strong style=\"color:green\">(success).</strong>"
      ],
      "text/plain": [
       "<IPython.core.display.HTML object>"
      ]
     },
     "metadata": {},
     "output_type": "display_data"
    },
    {
     "data": {
      "application/vnd.jupyter.widget-view+json": {
       "model_id": "",
       "version_major": 2,
       "version_minor": 0
      },
      "text/plain": [
       "VBox(children=(Label(value=' 0.00MB of 0.00MB uploaded (0.00MB deduped)\\r'), FloatProgress(value=1.0, max=1.0)…"
      ]
     },
     "metadata": {},
     "output_type": "display_data"
    },
    {
     "data": {
      "text/html": [
       "<style>\n",
       "    table.wandb td:nth-child(1) { padding: 0 10px; text-align: right }\n",
       "    .wandb-row { display: flex; flex-direction: row; flex-wrap: wrap; width: 100% }\n",
       "    .wandb-col { display: flex; flex-direction: column; flex-basis: 100%; flex: 1; padding: 10px; }\n",
       "    </style>\n",
       "<div class=\"wandb-row\"><div class=\"wandb-col\">\n",
       "<h3>Run history:</h3><br/><table class=\"wandb\"><tr><td>epoch</td><td>▁▂▃▃▄▅▆▆▇█</td></tr><tr><td>loss</td><td>█▄▃▂▂▂▁▁▁▁</td></tr><tr><td>recall</td><td>▁▁▁▁▁▁▁▁▁▁</td></tr></table><br/></div><div class=\"wandb-col\">\n",
       "<h3>Run summary:</h3><br/><table class=\"wandb\"><tr><td>epoch</td><td>9</td></tr><tr><td>loss</td><td>6.96027</td></tr><tr><td>recall</td><td>0.31362</td></tr></table>\n",
       "</div></div>\n",
       "Synced 4 W&B file(s), 0 media file(s), 0 artifact file(s) and 0 other file(s)\n",
       "<br/>Synced <strong style=\"color:#cdcd00\">bright-sweep-6</strong>: <a href=\"https://wandb.ai/ort_masterbigdata_2023/trabajo_final_nps_itau/runs/10yrypa9\" target=\"_blank\">https://wandb.ai/ort_masterbigdata_2023/trabajo_final_nps_itau/runs/10yrypa9</a><br/>\n",
       "Find logs at: <code>./wandb/run-20250417_153459-10yrypa9/logs</code><br/>\n"
      ],
      "text/plain": [
       "<IPython.core.display.HTML object>"
      ]
     },
     "metadata": {},
     "output_type": "display_data"
    },
    {
     "name": "stderr",
     "output_type": "stream",
     "text": [
      "\u001b[34m\u001b[1mwandb\u001b[0m: Agent Starting Run: 92x02l0n with config:\n",
      "\u001b[34m\u001b[1mwandb\u001b[0m: \tbatch_size: 32\n",
      "\u001b[34m\u001b[1mwandb\u001b[0m: \tlearning_rate: 0.05007189474520565\n",
      "\u001b[34m\u001b[1mwandb\u001b[0m: wandb version 0.19.9 is available!  To upgrade, please run:\n",
      "\u001b[34m\u001b[1mwandb\u001b[0m:  $ pip install wandb --upgrade\n"
     ]
    },
    {
     "data": {
      "text/html": [
       "\n",
       "                    Syncing run <strong><a href=\"https://wandb.ai/ort_masterbigdata_2023/trabajo_final_nps_itau/runs/92x02l0n\" target=\"_blank\">gallant-sweep-7</a></strong> to <a href=\"https://wandb.ai/ort_masterbigdata_2023/trabajo_final_nps_itau\" target=\"_blank\">Weights & Biases</a> (<a href=\"https://docs.wandb.com/integrations/jupyter.html\" target=\"_blank\">docs</a>).<br/>\n",
       "Sweep page: <a href=\"https://wandb.ai/ort_masterbigdata_2023/trabajo_final_nps_itau/sweeps/icsnnr1l\" target=\"_blank\">https://wandb.ai/ort_masterbigdata_2023/trabajo_final_nps_itau/sweeps/icsnnr1l</a><br/>\n",
       "\n",
       "                "
      ],
      "text/plain": [
       "<IPython.core.display.HTML object>"
      ]
     },
     "metadata": {},
     "output_type": "display_data"
    },
    {
     "data": {
      "text/html": [
       "<br/>Waiting for W&B process to finish, PID 15985... <strong style=\"color:green\">(success).</strong>"
      ],
      "text/plain": [
       "<IPython.core.display.HTML object>"
      ]
     },
     "metadata": {},
     "output_type": "display_data"
    },
    {
     "data": {
      "application/vnd.jupyter.widget-view+json": {
       "model_id": "",
       "version_major": 2,
       "version_minor": 0
      },
      "text/plain": [
       "VBox(children=(Label(value=' 0.00MB of 0.00MB uploaded (0.00MB deduped)\\r'), FloatProgress(value=1.0, max=1.0)…"
      ]
     },
     "metadata": {},
     "output_type": "display_data"
    },
    {
     "data": {
      "text/html": [
       "<style>\n",
       "    table.wandb td:nth-child(1) { padding: 0 10px; text-align: right }\n",
       "    .wandb-row { display: flex; flex-direction: row; flex-wrap: wrap; width: 100% }\n",
       "    .wandb-col { display: flex; flex-direction: column; flex-basis: 100%; flex: 1; padding: 10px; }\n",
       "    </style>\n",
       "<div class=\"wandb-row\"><div class=\"wandb-col\">\n",
       "<h3>Run history:</h3><br/><table class=\"wandb\"><tr><td>epoch</td><td>▁▂▃▃▄▅▆▆▇█</td></tr><tr><td>loss</td><td>█▄▃▂▂▂▁▁▁▁</td></tr><tr><td>recall</td><td>▁▁▁▁▁▁▁▁▁▁</td></tr></table><br/></div><div class=\"wandb-col\">\n",
       "<h3>Run summary:</h3><br/><table class=\"wandb\"><tr><td>epoch</td><td>9</td></tr><tr><td>loss</td><td>1.99713</td></tr><tr><td>recall</td><td>0.31362</td></tr></table>\n",
       "</div></div>\n",
       "Synced 4 W&B file(s), 0 media file(s), 0 artifact file(s) and 0 other file(s)\n",
       "<br/>Synced <strong style=\"color:#cdcd00\">gallant-sweep-7</strong>: <a href=\"https://wandb.ai/ort_masterbigdata_2023/trabajo_final_nps_itau/runs/92x02l0n\" target=\"_blank\">https://wandb.ai/ort_masterbigdata_2023/trabajo_final_nps_itau/runs/92x02l0n</a><br/>\n",
       "Find logs at: <code>./wandb/run-20250417_153510-92x02l0n/logs</code><br/>\n"
      ],
      "text/plain": [
       "<IPython.core.display.HTML object>"
      ]
     },
     "metadata": {},
     "output_type": "display_data"
    },
    {
     "name": "stderr",
     "output_type": "stream",
     "text": [
      "\u001b[34m\u001b[1mwandb\u001b[0m: Agent Starting Run: qtwnvhkd with config:\n",
      "\u001b[34m\u001b[1mwandb\u001b[0m: \tbatch_size: 64\n",
      "\u001b[34m\u001b[1mwandb\u001b[0m: \tlearning_rate: 0.0983061347310121\n",
      "\u001b[34m\u001b[1mwandb\u001b[0m: wandb version 0.19.9 is available!  To upgrade, please run:\n",
      "\u001b[34m\u001b[1mwandb\u001b[0m:  $ pip install wandb --upgrade\n"
     ]
    },
    {
     "data": {
      "text/html": [
       "\n",
       "                    Syncing run <strong><a href=\"https://wandb.ai/ort_masterbigdata_2023/trabajo_final_nps_itau/runs/qtwnvhkd\" target=\"_blank\">exalted-sweep-8</a></strong> to <a href=\"https://wandb.ai/ort_masterbigdata_2023/trabajo_final_nps_itau\" target=\"_blank\">Weights & Biases</a> (<a href=\"https://docs.wandb.com/integrations/jupyter.html\" target=\"_blank\">docs</a>).<br/>\n",
       "Sweep page: <a href=\"https://wandb.ai/ort_masterbigdata_2023/trabajo_final_nps_itau/sweeps/icsnnr1l\" target=\"_blank\">https://wandb.ai/ort_masterbigdata_2023/trabajo_final_nps_itau/sweeps/icsnnr1l</a><br/>\n",
       "\n",
       "                "
      ],
      "text/plain": [
       "<IPython.core.display.HTML object>"
      ]
     },
     "metadata": {},
     "output_type": "display_data"
    },
    {
     "data": {
      "text/html": [
       "<br/>Waiting for W&B process to finish, PID 16091... <strong style=\"color:green\">(success).</strong>"
      ],
      "text/plain": [
       "<IPython.core.display.HTML object>"
      ]
     },
     "metadata": {},
     "output_type": "display_data"
    },
    {
     "data": {
      "application/vnd.jupyter.widget-view+json": {
       "model_id": "",
       "version_major": 2,
       "version_minor": 0
      },
      "text/plain": [
       "VBox(children=(Label(value=' 0.00MB of 0.00MB uploaded (0.00MB deduped)\\r'), FloatProgress(value=1.0, max=1.0)…"
      ]
     },
     "metadata": {},
     "output_type": "display_data"
    },
    {
     "data": {
      "text/html": [
       "<style>\n",
       "    table.wandb td:nth-child(1) { padding: 0 10px; text-align: right }\n",
       "    .wandb-row { display: flex; flex-direction: row; flex-wrap: wrap; width: 100% }\n",
       "    .wandb-col { display: flex; flex-direction: column; flex-basis: 100%; flex: 1; padding: 10px; }\n",
       "    </style>\n",
       "<div class=\"wandb-row\"><div class=\"wandb-col\">\n",
       "<h3>Run history:</h3><br/><table class=\"wandb\"><tr><td>epoch</td><td>▁▂▃▃▄▅▆▆▇█</td></tr><tr><td>loss</td><td>█▄▃▂▂▂▁▁▁▁</td></tr><tr><td>recall</td><td>▁▁▁▁▁▁▁▁▁▁</td></tr></table><br/></div><div class=\"wandb-col\">\n",
       "<h3>Run summary:</h3><br/><table class=\"wandb\"><tr><td>epoch</td><td>9</td></tr><tr><td>loss</td><td>1.01723</td></tr><tr><td>recall</td><td>0.31362</td></tr></table>\n",
       "</div></div>\n",
       "Synced 4 W&B file(s), 0 media file(s), 0 artifact file(s) and 0 other file(s)\n",
       "<br/>Synced <strong style=\"color:#cdcd00\">exalted-sweep-8</strong>: <a href=\"https://wandb.ai/ort_masterbigdata_2023/trabajo_final_nps_itau/runs/qtwnvhkd\" target=\"_blank\">https://wandb.ai/ort_masterbigdata_2023/trabajo_final_nps_itau/runs/qtwnvhkd</a><br/>\n",
       "Find logs at: <code>./wandb/run-20250417_153521-qtwnvhkd/logs</code><br/>\n"
      ],
      "text/plain": [
       "<IPython.core.display.HTML object>"
      ]
     },
     "metadata": {},
     "output_type": "display_data"
    },
    {
     "name": "stderr",
     "output_type": "stream",
     "text": [
      "\u001b[34m\u001b[1mwandb\u001b[0m: Agent Starting Run: pzd573wy with config:\n",
      "\u001b[34m\u001b[1mwandb\u001b[0m: \tbatch_size: 32\n",
      "\u001b[34m\u001b[1mwandb\u001b[0m: \tlearning_rate: 0.006739163393117688\n",
      "\u001b[34m\u001b[1mwandb\u001b[0m: wandb version 0.19.9 is available!  To upgrade, please run:\n",
      "\u001b[34m\u001b[1mwandb\u001b[0m:  $ pip install wandb --upgrade\n"
     ]
    },
    {
     "data": {
      "text/html": [
       "\n",
       "                    Syncing run <strong><a href=\"https://wandb.ai/ort_masterbigdata_2023/trabajo_final_nps_itau/runs/pzd573wy\" target=\"_blank\">jumping-sweep-9</a></strong> to <a href=\"https://wandb.ai/ort_masterbigdata_2023/trabajo_final_nps_itau\" target=\"_blank\">Weights & Biases</a> (<a href=\"https://docs.wandb.com/integrations/jupyter.html\" target=\"_blank\">docs</a>).<br/>\n",
       "Sweep page: <a href=\"https://wandb.ai/ort_masterbigdata_2023/trabajo_final_nps_itau/sweeps/icsnnr1l\" target=\"_blank\">https://wandb.ai/ort_masterbigdata_2023/trabajo_final_nps_itau/sweeps/icsnnr1l</a><br/>\n",
       "\n",
       "                "
      ],
      "text/plain": [
       "<IPython.core.display.HTML object>"
      ]
     },
     "metadata": {},
     "output_type": "display_data"
    },
    {
     "data": {
      "text/html": [
       "<br/>Waiting for W&B process to finish, PID 16197... <strong style=\"color:green\">(success).</strong>"
      ],
      "text/plain": [
       "<IPython.core.display.HTML object>"
      ]
     },
     "metadata": {},
     "output_type": "display_data"
    },
    {
     "data": {
      "application/vnd.jupyter.widget-view+json": {
       "model_id": "",
       "version_major": 2,
       "version_minor": 0
      },
      "text/plain": [
       "VBox(children=(Label(value=' 0.00MB of 0.00MB uploaded (0.00MB deduped)\\r'), FloatProgress(value=1.0, max=1.0)…"
      ]
     },
     "metadata": {},
     "output_type": "display_data"
    },
    {
     "data": {
      "text/html": [
       "<style>\n",
       "    table.wandb td:nth-child(1) { padding: 0 10px; text-align: right }\n",
       "    .wandb-row { display: flex; flex-direction: row; flex-wrap: wrap; width: 100% }\n",
       "    .wandb-col { display: flex; flex-direction: column; flex-basis: 100%; flex: 1; padding: 10px; }\n",
       "    </style>\n",
       "<div class=\"wandb-row\"><div class=\"wandb-col\">\n",
       "<h3>Run history:</h3><br/><table class=\"wandb\"><tr><td>epoch</td><td>▁▂▃▃▄▅▆▆▇█</td></tr><tr><td>loss</td><td>█▄▃▂▂▂▁▁▁▁</td></tr><tr><td>recall</td><td>▁▁▁▁▁▁▁▁▁▁</td></tr></table><br/></div><div class=\"wandb-col\">\n",
       "<h3>Run summary:</h3><br/><table class=\"wandb\"><tr><td>epoch</td><td>9</td></tr><tr><td>loss</td><td>14.83864</td></tr><tr><td>recall</td><td>0.31362</td></tr></table>\n",
       "</div></div>\n",
       "Synced 4 W&B file(s), 0 media file(s), 0 artifact file(s) and 0 other file(s)\n",
       "<br/>Synced <strong style=\"color:#cdcd00\">jumping-sweep-9</strong>: <a href=\"https://wandb.ai/ort_masterbigdata_2023/trabajo_final_nps_itau/runs/pzd573wy\" target=\"_blank\">https://wandb.ai/ort_masterbigdata_2023/trabajo_final_nps_itau/runs/pzd573wy</a><br/>\n",
       "Find logs at: <code>./wandb/run-20250417_153531-pzd573wy/logs</code><br/>\n"
      ],
      "text/plain": [
       "<IPython.core.display.HTML object>"
      ]
     },
     "metadata": {},
     "output_type": "display_data"
    },
    {
     "name": "stderr",
     "output_type": "stream",
     "text": [
      "\u001b[34m\u001b[1mwandb\u001b[0m: Agent Starting Run: zhvplus8 with config:\n",
      "\u001b[34m\u001b[1mwandb\u001b[0m: \tbatch_size: 32\n",
      "\u001b[34m\u001b[1mwandb\u001b[0m: \tlearning_rate: 0.08341238392620949\n",
      "\u001b[34m\u001b[1mwandb\u001b[0m: wandb version 0.19.9 is available!  To upgrade, please run:\n",
      "\u001b[34m\u001b[1mwandb\u001b[0m:  $ pip install wandb --upgrade\n"
     ]
    },
    {
     "data": {
      "text/html": [
       "\n",
       "                    Syncing run <strong><a href=\"https://wandb.ai/ort_masterbigdata_2023/trabajo_final_nps_itau/runs/zhvplus8\" target=\"_blank\">jolly-sweep-10</a></strong> to <a href=\"https://wandb.ai/ort_masterbigdata_2023/trabajo_final_nps_itau\" target=\"_blank\">Weights & Biases</a> (<a href=\"https://docs.wandb.com/integrations/jupyter.html\" target=\"_blank\">docs</a>).<br/>\n",
       "Sweep page: <a href=\"https://wandb.ai/ort_masterbigdata_2023/trabajo_final_nps_itau/sweeps/icsnnr1l\" target=\"_blank\">https://wandb.ai/ort_masterbigdata_2023/trabajo_final_nps_itau/sweeps/icsnnr1l</a><br/>\n",
       "\n",
       "                "
      ],
      "text/plain": [
       "<IPython.core.display.HTML object>"
      ]
     },
     "metadata": {},
     "output_type": "display_data"
    },
    {
     "data": {
      "text/html": [
       "<br/>Waiting for W&B process to finish, PID 16303... <strong style=\"color:green\">(success).</strong>"
      ],
      "text/plain": [
       "<IPython.core.display.HTML object>"
      ]
     },
     "metadata": {},
     "output_type": "display_data"
    },
    {
     "data": {
      "application/vnd.jupyter.widget-view+json": {
       "model_id": "",
       "version_major": 2,
       "version_minor": 0
      },
      "text/plain": [
       "VBox(children=(Label(value=' 0.00MB of 0.00MB uploaded (0.00MB deduped)\\r'), FloatProgress(value=1.0, max=1.0)…"
      ]
     },
     "metadata": {},
     "output_type": "display_data"
    },
    {
     "data": {
      "text/html": [
       "<style>\n",
       "    table.wandb td:nth-child(1) { padding: 0 10px; text-align: right }\n",
       "    .wandb-row { display: flex; flex-direction: row; flex-wrap: wrap; width: 100% }\n",
       "    .wandb-col { display: flex; flex-direction: column; flex-basis: 100%; flex: 1; padding: 10px; }\n",
       "    </style>\n",
       "<div class=\"wandb-row\"><div class=\"wandb-col\">\n",
       "<h3>Run history:</h3><br/><table class=\"wandb\"><tr><td>epoch</td><td>▁▂▃▃▄▅▆▆▇█</td></tr><tr><td>loss</td><td>█▄▃▂▂▂▁▁▁▁</td></tr><tr><td>recall</td><td>▁▁▁▁▁▁▁▁▁▁</td></tr></table><br/></div><div class=\"wandb-col\">\n",
       "<h3>Run summary:</h3><br/><table class=\"wandb\"><tr><td>epoch</td><td>9</td></tr><tr><td>loss</td><td>1.19886</td></tr><tr><td>recall</td><td>0.31362</td></tr></table>\n",
       "</div></div>\n",
       "Synced 4 W&B file(s), 0 media file(s), 0 artifact file(s) and 0 other file(s)\n",
       "<br/>Synced <strong style=\"color:#cdcd00\">jolly-sweep-10</strong>: <a href=\"https://wandb.ai/ort_masterbigdata_2023/trabajo_final_nps_itau/runs/zhvplus8\" target=\"_blank\">https://wandb.ai/ort_masterbigdata_2023/trabajo_final_nps_itau/runs/zhvplus8</a><br/>\n",
       "Find logs at: <code>./wandb/run-20250417_153542-zhvplus8/logs</code><br/>\n"
      ],
      "text/plain": [
       "<IPython.core.display.HTML object>"
      ]
     },
     "metadata": {},
     "output_type": "display_data"
    },
    {
     "name": "stderr",
     "output_type": "stream",
     "text": [
      "\u001b[34m\u001b[1mwandb\u001b[0m: Agent Starting Run: ah02af71 with config:\n",
      "\u001b[34m\u001b[1mwandb\u001b[0m: \tbatch_size: 16\n",
      "\u001b[34m\u001b[1mwandb\u001b[0m: \tlearning_rate: 0.04469016069572638\n",
      "\u001b[34m\u001b[1mwandb\u001b[0m: wandb version 0.19.9 is available!  To upgrade, please run:\n",
      "\u001b[34m\u001b[1mwandb\u001b[0m:  $ pip install wandb --upgrade\n"
     ]
    },
    {
     "data": {
      "text/html": [
       "\n",
       "                    Syncing run <strong><a href=\"https://wandb.ai/ort_masterbigdata_2023/trabajo_final_nps_itau/runs/ah02af71\" target=\"_blank\">peachy-sweep-11</a></strong> to <a href=\"https://wandb.ai/ort_masterbigdata_2023/trabajo_final_nps_itau\" target=\"_blank\">Weights & Biases</a> (<a href=\"https://docs.wandb.com/integrations/jupyter.html\" target=\"_blank\">docs</a>).<br/>\n",
       "Sweep page: <a href=\"https://wandb.ai/ort_masterbigdata_2023/trabajo_final_nps_itau/sweeps/icsnnr1l\" target=\"_blank\">https://wandb.ai/ort_masterbigdata_2023/trabajo_final_nps_itau/sweeps/icsnnr1l</a><br/>\n",
       "\n",
       "                "
      ],
      "text/plain": [
       "<IPython.core.display.HTML object>"
      ]
     },
     "metadata": {},
     "output_type": "display_data"
    },
    {
     "data": {
      "text/html": [
       "<br/>Waiting for W&B process to finish, PID 16409... <strong style=\"color:green\">(success).</strong>"
      ],
      "text/plain": [
       "<IPython.core.display.HTML object>"
      ]
     },
     "metadata": {},
     "output_type": "display_data"
    },
    {
     "data": {
      "application/vnd.jupyter.widget-view+json": {
       "model_id": "",
       "version_major": 2,
       "version_minor": 0
      },
      "text/plain": [
       "VBox(children=(Label(value=' 0.00MB of 0.00MB uploaded (0.00MB deduped)\\r'), FloatProgress(value=1.0, max=1.0)…"
      ]
     },
     "metadata": {},
     "output_type": "display_data"
    },
    {
     "data": {
      "text/html": [
       "<style>\n",
       "    table.wandb td:nth-child(1) { padding: 0 10px; text-align: right }\n",
       "    .wandb-row { display: flex; flex-direction: row; flex-wrap: wrap; width: 100% }\n",
       "    .wandb-col { display: flex; flex-direction: column; flex-basis: 100%; flex: 1; padding: 10px; }\n",
       "    </style>\n",
       "<div class=\"wandb-row\"><div class=\"wandb-col\">\n",
       "<h3>Run history:</h3><br/><table class=\"wandb\"><tr><td>epoch</td><td>▁▂▃▃▄▅▆▆▇█</td></tr><tr><td>loss</td><td>█▄▃▂▂▂▁▁▁▁</td></tr><tr><td>recall</td><td>▁▁▁▁▁▁▁▁▁▁</td></tr></table><br/></div><div class=\"wandb-col\">\n",
       "<h3>Run summary:</h3><br/><table class=\"wandb\"><tr><td>epoch</td><td>9</td></tr><tr><td>loss</td><td>2.23763</td></tr><tr><td>recall</td><td>0.31362</td></tr></table>\n",
       "</div></div>\n",
       "Synced 4 W&B file(s), 0 media file(s), 0 artifact file(s) and 0 other file(s)\n",
       "<br/>Synced <strong style=\"color:#cdcd00\">peachy-sweep-11</strong>: <a href=\"https://wandb.ai/ort_masterbigdata_2023/trabajo_final_nps_itau/runs/ah02af71\" target=\"_blank\">https://wandb.ai/ort_masterbigdata_2023/trabajo_final_nps_itau/runs/ah02af71</a><br/>\n",
       "Find logs at: <code>./wandb/run-20250417_153553-ah02af71/logs</code><br/>\n"
      ],
      "text/plain": [
       "<IPython.core.display.HTML object>"
      ]
     },
     "metadata": {},
     "output_type": "display_data"
    },
    {
     "name": "stderr",
     "output_type": "stream",
     "text": [
      "\u001b[34m\u001b[1mwandb\u001b[0m: Agent Starting Run: 8jzlvbin with config:\n",
      "\u001b[34m\u001b[1mwandb\u001b[0m: \tbatch_size: 64\n",
      "\u001b[34m\u001b[1mwandb\u001b[0m: \tlearning_rate: 0.033782495251889325\n",
      "\u001b[34m\u001b[1mwandb\u001b[0m: wandb version 0.19.9 is available!  To upgrade, please run:\n",
      "\u001b[34m\u001b[1mwandb\u001b[0m:  $ pip install wandb --upgrade\n"
     ]
    },
    {
     "data": {
      "text/html": [
       "\n",
       "                    Syncing run <strong><a href=\"https://wandb.ai/ort_masterbigdata_2023/trabajo_final_nps_itau/runs/8jzlvbin\" target=\"_blank\">lucky-sweep-12</a></strong> to <a href=\"https://wandb.ai/ort_masterbigdata_2023/trabajo_final_nps_itau\" target=\"_blank\">Weights & Biases</a> (<a href=\"https://docs.wandb.com/integrations/jupyter.html\" target=\"_blank\">docs</a>).<br/>\n",
       "Sweep page: <a href=\"https://wandb.ai/ort_masterbigdata_2023/trabajo_final_nps_itau/sweeps/icsnnr1l\" target=\"_blank\">https://wandb.ai/ort_masterbigdata_2023/trabajo_final_nps_itau/sweeps/icsnnr1l</a><br/>\n",
       "\n",
       "                "
      ],
      "text/plain": [
       "<IPython.core.display.HTML object>"
      ]
     },
     "metadata": {},
     "output_type": "display_data"
    },
    {
     "data": {
      "text/html": [
       "<br/>Waiting for W&B process to finish, PID 16515... <strong style=\"color:green\">(success).</strong>"
      ],
      "text/plain": [
       "<IPython.core.display.HTML object>"
      ]
     },
     "metadata": {},
     "output_type": "display_data"
    },
    {
     "data": {
      "application/vnd.jupyter.widget-view+json": {
       "model_id": "",
       "version_major": 2,
       "version_minor": 0
      },
      "text/plain": [
       "VBox(children=(Label(value=' 0.00MB of 0.00MB uploaded (0.00MB deduped)\\r'), FloatProgress(value=1.0, max=1.0)…"
      ]
     },
     "metadata": {},
     "output_type": "display_data"
    },
    {
     "data": {
      "text/html": [
       "<style>\n",
       "    table.wandb td:nth-child(1) { padding: 0 10px; text-align: right }\n",
       "    .wandb-row { display: flex; flex-direction: row; flex-wrap: wrap; width: 100% }\n",
       "    .wandb-col { display: flex; flex-direction: column; flex-basis: 100%; flex: 1; padding: 10px; }\n",
       "    </style>\n",
       "<div class=\"wandb-row\"><div class=\"wandb-col\">\n",
       "<h3>Run history:</h3><br/><table class=\"wandb\"><tr><td>epoch</td><td>▁▂▃▃▄▅▆▆▇█</td></tr><tr><td>loss</td><td>█▄▃▂▂▂▁▁▁▁</td></tr><tr><td>recall</td><td>▁▁▁▁▁▁▁▁▁▁</td></tr></table><br/></div><div class=\"wandb-col\">\n",
       "<h3>Run summary:</h3><br/><table class=\"wandb\"><tr><td>epoch</td><td>9</td></tr><tr><td>loss</td><td>2.96011</td></tr><tr><td>recall</td><td>0.31362</td></tr></table>\n",
       "</div></div>\n",
       "Synced 4 W&B file(s), 0 media file(s), 0 artifact file(s) and 0 other file(s)\n",
       "<br/>Synced <strong style=\"color:#cdcd00\">lucky-sweep-12</strong>: <a href=\"https://wandb.ai/ort_masterbigdata_2023/trabajo_final_nps_itau/runs/8jzlvbin\" target=\"_blank\">https://wandb.ai/ort_masterbigdata_2023/trabajo_final_nps_itau/runs/8jzlvbin</a><br/>\n",
       "Find logs at: <code>./wandb/run-20250417_153604-8jzlvbin/logs</code><br/>\n"
      ],
      "text/plain": [
       "<IPython.core.display.HTML object>"
      ]
     },
     "metadata": {},
     "output_type": "display_data"
    },
    {
     "name": "stderr",
     "output_type": "stream",
     "text": [
      "\u001b[34m\u001b[1mwandb\u001b[0m: Agent Starting Run: 5rt6ln0c with config:\n",
      "\u001b[34m\u001b[1mwandb\u001b[0m: \tbatch_size: 16\n",
      "\u001b[34m\u001b[1mwandb\u001b[0m: \tlearning_rate: 0.07140520635436841\n",
      "\u001b[34m\u001b[1mwandb\u001b[0m: wandb version 0.19.9 is available!  To upgrade, please run:\n",
      "\u001b[34m\u001b[1mwandb\u001b[0m:  $ pip install wandb --upgrade\n"
     ]
    },
    {
     "data": {
      "text/html": [
       "\n",
       "                    Syncing run <strong><a href=\"https://wandb.ai/ort_masterbigdata_2023/trabajo_final_nps_itau/runs/5rt6ln0c\" target=\"_blank\">good-sweep-13</a></strong> to <a href=\"https://wandb.ai/ort_masterbigdata_2023/trabajo_final_nps_itau\" target=\"_blank\">Weights & Biases</a> (<a href=\"https://docs.wandb.com/integrations/jupyter.html\" target=\"_blank\">docs</a>).<br/>\n",
       "Sweep page: <a href=\"https://wandb.ai/ort_masterbigdata_2023/trabajo_final_nps_itau/sweeps/icsnnr1l\" target=\"_blank\">https://wandb.ai/ort_masterbigdata_2023/trabajo_final_nps_itau/sweeps/icsnnr1l</a><br/>\n",
       "\n",
       "                "
      ],
      "text/plain": [
       "<IPython.core.display.HTML object>"
      ]
     },
     "metadata": {},
     "output_type": "display_data"
    },
    {
     "data": {
      "text/html": [
       "<br/>Waiting for W&B process to finish, PID 16621... <strong style=\"color:green\">(success).</strong>"
      ],
      "text/plain": [
       "<IPython.core.display.HTML object>"
      ]
     },
     "metadata": {},
     "output_type": "display_data"
    },
    {
     "data": {
      "application/vnd.jupyter.widget-view+json": {
       "model_id": "",
       "version_major": 2,
       "version_minor": 0
      },
      "text/plain": [
       "VBox(children=(Label(value=' 0.00MB of 0.00MB uploaded (0.00MB deduped)\\r'), FloatProgress(value=1.0, max=1.0)…"
      ]
     },
     "metadata": {},
     "output_type": "display_data"
    },
    {
     "data": {
      "text/html": [
       "<style>\n",
       "    table.wandb td:nth-child(1) { padding: 0 10px; text-align: right }\n",
       "    .wandb-row { display: flex; flex-direction: row; flex-wrap: wrap; width: 100% }\n",
       "    .wandb-col { display: flex; flex-direction: column; flex-basis: 100%; flex: 1; padding: 10px; }\n",
       "    </style>\n",
       "<div class=\"wandb-row\"><div class=\"wandb-col\">\n",
       "<h3>Run history:</h3><br/><table class=\"wandb\"><tr><td>epoch</td><td>▁▂▃▃▄▅▆▆▇█</td></tr><tr><td>loss</td><td>█▄▃▂▂▂▁▁▁▁</td></tr><tr><td>recall</td><td>▁▁▁▁▁▁▁▁▁▁</td></tr></table><br/></div><div class=\"wandb-col\">\n",
       "<h3>Run summary:</h3><br/><table class=\"wandb\"><tr><td>epoch</td><td>9</td></tr><tr><td>loss</td><td>1.40046</td></tr><tr><td>recall</td><td>0.31362</td></tr></table>\n",
       "</div></div>\n",
       "Synced 4 W&B file(s), 0 media file(s), 0 artifact file(s) and 0 other file(s)\n",
       "<br/>Synced <strong style=\"color:#cdcd00\">good-sweep-13</strong>: <a href=\"https://wandb.ai/ort_masterbigdata_2023/trabajo_final_nps_itau/runs/5rt6ln0c\" target=\"_blank\">https://wandb.ai/ort_masterbigdata_2023/trabajo_final_nps_itau/runs/5rt6ln0c</a><br/>\n",
       "Find logs at: <code>./wandb/run-20250417_153615-5rt6ln0c/logs</code><br/>\n"
      ],
      "text/plain": [
       "<IPython.core.display.HTML object>"
      ]
     },
     "metadata": {},
     "output_type": "display_data"
    },
    {
     "name": "stderr",
     "output_type": "stream",
     "text": [
      "\u001b[34m\u001b[1mwandb\u001b[0m: Agent Starting Run: ojke9x53 with config:\n",
      "\u001b[34m\u001b[1mwandb\u001b[0m: \tbatch_size: 64\n",
      "\u001b[34m\u001b[1mwandb\u001b[0m: \tlearning_rate: 0.06939211434072022\n",
      "\u001b[34m\u001b[1mwandb\u001b[0m: wandb version 0.19.9 is available!  To upgrade, please run:\n",
      "\u001b[34m\u001b[1mwandb\u001b[0m:  $ pip install wandb --upgrade\n"
     ]
    },
    {
     "data": {
      "text/html": [
       "\n",
       "                    Syncing run <strong><a href=\"https://wandb.ai/ort_masterbigdata_2023/trabajo_final_nps_itau/runs/ojke9x53\" target=\"_blank\">gallant-sweep-14</a></strong> to <a href=\"https://wandb.ai/ort_masterbigdata_2023/trabajo_final_nps_itau\" target=\"_blank\">Weights & Biases</a> (<a href=\"https://docs.wandb.com/integrations/jupyter.html\" target=\"_blank\">docs</a>).<br/>\n",
       "Sweep page: <a href=\"https://wandb.ai/ort_masterbigdata_2023/trabajo_final_nps_itau/sweeps/icsnnr1l\" target=\"_blank\">https://wandb.ai/ort_masterbigdata_2023/trabajo_final_nps_itau/sweeps/icsnnr1l</a><br/>\n",
       "\n",
       "                "
      ],
      "text/plain": [
       "<IPython.core.display.HTML object>"
      ]
     },
     "metadata": {},
     "output_type": "display_data"
    },
    {
     "data": {
      "text/html": [
       "<br/>Waiting for W&B process to finish, PID 16727... <strong style=\"color:green\">(success).</strong>"
      ],
      "text/plain": [
       "<IPython.core.display.HTML object>"
      ]
     },
     "metadata": {},
     "output_type": "display_data"
    },
    {
     "data": {
      "application/vnd.jupyter.widget-view+json": {
       "model_id": "",
       "version_major": 2,
       "version_minor": 0
      },
      "text/plain": [
       "VBox(children=(Label(value=' 0.00MB of 0.00MB uploaded (0.00MB deduped)\\r'), FloatProgress(value=1.0, max=1.0)…"
      ]
     },
     "metadata": {},
     "output_type": "display_data"
    },
    {
     "data": {
      "text/html": [
       "<style>\n",
       "    table.wandb td:nth-child(1) { padding: 0 10px; text-align: right }\n",
       "    .wandb-row { display: flex; flex-direction: row; flex-wrap: wrap; width: 100% }\n",
       "    .wandb-col { display: flex; flex-direction: column; flex-basis: 100%; flex: 1; padding: 10px; }\n",
       "    </style>\n",
       "<div class=\"wandb-row\"><div class=\"wandb-col\">\n",
       "<h3>Run history:</h3><br/><table class=\"wandb\"><tr><td>epoch</td><td>▁▂▃▃▄▅▆▆▇█</td></tr><tr><td>loss</td><td>█▄▃▂▂▂▁▁▁▁</td></tr><tr><td>recall</td><td>▁▁▁▁▁▁▁▁▁▁</td></tr></table><br/></div><div class=\"wandb-col\">\n",
       "<h3>Run summary:</h3><br/><table class=\"wandb\"><tr><td>epoch</td><td>9</td></tr><tr><td>loss</td><td>1.44109</td></tr><tr><td>recall</td><td>0.31362</td></tr></table>\n",
       "</div></div>\n",
       "Synced 4 W&B file(s), 0 media file(s), 0 artifact file(s) and 0 other file(s)\n",
       "<br/>Synced <strong style=\"color:#cdcd00\">gallant-sweep-14</strong>: <a href=\"https://wandb.ai/ort_masterbigdata_2023/trabajo_final_nps_itau/runs/ojke9x53\" target=\"_blank\">https://wandb.ai/ort_masterbigdata_2023/trabajo_final_nps_itau/runs/ojke9x53</a><br/>\n",
       "Find logs at: <code>./wandb/run-20250417_153625-ojke9x53/logs</code><br/>\n"
      ],
      "text/plain": [
       "<IPython.core.display.HTML object>"
      ]
     },
     "metadata": {},
     "output_type": "display_data"
    },
    {
     "name": "stderr",
     "output_type": "stream",
     "text": [
      "\u001b[34m\u001b[1mwandb\u001b[0m: Agent Starting Run: 11wyrfby with config:\n",
      "\u001b[34m\u001b[1mwandb\u001b[0m: \tbatch_size: 32\n",
      "\u001b[34m\u001b[1mwandb\u001b[0m: \tlearning_rate: 0.04171432102648753\n",
      "\u001b[34m\u001b[1mwandb\u001b[0m: wandb version 0.19.9 is available!  To upgrade, please run:\n",
      "\u001b[34m\u001b[1mwandb\u001b[0m:  $ pip install wandb --upgrade\n"
     ]
    },
    {
     "data": {
      "text/html": [
       "\n",
       "                    Syncing run <strong><a href=\"https://wandb.ai/ort_masterbigdata_2023/trabajo_final_nps_itau/runs/11wyrfby\" target=\"_blank\">stilted-sweep-15</a></strong> to <a href=\"https://wandb.ai/ort_masterbigdata_2023/trabajo_final_nps_itau\" target=\"_blank\">Weights & Biases</a> (<a href=\"https://docs.wandb.com/integrations/jupyter.html\" target=\"_blank\">docs</a>).<br/>\n",
       "Sweep page: <a href=\"https://wandb.ai/ort_masterbigdata_2023/trabajo_final_nps_itau/sweeps/icsnnr1l\" target=\"_blank\">https://wandb.ai/ort_masterbigdata_2023/trabajo_final_nps_itau/sweeps/icsnnr1l</a><br/>\n",
       "\n",
       "                "
      ],
      "text/plain": [
       "<IPython.core.display.HTML object>"
      ]
     },
     "metadata": {},
     "output_type": "display_data"
    },
    {
     "data": {
      "text/html": [
       "<br/>Waiting for W&B process to finish, PID 16833... <strong style=\"color:green\">(success).</strong>"
      ],
      "text/plain": [
       "<IPython.core.display.HTML object>"
      ]
     },
     "metadata": {},
     "output_type": "display_data"
    },
    {
     "data": {
      "application/vnd.jupyter.widget-view+json": {
       "model_id": "",
       "version_major": 2,
       "version_minor": 0
      },
      "text/plain": [
       "VBox(children=(Label(value=' 0.00MB of 0.00MB uploaded (0.00MB deduped)\\r'), FloatProgress(value=1.0, max=1.0)…"
      ]
     },
     "metadata": {},
     "output_type": "display_data"
    },
    {
     "data": {
      "text/html": [
       "<style>\n",
       "    table.wandb td:nth-child(1) { padding: 0 10px; text-align: right }\n",
       "    .wandb-row { display: flex; flex-direction: row; flex-wrap: wrap; width: 100% }\n",
       "    .wandb-col { display: flex; flex-direction: column; flex-basis: 100%; flex: 1; padding: 10px; }\n",
       "    </style>\n",
       "<div class=\"wandb-row\"><div class=\"wandb-col\">\n",
       "<h3>Run history:</h3><br/><table class=\"wandb\"><tr><td>epoch</td><td>▁▂▃▃▄▅▆▆▇█</td></tr><tr><td>loss</td><td>█▄▃▂▂▂▁▁▁▁</td></tr><tr><td>recall</td><td>▁▁▁▁▁▁▁▁▁▁</td></tr></table><br/></div><div class=\"wandb-col\">\n",
       "<h3>Run summary:</h3><br/><table class=\"wandb\"><tr><td>epoch</td><td>9</td></tr><tr><td>loss</td><td>2.39726</td></tr><tr><td>recall</td><td>0.31362</td></tr></table>\n",
       "</div></div>\n",
       "Synced 4 W&B file(s), 0 media file(s), 0 artifact file(s) and 0 other file(s)\n",
       "<br/>Synced <strong style=\"color:#cdcd00\">stilted-sweep-15</strong>: <a href=\"https://wandb.ai/ort_masterbigdata_2023/trabajo_final_nps_itau/runs/11wyrfby\" target=\"_blank\">https://wandb.ai/ort_masterbigdata_2023/trabajo_final_nps_itau/runs/11wyrfby</a><br/>\n",
       "Find logs at: <code>./wandb/run-20250417_153636-11wyrfby/logs</code><br/>\n"
      ],
      "text/plain": [
       "<IPython.core.display.HTML object>"
      ]
     },
     "metadata": {},
     "output_type": "display_data"
    },
    {
     "name": "stderr",
     "output_type": "stream",
     "text": [
      "\u001b[34m\u001b[1mwandb\u001b[0m: Agent Starting Run: yesyn72a with config:\n",
      "\u001b[34m\u001b[1mwandb\u001b[0m: \tbatch_size: 64\n",
      "\u001b[34m\u001b[1mwandb\u001b[0m: \tlearning_rate: 0.06442671587185526\n",
      "\u001b[34m\u001b[1mwandb\u001b[0m: wandb version 0.19.9 is available!  To upgrade, please run:\n",
      "\u001b[34m\u001b[1mwandb\u001b[0m:  $ pip install wandb --upgrade\n"
     ]
    },
    {
     "data": {
      "text/html": [
       "\n",
       "                    Syncing run <strong><a href=\"https://wandb.ai/ort_masterbigdata_2023/trabajo_final_nps_itau/runs/yesyn72a\" target=\"_blank\">sweet-sweep-16</a></strong> to <a href=\"https://wandb.ai/ort_masterbigdata_2023/trabajo_final_nps_itau\" target=\"_blank\">Weights & Biases</a> (<a href=\"https://docs.wandb.com/integrations/jupyter.html\" target=\"_blank\">docs</a>).<br/>\n",
       "Sweep page: <a href=\"https://wandb.ai/ort_masterbigdata_2023/trabajo_final_nps_itau/sweeps/icsnnr1l\" target=\"_blank\">https://wandb.ai/ort_masterbigdata_2023/trabajo_final_nps_itau/sweeps/icsnnr1l</a><br/>\n",
       "\n",
       "                "
      ],
      "text/plain": [
       "<IPython.core.display.HTML object>"
      ]
     },
     "metadata": {},
     "output_type": "display_data"
    },
    {
     "data": {
      "text/html": [
       "<br/>Waiting for W&B process to finish, PID 16939... <strong style=\"color:green\">(success).</strong>"
      ],
      "text/plain": [
       "<IPython.core.display.HTML object>"
      ]
     },
     "metadata": {},
     "output_type": "display_data"
    },
    {
     "data": {
      "application/vnd.jupyter.widget-view+json": {
       "model_id": "",
       "version_major": 2,
       "version_minor": 0
      },
      "text/plain": [
       "VBox(children=(Label(value=' 0.00MB of 0.00MB uploaded (0.00MB deduped)\\r'), FloatProgress(value=1.0, max=1.0)…"
      ]
     },
     "metadata": {},
     "output_type": "display_data"
    },
    {
     "data": {
      "text/html": [
       "<style>\n",
       "    table.wandb td:nth-child(1) { padding: 0 10px; text-align: right }\n",
       "    .wandb-row { display: flex; flex-direction: row; flex-wrap: wrap; width: 100% }\n",
       "    .wandb-col { display: flex; flex-direction: column; flex-basis: 100%; flex: 1; padding: 10px; }\n",
       "    </style>\n",
       "<div class=\"wandb-row\"><div class=\"wandb-col\">\n",
       "<h3>Run history:</h3><br/><table class=\"wandb\"><tr><td>epoch</td><td>▁▂▃▃▄▅▆▆▇█</td></tr><tr><td>loss</td><td>█▄▃▂▂▂▁▁▁▁</td></tr><tr><td>recall</td><td>▁▁▁▁▁▁▁▁▁▁</td></tr></table><br/></div><div class=\"wandb-col\">\n",
       "<h3>Run summary:</h3><br/><table class=\"wandb\"><tr><td>epoch</td><td>9</td></tr><tr><td>loss</td><td>1.55215</td></tr><tr><td>recall</td><td>0.31362</td></tr></table>\n",
       "</div></div>\n",
       "Synced 4 W&B file(s), 0 media file(s), 0 artifact file(s) and 0 other file(s)\n",
       "<br/>Synced <strong style=\"color:#cdcd00\">sweet-sweep-16</strong>: <a href=\"https://wandb.ai/ort_masterbigdata_2023/trabajo_final_nps_itau/runs/yesyn72a\" target=\"_blank\">https://wandb.ai/ort_masterbigdata_2023/trabajo_final_nps_itau/runs/yesyn72a</a><br/>\n",
       "Find logs at: <code>./wandb/run-20250417_153647-yesyn72a/logs</code><br/>\n"
      ],
      "text/plain": [
       "<IPython.core.display.HTML object>"
      ]
     },
     "metadata": {},
     "output_type": "display_data"
    },
    {
     "name": "stderr",
     "output_type": "stream",
     "text": [
      "\u001b[34m\u001b[1mwandb\u001b[0m: Agent Starting Run: tod4n0sv with config:\n",
      "\u001b[34m\u001b[1mwandb\u001b[0m: \tbatch_size: 16\n",
      "\u001b[34m\u001b[1mwandb\u001b[0m: \tlearning_rate: 0.04760017661447203\n",
      "\u001b[34m\u001b[1mwandb\u001b[0m: wandb version 0.19.9 is available!  To upgrade, please run:\n",
      "\u001b[34m\u001b[1mwandb\u001b[0m:  $ pip install wandb --upgrade\n"
     ]
    },
    {
     "data": {
      "text/html": [
       "\n",
       "                    Syncing run <strong><a href=\"https://wandb.ai/ort_masterbigdata_2023/trabajo_final_nps_itau/runs/tod4n0sv\" target=\"_blank\">wise-sweep-17</a></strong> to <a href=\"https://wandb.ai/ort_masterbigdata_2023/trabajo_final_nps_itau\" target=\"_blank\">Weights & Biases</a> (<a href=\"https://docs.wandb.com/integrations/jupyter.html\" target=\"_blank\">docs</a>).<br/>\n",
       "Sweep page: <a href=\"https://wandb.ai/ort_masterbigdata_2023/trabajo_final_nps_itau/sweeps/icsnnr1l\" target=\"_blank\">https://wandb.ai/ort_masterbigdata_2023/trabajo_final_nps_itau/sweeps/icsnnr1l</a><br/>\n",
       "\n",
       "                "
      ],
      "text/plain": [
       "<IPython.core.display.HTML object>"
      ]
     },
     "metadata": {},
     "output_type": "display_data"
    },
    {
     "data": {
      "text/html": [
       "<br/>Waiting for W&B process to finish, PID 17045... <strong style=\"color:green\">(success).</strong>"
      ],
      "text/plain": [
       "<IPython.core.display.HTML object>"
      ]
     },
     "metadata": {},
     "output_type": "display_data"
    },
    {
     "data": {
      "application/vnd.jupyter.widget-view+json": {
       "model_id": "",
       "version_major": 2,
       "version_minor": 0
      },
      "text/plain": [
       "VBox(children=(Label(value=' 0.00MB of 0.00MB uploaded (0.00MB deduped)\\r'), FloatProgress(value=1.0, max=1.0)…"
      ]
     },
     "metadata": {},
     "output_type": "display_data"
    },
    {
     "data": {
      "text/html": [
       "<style>\n",
       "    table.wandb td:nth-child(1) { padding: 0 10px; text-align: right }\n",
       "    .wandb-row { display: flex; flex-direction: row; flex-wrap: wrap; width: 100% }\n",
       "    .wandb-col { display: flex; flex-direction: column; flex-basis: 100%; flex: 1; padding: 10px; }\n",
       "    </style>\n",
       "<div class=\"wandb-row\"><div class=\"wandb-col\">\n",
       "<h3>Run history:</h3><br/><table class=\"wandb\"><tr><td>epoch</td><td>▁▂▃▃▄▅▆▆▇█</td></tr><tr><td>loss</td><td>█▄▃▂▂▂▁▁▁▁</td></tr><tr><td>recall</td><td>▁▁▁▁▁▁▁▁▁▁</td></tr></table><br/></div><div class=\"wandb-col\">\n",
       "<h3>Run summary:</h3><br/><table class=\"wandb\"><tr><td>epoch</td><td>9</td></tr><tr><td>loss</td><td>2.10083</td></tr><tr><td>recall</td><td>0.31362</td></tr></table>\n",
       "</div></div>\n",
       "Synced 4 W&B file(s), 0 media file(s), 0 artifact file(s) and 0 other file(s)\n",
       "<br/>Synced <strong style=\"color:#cdcd00\">wise-sweep-17</strong>: <a href=\"https://wandb.ai/ort_masterbigdata_2023/trabajo_final_nps_itau/runs/tod4n0sv\" target=\"_blank\">https://wandb.ai/ort_masterbigdata_2023/trabajo_final_nps_itau/runs/tod4n0sv</a><br/>\n",
       "Find logs at: <code>./wandb/run-20250417_153658-tod4n0sv/logs</code><br/>\n"
      ],
      "text/plain": [
       "<IPython.core.display.HTML object>"
      ]
     },
     "metadata": {},
     "output_type": "display_data"
    },
    {
     "name": "stderr",
     "output_type": "stream",
     "text": [
      "\u001b[34m\u001b[1mwandb\u001b[0m: Agent Starting Run: kd13ph0k with config:\n",
      "\u001b[34m\u001b[1mwandb\u001b[0m: \tbatch_size: 64\n",
      "\u001b[34m\u001b[1mwandb\u001b[0m: \tlearning_rate: 0.07728351318697532\n",
      "\u001b[34m\u001b[1mwandb\u001b[0m: wandb version 0.19.9 is available!  To upgrade, please run:\n",
      "\u001b[34m\u001b[1mwandb\u001b[0m:  $ pip install wandb --upgrade\n"
     ]
    },
    {
     "data": {
      "text/html": [
       "\n",
       "                    Syncing run <strong><a href=\"https://wandb.ai/ort_masterbigdata_2023/trabajo_final_nps_itau/runs/kd13ph0k\" target=\"_blank\">lilac-sweep-18</a></strong> to <a href=\"https://wandb.ai/ort_masterbigdata_2023/trabajo_final_nps_itau\" target=\"_blank\">Weights & Biases</a> (<a href=\"https://docs.wandb.com/integrations/jupyter.html\" target=\"_blank\">docs</a>).<br/>\n",
       "Sweep page: <a href=\"https://wandb.ai/ort_masterbigdata_2023/trabajo_final_nps_itau/sweeps/icsnnr1l\" target=\"_blank\">https://wandb.ai/ort_masterbigdata_2023/trabajo_final_nps_itau/sweeps/icsnnr1l</a><br/>\n",
       "\n",
       "                "
      ],
      "text/plain": [
       "<IPython.core.display.HTML object>"
      ]
     },
     "metadata": {},
     "output_type": "display_data"
    },
    {
     "data": {
      "text/html": [
       "<br/>Waiting for W&B process to finish, PID 17151... <strong style=\"color:green\">(success).</strong>"
      ],
      "text/plain": [
       "<IPython.core.display.HTML object>"
      ]
     },
     "metadata": {},
     "output_type": "display_data"
    },
    {
     "data": {
      "application/vnd.jupyter.widget-view+json": {
       "model_id": "",
       "version_major": 2,
       "version_minor": 0
      },
      "text/plain": [
       "VBox(children=(Label(value=' 0.00MB of 0.00MB uploaded (0.00MB deduped)\\r'), FloatProgress(value=1.0, max=1.0)…"
      ]
     },
     "metadata": {},
     "output_type": "display_data"
    },
    {
     "data": {
      "text/html": [
       "<style>\n",
       "    table.wandb td:nth-child(1) { padding: 0 10px; text-align: right }\n",
       "    .wandb-row { display: flex; flex-direction: row; flex-wrap: wrap; width: 100% }\n",
       "    .wandb-col { display: flex; flex-direction: column; flex-basis: 100%; flex: 1; padding: 10px; }\n",
       "    </style>\n",
       "<div class=\"wandb-row\"><div class=\"wandb-col\">\n",
       "<h3>Run history:</h3><br/><table class=\"wandb\"><tr><td>epoch</td><td>▁▂▃▃▄▅▆▆▇█</td></tr><tr><td>loss</td><td>█▄▃▂▂▂▁▁▁▁</td></tr><tr><td>recall</td><td>▁▁▁▁▁▁▁▁▁▁</td></tr></table><br/></div><div class=\"wandb-col\">\n",
       "<h3>Run summary:</h3><br/><table class=\"wandb\"><tr><td>epoch</td><td>9</td></tr><tr><td>loss</td><td>1.29394</td></tr><tr><td>recall</td><td>0.31362</td></tr></table>\n",
       "</div></div>\n",
       "Synced 4 W&B file(s), 0 media file(s), 0 artifact file(s) and 0 other file(s)\n",
       "<br/>Synced <strong style=\"color:#cdcd00\">lilac-sweep-18</strong>: <a href=\"https://wandb.ai/ort_masterbigdata_2023/trabajo_final_nps_itau/runs/kd13ph0k\" target=\"_blank\">https://wandb.ai/ort_masterbigdata_2023/trabajo_final_nps_itau/runs/kd13ph0k</a><br/>\n",
       "Find logs at: <code>./wandb/run-20250417_153708-kd13ph0k/logs</code><br/>\n"
      ],
      "text/plain": [
       "<IPython.core.display.HTML object>"
      ]
     },
     "metadata": {},
     "output_type": "display_data"
    },
    {
     "name": "stderr",
     "output_type": "stream",
     "text": [
      "\u001b[34m\u001b[1mwandb\u001b[0m: Agent Starting Run: w86uhtrr with config:\n",
      "\u001b[34m\u001b[1mwandb\u001b[0m: \tbatch_size: 32\n",
      "\u001b[34m\u001b[1mwandb\u001b[0m: \tlearning_rate: 0.07526463016158469\n",
      "\u001b[34m\u001b[1mwandb\u001b[0m: wandb version 0.19.9 is available!  To upgrade, please run:\n",
      "\u001b[34m\u001b[1mwandb\u001b[0m:  $ pip install wandb --upgrade\n"
     ]
    },
    {
     "data": {
      "text/html": [
       "\n",
       "                    Syncing run <strong><a href=\"https://wandb.ai/ort_masterbigdata_2023/trabajo_final_nps_itau/runs/w86uhtrr\" target=\"_blank\">sweet-sweep-19</a></strong> to <a href=\"https://wandb.ai/ort_masterbigdata_2023/trabajo_final_nps_itau\" target=\"_blank\">Weights & Biases</a> (<a href=\"https://docs.wandb.com/integrations/jupyter.html\" target=\"_blank\">docs</a>).<br/>\n",
       "Sweep page: <a href=\"https://wandb.ai/ort_masterbigdata_2023/trabajo_final_nps_itau/sweeps/icsnnr1l\" target=\"_blank\">https://wandb.ai/ort_masterbigdata_2023/trabajo_final_nps_itau/sweeps/icsnnr1l</a><br/>\n",
       "\n",
       "                "
      ],
      "text/plain": [
       "<IPython.core.display.HTML object>"
      ]
     },
     "metadata": {},
     "output_type": "display_data"
    },
    {
     "data": {
      "text/html": [
       "<br/>Waiting for W&B process to finish, PID 17257... <strong style=\"color:green\">(success).</strong>"
      ],
      "text/plain": [
       "<IPython.core.display.HTML object>"
      ]
     },
     "metadata": {},
     "output_type": "display_data"
    },
    {
     "data": {
      "application/vnd.jupyter.widget-view+json": {
       "model_id": "",
       "version_major": 2,
       "version_minor": 0
      },
      "text/plain": [
       "VBox(children=(Label(value=' 0.00MB of 0.00MB uploaded (0.00MB deduped)\\r'), FloatProgress(value=1.0, max=1.0)…"
      ]
     },
     "metadata": {},
     "output_type": "display_data"
    },
    {
     "data": {
      "text/html": [
       "<style>\n",
       "    table.wandb td:nth-child(1) { padding: 0 10px; text-align: right }\n",
       "    .wandb-row { display: flex; flex-direction: row; flex-wrap: wrap; width: 100% }\n",
       "    .wandb-col { display: flex; flex-direction: column; flex-basis: 100%; flex: 1; padding: 10px; }\n",
       "    </style>\n",
       "<div class=\"wandb-row\"><div class=\"wandb-col\">\n",
       "<h3>Run history:</h3><br/><table class=\"wandb\"><tr><td>epoch</td><td>▁▂▃▃▄▅▆▆▇█</td></tr><tr><td>loss</td><td>█▄▃▂▂▂▁▁▁▁</td></tr><tr><td>recall</td><td>▁▁▁▁▁▁▁▁▁▁</td></tr></table><br/></div><div class=\"wandb-col\">\n",
       "<h3>Run summary:</h3><br/><table class=\"wandb\"><tr><td>epoch</td><td>9</td></tr><tr><td>loss</td><td>1.32865</td></tr><tr><td>recall</td><td>0.31362</td></tr></table>\n",
       "</div></div>\n",
       "Synced 4 W&B file(s), 0 media file(s), 0 artifact file(s) and 0 other file(s)\n",
       "<br/>Synced <strong style=\"color:#cdcd00\">sweet-sweep-19</strong>: <a href=\"https://wandb.ai/ort_masterbigdata_2023/trabajo_final_nps_itau/runs/w86uhtrr\" target=\"_blank\">https://wandb.ai/ort_masterbigdata_2023/trabajo_final_nps_itau/runs/w86uhtrr</a><br/>\n",
       "Find logs at: <code>./wandb/run-20250417_153719-w86uhtrr/logs</code><br/>\n"
      ],
      "text/plain": [
       "<IPython.core.display.HTML object>"
      ]
     },
     "metadata": {},
     "output_type": "display_data"
    },
    {
     "name": "stderr",
     "output_type": "stream",
     "text": [
      "\u001b[34m\u001b[1mwandb\u001b[0m: Agent Starting Run: 7stv3lvy with config:\n",
      "\u001b[34m\u001b[1mwandb\u001b[0m: \tbatch_size: 64\n",
      "\u001b[34m\u001b[1mwandb\u001b[0m: \tlearning_rate: 0.06950465759437974\n",
      "\u001b[34m\u001b[1mwandb\u001b[0m: wandb version 0.19.9 is available!  To upgrade, please run:\n",
      "\u001b[34m\u001b[1mwandb\u001b[0m:  $ pip install wandb --upgrade\n"
     ]
    },
    {
     "data": {
      "text/html": [
       "\n",
       "                    Syncing run <strong><a href=\"https://wandb.ai/ort_masterbigdata_2023/trabajo_final_nps_itau/runs/7stv3lvy\" target=\"_blank\">gallant-sweep-20</a></strong> to <a href=\"https://wandb.ai/ort_masterbigdata_2023/trabajo_final_nps_itau\" target=\"_blank\">Weights & Biases</a> (<a href=\"https://docs.wandb.com/integrations/jupyter.html\" target=\"_blank\">docs</a>).<br/>\n",
       "Sweep page: <a href=\"https://wandb.ai/ort_masterbigdata_2023/trabajo_final_nps_itau/sweeps/icsnnr1l\" target=\"_blank\">https://wandb.ai/ort_masterbigdata_2023/trabajo_final_nps_itau/sweeps/icsnnr1l</a><br/>\n",
       "\n",
       "                "
      ],
      "text/plain": [
       "<IPython.core.display.HTML object>"
      ]
     },
     "metadata": {},
     "output_type": "display_data"
    },
    {
     "data": {
      "text/html": [
       "<br/>Waiting for W&B process to finish, PID 17363... <strong style=\"color:green\">(success).</strong>"
      ],
      "text/plain": [
       "<IPython.core.display.HTML object>"
      ]
     },
     "metadata": {},
     "output_type": "display_data"
    },
    {
     "data": {
      "application/vnd.jupyter.widget-view+json": {
       "model_id": "",
       "version_major": 2,
       "version_minor": 0
      },
      "text/plain": [
       "VBox(children=(Label(value=' 0.00MB of 0.00MB uploaded (0.00MB deduped)\\r'), FloatProgress(value=1.0, max=1.0)…"
      ]
     },
     "metadata": {},
     "output_type": "display_data"
    },
    {
     "data": {
      "text/html": [
       "<style>\n",
       "    table.wandb td:nth-child(1) { padding: 0 10px; text-align: right }\n",
       "    .wandb-row { display: flex; flex-direction: row; flex-wrap: wrap; width: 100% }\n",
       "    .wandb-col { display: flex; flex-direction: column; flex-basis: 100%; flex: 1; padding: 10px; }\n",
       "    </style>\n",
       "<div class=\"wandb-row\"><div class=\"wandb-col\">\n",
       "<h3>Run history:</h3><br/><table class=\"wandb\"><tr><td>epoch</td><td>▁▂▃▃▄▅▆▆▇█</td></tr><tr><td>loss</td><td>█▄▃▂▂▂▁▁▁▁</td></tr><tr><td>recall</td><td>▁▁▁▁▁▁▁▁▁▁</td></tr></table><br/></div><div class=\"wandb-col\">\n",
       "<h3>Run summary:</h3><br/><table class=\"wandb\"><tr><td>epoch</td><td>9</td></tr><tr><td>loss</td><td>1.43875</td></tr><tr><td>recall</td><td>0.31362</td></tr></table>\n",
       "</div></div>\n",
       "Synced 4 W&B file(s), 0 media file(s), 0 artifact file(s) and 0 other file(s)\n",
       "<br/>Synced <strong style=\"color:#cdcd00\">gallant-sweep-20</strong>: <a href=\"https://wandb.ai/ort_masterbigdata_2023/trabajo_final_nps_itau/runs/7stv3lvy\" target=\"_blank\">https://wandb.ai/ort_masterbigdata_2023/trabajo_final_nps_itau/runs/7stv3lvy</a><br/>\n",
       "Find logs at: <code>./wandb/run-20250417_153730-7stv3lvy/logs</code><br/>\n"
      ],
      "text/plain": [
       "<IPython.core.display.HTML object>"
      ]
     },
     "metadata": {},
     "output_type": "display_data"
    }
   ],
   "source": [
    "wandb.agent(sweep_id, function=train, count=20)"
   ]
  }
 ],
 "metadata": {
  "kernelspec": {
   "display_name": "Python 3 (ipykernel)",
   "language": "python",
   "name": "python3"
  },
  "language_info": {
   "codemirror_mode": {
    "name": "ipython",
    "version": 3
   },
   "file_extension": ".py",
   "mimetype": "text/x-python",
   "name": "python",
   "nbconvert_exporter": "python",
   "pygments_lexer": "ipython3",
   "version": "3.7.12"
  }
 },
 "nbformat": 4,
 "nbformat_minor": 4
}
